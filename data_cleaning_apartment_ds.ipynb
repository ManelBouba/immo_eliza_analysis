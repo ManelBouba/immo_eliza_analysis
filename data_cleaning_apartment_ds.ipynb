{
 "cells": [
  {
   "cell_type": "code",
   "execution_count": null,
   "metadata": {},
   "outputs": [
    {
     "data": {
      "text/html": [
       "<div>\n",
       "<style scoped>\n",
       "    .dataframe tbody tr th:only-of-type {\n",
       "        vertical-align: middle;\n",
       "    }\n",
       "\n",
       "    .dataframe tbody tr th {\n",
       "        vertical-align: top;\n",
       "    }\n",
       "\n",
       "    .dataframe thead th {\n",
       "        text-align: right;\n",
       "    }\n",
       "</style>\n",
       "<table border=\"1\" class=\"dataframe\">\n",
       "  <thead>\n",
       "    <tr style=\"text-align: right;\">\n",
       "      <th></th>\n",
       "      <th>Price</th>\n",
       "      <th>Locality</th>\n",
       "      <th>Type_of_Property</th>\n",
       "      <th>Subtype_of_Property</th>\n",
       "      <th>Number_of_Rooms</th>\n",
       "      <th>Living_Area</th>\n",
       "      <th>Fully_Equipped_Kitchen</th>\n",
       "      <th>Furnished</th>\n",
       "      <th>Open_fire</th>\n",
       "      <th>Terrace</th>\n",
       "      <th>Terrace_Area</th>\n",
       "      <th>Garden</th>\n",
       "      <th>Garden_Area</th>\n",
       "      <th>Surface_of_the_Land</th>\n",
       "      <th>Surface_area_plot_of_land</th>\n",
       "      <th>Number_of_Facades</th>\n",
       "      <th>Swimming_Pool</th>\n",
       "      <th>State_of_the_Building</th>\n",
       "    </tr>\n",
       "  </thead>\n",
       "  <tbody>\n",
       "    <tr>\n",
       "      <th>0</th>\n",
       "      <td>154000</td>\n",
       "      <td>Grivegnee</td>\n",
       "      <td>Apartment</td>\n",
       "      <td>APARTMENT</td>\n",
       "      <td>2</td>\n",
       "      <td>85.0</td>\n",
       "      <td>0</td>\n",
       "      <td>0</td>\n",
       "      <td>0</td>\n",
       "      <td>1.0</td>\n",
       "      <td>NaN</td>\n",
       "      <td>NaN</td>\n",
       "      <td>NaN</td>\n",
       "      <td>NaN</td>\n",
       "      <td>NaN</td>\n",
       "      <td>2.0</td>\n",
       "      <td>0</td>\n",
       "      <td>NaN</td>\n",
       "    </tr>\n",
       "    <tr>\n",
       "      <th>1</th>\n",
       "      <td>353971</td>\n",
       "      <td>Maasmechelen</td>\n",
       "      <td>Apartment</td>\n",
       "      <td>APARTMENT</td>\n",
       "      <td>3</td>\n",
       "      <td>108.0</td>\n",
       "      <td>0</td>\n",
       "      <td>0</td>\n",
       "      <td>0</td>\n",
       "      <td>1.0</td>\n",
       "      <td>10.0</td>\n",
       "      <td>NaN</td>\n",
       "      <td>NaN</td>\n",
       "      <td>NaN</td>\n",
       "      <td>NaN</td>\n",
       "      <td>NaN</td>\n",
       "      <td>0</td>\n",
       "      <td>GOOD</td>\n",
       "    </tr>\n",
       "    <tr>\n",
       "      <th>2</th>\n",
       "      <td>649000</td>\n",
       "      <td>Gentbrugge</td>\n",
       "      <td>Apartment</td>\n",
       "      <td>APARTMENT</td>\n",
       "      <td>3</td>\n",
       "      <td>129.0</td>\n",
       "      <td>1</td>\n",
       "      <td>0</td>\n",
       "      <td>0</td>\n",
       "      <td>1.0</td>\n",
       "      <td>NaN</td>\n",
       "      <td>1.0</td>\n",
       "      <td>280.0</td>\n",
       "      <td>280.0</td>\n",
       "      <td>NaN</td>\n",
       "      <td>NaN</td>\n",
       "      <td>0</td>\n",
       "      <td>AS_NEW</td>\n",
       "    </tr>\n",
       "    <tr>\n",
       "      <th>3</th>\n",
       "      <td>1125000</td>\n",
       "      <td>Duinbergen</td>\n",
       "      <td>Apartment</td>\n",
       "      <td>APARTMENT</td>\n",
       "      <td>2</td>\n",
       "      <td>75.0</td>\n",
       "      <td>0</td>\n",
       "      <td>0</td>\n",
       "      <td>0</td>\n",
       "      <td>NaN</td>\n",
       "      <td>NaN</td>\n",
       "      <td>NaN</td>\n",
       "      <td>NaN</td>\n",
       "      <td>NaN</td>\n",
       "      <td>NaN</td>\n",
       "      <td>NaN</td>\n",
       "      <td>0</td>\n",
       "      <td>AS_NEW</td>\n",
       "    </tr>\n",
       "    <tr>\n",
       "      <th>4</th>\n",
       "      <td>319500</td>\n",
       "      <td>Saint-Gilles</td>\n",
       "      <td>Apartment</td>\n",
       "      <td>GROUND_FLOOR</td>\n",
       "      <td>2</td>\n",
       "      <td>77.0</td>\n",
       "      <td>0</td>\n",
       "      <td>0</td>\n",
       "      <td>0</td>\n",
       "      <td>1.0</td>\n",
       "      <td>NaN</td>\n",
       "      <td>NaN</td>\n",
       "      <td>NaN</td>\n",
       "      <td>NaN</td>\n",
       "      <td>NaN</td>\n",
       "      <td>2.0</td>\n",
       "      <td>0</td>\n",
       "      <td>NaN</td>\n",
       "    </tr>\n",
       "    <tr>\n",
       "      <th>...</th>\n",
       "      <td>...</td>\n",
       "      <td>...</td>\n",
       "      <td>...</td>\n",
       "      <td>...</td>\n",
       "      <td>...</td>\n",
       "      <td>...</td>\n",
       "      <td>...</td>\n",
       "      <td>...</td>\n",
       "      <td>...</td>\n",
       "      <td>...</td>\n",
       "      <td>...</td>\n",
       "      <td>...</td>\n",
       "      <td>...</td>\n",
       "      <td>...</td>\n",
       "      <td>...</td>\n",
       "      <td>...</td>\n",
       "      <td>...</td>\n",
       "      <td>...</td>\n",
       "    </tr>\n",
       "    <tr>\n",
       "      <th>10961</th>\n",
       "      <td>235000</td>\n",
       "      <td>Forest</td>\n",
       "      <td>Apartment</td>\n",
       "      <td>APARTMENT</td>\n",
       "      <td>1</td>\n",
       "      <td>85.0</td>\n",
       "      <td>0</td>\n",
       "      <td>0</td>\n",
       "      <td>0</td>\n",
       "      <td>1.0</td>\n",
       "      <td>4.0</td>\n",
       "      <td>NaN</td>\n",
       "      <td>NaN</td>\n",
       "      <td>NaN</td>\n",
       "      <td>NaN</td>\n",
       "      <td>2.0</td>\n",
       "      <td>0</td>\n",
       "      <td>TO_BE_DONE_UP</td>\n",
       "    </tr>\n",
       "    <tr>\n",
       "      <th>10962</th>\n",
       "      <td>445000</td>\n",
       "      <td>Antwerpen (2000)</td>\n",
       "      <td>Apartment</td>\n",
       "      <td>APARTMENT</td>\n",
       "      <td>2</td>\n",
       "      <td>101.0</td>\n",
       "      <td>0</td>\n",
       "      <td>0</td>\n",
       "      <td>0</td>\n",
       "      <td>1.0</td>\n",
       "      <td>20.0</td>\n",
       "      <td>NaN</td>\n",
       "      <td>NaN</td>\n",
       "      <td>NaN</td>\n",
       "      <td>NaN</td>\n",
       "      <td>NaN</td>\n",
       "      <td>0</td>\n",
       "      <td>NaN</td>\n",
       "    </tr>\n",
       "    <tr>\n",
       "      <th>10963</th>\n",
       "      <td>445000</td>\n",
       "      <td>Liège</td>\n",
       "      <td>Apartment</td>\n",
       "      <td>APARTMENT</td>\n",
       "      <td>3</td>\n",
       "      <td>140.0</td>\n",
       "      <td>1</td>\n",
       "      <td>0</td>\n",
       "      <td>0</td>\n",
       "      <td>1.0</td>\n",
       "      <td>NaN</td>\n",
       "      <td>NaN</td>\n",
       "      <td>NaN</td>\n",
       "      <td>NaN</td>\n",
       "      <td>NaN</td>\n",
       "      <td>3.0</td>\n",
       "      <td>0</td>\n",
       "      <td>AS_NEW</td>\n",
       "    </tr>\n",
       "    <tr>\n",
       "      <th>10964</th>\n",
       "      <td>506900</td>\n",
       "      <td>Auderghem</td>\n",
       "      <td>Apartment</td>\n",
       "      <td>APARTMENT</td>\n",
       "      <td>2</td>\n",
       "      <td>88.0</td>\n",
       "      <td>1</td>\n",
       "      <td>0</td>\n",
       "      <td>0</td>\n",
       "      <td>1.0</td>\n",
       "      <td>8.0</td>\n",
       "      <td>NaN</td>\n",
       "      <td>NaN</td>\n",
       "      <td>NaN</td>\n",
       "      <td>NaN</td>\n",
       "      <td>2.0</td>\n",
       "      <td>0</td>\n",
       "      <td>AS_NEW</td>\n",
       "    </tr>\n",
       "    <tr>\n",
       "      <th>10965</th>\n",
       "      <td>235000</td>\n",
       "      <td>Ganshoren</td>\n",
       "      <td>Apartment</td>\n",
       "      <td>APARTMENT</td>\n",
       "      <td>2</td>\n",
       "      <td>85.0</td>\n",
       "      <td>0</td>\n",
       "      <td>0</td>\n",
       "      <td>0</td>\n",
       "      <td>1.0</td>\n",
       "      <td>2.0</td>\n",
       "      <td>NaN</td>\n",
       "      <td>NaN</td>\n",
       "      <td>NaN</td>\n",
       "      <td>NaN</td>\n",
       "      <td>2.0</td>\n",
       "      <td>0</td>\n",
       "      <td>AS_NEW</td>\n",
       "    </tr>\n",
       "  </tbody>\n",
       "</table>\n",
       "<p>10966 rows × 18 columns</p>\n",
       "</div>"
      ],
      "text/plain": [
       "         Price          Locality Type_of_Property Subtype_of_Property  \\\n",
       "0       154000         Grivegnee        Apartment           APARTMENT   \n",
       "1       353971      Maasmechelen        Apartment           APARTMENT   \n",
       "2       649000        Gentbrugge        Apartment           APARTMENT   \n",
       "3      1125000        Duinbergen        Apartment           APARTMENT   \n",
       "4       319500      Saint-Gilles        Apartment        GROUND_FLOOR   \n",
       "...        ...               ...              ...                 ...   \n",
       "10961   235000            Forest        Apartment           APARTMENT   \n",
       "10962   445000  Antwerpen (2000)        Apartment           APARTMENT   \n",
       "10963   445000             Liège        Apartment           APARTMENT   \n",
       "10964   506900         Auderghem        Apartment           APARTMENT   \n",
       "10965   235000         Ganshoren        Apartment           APARTMENT   \n",
       "\n",
       "       Number_of_Rooms  Living_Area  Fully_Equipped_Kitchen  Furnished  \\\n",
       "0                    2         85.0                       0          0   \n",
       "1                    3        108.0                       0          0   \n",
       "2                    3        129.0                       1          0   \n",
       "3                    2         75.0                       0          0   \n",
       "4                    2         77.0                       0          0   \n",
       "...                ...          ...                     ...        ...   \n",
       "10961                1         85.0                       0          0   \n",
       "10962                2        101.0                       0          0   \n",
       "10963                3        140.0                       1          0   \n",
       "10964                2         88.0                       1          0   \n",
       "10965                2         85.0                       0          0   \n",
       "\n",
       "       Open_fire  Terrace  Terrace_Area  Garden  Garden_Area  \\\n",
       "0              0      1.0           NaN     NaN          NaN   \n",
       "1              0      1.0          10.0     NaN          NaN   \n",
       "2              0      1.0           NaN     1.0        280.0   \n",
       "3              0      NaN           NaN     NaN          NaN   \n",
       "4              0      1.0           NaN     NaN          NaN   \n",
       "...          ...      ...           ...     ...          ...   \n",
       "10961          0      1.0           4.0     NaN          NaN   \n",
       "10962          0      1.0          20.0     NaN          NaN   \n",
       "10963          0      1.0           NaN     NaN          NaN   \n",
       "10964          0      1.0           8.0     NaN          NaN   \n",
       "10965          0      1.0           2.0     NaN          NaN   \n",
       "\n",
       "       Surface_of_the_Land  Surface_area_plot_of_land  Number_of_Facades  \\\n",
       "0                      NaN                        NaN                2.0   \n",
       "1                      NaN                        NaN                NaN   \n",
       "2                    280.0                        NaN                NaN   \n",
       "3                      NaN                        NaN                NaN   \n",
       "4                      NaN                        NaN                2.0   \n",
       "...                    ...                        ...                ...   \n",
       "10961                  NaN                        NaN                2.0   \n",
       "10962                  NaN                        NaN                NaN   \n",
       "10963                  NaN                        NaN                3.0   \n",
       "10964                  NaN                        NaN                2.0   \n",
       "10965                  NaN                        NaN                2.0   \n",
       "\n",
       "       Swimming_Pool State_of_the_Building  \n",
       "0                  0                   NaN  \n",
       "1                  0                  GOOD  \n",
       "2                  0                AS_NEW  \n",
       "3                  0                AS_NEW  \n",
       "4                  0                   NaN  \n",
       "...              ...                   ...  \n",
       "10961              0         TO_BE_DONE_UP  \n",
       "10962              0                   NaN  \n",
       "10963              0                AS_NEW  \n",
       "10964              0                AS_NEW  \n",
       "10965              0                AS_NEW  \n",
       "\n",
       "[10966 rows x 18 columns]"
      ]
     },
     "execution_count": 1,
     "metadata": {},
     "output_type": "execute_result"
    }
   ],
   "source": [
    "# postcodes should be deleted\n",
    "import pandas as pd\n",
    "\n",
    "ds_ap = pd.read_csv(\"apartment_dataset.csv\")\n",
    "ds_ap\n",
    "\n",
    "# some links for examples\n",
    "# 0 https://www.immoweb.be/en/classified/apartment/for-sale/grivegnee/4030/20301347\n",
    "# 2 https://www.immoweb.be/en/classified/apartment/for-sale/gentbrugge/9050/20275554"
   ]
  },
  {
   "cell_type": "code",
   "execution_count": null,
   "metadata": {},
   "outputs": [
    {
     "data": {
      "text/plain": [
       "Locality\n",
       "Antwerpen               562\n",
       "Knokke-Heist            439\n",
       "Gent                    366\n",
       "Bruxelles               336\n",
       "Oostende                314\n",
       "Ixelles                 296\n",
       "Knokke                  252\n",
       "Uccle                   245\n",
       "Liège                   214\n",
       "Blankenberge            181\n",
       "Anderlecht              178\n",
       "Woluwe-Saint-Lambert    171\n",
       "Molenbeek-Saint-Jean    136\n",
       "Schaerbeek              135\n",
       "Brussel                 120\n",
       "Name: count, dtype: int64"
      ]
     },
     "execution_count": 57,
     "metadata": {},
     "output_type": "execute_result"
    }
   ],
   "source": [
    "# I would separate Brussels from other cities and build two different graphs\n",
    "locality = ds_ap[\"Locality\"].value_counts().head(15)\n",
    "#locality.index\n",
    "locality\n",
    "\n",
    "#!!! Bruxelles and Brussel!!! What is the differrence?"
   ]
  },
  {
   "cell_type": "code",
   "execution_count": 10,
   "metadata": {},
   "outputs": [
    {
     "data": {
      "text/plain": [
       "Subtype_of_Property\n",
       "APARTMENT       8564\n",
       "DUPLEX           570\n",
       "GROUND_FLOOR     549\n",
       "PENTHOUSE        494\n",
       "FLAT_STUDIO      416\n",
       "SERVICE_FLAT     134\n",
       "LOFT             106\n",
       "KOT               68\n",
       "TRIPLEX           65\n",
       "Name: count, dtype: int64"
      ]
     },
     "execution_count": 10,
     "metadata": {},
     "output_type": "execute_result"
    }
   ],
   "source": [
    "ds_ap[\"Subtype_of_Property\"].value_counts()"
   ]
  },
  {
   "cell_type": "code",
   "execution_count": 11,
   "metadata": {},
   "outputs": [
    {
     "data": {
      "text/plain": [
       "Number_of_Rooms\n",
       "2     5553\n",
       "3     2354\n",
       "1     2264\n",
       "0      395\n",
       "4      318\n",
       "5       41\n",
       "6       27\n",
       "8        7\n",
       "7        3\n",
       "22       1\n",
       "11       1\n",
       "9        1\n",
       "46       1\n",
       "Name: count, dtype: int64"
      ]
     },
     "execution_count": 11,
     "metadata": {},
     "output_type": "execute_result"
    }
   ],
   "source": [
    "ds_ap[\"Number_of_Rooms\"].value_counts()"
   ]
  },
  {
   "cell_type": "code",
   "execution_count": 12,
   "metadata": {},
   "outputs": [
    {
     "data": {
      "text/plain": [
       "Living_Area\n",
       "85.0     278\n",
       "90.0     273\n",
       "100.0    259\n",
       "80.0     245\n",
       "75.0     228\n",
       "        ... \n",
       "275.0      1\n",
       "236.0      1\n",
       "312.0      1\n",
       "322.0      1\n",
       "370.0      1\n",
       "Name: count, Length: 349, dtype: int64"
      ]
     },
     "execution_count": 12,
     "metadata": {},
     "output_type": "execute_result"
    }
   ],
   "source": [
    "ds_ap[\"Living_Area\"].value_counts()"
   ]
  },
  {
   "cell_type": "code",
   "execution_count": null,
   "metadata": {},
   "outputs": [
    {
     "data": {
      "text/plain": [
       "Fully_Equipped_Kitchen\n",
       "0    8420\n",
       "1    2546\n",
       "Name: count, dtype: int64"
      ]
     },
     "execution_count": 13,
     "metadata": {},
     "output_type": "execute_result"
    }
   ],
   "source": [
    "# we can check correlation between equipped and State of Building\n",
    "ds_ap[\"Fully_Equipped_Kitchen\"].value_counts()"
   ]
  },
  {
   "cell_type": "code",
   "execution_count": null,
   "metadata": {},
   "outputs": [
    {
     "data": {
      "text/plain": [
       "Furnished\n",
       "0    10294\n",
       "1      672\n",
       "Name: count, dtype: int64"
      ]
     },
     "execution_count": 14,
     "metadata": {},
     "output_type": "execute_result"
    }
   ],
   "source": [
    "# we can check correlation between furnished and State of Building\n",
    "ds_ap[\"Furnished\"].value_counts()"
   ]
  },
  {
   "cell_type": "code",
   "execution_count": null,
   "metadata": {},
   "outputs": [
    {
     "data": {
      "text/plain": [
       "Open_fire\n",
       "0       10825\n",
       "1         139\n",
       "2           1\n",
       "1000        1\n",
       "Name: count, dtype: int64"
      ]
     },
     "execution_count": 15,
     "metadata": {},
     "output_type": "execute_result"
    }
   ],
   "source": [
    "# candidate to DELETE\n",
    "ds_ap[\"Open_fire\"].value_counts()"
   ]
  },
  {
   "cell_type": "code",
   "execution_count": 16,
   "metadata": {},
   "outputs": [
    {
     "data": {
      "text/plain": [
       "Terrace\n",
       "1.0    7924\n",
       "Name: count, dtype: int64"
      ]
     },
     "execution_count": 16,
     "metadata": {},
     "output_type": "execute_result"
    }
   ],
   "source": [
    "ds_ap[\"Terrace\"].value_counts()"
   ]
  },
  {
   "cell_type": "code",
   "execution_count": 17,
   "metadata": {},
   "outputs": [
    {
     "data": {
      "text/plain": [
       "Terrace_Area\n",
       "10.0     402\n",
       "8.0      343\n",
       "4.0      333\n",
       "6.0      330\n",
       "5.0      306\n",
       "        ... \n",
       "127.0      1\n",
       "380.0      1\n",
       "116.0      1\n",
       "340.0      1\n",
       "137.0      1\n",
       "Name: count, Length: 135, dtype: int64"
      ]
     },
     "execution_count": 17,
     "metadata": {},
     "output_type": "execute_result"
    }
   ],
   "source": [
    "ds_ap[\"Terrace_Area\"].value_counts()"
   ]
  },
  {
   "cell_type": "code",
   "execution_count": 18,
   "metadata": {},
   "outputs": [
    {
     "data": {
      "text/plain": [
       "Garden\n",
       "1.0    735\n",
       "Name: count, dtype: int64"
      ]
     },
     "execution_count": 18,
     "metadata": {},
     "output_type": "execute_result"
    }
   ],
   "source": [
    "ds_ap[\"Garden\"].value_counts()"
   ]
  },
  {
   "cell_type": "code",
   "execution_count": null,
   "metadata": {},
   "outputs": [
    {
     "data": {
      "text/plain": [
       "Garden_Area\n",
       "100.0     34\n",
       "50.0      30\n",
       "60.0      18\n",
       "45.0      18\n",
       "1.0       18\n",
       "          ..\n",
       "260.0      1\n",
       "98.0       1\n",
       "2200.0     1\n",
       "88.0       1\n",
       "286.0      1\n",
       "Name: count, Length: 206, dtype: int64"
      ]
     },
     "execution_count": 19,
     "metadata": {},
     "output_type": "execute_result"
    }
   ],
   "source": [
    "# candidate to DELETE\n",
    "ds_ap[\"Garden_Area\"].value_counts()"
   ]
  },
  {
   "cell_type": "code",
   "execution_count": 26,
   "metadata": {},
   "outputs": [
    {
     "data": {
      "text/plain": [
       "Surface_of_the_Land\n",
       "100.0     34\n",
       "50.0      30\n",
       "60.0      18\n",
       "45.0      18\n",
       "1.0       18\n",
       "          ..\n",
       "260.0      1\n",
       "98.0       1\n",
       "2200.0     1\n",
       "88.0       1\n",
       "286.0      1\n",
       "Name: count, Length: 206, dtype: int64"
      ]
     },
     "execution_count": 26,
     "metadata": {},
     "output_type": "execute_result"
    }
   ],
   "source": [
    "# candidate to DELETE\n",
    "ds_ap[\"Surface_of_the_Land\"].value_counts()"
   ]
  },
  {
   "cell_type": "code",
   "execution_count": null,
   "metadata": {},
   "outputs": [
    {
     "data": {
      "text/plain": [
       "Series([], Name: count, dtype: int64)"
      ]
     },
     "execution_count": 20,
     "metadata": {},
     "output_type": "execute_result"
    }
   ],
   "source": [
    "# candidate to DELETE\n",
    "ds_ap[\"Surface_area_plot_of_land\"].value_counts()"
   ]
  },
  {
   "cell_type": "code",
   "execution_count": null,
   "metadata": {},
   "outputs": [
    {
     "data": {
      "text/plain": [
       "Number_of_Facades\n",
       "2.0     4628\n",
       "3.0     1118\n",
       "4.0      745\n",
       "1.0       50\n",
       "15.0       1\n",
       "5.0        1\n",
       "Name: count, dtype: int64"
      ]
     },
     "execution_count": 21,
     "metadata": {},
     "output_type": "execute_result"
    }
   ],
   "source": [
    "ds_ap[\"Number_of_Facades\"].value_counts()"
   ]
  },
  {
   "cell_type": "code",
   "execution_count": 22,
   "metadata": {},
   "outputs": [
    {
     "data": {
      "text/plain": [
       "Swimming_Pool\n",
       "0    10876\n",
       "1       90\n",
       "Name: count, dtype: int64"
      ]
     },
     "execution_count": 22,
     "metadata": {},
     "output_type": "execute_result"
    }
   ],
   "source": [
    "# candidate to DELETE\n",
    "ds_ap[\"Swimming_Pool\"].value_counts()"
   ]
  },
  {
   "cell_type": "code",
   "execution_count": null,
   "metadata": {},
   "outputs": [
    {
     "data": {
      "text/plain": [
       "State_of_the_Building\n",
       "GOOD              4404\n",
       "AS_NEW            2995\n",
       "JUST_RENOVATED     817\n",
       "TO_BE_DONE_UP      584\n",
       "TO_RENOVATE        362\n",
       "TO_RESTORE          14\n",
       "Name: count, dtype: int64"
      ]
     },
     "execution_count": 23,
     "metadata": {},
     "output_type": "execute_result"
    }
   ],
   "source": [
    "# candidate to DELETE, but we can check correlation between equipped kitchen and furhinsed, so I proposed to stay\n",
    "ds_ap[\"State_of_the_Building\"].value_counts()"
   ]
  },
  {
   "cell_type": "code",
   "execution_count": 29,
   "metadata": {},
   "outputs": [
    {
     "data": {
      "text/html": [
       "<div>\n",
       "<style scoped>\n",
       "    .dataframe tbody tr th:only-of-type {\n",
       "        vertical-align: middle;\n",
       "    }\n",
       "\n",
       "    .dataframe tbody tr th {\n",
       "        vertical-align: top;\n",
       "    }\n",
       "\n",
       "    .dataframe thead th {\n",
       "        text-align: right;\n",
       "    }\n",
       "</style>\n",
       "<table border=\"1\" class=\"dataframe\">\n",
       "  <thead>\n",
       "    <tr style=\"text-align: right;\">\n",
       "      <th></th>\n",
       "      <th>Price</th>\n",
       "      <th>Locality</th>\n",
       "      <th>Type_of_Property</th>\n",
       "      <th>Subtype_of_Property</th>\n",
       "      <th>Number_of_Rooms</th>\n",
       "      <th>Living_Area</th>\n",
       "      <th>Fully_Equipped_Kitchen</th>\n",
       "      <th>Furnished</th>\n",
       "      <th>Terrace</th>\n",
       "      <th>Terrace_Area</th>\n",
       "      <th>Garden</th>\n",
       "      <th>State_of_the_Building</th>\n",
       "    </tr>\n",
       "  </thead>\n",
       "  <tbody>\n",
       "    <tr>\n",
       "      <th>0</th>\n",
       "      <td>154000</td>\n",
       "      <td>Grivegnee</td>\n",
       "      <td>Apartment</td>\n",
       "      <td>APARTMENT</td>\n",
       "      <td>2</td>\n",
       "      <td>85.0</td>\n",
       "      <td>0</td>\n",
       "      <td>0</td>\n",
       "      <td>1.0</td>\n",
       "      <td>NaN</td>\n",
       "      <td>NaN</td>\n",
       "      <td>NaN</td>\n",
       "    </tr>\n",
       "    <tr>\n",
       "      <th>1</th>\n",
       "      <td>353971</td>\n",
       "      <td>Maasmechelen</td>\n",
       "      <td>Apartment</td>\n",
       "      <td>APARTMENT</td>\n",
       "      <td>3</td>\n",
       "      <td>108.0</td>\n",
       "      <td>0</td>\n",
       "      <td>0</td>\n",
       "      <td>1.0</td>\n",
       "      <td>10.0</td>\n",
       "      <td>NaN</td>\n",
       "      <td>GOOD</td>\n",
       "    </tr>\n",
       "    <tr>\n",
       "      <th>2</th>\n",
       "      <td>649000</td>\n",
       "      <td>Gentbrugge</td>\n",
       "      <td>Apartment</td>\n",
       "      <td>APARTMENT</td>\n",
       "      <td>3</td>\n",
       "      <td>129.0</td>\n",
       "      <td>1</td>\n",
       "      <td>0</td>\n",
       "      <td>1.0</td>\n",
       "      <td>NaN</td>\n",
       "      <td>1.0</td>\n",
       "      <td>AS_NEW</td>\n",
       "    </tr>\n",
       "    <tr>\n",
       "      <th>3</th>\n",
       "      <td>1125000</td>\n",
       "      <td>Duinbergen</td>\n",
       "      <td>Apartment</td>\n",
       "      <td>APARTMENT</td>\n",
       "      <td>2</td>\n",
       "      <td>75.0</td>\n",
       "      <td>0</td>\n",
       "      <td>0</td>\n",
       "      <td>NaN</td>\n",
       "      <td>NaN</td>\n",
       "      <td>NaN</td>\n",
       "      <td>AS_NEW</td>\n",
       "    </tr>\n",
       "    <tr>\n",
       "      <th>4</th>\n",
       "      <td>319500</td>\n",
       "      <td>Saint-Gilles</td>\n",
       "      <td>Apartment</td>\n",
       "      <td>GROUND_FLOOR</td>\n",
       "      <td>2</td>\n",
       "      <td>77.0</td>\n",
       "      <td>0</td>\n",
       "      <td>0</td>\n",
       "      <td>1.0</td>\n",
       "      <td>NaN</td>\n",
       "      <td>NaN</td>\n",
       "      <td>NaN</td>\n",
       "    </tr>\n",
       "    <tr>\n",
       "      <th>...</th>\n",
       "      <td>...</td>\n",
       "      <td>...</td>\n",
       "      <td>...</td>\n",
       "      <td>...</td>\n",
       "      <td>...</td>\n",
       "      <td>...</td>\n",
       "      <td>...</td>\n",
       "      <td>...</td>\n",
       "      <td>...</td>\n",
       "      <td>...</td>\n",
       "      <td>...</td>\n",
       "      <td>...</td>\n",
       "    </tr>\n",
       "    <tr>\n",
       "      <th>10961</th>\n",
       "      <td>235000</td>\n",
       "      <td>Forest</td>\n",
       "      <td>Apartment</td>\n",
       "      <td>APARTMENT</td>\n",
       "      <td>1</td>\n",
       "      <td>85.0</td>\n",
       "      <td>0</td>\n",
       "      <td>0</td>\n",
       "      <td>1.0</td>\n",
       "      <td>4.0</td>\n",
       "      <td>NaN</td>\n",
       "      <td>TO_BE_DONE_UP</td>\n",
       "    </tr>\n",
       "    <tr>\n",
       "      <th>10962</th>\n",
       "      <td>445000</td>\n",
       "      <td>Antwerpen (2000)</td>\n",
       "      <td>Apartment</td>\n",
       "      <td>APARTMENT</td>\n",
       "      <td>2</td>\n",
       "      <td>101.0</td>\n",
       "      <td>0</td>\n",
       "      <td>0</td>\n",
       "      <td>1.0</td>\n",
       "      <td>20.0</td>\n",
       "      <td>NaN</td>\n",
       "      <td>NaN</td>\n",
       "    </tr>\n",
       "    <tr>\n",
       "      <th>10963</th>\n",
       "      <td>445000</td>\n",
       "      <td>Liège</td>\n",
       "      <td>Apartment</td>\n",
       "      <td>APARTMENT</td>\n",
       "      <td>3</td>\n",
       "      <td>140.0</td>\n",
       "      <td>1</td>\n",
       "      <td>0</td>\n",
       "      <td>1.0</td>\n",
       "      <td>NaN</td>\n",
       "      <td>NaN</td>\n",
       "      <td>AS_NEW</td>\n",
       "    </tr>\n",
       "    <tr>\n",
       "      <th>10964</th>\n",
       "      <td>506900</td>\n",
       "      <td>Auderghem</td>\n",
       "      <td>Apartment</td>\n",
       "      <td>APARTMENT</td>\n",
       "      <td>2</td>\n",
       "      <td>88.0</td>\n",
       "      <td>1</td>\n",
       "      <td>0</td>\n",
       "      <td>1.0</td>\n",
       "      <td>8.0</td>\n",
       "      <td>NaN</td>\n",
       "      <td>AS_NEW</td>\n",
       "    </tr>\n",
       "    <tr>\n",
       "      <th>10965</th>\n",
       "      <td>235000</td>\n",
       "      <td>Ganshoren</td>\n",
       "      <td>Apartment</td>\n",
       "      <td>APARTMENT</td>\n",
       "      <td>2</td>\n",
       "      <td>85.0</td>\n",
       "      <td>0</td>\n",
       "      <td>0</td>\n",
       "      <td>1.0</td>\n",
       "      <td>2.0</td>\n",
       "      <td>NaN</td>\n",
       "      <td>AS_NEW</td>\n",
       "    </tr>\n",
       "  </tbody>\n",
       "</table>\n",
       "<p>10966 rows × 12 columns</p>\n",
       "</div>"
      ],
      "text/plain": [
       "         Price          Locality Type_of_Property Subtype_of_Property  \\\n",
       "0       154000         Grivegnee        Apartment           APARTMENT   \n",
       "1       353971      Maasmechelen        Apartment           APARTMENT   \n",
       "2       649000        Gentbrugge        Apartment           APARTMENT   \n",
       "3      1125000        Duinbergen        Apartment           APARTMENT   \n",
       "4       319500      Saint-Gilles        Apartment        GROUND_FLOOR   \n",
       "...        ...               ...              ...                 ...   \n",
       "10961   235000            Forest        Apartment           APARTMENT   \n",
       "10962   445000  Antwerpen (2000)        Apartment           APARTMENT   \n",
       "10963   445000             Liège        Apartment           APARTMENT   \n",
       "10964   506900         Auderghem        Apartment           APARTMENT   \n",
       "10965   235000         Ganshoren        Apartment           APARTMENT   \n",
       "\n",
       "       Number_of_Rooms  Living_Area  Fully_Equipped_Kitchen  Furnished  \\\n",
       "0                    2         85.0                       0          0   \n",
       "1                    3        108.0                       0          0   \n",
       "2                    3        129.0                       1          0   \n",
       "3                    2         75.0                       0          0   \n",
       "4                    2         77.0                       0          0   \n",
       "...                ...          ...                     ...        ...   \n",
       "10961                1         85.0                       0          0   \n",
       "10962                2        101.0                       0          0   \n",
       "10963                3        140.0                       1          0   \n",
       "10964                2         88.0                       1          0   \n",
       "10965                2         85.0                       0          0   \n",
       "\n",
       "       Terrace  Terrace_Area  Garden State_of_the_Building  \n",
       "0          1.0           NaN     NaN                   NaN  \n",
       "1          1.0          10.0     NaN                  GOOD  \n",
       "2          1.0           NaN     1.0                AS_NEW  \n",
       "3          NaN           NaN     NaN                AS_NEW  \n",
       "4          1.0           NaN     NaN                   NaN  \n",
       "...        ...           ...     ...                   ...  \n",
       "10961      1.0           4.0     NaN         TO_BE_DONE_UP  \n",
       "10962      1.0          20.0     NaN                   NaN  \n",
       "10963      1.0           NaN     NaN                AS_NEW  \n",
       "10964      1.0           8.0     NaN                AS_NEW  \n",
       "10965      1.0           2.0     NaN                AS_NEW  \n",
       "\n",
       "[10966 rows x 12 columns]"
      ]
     },
     "execution_count": 29,
     "metadata": {},
     "output_type": "execute_result"
    }
   ],
   "source": [
    "# to delete columns\n",
    "df = ds_ap.drop(columns = [\"Open_fire\", \"Garden_Area\", \"Surface_of_the_Land\", \"Surface_area_plot_of_land\", \"Number_of_Facades\", \"Swimming_Pool\"])\n",
    "# df = data.drop(columns = [\"Open_fire\"], [\"Number_of_Fasades\"]) # to name dataset for our analysis\n",
    "# data.drop(columns = [\"Open_fire\"], [\"Number_of_Fasades\"], inplace = True) - to inplace our dataset \n",
    "df\n"
   ]
  },
  {
   "cell_type": "code",
   "execution_count": null,
   "metadata": {},
   "outputs": [
    {
     "data": {
      "text/plain": [
       "492"
      ]
     },
     "execution_count": 31,
     "metadata": {},
     "output_type": "execute_result"
    }
   ],
   "source": [
    "# check duplicates !!!!HOW CAN WE SEE THEM?!!!\n",
    "df.duplicated().sum()"
   ]
  },
  {
   "cell_type": "code",
   "execution_count": 34,
   "metadata": {},
   "outputs": [],
   "source": [
    "# to delete duplicates\n",
    "df.drop_duplicates(inplace = True)"
   ]
  },
  {
   "cell_type": "code",
   "execution_count": 35,
   "metadata": {},
   "outputs": [
    {
     "data": {
      "text/plain": [
       "0"
      ]
     },
     "execution_count": 35,
     "metadata": {},
     "output_type": "execute_result"
    }
   ],
   "source": [
    "# check duplicates\n",
    "df.duplicated().sum()"
   ]
  },
  {
   "cell_type": "code",
   "execution_count": 36,
   "metadata": {},
   "outputs": [
    {
     "data": {
      "text/html": [
       "<div>\n",
       "<style scoped>\n",
       "    .dataframe tbody tr th:only-of-type {\n",
       "        vertical-align: middle;\n",
       "    }\n",
       "\n",
       "    .dataframe tbody tr th {\n",
       "        vertical-align: top;\n",
       "    }\n",
       "\n",
       "    .dataframe thead th {\n",
       "        text-align: right;\n",
       "    }\n",
       "</style>\n",
       "<table border=\"1\" class=\"dataframe\">\n",
       "  <thead>\n",
       "    <tr style=\"text-align: right;\">\n",
       "      <th></th>\n",
       "      <th>Price</th>\n",
       "      <th>Locality</th>\n",
       "      <th>Type_of_Property</th>\n",
       "      <th>Subtype_of_Property</th>\n",
       "      <th>Number_of_Rooms</th>\n",
       "      <th>Living_Area</th>\n",
       "      <th>Fully_Equipped_Kitchen</th>\n",
       "      <th>Furnished</th>\n",
       "      <th>Terrace</th>\n",
       "      <th>Terrace_Area</th>\n",
       "      <th>Garden</th>\n",
       "      <th>State_of_the_Building</th>\n",
       "    </tr>\n",
       "  </thead>\n",
       "  <tbody>\n",
       "    <tr>\n",
       "      <th>0</th>\n",
       "      <td>154000</td>\n",
       "      <td>Grivegnee</td>\n",
       "      <td>Apartment</td>\n",
       "      <td>APARTMENT</td>\n",
       "      <td>2</td>\n",
       "      <td>85.0</td>\n",
       "      <td>0</td>\n",
       "      <td>0</td>\n",
       "      <td>1.0</td>\n",
       "      <td>NaN</td>\n",
       "      <td>NaN</td>\n",
       "      <td>NaN</td>\n",
       "    </tr>\n",
       "    <tr>\n",
       "      <th>1</th>\n",
       "      <td>353971</td>\n",
       "      <td>Maasmechelen</td>\n",
       "      <td>Apartment</td>\n",
       "      <td>APARTMENT</td>\n",
       "      <td>3</td>\n",
       "      <td>108.0</td>\n",
       "      <td>0</td>\n",
       "      <td>0</td>\n",
       "      <td>1.0</td>\n",
       "      <td>10.0</td>\n",
       "      <td>NaN</td>\n",
       "      <td>GOOD</td>\n",
       "    </tr>\n",
       "    <tr>\n",
       "      <th>2</th>\n",
       "      <td>649000</td>\n",
       "      <td>Gentbrugge</td>\n",
       "      <td>Apartment</td>\n",
       "      <td>APARTMENT</td>\n",
       "      <td>3</td>\n",
       "      <td>129.0</td>\n",
       "      <td>1</td>\n",
       "      <td>0</td>\n",
       "      <td>1.0</td>\n",
       "      <td>NaN</td>\n",
       "      <td>1.0</td>\n",
       "      <td>AS_NEW</td>\n",
       "    </tr>\n",
       "    <tr>\n",
       "      <th>3</th>\n",
       "      <td>1125000</td>\n",
       "      <td>Duinbergen</td>\n",
       "      <td>Apartment</td>\n",
       "      <td>APARTMENT</td>\n",
       "      <td>2</td>\n",
       "      <td>75.0</td>\n",
       "      <td>0</td>\n",
       "      <td>0</td>\n",
       "      <td>NaN</td>\n",
       "      <td>NaN</td>\n",
       "      <td>NaN</td>\n",
       "      <td>AS_NEW</td>\n",
       "    </tr>\n",
       "    <tr>\n",
       "      <th>4</th>\n",
       "      <td>319500</td>\n",
       "      <td>Saint-Gilles</td>\n",
       "      <td>Apartment</td>\n",
       "      <td>GROUND_FLOOR</td>\n",
       "      <td>2</td>\n",
       "      <td>77.0</td>\n",
       "      <td>0</td>\n",
       "      <td>0</td>\n",
       "      <td>1.0</td>\n",
       "      <td>NaN</td>\n",
       "      <td>NaN</td>\n",
       "      <td>NaN</td>\n",
       "    </tr>\n",
       "    <tr>\n",
       "      <th>...</th>\n",
       "      <td>...</td>\n",
       "      <td>...</td>\n",
       "      <td>...</td>\n",
       "      <td>...</td>\n",
       "      <td>...</td>\n",
       "      <td>...</td>\n",
       "      <td>...</td>\n",
       "      <td>...</td>\n",
       "      <td>...</td>\n",
       "      <td>...</td>\n",
       "      <td>...</td>\n",
       "      <td>...</td>\n",
       "    </tr>\n",
       "    <tr>\n",
       "      <th>10961</th>\n",
       "      <td>235000</td>\n",
       "      <td>Forest</td>\n",
       "      <td>Apartment</td>\n",
       "      <td>APARTMENT</td>\n",
       "      <td>1</td>\n",
       "      <td>85.0</td>\n",
       "      <td>0</td>\n",
       "      <td>0</td>\n",
       "      <td>1.0</td>\n",
       "      <td>4.0</td>\n",
       "      <td>NaN</td>\n",
       "      <td>TO_BE_DONE_UP</td>\n",
       "    </tr>\n",
       "    <tr>\n",
       "      <th>10962</th>\n",
       "      <td>445000</td>\n",
       "      <td>Antwerpen (2000)</td>\n",
       "      <td>Apartment</td>\n",
       "      <td>APARTMENT</td>\n",
       "      <td>2</td>\n",
       "      <td>101.0</td>\n",
       "      <td>0</td>\n",
       "      <td>0</td>\n",
       "      <td>1.0</td>\n",
       "      <td>20.0</td>\n",
       "      <td>NaN</td>\n",
       "      <td>NaN</td>\n",
       "    </tr>\n",
       "    <tr>\n",
       "      <th>10963</th>\n",
       "      <td>445000</td>\n",
       "      <td>Liège</td>\n",
       "      <td>Apartment</td>\n",
       "      <td>APARTMENT</td>\n",
       "      <td>3</td>\n",
       "      <td>140.0</td>\n",
       "      <td>1</td>\n",
       "      <td>0</td>\n",
       "      <td>1.0</td>\n",
       "      <td>NaN</td>\n",
       "      <td>NaN</td>\n",
       "      <td>AS_NEW</td>\n",
       "    </tr>\n",
       "    <tr>\n",
       "      <th>10964</th>\n",
       "      <td>506900</td>\n",
       "      <td>Auderghem</td>\n",
       "      <td>Apartment</td>\n",
       "      <td>APARTMENT</td>\n",
       "      <td>2</td>\n",
       "      <td>88.0</td>\n",
       "      <td>1</td>\n",
       "      <td>0</td>\n",
       "      <td>1.0</td>\n",
       "      <td>8.0</td>\n",
       "      <td>NaN</td>\n",
       "      <td>AS_NEW</td>\n",
       "    </tr>\n",
       "    <tr>\n",
       "      <th>10965</th>\n",
       "      <td>235000</td>\n",
       "      <td>Ganshoren</td>\n",
       "      <td>Apartment</td>\n",
       "      <td>APARTMENT</td>\n",
       "      <td>2</td>\n",
       "      <td>85.0</td>\n",
       "      <td>0</td>\n",
       "      <td>0</td>\n",
       "      <td>1.0</td>\n",
       "      <td>2.0</td>\n",
       "      <td>NaN</td>\n",
       "      <td>AS_NEW</td>\n",
       "    </tr>\n",
       "  </tbody>\n",
       "</table>\n",
       "<p>10474 rows × 12 columns</p>\n",
       "</div>"
      ],
      "text/plain": [
       "         Price          Locality Type_of_Property Subtype_of_Property  \\\n",
       "0       154000         Grivegnee        Apartment           APARTMENT   \n",
       "1       353971      Maasmechelen        Apartment           APARTMENT   \n",
       "2       649000        Gentbrugge        Apartment           APARTMENT   \n",
       "3      1125000        Duinbergen        Apartment           APARTMENT   \n",
       "4       319500      Saint-Gilles        Apartment        GROUND_FLOOR   \n",
       "...        ...               ...              ...                 ...   \n",
       "10961   235000            Forest        Apartment           APARTMENT   \n",
       "10962   445000  Antwerpen (2000)        Apartment           APARTMENT   \n",
       "10963   445000             Liège        Apartment           APARTMENT   \n",
       "10964   506900         Auderghem        Apartment           APARTMENT   \n",
       "10965   235000         Ganshoren        Apartment           APARTMENT   \n",
       "\n",
       "       Number_of_Rooms  Living_Area  Fully_Equipped_Kitchen  Furnished  \\\n",
       "0                    2         85.0                       0          0   \n",
       "1                    3        108.0                       0          0   \n",
       "2                    3        129.0                       1          0   \n",
       "3                    2         75.0                       0          0   \n",
       "4                    2         77.0                       0          0   \n",
       "...                ...          ...                     ...        ...   \n",
       "10961                1         85.0                       0          0   \n",
       "10962                2        101.0                       0          0   \n",
       "10963                3        140.0                       1          0   \n",
       "10964                2         88.0                       1          0   \n",
       "10965                2         85.0                       0          0   \n",
       "\n",
       "       Terrace  Terrace_Area  Garden State_of_the_Building  \n",
       "0          1.0           NaN     NaN                   NaN  \n",
       "1          1.0          10.0     NaN                  GOOD  \n",
       "2          1.0           NaN     1.0                AS_NEW  \n",
       "3          NaN           NaN     NaN                AS_NEW  \n",
       "4          1.0           NaN     NaN                   NaN  \n",
       "...        ...           ...     ...                   ...  \n",
       "10961      1.0           4.0     NaN         TO_BE_DONE_UP  \n",
       "10962      1.0          20.0     NaN                   NaN  \n",
       "10963      1.0           NaN     NaN                AS_NEW  \n",
       "10964      1.0           8.0     NaN                AS_NEW  \n",
       "10965      1.0           2.0     NaN                AS_NEW  \n",
       "\n",
       "[10474 rows x 12 columns]"
      ]
     },
     "execution_count": 36,
     "metadata": {},
     "output_type": "execute_result"
    }
   ],
   "source": [
    "df"
   ]
  },
  {
   "cell_type": "code",
   "execution_count": 37,
   "metadata": {},
   "outputs": [
    {
     "data": {
      "text/plain": [
       "(10474, 12)"
      ]
     },
     "execution_count": 37,
     "metadata": {},
     "output_type": "execute_result"
    }
   ],
   "source": [
    "df.shape"
   ]
  },
  {
   "cell_type": "code",
   "execution_count": 38,
   "metadata": {},
   "outputs": [
    {
     "data": {
      "text/plain": [
       "19680"
      ]
     },
     "execution_count": 38,
     "metadata": {},
     "output_type": "execute_result"
    }
   ],
   "source": [
    "# to count total amount of any values\n",
    "df.isna().sum().sum()"
   ]
  },
  {
   "cell_type": "code",
   "execution_count": null,
   "metadata": {},
   "outputs": [],
   "source": [
    "# ???df.dropna(inplace = True)"
   ]
  },
  {
   "cell_type": "code",
   "execution_count": null,
   "metadata": {},
   "outputs": [],
   "source": [
    "# ???df.isna().sum().sum()"
   ]
  },
  {
   "cell_type": "code",
   "execution_count": 39,
   "metadata": {},
   "outputs": [
    {
     "data": {
      "text/plain": [
       "Subtype_of_Property\n",
       "TRIPLEX           64\n",
       "KOT               65\n",
       "LOFT             101\n",
       "SERVICE_FLAT     129\n",
       "FLAT_STUDIO      398\n",
       "PENTHOUSE        470\n",
       "GROUND_FLOOR     522\n",
       "DUPLEX           549\n",
       "APARTMENT       8176\n",
       "Name: count, dtype: int64"
      ]
     },
     "execution_count": 39,
     "metadata": {},
     "output_type": "execute_result"
    }
   ],
   "source": [
    "# to COUNT and CORT values (ascending)\n",
    "df[\"Subtype_of_Property\"].value_counts().sort_values(ascending = True)"
   ]
  },
  {
   "cell_type": "code",
   "execution_count": 40,
   "metadata": {},
   "outputs": [
    {
     "data": {
      "text/plain": [
       "Subtype_of_Property\n",
       "APARTMENT       8176\n",
       "DUPLEX           549\n",
       "GROUND_FLOOR     522\n",
       "PENTHOUSE        470\n",
       "FLAT_STUDIO      398\n",
       "SERVICE_FLAT     129\n",
       "LOFT             101\n",
       "Name: count, dtype: int64"
      ]
     },
     "execution_count": 40,
     "metadata": {},
     "output_type": "execute_result"
    }
   ],
   "source": [
    "# to COUNT and CORT values (discending) and look at TOP 7\n",
    "df[\"Subtype_of_Property\"].value_counts().sort_values(ascending = False).head(7)"
   ]
  },
  {
   "cell_type": "code",
   "execution_count": 43,
   "metadata": {},
   "outputs": [
    {
     "data": {
      "text/plain": [
       "<Axes: xlabel='Subtype_of_Property'>"
      ]
     },
     "execution_count": 43,
     "metadata": {},
     "output_type": "execute_result"
    },
    {
     "data": {
      "image/png": "[encoded data removed]",
      "text/plain": [
       "<Figure size 640x480 with 1 Axes>"
      ]
     },
     "metadata": {},
     "output_type": "display_data"
    }
   ],
   "source": [
    "# to COUNT and CORT values (discending) and look at plot var\n",
    "df[\"Subtype_of_Property\"].value_counts().sort_values(ascending = False).plot(kind = \"bar\")"
   ]
  },
  {
   "cell_type": "code",
   "execution_count": 44,
   "metadata": {},
   "outputs": [],
   "source": [
    "import matplotlib.pyplot as plt"
   ]
  },
  {
   "cell_type": "code",
   "execution_count": 45,
   "metadata": {},
   "outputs": [
    {
     "data": {
      "image/png": "[encoded data removed]",
      "text/plain": [
       "<Figure size 640x480 with 1 Axes>"
      ]
     },
     "metadata": {},
     "output_type": "display_data"
    }
   ],
   "source": [
    "# use matplotlib.pyplot to apdate our bar\n",
    "df[\"Subtype_of_Property\"].value_counts().sort_values(ascending = False).head(10).plot(kind = \"bar\")\n",
    "plt.title(\"Number of Subtype of Property\")\n",
    "plt.ylabel(\"Listing Number\")\n",
    "plt.xlabel(\"Types\")\n",
    "plt.show()"
   ]
  },
  {
   "cell_type": "code",
   "execution_count": 47,
   "metadata": {},
   "outputs": [
    {
     "data": {
      "text/plain": [
       "Locality        Subtype_of_Property\n",
       "'S Gravenwezel  APARTMENT              675000.000000\n",
       "Aalbeke         APARTMENT              249000.000000\n",
       "Aalst           APARTMENT              289845.151515\n",
       "                DUPLEX                 235250.000000\n",
       "                GROUND_FLOOR           375000.000000\n",
       "                                           ...      \n",
       "Zwijnaarde      PENTHOUSE              409000.000000\n",
       "Zwijndrecht     APARTMENT              231571.428571\n",
       "                DUPLEX                 374000.000000\n",
       "                GROUND_FLOOR           309000.000000\n",
       "Écaussinnes     APARTMENT              215000.000000\n",
       "Name: Price, Length: 1660, dtype: float64"
      ]
     },
     "execution_count": 47,
     "metadata": {},
     "output_type": "execute_result"
    }
   ],
   "source": [
    "df.groupby([\"Locality\", \"Subtype_of_Property\"])[\"Price\"].mean()"
   ]
  },
  {
   "cell_type": "code",
   "execution_count": 48,
   "metadata": {},
   "outputs": [
    {
     "data": {
      "text/html": [
       "<div>\n",
       "<style scoped>\n",
       "    .dataframe tbody tr th:only-of-type {\n",
       "        vertical-align: middle;\n",
       "    }\n",
       "\n",
       "    .dataframe tbody tr th {\n",
       "        vertical-align: top;\n",
       "    }\n",
       "\n",
       "    .dataframe thead th {\n",
       "        text-align: right;\n",
       "    }\n",
       "</style>\n",
       "<table border=\"1\" class=\"dataframe\">\n",
       "  <thead>\n",
       "    <tr style=\"text-align: right;\">\n",
       "      <th></th>\n",
       "      <th>Locality</th>\n",
       "      <th>Subtype_of_Property</th>\n",
       "      <th>Price</th>\n",
       "    </tr>\n",
       "  </thead>\n",
       "  <tbody>\n",
       "    <tr>\n",
       "      <th>0</th>\n",
       "      <td>'S Gravenwezel</td>\n",
       "      <td>APARTMENT</td>\n",
       "      <td>675000.000000</td>\n",
       "    </tr>\n",
       "    <tr>\n",
       "      <th>1</th>\n",
       "      <td>Aalbeke</td>\n",
       "      <td>APARTMENT</td>\n",
       "      <td>249000.000000</td>\n",
       "    </tr>\n",
       "    <tr>\n",
       "      <th>2</th>\n",
       "      <td>Aalst</td>\n",
       "      <td>APARTMENT</td>\n",
       "      <td>289845.151515</td>\n",
       "    </tr>\n",
       "    <tr>\n",
       "      <th>3</th>\n",
       "      <td>Aalst</td>\n",
       "      <td>DUPLEX</td>\n",
       "      <td>235250.000000</td>\n",
       "    </tr>\n",
       "    <tr>\n",
       "      <th>4</th>\n",
       "      <td>Aalst</td>\n",
       "      <td>GROUND_FLOOR</td>\n",
       "      <td>375000.000000</td>\n",
       "    </tr>\n",
       "    <tr>\n",
       "      <th>...</th>\n",
       "      <td>...</td>\n",
       "      <td>...</td>\n",
       "      <td>...</td>\n",
       "    </tr>\n",
       "    <tr>\n",
       "      <th>1655</th>\n",
       "      <td>Zwijnaarde</td>\n",
       "      <td>PENTHOUSE</td>\n",
       "      <td>409000.000000</td>\n",
       "    </tr>\n",
       "    <tr>\n",
       "      <th>1656</th>\n",
       "      <td>Zwijndrecht</td>\n",
       "      <td>APARTMENT</td>\n",
       "      <td>231571.428571</td>\n",
       "    </tr>\n",
       "    <tr>\n",
       "      <th>1657</th>\n",
       "      <td>Zwijndrecht</td>\n",
       "      <td>DUPLEX</td>\n",
       "      <td>374000.000000</td>\n",
       "    </tr>\n",
       "    <tr>\n",
       "      <th>1658</th>\n",
       "      <td>Zwijndrecht</td>\n",
       "      <td>GROUND_FLOOR</td>\n",
       "      <td>309000.000000</td>\n",
       "    </tr>\n",
       "    <tr>\n",
       "      <th>1659</th>\n",
       "      <td>Écaussinnes</td>\n",
       "      <td>APARTMENT</td>\n",
       "      <td>215000.000000</td>\n",
       "    </tr>\n",
       "  </tbody>\n",
       "</table>\n",
       "<p>1660 rows × 3 columns</p>\n",
       "</div>"
      ],
      "text/plain": [
       "            Locality Subtype_of_Property          Price\n",
       "0     'S Gravenwezel           APARTMENT  675000.000000\n",
       "1            Aalbeke           APARTMENT  249000.000000\n",
       "2              Aalst           APARTMENT  289845.151515\n",
       "3              Aalst              DUPLEX  235250.000000\n",
       "4              Aalst        GROUND_FLOOR  375000.000000\n",
       "...              ...                 ...            ...\n",
       "1655      Zwijnaarde           PENTHOUSE  409000.000000\n",
       "1656     Zwijndrecht           APARTMENT  231571.428571\n",
       "1657     Zwijndrecht              DUPLEX  374000.000000\n",
       "1658     Zwijndrecht        GROUND_FLOOR  309000.000000\n",
       "1659     Écaussinnes           APARTMENT  215000.000000\n",
       "\n",
       "[1660 rows x 3 columns]"
      ]
     },
     "execution_count": 48,
     "metadata": {},
     "output_type": "execute_result"
    }
   ],
   "source": [
    "df.groupby([\"Locality\", \"Subtype_of_Property\"])[\"Price\"].mean().reset_index()"
   ]
  },
  {
   "cell_type": "code",
   "execution_count": 49,
   "metadata": {},
   "outputs": [
    {
     "data": {
      "text/html": [
       "<div>\n",
       "<style scoped>\n",
       "    .dataframe tbody tr th:only-of-type {\n",
       "        vertical-align: middle;\n",
       "    }\n",
       "\n",
       "    .dataframe tbody tr th {\n",
       "        vertical-align: top;\n",
       "    }\n",
       "\n",
       "    .dataframe thead th {\n",
       "        text-align: right;\n",
       "    }\n",
       "</style>\n",
       "<table border=\"1\" class=\"dataframe\">\n",
       "  <thead>\n",
       "    <tr style=\"text-align: right;\">\n",
       "      <th></th>\n",
       "      <th>Price</th>\n",
       "      <th>Number_of_Rooms</th>\n",
       "      <th>Living_Area</th>\n",
       "      <th>Fully_Equipped_Kitchen</th>\n",
       "      <th>Furnished</th>\n",
       "      <th>Terrace</th>\n",
       "      <th>Terrace_Area</th>\n",
       "      <th>Garden</th>\n",
       "    </tr>\n",
       "  </thead>\n",
       "  <tbody>\n",
       "    <tr>\n",
       "      <th>0</th>\n",
       "      <td>154000</td>\n",
       "      <td>2</td>\n",
       "      <td>85.0</td>\n",
       "      <td>0</td>\n",
       "      <td>0</td>\n",
       "      <td>1.0</td>\n",
       "      <td>NaN</td>\n",
       "      <td>NaN</td>\n",
       "    </tr>\n",
       "    <tr>\n",
       "      <th>1</th>\n",
       "      <td>353971</td>\n",
       "      <td>3</td>\n",
       "      <td>108.0</td>\n",
       "      <td>0</td>\n",
       "      <td>0</td>\n",
       "      <td>1.0</td>\n",
       "      <td>10.0</td>\n",
       "      <td>NaN</td>\n",
       "    </tr>\n",
       "    <tr>\n",
       "      <th>2</th>\n",
       "      <td>649000</td>\n",
       "      <td>3</td>\n",
       "      <td>129.0</td>\n",
       "      <td>1</td>\n",
       "      <td>0</td>\n",
       "      <td>1.0</td>\n",
       "      <td>NaN</td>\n",
       "      <td>1.0</td>\n",
       "    </tr>\n",
       "    <tr>\n",
       "      <th>3</th>\n",
       "      <td>1125000</td>\n",
       "      <td>2</td>\n",
       "      <td>75.0</td>\n",
       "      <td>0</td>\n",
       "      <td>0</td>\n",
       "      <td>NaN</td>\n",
       "      <td>NaN</td>\n",
       "      <td>NaN</td>\n",
       "    </tr>\n",
       "    <tr>\n",
       "      <th>4</th>\n",
       "      <td>319500</td>\n",
       "      <td>2</td>\n",
       "      <td>77.0</td>\n",
       "      <td>0</td>\n",
       "      <td>0</td>\n",
       "      <td>1.0</td>\n",
       "      <td>NaN</td>\n",
       "      <td>NaN</td>\n",
       "    </tr>\n",
       "    <tr>\n",
       "      <th>...</th>\n",
       "      <td>...</td>\n",
       "      <td>...</td>\n",
       "      <td>...</td>\n",
       "      <td>...</td>\n",
       "      <td>...</td>\n",
       "      <td>...</td>\n",
       "      <td>...</td>\n",
       "      <td>...</td>\n",
       "    </tr>\n",
       "    <tr>\n",
       "      <th>10961</th>\n",
       "      <td>235000</td>\n",
       "      <td>1</td>\n",
       "      <td>85.0</td>\n",
       "      <td>0</td>\n",
       "      <td>0</td>\n",
       "      <td>1.0</td>\n",
       "      <td>4.0</td>\n",
       "      <td>NaN</td>\n",
       "    </tr>\n",
       "    <tr>\n",
       "      <th>10962</th>\n",
       "      <td>445000</td>\n",
       "      <td>2</td>\n",
       "      <td>101.0</td>\n",
       "      <td>0</td>\n",
       "      <td>0</td>\n",
       "      <td>1.0</td>\n",
       "      <td>20.0</td>\n",
       "      <td>NaN</td>\n",
       "    </tr>\n",
       "    <tr>\n",
       "      <th>10963</th>\n",
       "      <td>445000</td>\n",
       "      <td>3</td>\n",
       "      <td>140.0</td>\n",
       "      <td>1</td>\n",
       "      <td>0</td>\n",
       "      <td>1.0</td>\n",
       "      <td>NaN</td>\n",
       "      <td>NaN</td>\n",
       "    </tr>\n",
       "    <tr>\n",
       "      <th>10964</th>\n",
       "      <td>506900</td>\n",
       "      <td>2</td>\n",
       "      <td>88.0</td>\n",
       "      <td>1</td>\n",
       "      <td>0</td>\n",
       "      <td>1.0</td>\n",
       "      <td>8.0</td>\n",
       "      <td>NaN</td>\n",
       "    </tr>\n",
       "    <tr>\n",
       "      <th>10965</th>\n",
       "      <td>235000</td>\n",
       "      <td>2</td>\n",
       "      <td>85.0</td>\n",
       "      <td>0</td>\n",
       "      <td>0</td>\n",
       "      <td>1.0</td>\n",
       "      <td>2.0</td>\n",
       "      <td>NaN</td>\n",
       "    </tr>\n",
       "  </tbody>\n",
       "</table>\n",
       "<p>10474 rows × 8 columns</p>\n",
       "</div>"
      ],
      "text/plain": [
       "         Price  Number_of_Rooms  Living_Area  Fully_Equipped_Kitchen  \\\n",
       "0       154000                2         85.0                       0   \n",
       "1       353971                3        108.0                       0   \n",
       "2       649000                3        129.0                       1   \n",
       "3      1125000                2         75.0                       0   \n",
       "4       319500                2         77.0                       0   \n",
       "...        ...              ...          ...                     ...   \n",
       "10961   235000                1         85.0                       0   \n",
       "10962   445000                2        101.0                       0   \n",
       "10963   445000                3        140.0                       1   \n",
       "10964   506900                2         88.0                       1   \n",
       "10965   235000                2         85.0                       0   \n",
       "\n",
       "       Furnished  Terrace  Terrace_Area  Garden  \n",
       "0              0      1.0           NaN     NaN  \n",
       "1              0      1.0          10.0     NaN  \n",
       "2              0      1.0           NaN     1.0  \n",
       "3              0      NaN           NaN     NaN  \n",
       "4              0      1.0           NaN     NaN  \n",
       "...          ...      ...           ...     ...  \n",
       "10961          0      1.0           4.0     NaN  \n",
       "10962          0      1.0          20.0     NaN  \n",
       "10963          0      1.0           NaN     NaN  \n",
       "10964          0      1.0           8.0     NaN  \n",
       "10965          0      1.0           2.0     NaN  \n",
       "\n",
       "[10474 rows x 8 columns]"
      ]
     },
     "execution_count": 49,
     "metadata": {},
     "output_type": "execute_result"
    }
   ],
   "source": [
    "# to find correlation between valeus and Price\n",
    "df.select_dtypes(include=[\"number\"])"
   ]
  },
  {
   "cell_type": "code",
   "execution_count": 50,
   "metadata": {},
   "outputs": [
    {
     "data": {
      "text/plain": [
       "Price                     1.000000\n",
       "Number_of_Rooms           0.421457\n",
       "Living_Area               0.268565\n",
       "Fully_Equipped_Kitchen    0.223049\n",
       "Furnished                 0.048852\n",
       "Terrace                        NaN\n",
       "Terrace_Area              0.107136\n",
       "Garden                         NaN\n",
       "Name: Price, dtype: float64"
      ]
     },
     "execution_count": 50,
     "metadata": {},
     "output_type": "execute_result"
    }
   ],
   "source": [
    "# full line to find correlation between valeus and Price\n",
    "df.select_dtypes(include=[\"number\"]).corr()[\"Price\"]"
   ]
  },
  {
   "cell_type": "code",
   "execution_count": null,
   "metadata": {},
   "outputs": [],
   "source": [
    "To create a treemap using the plotly.express library (px.treemap) with continuous color.locality\n",
    "Explanation:\n",
    "path=['Locality']: Specifies the hierarchy of the treemap.\n",
    "values='Value': Specifies the numerical values used to size the rectangles.\n",
    "color='Value': Uses the same column for color intensity.\n",
    "color_continuous_scale='Viridis': Sets the color scale; you can customize it (e.g., 'Plasma', 'Cividis', etc.).\n",
    "This will display a treemap where each locality is represented as a rectangle sized by the Value column and colored according to the same values."
   ]
  },
  {
   "cell_type": "code",
   "execution_count": 60,
   "metadata": {},
   "outputs": [
    {
     "data": {
      "application/vnd.plotly.v1+json": {
       "config": {
        "plotlyServerURL": "https://plot.ly"
       },
       "data": [
        {
         "branchvalues": "total",
         "customdata": [
          [
           178
          ],
          [
           562
          ],
          [
           181
          ],
          [
           120
          ],
          [
           336
          ],
          [
           366
          ],
          [
           296
          ],
          [
           252
          ],
          [
           439
          ],
          [
           214
          ],
          [
           136
          ],
          [
           314
          ],
          [
           135
          ],
          [
           245
          ],
          [
           171
          ]
         ],
         "domain": {
          "x": [
           0,
           1
          ],
          "y": [
           0,
           1
          ]
         },
         "hovertemplate": "labels=%{label}<br>Value_sum=%{value}<br>parent=%{parent}<br>id=%{id}<br>Value=%{color}<extra></extra>",
         "ids": [
          "Anderlecht",
          "Antwerpen",
          "Blankenberge",
          "Brussel",
          "Bruxelles",
          "Gent",
          "Ixelles",
          "Knokke",
          "Knokke-Heist",
          "Liège",
          "Molenbeek-Saint-Jean",
          "Oostende",
          "Schaerbeek",
          "Uccle",
          "Woluwe-Saint-Lambert"
         ],
         "labels": [
          "Anderlecht",
          "Antwerpen",
          "Blankenberge",
          "Brussel",
          "Bruxelles",
          "Gent",
          "Ixelles",
          "Knokke",
          "Knokke-Heist",
          "Liège",
          "Molenbeek-Saint-Jean",
          "Oostende",
          "Schaerbeek",
          "Uccle",
          "Woluwe-Saint-Lambert"
         ],
         "marker": {
          "coloraxis": "coloraxis",
          "colors": [
           178,
           562,
           181,
           120,
           336,
           366,
           296,
           252,
           439,
           214,
           136,
           314,
           135,
           245,
           171
          ]
         },
         "name": "",
         "parents": [
          "",
          "",
          "",
          "",
          "",
          "",
          "",
          "",
          "",
          "",
          "",
          "",
          "",
          "",
          ""
         ],
         "type": "treemap",
         "values": [
          178,
          562,
          181,
          120,
          336,
          366,
          296,
          252,
          439,
          214,
          136,
          314,
          135,
          245,
          171
         ]
        }
       ],
       "layout": {
        "coloraxis": {
         "colorbar": {
          "title": {
           "text": "Value"
          }
         },
         "colorscale": [
          [
           0,
           "#440154"
          ],
          [
           0.1111111111111111,
           "#482878"
          ],
          [
           0.2222222222222222,
           "#3e4989"
          ],
          [
           0.3333333333333333,
           "#31688e"
          ],
          [
           0.4444444444444444,
           "#26828e"
          ],
          [
           0.5555555555555556,
           "#1f9e89"
          ],
          [
           0.6666666666666666,
           "#35b779"
          ],
          [
           0.7777777777777778,
           "#6ece58"
          ],
          [
           0.8888888888888888,
           "#b5de2b"
          ],
          [
           1,
           "#fde725"
          ]
         ]
        },
        "legend": {
         "tracegroupgap": 0
        },
        "margin": {
         "t": 60
        },
        "template": {
         "data": {
          "bar": [
           {
            "error_x": {
             "color": "#2a3f5f"
            },
            "error_y": {
             "color": "#2a3f5f"
            },
            "marker": {
             "line": {
              "color": "#E5ECF6",
              "width": 0.5
             },
             "pattern": {
              "fillmode": "overlay",
              "size": 10,
              "solidity": 0.2
             }
            },
            "type": "bar"
           }
          ],
          "barpolar": [
           {
            "marker": {
             "line": {
              "color": "#E5ECF6",
              "width": 0.5
             },
             "pattern": {
              "fillmode": "overlay",
              "size": 10,
              "solidity": 0.2
             }
            },
            "type": "barpolar"
           }
          ],
          "carpet": [
           {
            "aaxis": {
             "endlinecolor": "#2a3f5f",
             "gridcolor": "white",
             "linecolor": "white",
             "minorgridcolor": "white",
             "startlinecolor": "#2a3f5f"
            },
            "baxis": {
             "endlinecolor": "#2a3f5f",
             "gridcolor": "white",
             "linecolor": "white",
             "minorgridcolor": "white",
             "startlinecolor": "#2a3f5f"
            },
            "type": "carpet"
           }
          ],
          "choropleth": [
           {
            "colorbar": {
             "outlinewidth": 0,
             "ticks": ""
            },
            "type": "choropleth"
           }
          ],
          "contour": [
           {
            "colorbar": {
             "outlinewidth": 0,
             "ticks": ""
            },
            "colorscale": [
             [
              0,
              "#0d0887"
             ],
             [
              0.1111111111111111,
              "#46039f"
             ],
             [
              0.2222222222222222,
              "#7201a8"
             ],
             [
              0.3333333333333333,
              "#9c179e"
             ],
             [
              0.4444444444444444,
              "#bd3786"
             ],
             [
              0.5555555555555556,
              "#d8576b"
             ],
             [
              0.6666666666666666,
              "#ed7953"
             ],
             [
              0.7777777777777778,
              "#fb9f3a"
             ],
             [
              0.8888888888888888,
              "#fdca26"
             ],
             [
              1,
              "#f0f921"
             ]
            ],
            "type": "contour"
           }
          ],
          "contourcarpet": [
           {
            "colorbar": {
             "outlinewidth": 0,
             "ticks": ""
            },
            "type": "contourcarpet"
           }
          ],
          "heatmap": [
           {
            "colorbar": {
             "outlinewidth": 0,
             "ticks": ""
            },
            "colorscale": [
             [
              0,
              "#0d0887"
             ],
             [
              0.1111111111111111,
              "#46039f"
             ],
             [
              0.2222222222222222,
              "#7201a8"
             ],
             [
              0.3333333333333333,
              "#9c179e"
             ],
             [
              0.4444444444444444,
              "#bd3786"
             ],
             [
              0.5555555555555556,
              "#d8576b"
             ],
             [
              0.6666666666666666,
              "#ed7953"
             ],
             [
              0.7777777777777778,
              "#fb9f3a"
             ],
             [
              0.8888888888888888,
              "#fdca26"
             ],
             [
              1,
              "#f0f921"
             ]
            ],
            "type": "heatmap"
           }
          ],
          "heatmapgl": [
           {
            "colorbar": {
             "outlinewidth": 0,
             "ticks": ""
            },
            "colorscale": [
             [
              0,
              "#0d0887"
             ],
             [
              0.1111111111111111,
              "#46039f"
             ],
             [
              0.2222222222222222,
              "#7201a8"
             ],
             [
              0.3333333333333333,
              "#9c179e"
             ],
             [
              0.4444444444444444,
              "#bd3786"
             ],
             [
              0.5555555555555556,
              "#d8576b"
             ],
             [
              0.6666666666666666,
              "#ed7953"
             ],
             [
              0.7777777777777778,
              "#fb9f3a"
             ],
             [
              0.8888888888888888,
              "#fdca26"
             ],
             [
              1,
              "#f0f921"
             ]
            ],
            "type": "heatmapgl"
           }
          ],
          "histogram": [
           {
            "marker": {
             "pattern": {
              "fillmode": "overlay",
              "size": 10,
              "solidity": 0.2
             }
            },
            "type": "histogram"
           }
          ],
          "histogram2d": [
           {
            "colorbar": {
             "outlinewidth": 0,
             "ticks": ""
            },
            "colorscale": [
             [
              0,
              "#0d0887"
             ],
             [
              0.1111111111111111,
              "#46039f"
             ],
             [
              0.2222222222222222,
              "#7201a8"
             ],
             [
              0.3333333333333333,
              "#9c179e"
             ],
             [
              0.4444444444444444,
              "#bd3786"
             ],
             [
              0.5555555555555556,
              "#d8576b"
             ],
             [
              0.6666666666666666,
              "#ed7953"
             ],
             [
              0.7777777777777778,
              "#fb9f3a"
             ],
             [
              0.8888888888888888,
              "#fdca26"
             ],
             [
              1,
              "#f0f921"
             ]
            ],
            "type": "histogram2d"
           }
          ],
          "histogram2dcontour": [
           {
            "colorbar": {
             "outlinewidth": 0,
             "ticks": ""
            },
            "colorscale": [
             [
              0,
              "#0d0887"
             ],
             [
              0.1111111111111111,
              "#46039f"
             ],
             [
              0.2222222222222222,
              "#7201a8"
             ],
             [
              0.3333333333333333,
              "#9c179e"
             ],
             [
              0.4444444444444444,
              "#bd3786"
             ],
             [
              0.5555555555555556,
              "#d8576b"
             ],
             [
              0.6666666666666666,
              "#ed7953"
             ],
             [
              0.7777777777777778,
              "#fb9f3a"
             ],
             [
              0.8888888888888888,
              "#fdca26"
             ],
             [
              1,
              "#f0f921"
             ]
            ],
            "type": "histogram2dcontour"
           }
          ],
          "mesh3d": [
           {
            "colorbar": {
             "outlinewidth": 0,
             "ticks": ""
            },
            "type": "mesh3d"
           }
          ],
          "parcoords": [
           {
            "line": {
             "colorbar": {
              "outlinewidth": 0,
              "ticks": ""
             }
            },
            "type": "parcoords"
           }
          ],
          "pie": [
           {
            "automargin": true,
            "type": "pie"
           }
          ],
          "scatter": [
           {
            "fillpattern": {
             "fillmode": "overlay",
             "size": 10,
             "solidity": 0.2
            },
            "type": "scatter"
           }
          ],
          "scatter3d": [
           {
            "line": {
             "colorbar": {
              "outlinewidth": 0,
              "ticks": ""
             }
            },
            "marker": {
             "colorbar": {
              "outlinewidth": 0,
              "ticks": ""
             }
            },
            "type": "scatter3d"
           }
          ],
          "scattercarpet": [
           {
            "marker": {
             "colorbar": {
              "outlinewidth": 0,
              "ticks": ""
             }
            },
            "type": "scattercarpet"
           }
          ],
          "scattergeo": [
           {
            "marker": {
             "colorbar": {
              "outlinewidth": 0,
              "ticks": ""
             }
            },
            "type": "scattergeo"
           }
          ],
          "scattergl": [
           {
            "marker": {
             "colorbar": {
              "outlinewidth": 0,
              "ticks": ""
             }
            },
            "type": "scattergl"
           }
          ],
          "scattermapbox": [
           {
            "marker": {
             "colorbar": {
              "outlinewidth": 0,
              "ticks": ""
             }
            },
            "type": "scattermapbox"
           }
          ],
          "scatterpolar": [
           {
            "marker": {
             "colorbar": {
              "outlinewidth": 0,
              "ticks": ""
             }
            },
            "type": "scatterpolar"
           }
          ],
          "scatterpolargl": [
           {
            "marker": {
             "colorbar": {
              "outlinewidth": 0,
              "ticks": ""
             }
            },
            "type": "scatterpolargl"
           }
          ],
          "scatterternary": [
           {
            "marker": {
             "colorbar": {
              "outlinewidth": 0,
              "ticks": ""
             }
            },
            "type": "scatterternary"
           }
          ],
          "surface": [
           {
            "colorbar": {
             "outlinewidth": 0,
             "ticks": ""
            },
            "colorscale": [
             [
              0,
              "#0d0887"
             ],
             [
              0.1111111111111111,
              "#46039f"
             ],
             [
              0.2222222222222222,
              "#7201a8"
             ],
             [
              0.3333333333333333,
              "#9c179e"
             ],
             [
              0.4444444444444444,
              "#bd3786"
             ],
             [
              0.5555555555555556,
              "#d8576b"
             ],
             [
              0.6666666666666666,
              "#ed7953"
             ],
             [
              0.7777777777777778,
              "#fb9f3a"
             ],
             [
              0.8888888888888888,
              "#fdca26"
             ],
             [
              1,
              "#f0f921"
             ]
            ],
            "type": "surface"
           }
          ],
          "table": [
           {
            "cells": {
             "fill": {
              "color": "#EBF0F8"
             },
             "line": {
              "color": "white"
             }
            },
            "header": {
             "fill": {
              "color": "#C8D4E3"
             },
             "line": {
              "color": "white"
             }
            },
            "type": "table"
           }
          ]
         },
         "layout": {
          "annotationdefaults": {
           "arrowcolor": "#2a3f5f",
           "arrowhead": 0,
           "arrowwidth": 1
          },
          "autotypenumbers": "strict",
          "coloraxis": {
           "colorbar": {
            "outlinewidth": 0,
            "ticks": ""
           }
          },
          "colorscale": {
           "diverging": [
            [
             0,
             "#8e0152"
            ],
            [
             0.1,
             "#c51b7d"
            ],
            [
             0.2,
             "#de77ae"
            ],
            [
             0.3,
             "#f1b6da"
            ],
            [
             0.4,
             "#fde0ef"
            ],
            [
             0.5,
             "#f7f7f7"
            ],
            [
             0.6,
             "#e6f5d0"
            ],
            [
             0.7,
             "#b8e186"
            ],
            [
             0.8,
             "#7fbc41"
            ],
            [
             0.9,
             "#4d9221"
            ],
            [
             1,
             "#276419"
            ]
           ],
           "sequential": [
            [
             0,
             "#0d0887"
            ],
            [
             0.1111111111111111,
             "#46039f"
            ],
            [
             0.2222222222222222,
             "#7201a8"
            ],
            [
             0.3333333333333333,
             "#9c179e"
            ],
            [
             0.4444444444444444,
             "#bd3786"
            ],
            [
             0.5555555555555556,
             "#d8576b"
            ],
            [
             0.6666666666666666,
             "#ed7953"
            ],
            [
             0.7777777777777778,
             "#fb9f3a"
            ],
            [
             0.8888888888888888,
             "#fdca26"
            ],
            [
             1,
             "#f0f921"
            ]
           ],
           "sequentialminus": [
            [
             0,
             "#0d0887"
            ],
            [
             0.1111111111111111,
             "#46039f"
            ],
            [
             0.2222222222222222,
             "#7201a8"
            ],
            [
             0.3333333333333333,
             "#9c179e"
            ],
            [
             0.4444444444444444,
             "#bd3786"
            ],
            [
             0.5555555555555556,
             "#d8576b"
            ],
            [
             0.6666666666666666,
             "#ed7953"
            ],
            [
             0.7777777777777778,
             "#fb9f3a"
            ],
            [
             0.8888888888888888,
             "#fdca26"
            ],
            [
             1,
             "#f0f921"
            ]
           ]
          },
          "colorway": [
           "#636efa",
           "#EF553B",
           "#00cc96",
           "#ab63fa",
           "#FFA15A",
           "#19d3f3",
           "#FF6692",
           "#B6E880",
           "#FF97FF",
           "#FECB52"
          ],
          "font": {
           "color": "#2a3f5f"
          },
          "geo": {
           "bgcolor": "white",
           "lakecolor": "white",
           "landcolor": "#E5ECF6",
           "showlakes": true,
           "showland": true,
           "subunitcolor": "white"
          },
          "hoverlabel": {
           "align": "left"
          },
          "hovermode": "closest",
          "mapbox": {
           "style": "light"
          },
          "paper_bgcolor": "white",
          "plot_bgcolor": "#E5ECF6",
          "polar": {
           "angularaxis": {
            "gridcolor": "white",
            "linecolor": "white",
            "ticks": ""
           },
           "bgcolor": "#E5ECF6",
           "radialaxis": {
            "gridcolor": "white",
            "linecolor": "white",
            "ticks": ""
           }
          },
          "scene": {
           "xaxis": {
            "backgroundcolor": "#E5ECF6",
            "gridcolor": "white",
            "gridwidth": 2,
            "linecolor": "white",
            "showbackground": true,
            "ticks": "",
            "zerolinecolor": "white"
           },
           "yaxis": {
            "backgroundcolor": "#E5ECF6",
            "gridcolor": "white",
            "gridwidth": 2,
            "linecolor": "white",
            "showbackground": true,
            "ticks": "",
            "zerolinecolor": "white"
           },
           "zaxis": {
            "backgroundcolor": "#E5ECF6",
            "gridcolor": "white",
            "gridwidth": 2,
            "linecolor": "white",
            "showbackground": true,
            "ticks": "",
            "zerolinecolor": "white"
           }
          },
          "shapedefaults": {
           "line": {
            "color": "#2a3f5f"
           }
          },
          "ternary": {
           "aaxis": {
            "gridcolor": "white",
            "linecolor": "white",
            "ticks": ""
           },
           "baxis": {
            "gridcolor": "white",
            "linecolor": "white",
            "ticks": ""
           },
           "bgcolor": "#E5ECF6",
           "caxis": {
            "gridcolor": "white",
            "linecolor": "white",
            "ticks": ""
           }
          },
          "title": {
           "x": 0.05
          },
          "xaxis": {
           "automargin": true,
           "gridcolor": "white",
           "linecolor": "white",
           "ticks": "",
           "title": {
            "standoff": 15
           },
           "zerolinecolor": "white",
           "zerolinewidth": 2
          },
          "yaxis": {
           "automargin": true,
           "gridcolor": "white",
           "linecolor": "white",
           "ticks": "",
           "title": {
            "standoff": 15
           },
           "zerolinecolor": "white",
           "zerolinewidth": 2
          }
         }
        }
       }
      }
     },
     "metadata": {},
     "output_type": "display_data"
    }
   ],
   "source": [
    "import pandas as pd\n",
    "import plotly.express as px\n",
    "\n",
    "# Updated data\n",
    "data = {\n",
    "    'Locality': [\n",
    "        'Antwerpen', 'Knokke-Heist', 'Gent', 'Bruxelles', 'Oostende', \n",
    "        'Ixelles', 'Knokke', 'Uccle', 'Liège', 'Blankenberge', \n",
    "        'Anderlecht', 'Woluwe-Saint-Lambert', 'Molenbeek-Saint-Jean', \n",
    "        'Schaerbeek', 'Brussel'\n",
    "    ],\n",
    "    'Value': [\n",
    "        562, 439, 366, 336, 314, 296, 252, 245, 214, 181, \n",
    "        178, 171, 136, 135, 120\n",
    "    ]\n",
    "}\n",
    "\n",
    "# Creating a DataFrame\n",
    "df = pd.DataFrame(data)\n",
    "df.set_index('Locality', inplace=True)\n",
    "\n",
    "# Create the treemap\n",
    "fig = px.treemap(\n",
    "    df.reset_index(), \n",
    "    path=['Locality'], \n",
    "    values='Value', \n",
    "    color='Value', \n",
    "    color_continuous_scale='Viridis'\n",
    ")\n",
    "\n",
    "# Show the plot\n",
    "fig.show()\n"
   ]
  },
  {
   "cell_type": "markdown",
   "metadata": {},
   "source": []
  },
  {
   "cell_type": "code",
   "execution_count": 62,
   "metadata": {},
   "outputs": [
    {
     "data": {
      "application/vnd.plotly.v1+json": {
       "config": {
        "plotlyServerURL": "https://plot.ly"
       },
       "data": [
        {
         "hovertemplate": "<b>%{hovertext}</b><br><br>Locality=%{x}<br>Value=%{marker.size}<extra></extra>",
         "hovertext": [
          "Antwerpen",
          "Knokke-Heist",
          "Gent",
          "Bruxelles",
          "Oostende",
          "Ixelles",
          "Knokke",
          "Uccle",
          "Liège",
          "Blankenberge",
          "Anderlecht",
          "Woluwe-Saint-Lambert",
          "Molenbeek-Saint-Jean",
          "Schaerbeek",
          "Brussel"
         ],
         "legendgroup": "",
         "marker": {
          "color": "#636efa",
          "size": [
           562,
           439,
           366,
           336,
           314,
           296,
           252,
           245,
           214,
           181,
           178,
           171,
           136,
           135,
           120
          ],
          "sizemode": "area",
          "sizeref": 1.405,
          "symbol": "circle"
         },
         "mode": "markers",
         "name": "",
         "orientation": "v",
         "showlegend": false,
         "type": "scatter",
         "x": [
          "Antwerpen",
          "Knokke-Heist",
          "Gent",
          "Bruxelles",
          "Oostende",
          "Ixelles",
          "Knokke",
          "Uccle",
          "Liège",
          "Blankenberge",
          "Anderlecht",
          "Woluwe-Saint-Lambert",
          "Molenbeek-Saint-Jean",
          "Schaerbeek",
          "Brussel"
         ],
         "xaxis": "x",
         "y": [
          562,
          439,
          366,
          336,
          314,
          296,
          252,
          245,
          214,
          181,
          178,
          171,
          136,
          135,
          120
         ],
         "yaxis": "y"
        }
       ],
       "layout": {
        "legend": {
         "itemsizing": "constant",
         "tracegroupgap": 0
        },
        "template": {
         "data": {
          "bar": [
           {
            "error_x": {
             "color": "#2a3f5f"
            },
            "error_y": {
             "color": "#2a3f5f"
            },
            "marker": {
             "line": {
              "color": "#E5ECF6",
              "width": 0.5
             },
             "pattern": {
              "fillmode": "overlay",
              "size": 10,
              "solidity": 0.2
             }
            },
            "type": "bar"
           }
          ],
          "barpolar": [
           {
            "marker": {
             "line": {
              "color": "#E5ECF6",
              "width": 0.5
             },
             "pattern": {
              "fillmode": "overlay",
              "size": 10,
              "solidity": 0.2
             }
            },
            "type": "barpolar"
           }
          ],
          "carpet": [
           {
            "aaxis": {
             "endlinecolor": "#2a3f5f",
             "gridcolor": "white",
             "linecolor": "white",
             "minorgridcolor": "white",
             "startlinecolor": "#2a3f5f"
            },
            "baxis": {
             "endlinecolor": "#2a3f5f",
             "gridcolor": "white",
             "linecolor": "white",
             "minorgridcolor": "white",
             "startlinecolor": "#2a3f5f"
            },
            "type": "carpet"
           }
          ],
          "choropleth": [
           {
            "colorbar": {
             "outlinewidth": 0,
             "ticks": ""
            },
            "type": "choropleth"
           }
          ],
          "contour": [
           {
            "colorbar": {
             "outlinewidth": 0,
             "ticks": ""
            },
            "colorscale": [
             [
              0,
              "#0d0887"
             ],
             [
              0.1111111111111111,
              "#46039f"
             ],
             [
              0.2222222222222222,
              "#7201a8"
             ],
             [
              0.3333333333333333,
              "#9c179e"
             ],
             [
              0.4444444444444444,
              "#bd3786"
             ],
             [
              0.5555555555555556,
              "#d8576b"
             ],
             [
              0.6666666666666666,
              "#ed7953"
             ],
             [
              0.7777777777777778,
              "#fb9f3a"
             ],
             [
              0.8888888888888888,
              "#fdca26"
             ],
             [
              1,
              "#f0f921"
             ]
            ],
            "type": "contour"
           }
          ],
          "contourcarpet": [
           {
            "colorbar": {
             "outlinewidth": 0,
             "ticks": ""
            },
            "type": "contourcarpet"
           }
          ],
          "heatmap": [
           {
            "colorbar": {
             "outlinewidth": 0,
             "ticks": ""
            },
            "colorscale": [
             [
              0,
              "#0d0887"
             ],
             [
              0.1111111111111111,
              "#46039f"
             ],
             [
              0.2222222222222222,
              "#7201a8"
             ],
             [
              0.3333333333333333,
              "#9c179e"
             ],
             [
              0.4444444444444444,
              "#bd3786"
             ],
             [
              0.5555555555555556,
              "#d8576b"
             ],
             [
              0.6666666666666666,
              "#ed7953"
             ],
             [
              0.7777777777777778,
              "#fb9f3a"
             ],
             [
              0.8888888888888888,
              "#fdca26"
             ],
             [
              1,
              "#f0f921"
             ]
            ],
            "type": "heatmap"
           }
          ],
          "heatmapgl": [
           {
            "colorbar": {
             "outlinewidth": 0,
             "ticks": ""
            },
            "colorscale": [
             [
              0,
              "#0d0887"
             ],
             [
              0.1111111111111111,
              "#46039f"
             ],
             [
              0.2222222222222222,
              "#7201a8"
             ],
             [
              0.3333333333333333,
              "#9c179e"
             ],
             [
              0.4444444444444444,
              "#bd3786"
             ],
             [
              0.5555555555555556,
              "#d8576b"
             ],
             [
              0.6666666666666666,
              "#ed7953"
             ],
             [
              0.7777777777777778,
              "#fb9f3a"
             ],
             [
              0.8888888888888888,
              "#fdca26"
             ],
             [
              1,
              "#f0f921"
             ]
            ],
            "type": "heatmapgl"
           }
          ],
          "histogram": [
           {
            "marker": {
             "pattern": {
              "fillmode": "overlay",
              "size": 10,
              "solidity": 0.2
             }
            },
            "type": "histogram"
           }
          ],
          "histogram2d": [
           {
            "colorbar": {
             "outlinewidth": 0,
             "ticks": ""
            },
            "colorscale": [
             [
              0,
              "#0d0887"
             ],
             [
              0.1111111111111111,
              "#46039f"
             ],
             [
              0.2222222222222222,
              "#7201a8"
             ],
             [
              0.3333333333333333,
              "#9c179e"
             ],
             [
              0.4444444444444444,
              "#bd3786"
             ],
             [
              0.5555555555555556,
              "#d8576b"
             ],
             [
              0.6666666666666666,
              "#ed7953"
             ],
             [
              0.7777777777777778,
              "#fb9f3a"
             ],
             [
              0.8888888888888888,
              "#fdca26"
             ],
             [
              1,
              "#f0f921"
             ]
            ],
            "type": "histogram2d"
           }
          ],
          "histogram2dcontour": [
           {
            "colorbar": {
             "outlinewidth": 0,
             "ticks": ""
            },
            "colorscale": [
             [
              0,
              "#0d0887"
             ],
             [
              0.1111111111111111,
              "#46039f"
             ],
             [
              0.2222222222222222,
              "#7201a8"
             ],
             [
              0.3333333333333333,
              "#9c179e"
             ],
             [
              0.4444444444444444,
              "#bd3786"
             ],
             [
              0.5555555555555556,
              "#d8576b"
             ],
             [
              0.6666666666666666,
              "#ed7953"
             ],
             [
              0.7777777777777778,
              "#fb9f3a"
             ],
             [
              0.8888888888888888,
              "#fdca26"
             ],
             [
              1,
              "#f0f921"
             ]
            ],
            "type": "histogram2dcontour"
           }
          ],
          "mesh3d": [
           {
            "colorbar": {
             "outlinewidth": 0,
             "ticks": ""
            },
            "type": "mesh3d"
           }
          ],
          "parcoords": [
           {
            "line": {
             "colorbar": {
              "outlinewidth": 0,
              "ticks": ""
             }
            },
            "type": "parcoords"
           }
          ],
          "pie": [
           {
            "automargin": true,
            "type": "pie"
           }
          ],
          "scatter": [
           {
            "fillpattern": {
             "fillmode": "overlay",
             "size": 10,
             "solidity": 0.2
            },
            "type": "scatter"
           }
          ],
          "scatter3d": [
           {
            "line": {
             "colorbar": {
              "outlinewidth": 0,
              "ticks": ""
             }
            },
            "marker": {
             "colorbar": {
              "outlinewidth": 0,
              "ticks": ""
             }
            },
            "type": "scatter3d"
           }
          ],
          "scattercarpet": [
           {
            "marker": {
             "colorbar": {
              "outlinewidth": 0,
              "ticks": ""
             }
            },
            "type": "scattercarpet"
           }
          ],
          "scattergeo": [
           {
            "marker": {
             "colorbar": {
              "outlinewidth": 0,
              "ticks": ""
             }
            },
            "type": "scattergeo"
           }
          ],
          "scattergl": [
           {
            "marker": {
             "colorbar": {
              "outlinewidth": 0,
              "ticks": ""
             }
            },
            "type": "scattergl"
           }
          ],
          "scattermapbox": [
           {
            "marker": {
             "colorbar": {
              "outlinewidth": 0,
              "ticks": ""
             }
            },
            "type": "scattermapbox"
           }
          ],
          "scatterpolar": [
           {
            "marker": {
             "colorbar": {
              "outlinewidth": 0,
              "ticks": ""
             }
            },
            "type": "scatterpolar"
           }
          ],
          "scatterpolargl": [
           {
            "marker": {
             "colorbar": {
              "outlinewidth": 0,
              "ticks": ""
             }
            },
            "type": "scatterpolargl"
           }
          ],
          "scatterternary": [
           {
            "marker": {
             "colorbar": {
              "outlinewidth": 0,
              "ticks": ""
             }
            },
            "type": "scatterternary"
           }
          ],
          "surface": [
           {
            "colorbar": {
             "outlinewidth": 0,
             "ticks": ""
            },
            "colorscale": [
             [
              0,
              "#0d0887"
             ],
             [
              0.1111111111111111,
              "#46039f"
             ],
             [
              0.2222222222222222,
              "#7201a8"
             ],
             [
              0.3333333333333333,
              "#9c179e"
             ],
             [
              0.4444444444444444,
              "#bd3786"
             ],
             [
              0.5555555555555556,
              "#d8576b"
             ],
             [
              0.6666666666666666,
              "#ed7953"
             ],
             [
              0.7777777777777778,
              "#fb9f3a"
             ],
             [
              0.8888888888888888,
              "#fdca26"
             ],
             [
              1,
              "#f0f921"
             ]
            ],
            "type": "surface"
           }
          ],
          "table": [
           {
            "cells": {
             "fill": {
              "color": "#EBF0F8"
             },
             "line": {
              "color": "white"
             }
            },
            "header": {
             "fill": {
              "color": "#C8D4E3"
             },
             "line": {
              "color": "white"
             }
            },
            "type": "table"
           }
          ]
         },
         "layout": {
          "annotationdefaults": {
           "arrowcolor": "#2a3f5f",
           "arrowhead": 0,
           "arrowwidth": 1
          },
          "autotypenumbers": "strict",
          "coloraxis": {
           "colorbar": {
            "outlinewidth": 0,
            "ticks": ""
           }
          },
          "colorscale": {
           "diverging": [
            [
             0,
             "#8e0152"
            ],
            [
             0.1,
             "#c51b7d"
            ],
            [
             0.2,
             "#de77ae"
            ],
            [
             0.3,
             "#f1b6da"
            ],
            [
             0.4,
             "#fde0ef"
            ],
            [
             0.5,
             "#f7f7f7"
            ],
            [
             0.6,
             "#e6f5d0"
            ],
            [
             0.7,
             "#b8e186"
            ],
            [
             0.8,
             "#7fbc41"
            ],
            [
             0.9,
             "#4d9221"
            ],
            [
             1,
             "#276419"
            ]
           ],
           "sequential": [
            [
             0,
             "#0d0887"
            ],
            [
             0.1111111111111111,
             "#46039f"
            ],
            [
             0.2222222222222222,
             "#7201a8"
            ],
            [
             0.3333333333333333,
             "#9c179e"
            ],
            [
             0.4444444444444444,
             "#bd3786"
            ],
            [
             0.5555555555555556,
             "#d8576b"
            ],
            [
             0.6666666666666666,
             "#ed7953"
            ],
            [
             0.7777777777777778,
             "#fb9f3a"
            ],
            [
             0.8888888888888888,
             "#fdca26"
            ],
            [
             1,
             "#f0f921"
            ]
           ],
           "sequentialminus": [
            [
             0,
             "#0d0887"
            ],
            [
             0.1111111111111111,
             "#46039f"
            ],
            [
             0.2222222222222222,
             "#7201a8"
            ],
            [
             0.3333333333333333,
             "#9c179e"
            ],
            [
             0.4444444444444444,
             "#bd3786"
            ],
            [
             0.5555555555555556,
             "#d8576b"
            ],
            [
             0.6666666666666666,
             "#ed7953"
            ],
            [
             0.7777777777777778,
             "#fb9f3a"
            ],
            [
             0.8888888888888888,
             "#fdca26"
            ],
            [
             1,
             "#f0f921"
            ]
           ]
          },
          "colorway": [
           "#636efa",
           "#EF553B",
           "#00cc96",
           "#ab63fa",
           "#FFA15A",
           "#19d3f3",
           "#FF6692",
           "#B6E880",
           "#FF97FF",
           "#FECB52"
          ],
          "font": {
           "color": "#2a3f5f"
          },
          "geo": {
           "bgcolor": "white",
           "lakecolor": "white",
           "landcolor": "#E5ECF6",
           "showlakes": true,
           "showland": true,
           "subunitcolor": "white"
          },
          "hoverlabel": {
           "align": "left"
          },
          "hovermode": "closest",
          "mapbox": {
           "style": "light"
          },
          "paper_bgcolor": "white",
          "plot_bgcolor": "#E5ECF6",
          "polar": {
           "angularaxis": {
            "gridcolor": "white",
            "linecolor": "white",
            "ticks": ""
           },
           "bgcolor": "#E5ECF6",
           "radialaxis": {
            "gridcolor": "white",
            "linecolor": "white",
            "ticks": ""
           }
          },
          "scene": {
           "xaxis": {
            "backgroundcolor": "#E5ECF6",
            "gridcolor": "white",
            "gridwidth": 2,
            "linecolor": "white",
            "showbackground": true,
            "ticks": "",
            "zerolinecolor": "white"
           },
           "yaxis": {
            "backgroundcolor": "#E5ECF6",
            "gridcolor": "white",
            "gridwidth": 2,
            "linecolor": "white",
            "showbackground": true,
            "ticks": "",
            "zerolinecolor": "white"
           },
           "zaxis": {
            "backgroundcolor": "#E5ECF6",
            "gridcolor": "white",
            "gridwidth": 2,
            "linecolor": "white",
            "showbackground": true,
            "ticks": "",
            "zerolinecolor": "white"
           }
          },
          "shapedefaults": {
           "line": {
            "color": "#2a3f5f"
           }
          },
          "ternary": {
           "aaxis": {
            "gridcolor": "white",
            "linecolor": "white",
            "ticks": ""
           },
           "baxis": {
            "gridcolor": "white",
            "linecolor": "white",
            "ticks": ""
           },
           "bgcolor": "#E5ECF6",
           "caxis": {
            "gridcolor": "white",
            "linecolor": "white",
            "ticks": ""
           }
          },
          "title": {
           "x": 0.05
          },
          "xaxis": {
           "automargin": true,
           "gridcolor": "white",
           "linecolor": "white",
           "ticks": "",
           "title": {
            "standoff": 15
           },
           "zerolinecolor": "white",
           "zerolinewidth": 2
          },
          "yaxis": {
           "automargin": true,
           "gridcolor": "white",
           "linecolor": "white",
           "ticks": "",
           "title": {
            "standoff": 15
           },
           "zerolinecolor": "white",
           "zerolinewidth": 2
          }
         }
        },
        "title": {
         "text": "Grouped Bubble Chart of Localities"
        },
        "xaxis": {
         "anchor": "y",
         "domain": [
          0,
          1
         ],
         "title": {
          "text": "Locality"
         }
        },
        "yaxis": {
         "anchor": "x",
         "domain": [
          0,
          1
         ],
         "title": {
          "text": "Value"
         }
        }
       }
      }
     },
     "metadata": {},
     "output_type": "display_data"
    }
   ],
   "source": [
    "import pandas as pd\n",
    "import plotly.express as px\n",
    "\n",
    "# Updated data with groups for demonstration\n",
    "data = {\n",
    "    'Locality': [\n",
    "        'Antwerpen', 'Knokke-Heist', 'Gent', 'Bruxelles', 'Oostende', \n",
    "        'Ixelles', 'Knokke', 'Uccle', 'Liège', 'Blankenberge', \n",
    "        'Anderlecht', 'Woluwe-Saint-Lambert', 'Molenbeek-Saint-Jean', \n",
    "        'Schaerbeek', 'Brussel'\n",
    "    ],\n",
    "    'Value': [\n",
    "        562, 439, 366, 336, 314, 296, 252, 245, 214, 181, \n",
    "        178, 171, 136, 135, 120\n",
    "    ]\n",
    "}\n",
    "\n",
    "# Creating a DataFrame\n",
    "df = pd.DataFrame(data)\n",
    "\n",
    "# Create the grouped bubble chart\n",
    "fig = px.scatter(\n",
    "    df,\n",
    "    x='Locality',           # x-axis shows the localities\n",
    "    y='Value',              # y-axis shows the value\n",
    "    size='Value',           # Bubble size based on the value\n",
    "    hover_name='Locality',  # Display locality on hover\n",
    "    title='Grouped Bubble Chart of Localities'\n",
    ")\n",
    "\n",
    "# Show the plot\n",
    "fig.show()\n"
   ]
  },
  {
   "cell_type": "code",
   "execution_count": null,
   "metadata": {},
   "outputs": [],
   "source": []
  },
  {
   "cell_type": "code",
   "execution_count": null,
   "metadata": {},
   "outputs": [],
   "source": []
  },
  {
   "cell_type": "code",
   "execution_count": null,
   "metadata": {},
   "outputs": [],
   "source": []
  },
  {
   "cell_type": "code",
   "execution_count": null,
   "metadata": {},
   "outputs": [],
   "source": []
  },
  {
   "cell_type": "code",
   "execution_count": null,
   "metadata": {},
   "outputs": [],
   "source": []
  },
  {
   "cell_type": "code",
   "execution_count": null,
   "metadata": {},
   "outputs": [],
   "source": []
  },
  {
   "cell_type": "code",
   "execution_count": null,
   "metadata": {},
   "outputs": [],
   "source": []
  },
  {
   "cell_type": "code",
   "execution_count": null,
   "metadata": {},
   "outputs": [],
   "source": []
  },
  {
   "cell_type": "code",
   "execution_count": null,
   "metadata": {},
   "outputs": [],
   "source": []
  },
  {
   "cell_type": "code",
   "execution_count": null,
   "metadata": {},
   "outputs": [],
   "source": []
  },
  {
   "cell_type": "code",
   "execution_count": null,
   "metadata": {},
   "outputs": [],
   "source": []
  }
 ],
 "metadata": {
  "kernelspec": {
   "display_name": "base",
   "language": "python",
   "name": "python3"
  },
  "language_info": {
   "codemirror_mode": {
    "name": "ipython",
    "version": 3
   },
   "file_extension": ".py",
   "mimetype": "text/x-python",
   "name": "python",
   "nbconvert_exporter": "python",
   "pygments_lexer": "ipython3",
   "version": "3.12.4"
  }
 },
 "nbformat": 4,
 "nbformat_minor": 2
}
