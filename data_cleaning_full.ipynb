{
 "cells": [
  {
   "cell_type": "code",
   "execution_count": 75,
   "metadata": {},
   "outputs": [],
   "source": [
    "# allow jupyter notebook to print all the interactive output \n",
    "from IPython.core.interactiveshell import InteractiveShell \n",
    "InteractiveShell.ast_node_interactivity = \"all\""
   ]
  },
  {
   "cell_type": "code",
   "execution_count": 76,
   "metadata": {},
   "outputs": [
    {
     "data": {
      "text/html": [
       "<div>\n",
       "<style scoped>\n",
       "    .dataframe tbody tr th:only-of-type {\n",
       "        vertical-align: middle;\n",
       "    }\n",
       "\n",
       "    .dataframe tbody tr th {\n",
       "        vertical-align: top;\n",
       "    }\n",
       "\n",
       "    .dataframe thead th {\n",
       "        text-align: right;\n",
       "    }\n",
       "</style>\n",
       "<table border=\"1\" class=\"dataframe\">\n",
       "  <thead>\n",
       "    <tr style=\"text-align: right;\">\n",
       "      <th></th>\n",
       "      <th>Price</th>\n",
       "      <th>Locality</th>\n",
       "      <th>Type_of_Property</th>\n",
       "      <th>Subtype_of_Property</th>\n",
       "      <th>State_of_the_Building</th>\n",
       "      <th>Number_of_Rooms</th>\n",
       "      <th>Living_Area</th>\n",
       "      <th>Fully_Equipped_Kitchen</th>\n",
       "      <th>Furnished</th>\n",
       "      <th>Open_fire</th>\n",
       "      <th>...</th>\n",
       "      <th>Garden</th>\n",
       "      <th>Garden_Area</th>\n",
       "      <th>Surface_of_the_Land</th>\n",
       "      <th>Surface_area_plot_of_land</th>\n",
       "      <th>Number_of_Facades</th>\n",
       "      <th>Swimming_Pool</th>\n",
       "      <th>Disabled_Access</th>\n",
       "      <th>Lift</th>\n",
       "      <th>province</th>\n",
       "      <th>Municipality</th>\n",
       "    </tr>\n",
       "  </thead>\n",
       "  <tbody>\n",
       "    <tr>\n",
       "      <th>0</th>\n",
       "      <td>475000.0</td>\n",
       "      <td>1800</td>\n",
       "      <td>APARTMENT</td>\n",
       "      <td>LOFT</td>\n",
       "      <td>NaN</td>\n",
       "      <td>3.0</td>\n",
       "      <td>400.0</td>\n",
       "      <td>False</td>\n",
       "      <td>NaN</td>\n",
       "      <td>NaN</td>\n",
       "      <td>...</td>\n",
       "      <td>NaN</td>\n",
       "      <td>NaN</td>\n",
       "      <td>NaN</td>\n",
       "      <td>NaN</td>\n",
       "      <td>NaN</td>\n",
       "      <td>NaN</td>\n",
       "      <td>NaN</td>\n",
       "      <td>NaN</td>\n",
       "      <td>Vlaams-Brabant</td>\n",
       "      <td>Vilvoorde</td>\n",
       "    </tr>\n",
       "    <tr>\n",
       "      <th>1</th>\n",
       "      <td>895000.0</td>\n",
       "      <td>2000</td>\n",
       "      <td>APARTMENT</td>\n",
       "      <td>DUPLEX</td>\n",
       "      <td>NaN</td>\n",
       "      <td>3.0</td>\n",
       "      <td>286.0</td>\n",
       "      <td>True</td>\n",
       "      <td>NaN</td>\n",
       "      <td>NaN</td>\n",
       "      <td>...</td>\n",
       "      <td>NaN</td>\n",
       "      <td>NaN</td>\n",
       "      <td>NaN</td>\n",
       "      <td>NaN</td>\n",
       "      <td>NaN</td>\n",
       "      <td>NaN</td>\n",
       "      <td>NaN</td>\n",
       "      <td>NaN</td>\n",
       "      <td>Antwerpen</td>\n",
       "      <td>Antwerpen</td>\n",
       "    </tr>\n",
       "    <tr>\n",
       "      <th>2</th>\n",
       "      <td>685000.0</td>\n",
       "      <td>1180</td>\n",
       "      <td>APARTMENT</td>\n",
       "      <td>PENTHOUSE</td>\n",
       "      <td>JUST_RENOVATED</td>\n",
       "      <td>2.0</td>\n",
       "      <td>127.0</td>\n",
       "      <td>False</td>\n",
       "      <td>NaN</td>\n",
       "      <td>NaN</td>\n",
       "      <td>...</td>\n",
       "      <td>NaN</td>\n",
       "      <td>NaN</td>\n",
       "      <td>NaN</td>\n",
       "      <td>NaN</td>\n",
       "      <td>4.0</td>\n",
       "      <td>0.0</td>\n",
       "      <td>0.0</td>\n",
       "      <td>1.0</td>\n",
       "      <td>Brussel</td>\n",
       "      <td>Ukkel</td>\n",
       "    </tr>\n",
       "    <tr>\n",
       "      <th>3</th>\n",
       "      <td>289000.0</td>\n",
       "      <td>8680</td>\n",
       "      <td>APARTMENT</td>\n",
       "      <td>APARTMENT</td>\n",
       "      <td>JUST_RENOVATED</td>\n",
       "      <td>3.0</td>\n",
       "      <td>120.0</td>\n",
       "      <td>False</td>\n",
       "      <td>NaN</td>\n",
       "      <td>NaN</td>\n",
       "      <td>...</td>\n",
       "      <td>NaN</td>\n",
       "      <td>NaN</td>\n",
       "      <td>NaN</td>\n",
       "      <td>NaN</td>\n",
       "      <td>NaN</td>\n",
       "      <td>NaN</td>\n",
       "      <td>NaN</td>\n",
       "      <td>1.0</td>\n",
       "      <td>West-Vlaanderen</td>\n",
       "      <td>Zande</td>\n",
       "    </tr>\n",
       "    <tr>\n",
       "      <th>4</th>\n",
       "      <td>NaN</td>\n",
       "      <td>8900</td>\n",
       "      <td>HOUSE_GROUP</td>\n",
       "      <td>HOUSE_GROUP</td>\n",
       "      <td>NaN</td>\n",
       "      <td>NaN</td>\n",
       "      <td>NaN</td>\n",
       "      <td>False</td>\n",
       "      <td>NaN</td>\n",
       "      <td>NaN</td>\n",
       "      <td>...</td>\n",
       "      <td>NaN</td>\n",
       "      <td>NaN</td>\n",
       "      <td>NaN</td>\n",
       "      <td>NaN</td>\n",
       "      <td>NaN</td>\n",
       "      <td>NaN</td>\n",
       "      <td>NaN</td>\n",
       "      <td>NaN</td>\n",
       "      <td>West-Vlaanderen</td>\n",
       "      <td>Sint-Jan</td>\n",
       "    </tr>\n",
       "    <tr>\n",
       "      <th>...</th>\n",
       "      <td>...</td>\n",
       "      <td>...</td>\n",
       "      <td>...</td>\n",
       "      <td>...</td>\n",
       "      <td>...</td>\n",
       "      <td>...</td>\n",
       "      <td>...</td>\n",
       "      <td>...</td>\n",
       "      <td>...</td>\n",
       "      <td>...</td>\n",
       "      <td>...</td>\n",
       "      <td>...</td>\n",
       "      <td>...</td>\n",
       "      <td>...</td>\n",
       "      <td>...</td>\n",
       "      <td>...</td>\n",
       "      <td>...</td>\n",
       "      <td>...</td>\n",
       "      <td>...</td>\n",
       "      <td>...</td>\n",
       "      <td>...</td>\n",
       "    </tr>\n",
       "    <tr>\n",
       "      <th>25876</th>\n",
       "      <td>295000.0</td>\n",
       "      <td>6747</td>\n",
       "      <td>HOUSE</td>\n",
       "      <td>MANSION</td>\n",
       "      <td>TO_RENOVATE</td>\n",
       "      <td>5.0</td>\n",
       "      <td>260.0</td>\n",
       "      <td>False</td>\n",
       "      <td>NaN</td>\n",
       "      <td>NaN</td>\n",
       "      <td>...</td>\n",
       "      <td>1.0</td>\n",
       "      <td>1600.0</td>\n",
       "      <td>1600.0</td>\n",
       "      <td>1809.0</td>\n",
       "      <td>4.0</td>\n",
       "      <td>NaN</td>\n",
       "      <td>NaN</td>\n",
       "      <td>NaN</td>\n",
       "      <td>Luxemburg</td>\n",
       "      <td>Saint-léger</td>\n",
       "    </tr>\n",
       "    <tr>\n",
       "      <th>25877</th>\n",
       "      <td>448000.0</td>\n",
       "      <td>9880</td>\n",
       "      <td>HOUSE</td>\n",
       "      <td>HOUSE</td>\n",
       "      <td>GOOD</td>\n",
       "      <td>4.0</td>\n",
       "      <td>169.0</td>\n",
       "      <td>False</td>\n",
       "      <td>NaN</td>\n",
       "      <td>NaN</td>\n",
       "      <td>...</td>\n",
       "      <td>NaN</td>\n",
       "      <td>NaN</td>\n",
       "      <td>NaN</td>\n",
       "      <td>770.0</td>\n",
       "      <td>NaN</td>\n",
       "      <td>NaN</td>\n",
       "      <td>NaN</td>\n",
       "      <td>NaN</td>\n",
       "      <td>Oost-Vlaanderen</td>\n",
       "      <td>Poeke</td>\n",
       "    </tr>\n",
       "    <tr>\n",
       "      <th>25878</th>\n",
       "      <td>350000.0</td>\n",
       "      <td>1070</td>\n",
       "      <td>APARTMENT</td>\n",
       "      <td>APARTMENT</td>\n",
       "      <td>NaN</td>\n",
       "      <td>1.0</td>\n",
       "      <td>140.0</td>\n",
       "      <td>False</td>\n",
       "      <td>NaN</td>\n",
       "      <td>1.0</td>\n",
       "      <td>...</td>\n",
       "      <td>NaN</td>\n",
       "      <td>NaN</td>\n",
       "      <td>NaN</td>\n",
       "      <td>NaN</td>\n",
       "      <td>2.0</td>\n",
       "      <td>NaN</td>\n",
       "      <td>NaN</td>\n",
       "      <td>1.0</td>\n",
       "      <td>Brussel</td>\n",
       "      <td>Anderlecht</td>\n",
       "    </tr>\n",
       "    <tr>\n",
       "      <th>25879</th>\n",
       "      <td>225000.0</td>\n",
       "      <td>7700</td>\n",
       "      <td>APARTMENT</td>\n",
       "      <td>APARTMENT</td>\n",
       "      <td>GOOD</td>\n",
       "      <td>3.0</td>\n",
       "      <td>112.0</td>\n",
       "      <td>False</td>\n",
       "      <td>0.0</td>\n",
       "      <td>NaN</td>\n",
       "      <td>...</td>\n",
       "      <td>NaN</td>\n",
       "      <td>NaN</td>\n",
       "      <td>NaN</td>\n",
       "      <td>NaN</td>\n",
       "      <td>2.0</td>\n",
       "      <td>0.0</td>\n",
       "      <td>0.0</td>\n",
       "      <td>0.0</td>\n",
       "      <td>Henegouwen</td>\n",
       "      <td>Moeskroen</td>\n",
       "    </tr>\n",
       "    <tr>\n",
       "      <th>25880</th>\n",
       "      <td>300000.0</td>\n",
       "      <td>8430</td>\n",
       "      <td>APARTMENT</td>\n",
       "      <td>APARTMENT</td>\n",
       "      <td>NaN</td>\n",
       "      <td>1.0</td>\n",
       "      <td>65.0</td>\n",
       "      <td>False</td>\n",
       "      <td>1.0</td>\n",
       "      <td>NaN</td>\n",
       "      <td>...</td>\n",
       "      <td>NaN</td>\n",
       "      <td>NaN</td>\n",
       "      <td>NaN</td>\n",
       "      <td>NaN</td>\n",
       "      <td>2.0</td>\n",
       "      <td>NaN</td>\n",
       "      <td>NaN</td>\n",
       "      <td>1.0</td>\n",
       "      <td>West-Vlaanderen</td>\n",
       "      <td>Middelkerke</td>\n",
       "    </tr>\n",
       "  </tbody>\n",
       "</table>\n",
       "<p>25881 rows × 22 columns</p>\n",
       "</div>"
      ],
      "text/plain": [
       "          Price Locality Type_of_Property Subtype_of_Property  \\\n",
       "0      475000.0     1800        APARTMENT                LOFT   \n",
       "1      895000.0     2000        APARTMENT              DUPLEX   \n",
       "2      685000.0     1180        APARTMENT           PENTHOUSE   \n",
       "3      289000.0     8680        APARTMENT           APARTMENT   \n",
       "4           NaN     8900      HOUSE_GROUP         HOUSE_GROUP   \n",
       "...         ...      ...              ...                 ...   \n",
       "25876  295000.0     6747            HOUSE             MANSION   \n",
       "25877  448000.0     9880            HOUSE               HOUSE   \n",
       "25878  350000.0     1070        APARTMENT           APARTMENT   \n",
       "25879  225000.0     7700        APARTMENT           APARTMENT   \n",
       "25880  300000.0     8430        APARTMENT           APARTMENT   \n",
       "\n",
       "      State_of_the_Building  Number_of_Rooms  Living_Area  \\\n",
       "0                       NaN              3.0        400.0   \n",
       "1                       NaN              3.0        286.0   \n",
       "2            JUST_RENOVATED              2.0        127.0   \n",
       "3            JUST_RENOVATED              3.0        120.0   \n",
       "4                       NaN              NaN          NaN   \n",
       "...                     ...              ...          ...   \n",
       "25876           TO_RENOVATE              5.0        260.0   \n",
       "25877                  GOOD              4.0        169.0   \n",
       "25878                   NaN              1.0        140.0   \n",
       "25879                  GOOD              3.0        112.0   \n",
       "25880                   NaN              1.0         65.0   \n",
       "\n",
       "       Fully_Equipped_Kitchen  Furnished  Open_fire  ...  Garden  Garden_Area  \\\n",
       "0                       False        NaN        NaN  ...     NaN          NaN   \n",
       "1                        True        NaN        NaN  ...     NaN          NaN   \n",
       "2                       False        NaN        NaN  ...     NaN          NaN   \n",
       "3                       False        NaN        NaN  ...     NaN          NaN   \n",
       "4                       False        NaN        NaN  ...     NaN          NaN   \n",
       "...                       ...        ...        ...  ...     ...          ...   \n",
       "25876                   False        NaN        NaN  ...     1.0       1600.0   \n",
       "25877                   False        NaN        NaN  ...     NaN          NaN   \n",
       "25878                   False        NaN        1.0  ...     NaN          NaN   \n",
       "25879                   False        0.0        NaN  ...     NaN          NaN   \n",
       "25880                   False        1.0        NaN  ...     NaN          NaN   \n",
       "\n",
       "       Surface_of_the_Land  Surface_area_plot_of_land  Number_of_Facades  \\\n",
       "0                      NaN                        NaN                NaN   \n",
       "1                      NaN                        NaN                NaN   \n",
       "2                      NaN                        NaN                4.0   \n",
       "3                      NaN                        NaN                NaN   \n",
       "4                      NaN                        NaN                NaN   \n",
       "...                    ...                        ...                ...   \n",
       "25876               1600.0                     1809.0                4.0   \n",
       "25877                  NaN                      770.0                NaN   \n",
       "25878                  NaN                        NaN                2.0   \n",
       "25879                  NaN                        NaN                2.0   \n",
       "25880                  NaN                        NaN                2.0   \n",
       "\n",
       "       Swimming_Pool  Disabled_Access  Lift         province  Municipality  \n",
       "0                NaN              NaN   NaN   Vlaams-Brabant     Vilvoorde  \n",
       "1                NaN              NaN   NaN        Antwerpen     Antwerpen  \n",
       "2                0.0              0.0   1.0          Brussel         Ukkel  \n",
       "3                NaN              NaN   1.0  West-Vlaanderen         Zande  \n",
       "4                NaN              NaN   NaN  West-Vlaanderen      Sint-Jan  \n",
       "...              ...              ...   ...              ...           ...  \n",
       "25876            NaN              NaN   NaN        Luxemburg   Saint-léger  \n",
       "25877            NaN              NaN   NaN  Oost-Vlaanderen         Poeke  \n",
       "25878            NaN              NaN   1.0          Brussel    Anderlecht  \n",
       "25879            0.0              0.0   0.0       Henegouwen     Moeskroen  \n",
       "25880            NaN              NaN   1.0  West-Vlaanderen   Middelkerke  \n",
       "\n",
       "[25881 rows x 22 columns]"
      ]
     },
     "execution_count": 76,
     "metadata": {},
     "output_type": "execute_result"
    }
   ],
   "source": [
    "# postcodes should be deleted\n",
    "import pandas as pd\n",
    "from IPython.core.interactiveshell import InteractiveShell\n",
    "# import missingno as msno\n",
    "df = pd.read_csv(\"immoweb_data_final.csv\")\n",
    "df"
   ]
  },
  {
   "cell_type": "code",
   "execution_count": 77,
   "metadata": {},
   "outputs": [
    {
     "data": {
      "text/plain": [
       "(25881, 22)"
      ]
     },
     "execution_count": 77,
     "metadata": {},
     "output_type": "execute_result"
    }
   ],
   "source": [
    "df.shape"
   ]
  },
  {
   "cell_type": "code",
   "execution_count": 78,
   "metadata": {},
   "outputs": [
    {
     "data": {
      "text/plain": [
       "dtype('float64')"
      ]
     },
     "execution_count": 78,
     "metadata": {},
     "output_type": "execute_result"
    }
   ],
   "source": [
    "df.Price.dtypes"
   ]
  },
  {
   "cell_type": "code",
   "execution_count": 79,
   "metadata": {},
   "outputs": [
    {
     "data": {
      "text/plain": [
       "Price                        float64\n",
       "Locality                      object\n",
       "Type_of_Property              object\n",
       "Subtype_of_Property           object\n",
       "State_of_the_Building         object\n",
       "Number_of_Rooms              float64\n",
       "Living_Area                  float64\n",
       "Fully_Equipped_Kitchen          bool\n",
       "Furnished                    float64\n",
       "Open_fire                    float64\n",
       "Terrace                      float64\n",
       "Terrace_Area                 float64\n",
       "Garden                       float64\n",
       "Garden_Area                  float64\n",
       "Surface_of_the_Land          float64\n",
       "Surface_area_plot_of_land    float64\n",
       "Number_of_Facades            float64\n",
       "Swimming_Pool                float64\n",
       "Disabled_Access              float64\n",
       "Lift                         float64\n",
       "province                      object\n",
       "Municipality                  object\n",
       "dtype: object"
      ]
     },
     "execution_count": 79,
     "metadata": {},
     "output_type": "execute_result"
    }
   ],
   "source": [
    "df.dtypes"
   ]
  },
  {
   "cell_type": "code",
   "execution_count": 80,
   "metadata": {},
   "outputs": [],
   "source": [
    "# Drop the duplicated rows\n",
    "df.drop_duplicates(inplace=True)"
   ]
  },
  {
   "cell_type": "code",
   "execution_count": 81,
   "metadata": {},
   "outputs": [
    {
     "data": {
      "text/plain": [
       "(24039, 22)"
      ]
     },
     "execution_count": 81,
     "metadata": {},
     "output_type": "execute_result"
    }
   ],
   "source": [
    "df.shape"
   ]
  },
  {
   "cell_type": "code",
   "execution_count": 82,
   "metadata": {},
   "outputs": [
    {
     "data": {
      "text/html": [
       "<div>\n",
       "<style scoped>\n",
       "    .dataframe tbody tr th:only-of-type {\n",
       "        vertical-align: middle;\n",
       "    }\n",
       "\n",
       "    .dataframe tbody tr th {\n",
       "        vertical-align: top;\n",
       "    }\n",
       "\n",
       "    .dataframe thead th {\n",
       "        text-align: right;\n",
       "    }\n",
       "</style>\n",
       "<table border=\"1\" class=\"dataframe\">\n",
       "  <thead>\n",
       "    <tr style=\"text-align: right;\">\n",
       "      <th></th>\n",
       "      <th>Price</th>\n",
       "      <th>Postal_code</th>\n",
       "      <th>Type_of_Property</th>\n",
       "      <th>Subtype_of_Property</th>\n",
       "      <th>State_of_the_Building</th>\n",
       "      <th>Number_of_Rooms</th>\n",
       "      <th>Living_Area</th>\n",
       "      <th>Fully_Equipped_Kitchen</th>\n",
       "      <th>Furnished</th>\n",
       "      <th>Open_fire</th>\n",
       "      <th>...</th>\n",
       "      <th>Garden</th>\n",
       "      <th>Garden_Area</th>\n",
       "      <th>Surface_of_the_Land</th>\n",
       "      <th>Surface_area_plot_of_land</th>\n",
       "      <th>Number_of_Facades</th>\n",
       "      <th>Swimming_Pool</th>\n",
       "      <th>Disabled_Access</th>\n",
       "      <th>Lift</th>\n",
       "      <th>Province</th>\n",
       "      <th>Municipality</th>\n",
       "    </tr>\n",
       "  </thead>\n",
       "  <tbody>\n",
       "    <tr>\n",
       "      <th>0</th>\n",
       "      <td>475000.0</td>\n",
       "      <td>1800</td>\n",
       "      <td>APARTMENT</td>\n",
       "      <td>LOFT</td>\n",
       "      <td>NaN</td>\n",
       "      <td>3.0</td>\n",
       "      <td>400.0</td>\n",
       "      <td>False</td>\n",
       "      <td>NaN</td>\n",
       "      <td>NaN</td>\n",
       "      <td>...</td>\n",
       "      <td>NaN</td>\n",
       "      <td>NaN</td>\n",
       "      <td>NaN</td>\n",
       "      <td>NaN</td>\n",
       "      <td>NaN</td>\n",
       "      <td>NaN</td>\n",
       "      <td>NaN</td>\n",
       "      <td>NaN</td>\n",
       "      <td>Vlaams-Brabant</td>\n",
       "      <td>Vilvoorde</td>\n",
       "    </tr>\n",
       "    <tr>\n",
       "      <th>1</th>\n",
       "      <td>895000.0</td>\n",
       "      <td>2000</td>\n",
       "      <td>APARTMENT</td>\n",
       "      <td>DUPLEX</td>\n",
       "      <td>NaN</td>\n",
       "      <td>3.0</td>\n",
       "      <td>286.0</td>\n",
       "      <td>True</td>\n",
       "      <td>NaN</td>\n",
       "      <td>NaN</td>\n",
       "      <td>...</td>\n",
       "      <td>NaN</td>\n",
       "      <td>NaN</td>\n",
       "      <td>NaN</td>\n",
       "      <td>NaN</td>\n",
       "      <td>NaN</td>\n",
       "      <td>NaN</td>\n",
       "      <td>NaN</td>\n",
       "      <td>NaN</td>\n",
       "      <td>Antwerpen</td>\n",
       "      <td>Antwerpen</td>\n",
       "    </tr>\n",
       "    <tr>\n",
       "      <th>2</th>\n",
       "      <td>685000.0</td>\n",
       "      <td>1180</td>\n",
       "      <td>APARTMENT</td>\n",
       "      <td>PENTHOUSE</td>\n",
       "      <td>JUST_RENOVATED</td>\n",
       "      <td>2.0</td>\n",
       "      <td>127.0</td>\n",
       "      <td>False</td>\n",
       "      <td>NaN</td>\n",
       "      <td>NaN</td>\n",
       "      <td>...</td>\n",
       "      <td>NaN</td>\n",
       "      <td>NaN</td>\n",
       "      <td>NaN</td>\n",
       "      <td>NaN</td>\n",
       "      <td>4.0</td>\n",
       "      <td>0.0</td>\n",
       "      <td>0.0</td>\n",
       "      <td>1.0</td>\n",
       "      <td>Brussel</td>\n",
       "      <td>Ukkel</td>\n",
       "    </tr>\n",
       "  </tbody>\n",
       "</table>\n",
       "<p>3 rows × 22 columns</p>\n",
       "</div>"
      ],
      "text/plain": [
       "      Price Postal_code Type_of_Property Subtype_of_Property  \\\n",
       "0  475000.0        1800        APARTMENT                LOFT   \n",
       "1  895000.0        2000        APARTMENT              DUPLEX   \n",
       "2  685000.0        1180        APARTMENT           PENTHOUSE   \n",
       "\n",
       "  State_of_the_Building  Number_of_Rooms  Living_Area  Fully_Equipped_Kitchen  \\\n",
       "0                   NaN              3.0        400.0                   False   \n",
       "1                   NaN              3.0        286.0                    True   \n",
       "2        JUST_RENOVATED              2.0        127.0                   False   \n",
       "\n",
       "   Furnished  Open_fire  ...  Garden  Garden_Area  Surface_of_the_Land  \\\n",
       "0        NaN        NaN  ...     NaN          NaN                  NaN   \n",
       "1        NaN        NaN  ...     NaN          NaN                  NaN   \n",
       "2        NaN        NaN  ...     NaN          NaN                  NaN   \n",
       "\n",
       "   Surface_area_plot_of_land  Number_of_Facades  Swimming_Pool  \\\n",
       "0                        NaN                NaN            NaN   \n",
       "1                        NaN                NaN            NaN   \n",
       "2                        NaN                4.0            0.0   \n",
       "\n",
       "   Disabled_Access  Lift        Province  Municipality  \n",
       "0              NaN   NaN  Vlaams-Brabant     Vilvoorde  \n",
       "1              NaN   NaN       Antwerpen     Antwerpen  \n",
       "2              0.0   1.0         Brussel         Ukkel  \n",
       "\n",
       "[3 rows x 22 columns]"
      ]
     },
     "execution_count": 82,
     "metadata": {},
     "output_type": "execute_result"
    }
   ],
   "source": [
    "df.rename(columns={'province' :'Province'},inplace=True)\n",
    "df.rename(columns={'Locality' :'Postal_code'},inplace=True)\n",
    "df.head(3)"
   ]
  },
  {
   "cell_type": "code",
   "execution_count": 83,
   "metadata": {},
   "outputs": [
    {
     "data": {
      "text/html": [
       "<div>\n",
       "<style scoped>\n",
       "    .dataframe tbody tr th:only-of-type {\n",
       "        vertical-align: middle;\n",
       "    }\n",
       "\n",
       "    .dataframe tbody tr th {\n",
       "        vertical-align: top;\n",
       "    }\n",
       "\n",
       "    .dataframe thead th {\n",
       "        text-align: right;\n",
       "    }\n",
       "</style>\n",
       "<table border=\"1\" class=\"dataframe\">\n",
       "  <thead>\n",
       "    <tr style=\"text-align: right;\">\n",
       "      <th></th>\n",
       "      <th>Price</th>\n",
       "      <th>Postal_code</th>\n",
       "      <th>Province</th>\n",
       "      <th>Type_of_Property</th>\n",
       "      <th>Subtype_of_Property</th>\n",
       "      <th>State_of_the_Building</th>\n",
       "      <th>Number_of_Rooms</th>\n",
       "      <th>Living_Area</th>\n",
       "      <th>Fully_Equipped_Kitchen</th>\n",
       "      <th>Furnished</th>\n",
       "      <th>...</th>\n",
       "      <th>Terrace_Area</th>\n",
       "      <th>Garden</th>\n",
       "      <th>Garden_Area</th>\n",
       "      <th>Surface_of_the_Land</th>\n",
       "      <th>Surface_area_plot_of_land</th>\n",
       "      <th>Number_of_Facades</th>\n",
       "      <th>Swimming_Pool</th>\n",
       "      <th>Disabled_Access</th>\n",
       "      <th>Lift</th>\n",
       "      <th>Municipality</th>\n",
       "    </tr>\n",
       "  </thead>\n",
       "  <tbody>\n",
       "    <tr>\n",
       "      <th>0</th>\n",
       "      <td>475000.0</td>\n",
       "      <td>1800</td>\n",
       "      <td>Vlaams-Brabant</td>\n",
       "      <td>APARTMENT</td>\n",
       "      <td>LOFT</td>\n",
       "      <td>NaN</td>\n",
       "      <td>3.0</td>\n",
       "      <td>400.0</td>\n",
       "      <td>False</td>\n",
       "      <td>NaN</td>\n",
       "      <td>...</td>\n",
       "      <td>NaN</td>\n",
       "      <td>NaN</td>\n",
       "      <td>NaN</td>\n",
       "      <td>NaN</td>\n",
       "      <td>NaN</td>\n",
       "      <td>NaN</td>\n",
       "      <td>NaN</td>\n",
       "      <td>NaN</td>\n",
       "      <td>NaN</td>\n",
       "      <td>Vilvoorde</td>\n",
       "    </tr>\n",
       "    <tr>\n",
       "      <th>1</th>\n",
       "      <td>895000.0</td>\n",
       "      <td>2000</td>\n",
       "      <td>Antwerpen</td>\n",
       "      <td>APARTMENT</td>\n",
       "      <td>DUPLEX</td>\n",
       "      <td>NaN</td>\n",
       "      <td>3.0</td>\n",
       "      <td>286.0</td>\n",
       "      <td>True</td>\n",
       "      <td>NaN</td>\n",
       "      <td>...</td>\n",
       "      <td>30.0</td>\n",
       "      <td>NaN</td>\n",
       "      <td>NaN</td>\n",
       "      <td>NaN</td>\n",
       "      <td>NaN</td>\n",
       "      <td>NaN</td>\n",
       "      <td>NaN</td>\n",
       "      <td>NaN</td>\n",
       "      <td>NaN</td>\n",
       "      <td>Antwerpen</td>\n",
       "    </tr>\n",
       "    <tr>\n",
       "      <th>2</th>\n",
       "      <td>685000.0</td>\n",
       "      <td>1180</td>\n",
       "      <td>Brussel</td>\n",
       "      <td>APARTMENT</td>\n",
       "      <td>PENTHOUSE</td>\n",
       "      <td>JUST_RENOVATED</td>\n",
       "      <td>2.0</td>\n",
       "      <td>127.0</td>\n",
       "      <td>False</td>\n",
       "      <td>NaN</td>\n",
       "      <td>...</td>\n",
       "      <td>55.0</td>\n",
       "      <td>NaN</td>\n",
       "      <td>NaN</td>\n",
       "      <td>NaN</td>\n",
       "      <td>NaN</td>\n",
       "      <td>4.0</td>\n",
       "      <td>0.0</td>\n",
       "      <td>0.0</td>\n",
       "      <td>1.0</td>\n",
       "      <td>Ukkel</td>\n",
       "    </tr>\n",
       "  </tbody>\n",
       "</table>\n",
       "<p>3 rows × 22 columns</p>\n",
       "</div>"
      ],
      "text/plain": [
       "      Price Postal_code        Province Type_of_Property Subtype_of_Property  \\\n",
       "0  475000.0        1800  Vlaams-Brabant        APARTMENT                LOFT   \n",
       "1  895000.0        2000       Antwerpen        APARTMENT              DUPLEX   \n",
       "2  685000.0        1180         Brussel        APARTMENT           PENTHOUSE   \n",
       "\n",
       "  State_of_the_Building  Number_of_Rooms  Living_Area  Fully_Equipped_Kitchen  \\\n",
       "0                   NaN              3.0        400.0                   False   \n",
       "1                   NaN              3.0        286.0                    True   \n",
       "2        JUST_RENOVATED              2.0        127.0                   False   \n",
       "\n",
       "   Furnished  ...  Terrace_Area  Garden  Garden_Area  Surface_of_the_Land  \\\n",
       "0        NaN  ...           NaN     NaN          NaN                  NaN   \n",
       "1        NaN  ...          30.0     NaN          NaN                  NaN   \n",
       "2        NaN  ...          55.0     NaN          NaN                  NaN   \n",
       "\n",
       "   Surface_area_plot_of_land  Number_of_Facades  Swimming_Pool  \\\n",
       "0                        NaN                NaN            NaN   \n",
       "1                        NaN                NaN            NaN   \n",
       "2                        NaN                4.0            0.0   \n",
       "\n",
       "   Disabled_Access  Lift  Municipality  \n",
       "0              NaN   NaN     Vilvoorde  \n",
       "1              NaN   NaN     Antwerpen  \n",
       "2              0.0   1.0         Ukkel  \n",
       "\n",
       "[3 rows x 22 columns]"
      ]
     },
     "execution_count": 83,
     "metadata": {},
     "output_type": "execute_result"
    }
   ],
   "source": [
    "# Move column: 'Province' next to 'Postal_code'\n",
    "third_col = df.pop(\"Province\")\n",
    "\n",
    "df.insert(2, \"Province\", third_col)\n",
    "df.head(3)"
   ]
  },
  {
   "cell_type": "code",
   "execution_count": 84,
   "metadata": {},
   "outputs": [
    {
     "data": {
      "text/html": [
       "<div>\n",
       "<style scoped>\n",
       "    .dataframe tbody tr th:only-of-type {\n",
       "        vertical-align: middle;\n",
       "    }\n",
       "\n",
       "    .dataframe tbody tr th {\n",
       "        vertical-align: top;\n",
       "    }\n",
       "\n",
       "    .dataframe thead th {\n",
       "        text-align: right;\n",
       "    }\n",
       "</style>\n",
       "<table border=\"1\" class=\"dataframe\">\n",
       "  <thead>\n",
       "    <tr style=\"text-align: right;\">\n",
       "      <th></th>\n",
       "      <th>Price</th>\n",
       "      <th>Postal_code</th>\n",
       "      <th>Province</th>\n",
       "      <th>Municipality</th>\n",
       "      <th>Type_of_Property</th>\n",
       "      <th>Subtype_of_Property</th>\n",
       "      <th>State_of_the_Building</th>\n",
       "      <th>Number_of_Rooms</th>\n",
       "      <th>Living_Area</th>\n",
       "      <th>Fully_Equipped_Kitchen</th>\n",
       "      <th>...</th>\n",
       "      <th>Terrace</th>\n",
       "      <th>Terrace_Area</th>\n",
       "      <th>Garden</th>\n",
       "      <th>Garden_Area</th>\n",
       "      <th>Surface_of_the_Land</th>\n",
       "      <th>Surface_area_plot_of_land</th>\n",
       "      <th>Number_of_Facades</th>\n",
       "      <th>Swimming_Pool</th>\n",
       "      <th>Disabled_Access</th>\n",
       "      <th>Lift</th>\n",
       "    </tr>\n",
       "  </thead>\n",
       "  <tbody>\n",
       "    <tr>\n",
       "      <th>0</th>\n",
       "      <td>475000.0</td>\n",
       "      <td>1800</td>\n",
       "      <td>Vlaams-Brabant</td>\n",
       "      <td>Vilvoorde</td>\n",
       "      <td>APARTMENT</td>\n",
       "      <td>LOFT</td>\n",
       "      <td>NaN</td>\n",
       "      <td>3.0</td>\n",
       "      <td>400.0</td>\n",
       "      <td>False</td>\n",
       "      <td>...</td>\n",
       "      <td>NaN</td>\n",
       "      <td>NaN</td>\n",
       "      <td>NaN</td>\n",
       "      <td>NaN</td>\n",
       "      <td>NaN</td>\n",
       "      <td>NaN</td>\n",
       "      <td>NaN</td>\n",
       "      <td>NaN</td>\n",
       "      <td>NaN</td>\n",
       "      <td>NaN</td>\n",
       "    </tr>\n",
       "    <tr>\n",
       "      <th>1</th>\n",
       "      <td>895000.0</td>\n",
       "      <td>2000</td>\n",
       "      <td>Antwerpen</td>\n",
       "      <td>Antwerpen</td>\n",
       "      <td>APARTMENT</td>\n",
       "      <td>DUPLEX</td>\n",
       "      <td>NaN</td>\n",
       "      <td>3.0</td>\n",
       "      <td>286.0</td>\n",
       "      <td>True</td>\n",
       "      <td>...</td>\n",
       "      <td>1.0</td>\n",
       "      <td>30.0</td>\n",
       "      <td>NaN</td>\n",
       "      <td>NaN</td>\n",
       "      <td>NaN</td>\n",
       "      <td>NaN</td>\n",
       "      <td>NaN</td>\n",
       "      <td>NaN</td>\n",
       "      <td>NaN</td>\n",
       "      <td>NaN</td>\n",
       "    </tr>\n",
       "    <tr>\n",
       "      <th>2</th>\n",
       "      <td>685000.0</td>\n",
       "      <td>1180</td>\n",
       "      <td>Brussel</td>\n",
       "      <td>Ukkel</td>\n",
       "      <td>APARTMENT</td>\n",
       "      <td>PENTHOUSE</td>\n",
       "      <td>JUST_RENOVATED</td>\n",
       "      <td>2.0</td>\n",
       "      <td>127.0</td>\n",
       "      <td>False</td>\n",
       "      <td>...</td>\n",
       "      <td>1.0</td>\n",
       "      <td>55.0</td>\n",
       "      <td>NaN</td>\n",
       "      <td>NaN</td>\n",
       "      <td>NaN</td>\n",
       "      <td>NaN</td>\n",
       "      <td>4.0</td>\n",
       "      <td>0.0</td>\n",
       "      <td>0.0</td>\n",
       "      <td>1.0</td>\n",
       "    </tr>\n",
       "  </tbody>\n",
       "</table>\n",
       "<p>3 rows × 22 columns</p>\n",
       "</div>"
      ],
      "text/plain": [
       "      Price Postal_code        Province Municipality Type_of_Property  \\\n",
       "0  475000.0        1800  Vlaams-Brabant    Vilvoorde        APARTMENT   \n",
       "1  895000.0        2000       Antwerpen    Antwerpen        APARTMENT   \n",
       "2  685000.0        1180         Brussel        Ukkel        APARTMENT   \n",
       "\n",
       "  Subtype_of_Property State_of_the_Building  Number_of_Rooms  Living_Area  \\\n",
       "0                LOFT                   NaN              3.0        400.0   \n",
       "1              DUPLEX                   NaN              3.0        286.0   \n",
       "2           PENTHOUSE        JUST_RENOVATED              2.0        127.0   \n",
       "\n",
       "   Fully_Equipped_Kitchen  ...  Terrace  Terrace_Area  Garden  Garden_Area  \\\n",
       "0                   False  ...      NaN           NaN     NaN          NaN   \n",
       "1                    True  ...      1.0          30.0     NaN          NaN   \n",
       "2                   False  ...      1.0          55.0     NaN          NaN   \n",
       "\n",
       "   Surface_of_the_Land  Surface_area_plot_of_land  Number_of_Facades  \\\n",
       "0                  NaN                        NaN                NaN   \n",
       "1                  NaN                        NaN                NaN   \n",
       "2                  NaN                        NaN                4.0   \n",
       "\n",
       "   Swimming_Pool  Disabled_Access  Lift  \n",
       "0            NaN              NaN   NaN  \n",
       "1            NaN              NaN   NaN  \n",
       "2            0.0              0.0   1.0  \n",
       "\n",
       "[3 rows x 22 columns]"
      ]
     },
     "execution_count": 84,
     "metadata": {},
     "output_type": "execute_result"
    }
   ],
   "source": [
    "# Move column: 'Province' next to 'Postal_code'\n",
    "fourth_col = df.pop(\"Municipality\")\n",
    "\n",
    "df.insert(3, \"Municipality\", fourth_col)\n",
    "df.head(3)"
   ]
  },
  {
   "cell_type": "code",
   "execution_count": 85,
   "metadata": {},
   "outputs": [
    {
     "data": {
      "text/html": [
       "<div>\n",
       "<style scoped>\n",
       "    .dataframe tbody tr th:only-of-type {\n",
       "        vertical-align: middle;\n",
       "    }\n",
       "\n",
       "    .dataframe tbody tr th {\n",
       "        vertical-align: top;\n",
       "    }\n",
       "\n",
       "    .dataframe thead th {\n",
       "        text-align: right;\n",
       "    }\n",
       "</style>\n",
       "<table border=\"1\" class=\"dataframe\">\n",
       "  <thead>\n",
       "    <tr style=\"text-align: right;\">\n",
       "      <th></th>\n",
       "      <th>Postal_code</th>\n",
       "      <th>Province</th>\n",
       "      <th>Municipality</th>\n",
       "      <th>Type_of_Property</th>\n",
       "      <th>Subtype_of_Property</th>\n",
       "      <th>State_of_the_Building</th>\n",
       "    </tr>\n",
       "  </thead>\n",
       "  <tbody>\n",
       "    <tr>\n",
       "      <th>count</th>\n",
       "      <td>24039</td>\n",
       "      <td>24039</td>\n",
       "      <td>24039</td>\n",
       "      <td>24039</td>\n",
       "      <td>24039</td>\n",
       "      <td>19862</td>\n",
       "    </tr>\n",
       "    <tr>\n",
       "      <th>unique</th>\n",
       "      <td>1005</td>\n",
       "      <td>12</td>\n",
       "      <td>952</td>\n",
       "      <td>4</td>\n",
       "      <td>25</td>\n",
       "      <td>6</td>\n",
       "    </tr>\n",
       "    <tr>\n",
       "      <th>top</th>\n",
       "      <td>8300</td>\n",
       "      <td>West-Vlaanderen</td>\n",
       "      <td>Westkapelle</td>\n",
       "      <td>HOUSE</td>\n",
       "      <td>HOUSE</td>\n",
       "      <td>GOOD</td>\n",
       "    </tr>\n",
       "    <tr>\n",
       "      <th>freq</th>\n",
       "      <td>945</td>\n",
       "      <td>4621</td>\n",
       "      <td>945</td>\n",
       "      <td>12751</td>\n",
       "      <td>9493</td>\n",
       "      <td>9117</td>\n",
       "    </tr>\n",
       "  </tbody>\n",
       "</table>\n",
       "</div>"
      ],
      "text/plain": [
       "       Postal_code         Province Municipality Type_of_Property  \\\n",
       "count        24039            24039        24039            24039   \n",
       "unique        1005               12          952                4   \n",
       "top           8300  West-Vlaanderen  Westkapelle            HOUSE   \n",
       "freq           945             4621          945            12751   \n",
       "\n",
       "       Subtype_of_Property State_of_the_Building  \n",
       "count                24039                 19862  \n",
       "unique                  25                     6  \n",
       "top                  HOUSE                  GOOD  \n",
       "freq                  9493                  9117  "
      ]
     },
     "execution_count": 85,
     "metadata": {},
     "output_type": "execute_result"
    },
    {
     "data": {
      "text/html": [
       "<div>\n",
       "<style scoped>\n",
       "    .dataframe tbody tr th:only-of-type {\n",
       "        vertical-align: middle;\n",
       "    }\n",
       "\n",
       "    .dataframe tbody tr th {\n",
       "        vertical-align: top;\n",
       "    }\n",
       "\n",
       "    .dataframe thead th {\n",
       "        text-align: right;\n",
       "    }\n",
       "</style>\n",
       "<table border=\"1\" class=\"dataframe\">\n",
       "  <thead>\n",
       "    <tr style=\"text-align: right;\">\n",
       "      <th></th>\n",
       "      <th>Price</th>\n",
       "      <th>Postal_code</th>\n",
       "      <th>Province</th>\n",
       "      <th>Municipality</th>\n",
       "      <th>Type_of_Property</th>\n",
       "      <th>Subtype_of_Property</th>\n",
       "      <th>State_of_the_Building</th>\n",
       "      <th>Number_of_Rooms</th>\n",
       "      <th>Living_Area</th>\n",
       "      <th>Fully_Equipped_Kitchen</th>\n",
       "      <th>Open_fire</th>\n",
       "      <th>Terrace</th>\n",
       "      <th>Terrace_Area</th>\n",
       "      <th>Garden</th>\n",
       "      <th>Garden_Area</th>\n",
       "      <th>Surface_of_the_Land</th>\n",
       "      <th>Number_of_Facades</th>\n",
       "      <th>Swimming_Pool</th>\n",
       "      <th>Disabled_Access</th>\n",
       "      <th>Lift</th>\n",
       "    </tr>\n",
       "  </thead>\n",
       "  <tbody>\n",
       "    <tr>\n",
       "      <th>0</th>\n",
       "      <td>475000.0</td>\n",
       "      <td>1800</td>\n",
       "      <td>Vlaams-Brabant</td>\n",
       "      <td>Vilvoorde</td>\n",
       "      <td>APARTMENT</td>\n",
       "      <td>LOFT</td>\n",
       "      <td>NaN</td>\n",
       "      <td>3.0</td>\n",
       "      <td>400.0</td>\n",
       "      <td>False</td>\n",
       "      <td>NaN</td>\n",
       "      <td>NaN</td>\n",
       "      <td>NaN</td>\n",
       "      <td>NaN</td>\n",
       "      <td>NaN</td>\n",
       "      <td>NaN</td>\n",
       "      <td>NaN</td>\n",
       "      <td>NaN</td>\n",
       "      <td>NaN</td>\n",
       "      <td>NaN</td>\n",
       "    </tr>\n",
       "    <tr>\n",
       "      <th>1</th>\n",
       "      <td>895000.0</td>\n",
       "      <td>2000</td>\n",
       "      <td>Antwerpen</td>\n",
       "      <td>Antwerpen</td>\n",
       "      <td>APARTMENT</td>\n",
       "      <td>DUPLEX</td>\n",
       "      <td>NaN</td>\n",
       "      <td>3.0</td>\n",
       "      <td>286.0</td>\n",
       "      <td>True</td>\n",
       "      <td>NaN</td>\n",
       "      <td>1.0</td>\n",
       "      <td>30.0</td>\n",
       "      <td>NaN</td>\n",
       "      <td>NaN</td>\n",
       "      <td>NaN</td>\n",
       "      <td>NaN</td>\n",
       "      <td>NaN</td>\n",
       "      <td>NaN</td>\n",
       "      <td>NaN</td>\n",
       "    </tr>\n",
       "    <tr>\n",
       "      <th>2</th>\n",
       "      <td>685000.0</td>\n",
       "      <td>1180</td>\n",
       "      <td>Brussel</td>\n",
       "      <td>Ukkel</td>\n",
       "      <td>APARTMENT</td>\n",
       "      <td>PENTHOUSE</td>\n",
       "      <td>JUST_RENOVATED</td>\n",
       "      <td>2.0</td>\n",
       "      <td>127.0</td>\n",
       "      <td>False</td>\n",
       "      <td>NaN</td>\n",
       "      <td>1.0</td>\n",
       "      <td>55.0</td>\n",
       "      <td>NaN</td>\n",
       "      <td>NaN</td>\n",
       "      <td>NaN</td>\n",
       "      <td>4.0</td>\n",
       "      <td>0.0</td>\n",
       "      <td>0.0</td>\n",
       "      <td>1.0</td>\n",
       "    </tr>\n",
       "    <tr>\n",
       "      <th>3</th>\n",
       "      <td>289000.0</td>\n",
       "      <td>8680</td>\n",
       "      <td>West-Vlaanderen</td>\n",
       "      <td>Zande</td>\n",
       "      <td>APARTMENT</td>\n",
       "      <td>APARTMENT</td>\n",
       "      <td>JUST_RENOVATED</td>\n",
       "      <td>3.0</td>\n",
       "      <td>120.0</td>\n",
       "      <td>False</td>\n",
       "      <td>NaN</td>\n",
       "      <td>1.0</td>\n",
       "      <td>4.0</td>\n",
       "      <td>NaN</td>\n",
       "      <td>NaN</td>\n",
       "      <td>NaN</td>\n",
       "      <td>NaN</td>\n",
       "      <td>NaN</td>\n",
       "      <td>NaN</td>\n",
       "      <td>1.0</td>\n",
       "    </tr>\n",
       "    <tr>\n",
       "      <th>4</th>\n",
       "      <td>NaN</td>\n",
       "      <td>8900</td>\n",
       "      <td>West-Vlaanderen</td>\n",
       "      <td>Sint-Jan</td>\n",
       "      <td>HOUSE_GROUP</td>\n",
       "      <td>HOUSE_GROUP</td>\n",
       "      <td>NaN</td>\n",
       "      <td>NaN</td>\n",
       "      <td>NaN</td>\n",
       "      <td>False</td>\n",
       "      <td>NaN</td>\n",
       "      <td>NaN</td>\n",
       "      <td>NaN</td>\n",
       "      <td>NaN</td>\n",
       "      <td>NaN</td>\n",
       "      <td>NaN</td>\n",
       "      <td>NaN</td>\n",
       "      <td>NaN</td>\n",
       "      <td>NaN</td>\n",
       "      <td>NaN</td>\n",
       "    </tr>\n",
       "    <tr>\n",
       "      <th>...</th>\n",
       "      <td>...</td>\n",
       "      <td>...</td>\n",
       "      <td>...</td>\n",
       "      <td>...</td>\n",
       "      <td>...</td>\n",
       "      <td>...</td>\n",
       "      <td>...</td>\n",
       "      <td>...</td>\n",
       "      <td>...</td>\n",
       "      <td>...</td>\n",
       "      <td>...</td>\n",
       "      <td>...</td>\n",
       "      <td>...</td>\n",
       "      <td>...</td>\n",
       "      <td>...</td>\n",
       "      <td>...</td>\n",
       "      <td>...</td>\n",
       "      <td>...</td>\n",
       "      <td>...</td>\n",
       "      <td>...</td>\n",
       "    </tr>\n",
       "    <tr>\n",
       "      <th>25875</th>\n",
       "      <td>799000.0</td>\n",
       "      <td>9000</td>\n",
       "      <td>Oost-Vlaanderen</td>\n",
       "      <td>Gent</td>\n",
       "      <td>HOUSE</td>\n",
       "      <td>EXCEPTIONAL_PROPERTY</td>\n",
       "      <td>GOOD</td>\n",
       "      <td>5.0</td>\n",
       "      <td>330.0</td>\n",
       "      <td>False</td>\n",
       "      <td>NaN</td>\n",
       "      <td>NaN</td>\n",
       "      <td>NaN</td>\n",
       "      <td>1.0</td>\n",
       "      <td>69.0</td>\n",
       "      <td>69.0</td>\n",
       "      <td>NaN</td>\n",
       "      <td>0.0</td>\n",
       "      <td>0.0</td>\n",
       "      <td>0.0</td>\n",
       "    </tr>\n",
       "    <tr>\n",
       "      <th>25876</th>\n",
       "      <td>295000.0</td>\n",
       "      <td>6747</td>\n",
       "      <td>Luxemburg</td>\n",
       "      <td>Saint-léger</td>\n",
       "      <td>HOUSE</td>\n",
       "      <td>MANSION</td>\n",
       "      <td>TO_RENOVATE</td>\n",
       "      <td>5.0</td>\n",
       "      <td>260.0</td>\n",
       "      <td>False</td>\n",
       "      <td>NaN</td>\n",
       "      <td>1.0</td>\n",
       "      <td>30.0</td>\n",
       "      <td>1.0</td>\n",
       "      <td>1600.0</td>\n",
       "      <td>1600.0</td>\n",
       "      <td>4.0</td>\n",
       "      <td>NaN</td>\n",
       "      <td>NaN</td>\n",
       "      <td>NaN</td>\n",
       "    </tr>\n",
       "    <tr>\n",
       "      <th>25878</th>\n",
       "      <td>350000.0</td>\n",
       "      <td>1070</td>\n",
       "      <td>Brussel</td>\n",
       "      <td>Anderlecht</td>\n",
       "      <td>APARTMENT</td>\n",
       "      <td>APARTMENT</td>\n",
       "      <td>NaN</td>\n",
       "      <td>1.0</td>\n",
       "      <td>140.0</td>\n",
       "      <td>False</td>\n",
       "      <td>1.0</td>\n",
       "      <td>1.0</td>\n",
       "      <td>10.0</td>\n",
       "      <td>NaN</td>\n",
       "      <td>NaN</td>\n",
       "      <td>NaN</td>\n",
       "      <td>2.0</td>\n",
       "      <td>NaN</td>\n",
       "      <td>NaN</td>\n",
       "      <td>1.0</td>\n",
       "    </tr>\n",
       "    <tr>\n",
       "      <th>25879</th>\n",
       "      <td>225000.0</td>\n",
       "      <td>7700</td>\n",
       "      <td>Henegouwen</td>\n",
       "      <td>Moeskroen</td>\n",
       "      <td>APARTMENT</td>\n",
       "      <td>APARTMENT</td>\n",
       "      <td>GOOD</td>\n",
       "      <td>3.0</td>\n",
       "      <td>112.0</td>\n",
       "      <td>False</td>\n",
       "      <td>NaN</td>\n",
       "      <td>1.0</td>\n",
       "      <td>4.0</td>\n",
       "      <td>NaN</td>\n",
       "      <td>NaN</td>\n",
       "      <td>NaN</td>\n",
       "      <td>2.0</td>\n",
       "      <td>0.0</td>\n",
       "      <td>0.0</td>\n",
       "      <td>0.0</td>\n",
       "    </tr>\n",
       "    <tr>\n",
       "      <th>25880</th>\n",
       "      <td>300000.0</td>\n",
       "      <td>8430</td>\n",
       "      <td>West-Vlaanderen</td>\n",
       "      <td>Middelkerke</td>\n",
       "      <td>APARTMENT</td>\n",
       "      <td>APARTMENT</td>\n",
       "      <td>NaN</td>\n",
       "      <td>1.0</td>\n",
       "      <td>65.0</td>\n",
       "      <td>False</td>\n",
       "      <td>NaN</td>\n",
       "      <td>NaN</td>\n",
       "      <td>NaN</td>\n",
       "      <td>NaN</td>\n",
       "      <td>NaN</td>\n",
       "      <td>NaN</td>\n",
       "      <td>2.0</td>\n",
       "      <td>NaN</td>\n",
       "      <td>NaN</td>\n",
       "      <td>1.0</td>\n",
       "    </tr>\n",
       "  </tbody>\n",
       "</table>\n",
       "<p>24039 rows × 20 columns</p>\n",
       "</div>"
      ],
      "text/plain": [
       "          Price Postal_code         Province Municipality Type_of_Property  \\\n",
       "0      475000.0        1800   Vlaams-Brabant    Vilvoorde        APARTMENT   \n",
       "1      895000.0        2000        Antwerpen    Antwerpen        APARTMENT   \n",
       "2      685000.0        1180          Brussel        Ukkel        APARTMENT   \n",
       "3      289000.0        8680  West-Vlaanderen        Zande        APARTMENT   \n",
       "4           NaN        8900  West-Vlaanderen     Sint-Jan      HOUSE_GROUP   \n",
       "...         ...         ...              ...          ...              ...   \n",
       "25875  799000.0        9000  Oost-Vlaanderen         Gent            HOUSE   \n",
       "25876  295000.0        6747        Luxemburg  Saint-léger            HOUSE   \n",
       "25878  350000.0        1070          Brussel   Anderlecht        APARTMENT   \n",
       "25879  225000.0        7700       Henegouwen    Moeskroen        APARTMENT   \n",
       "25880  300000.0        8430  West-Vlaanderen  Middelkerke        APARTMENT   \n",
       "\n",
       "        Subtype_of_Property State_of_the_Building  Number_of_Rooms  \\\n",
       "0                      LOFT                   NaN              3.0   \n",
       "1                    DUPLEX                   NaN              3.0   \n",
       "2                 PENTHOUSE        JUST_RENOVATED              2.0   \n",
       "3                 APARTMENT        JUST_RENOVATED              3.0   \n",
       "4               HOUSE_GROUP                   NaN              NaN   \n",
       "...                     ...                   ...              ...   \n",
       "25875  EXCEPTIONAL_PROPERTY                  GOOD              5.0   \n",
       "25876               MANSION           TO_RENOVATE              5.0   \n",
       "25878             APARTMENT                   NaN              1.0   \n",
       "25879             APARTMENT                  GOOD              3.0   \n",
       "25880             APARTMENT                   NaN              1.0   \n",
       "\n",
       "       Living_Area  Fully_Equipped_Kitchen  Open_fire  Terrace  Terrace_Area  \\\n",
       "0            400.0                   False        NaN      NaN           NaN   \n",
       "1            286.0                    True        NaN      1.0          30.0   \n",
       "2            127.0                   False        NaN      1.0          55.0   \n",
       "3            120.0                   False        NaN      1.0           4.0   \n",
       "4              NaN                   False        NaN      NaN           NaN   \n",
       "...            ...                     ...        ...      ...           ...   \n",
       "25875        330.0                   False        NaN      NaN           NaN   \n",
       "25876        260.0                   False        NaN      1.0          30.0   \n",
       "25878        140.0                   False        1.0      1.0          10.0   \n",
       "25879        112.0                   False        NaN      1.0           4.0   \n",
       "25880         65.0                   False        NaN      NaN           NaN   \n",
       "\n",
       "       Garden  Garden_Area  Surface_of_the_Land  Number_of_Facades  \\\n",
       "0         NaN          NaN                  NaN                NaN   \n",
       "1         NaN          NaN                  NaN                NaN   \n",
       "2         NaN          NaN                  NaN                4.0   \n",
       "3         NaN          NaN                  NaN                NaN   \n",
       "4         NaN          NaN                  NaN                NaN   \n",
       "...       ...          ...                  ...                ...   \n",
       "25875     1.0         69.0                 69.0                NaN   \n",
       "25876     1.0       1600.0               1600.0                4.0   \n",
       "25878     NaN          NaN                  NaN                2.0   \n",
       "25879     NaN          NaN                  NaN                2.0   \n",
       "25880     NaN          NaN                  NaN                2.0   \n",
       "\n",
       "       Swimming_Pool  Disabled_Access  Lift  \n",
       "0                NaN              NaN   NaN  \n",
       "1                NaN              NaN   NaN  \n",
       "2                0.0              0.0   1.0  \n",
       "3                NaN              NaN   1.0  \n",
       "4                NaN              NaN   NaN  \n",
       "...              ...              ...   ...  \n",
       "25875            0.0              0.0   0.0  \n",
       "25876            NaN              NaN   NaN  \n",
       "25878            NaN              NaN   1.0  \n",
       "25879            0.0              0.0   0.0  \n",
       "25880            NaN              NaN   1.0  \n",
       "\n",
       "[24039 rows x 20 columns]"
      ]
     },
     "execution_count": 85,
     "metadata": {},
     "output_type": "execute_result"
    },
    {
     "data": {
      "text/plain": [
       "(24039, 22)"
      ]
     },
     "execution_count": 85,
     "metadata": {},
     "output_type": "execute_result"
    }
   ],
   "source": [
    "# Drop columns with only 1 unique value\n",
    "\n",
    "df.describe(include='object') \n",
    "\n",
    "df.drop(columns=['Furnished','Surface_area_plot_of_land']) #,inplace=True)\n",
    "df.shape\n"
   ]
  },
  {
   "cell_type": "code",
   "execution_count": 86,
   "metadata": {},
   "outputs": [
    {
     "data": {
      "text/plain": [
       "Price                          548\n",
       "Postal_code                      0\n",
       "Province                         0\n",
       "Municipality                     0\n",
       "Type_of_Property                 0\n",
       "Subtype_of_Property              0\n",
       "State_of_the_Building         4177\n",
       "Number_of_Rooms                547\n",
       "Living_Area                   1397\n",
       "Fully_Equipped_Kitchen           0\n",
       "Furnished                    13500\n",
       "Open_fire                    23025\n",
       "Terrace                       8183\n",
       "Terrace_Area                 14257\n",
       "Garden                       18647\n",
       "Garden_Area                  18647\n",
       "Surface_of_the_Land          18647\n",
       "Surface_area_plot_of_land    11288\n",
       "Number_of_Facades             7430\n",
       "Swimming_Pool                15091\n",
       "Disabled_Access              12971\n",
       "Lift                          9732\n",
       "dtype: int64"
      ]
     },
     "execution_count": 86,
     "metadata": {},
     "output_type": "execute_result"
    }
   ],
   "source": [
    "df.isna().sum()"
   ]
  },
  {
   "cell_type": "code",
   "execution_count": 87,
   "metadata": {},
   "outputs": [],
   "source": [
    "# fill missing value as \"None\" for columns: Price\n",
    "df.Price = df.Price.fillna('None')"
   ]
  },
  {
   "cell_type": "code",
   "execution_count": 88,
   "metadata": {},
   "outputs": [
    {
     "data": {
      "text/plain": [
       "Price                            0\n",
       "Postal_code                      0\n",
       "Province                         0\n",
       "Municipality                     0\n",
       "Type_of_Property                 0\n",
       "Subtype_of_Property              0\n",
       "State_of_the_Building         4177\n",
       "Number_of_Rooms                547\n",
       "Living_Area                   1397\n",
       "Fully_Equipped_Kitchen           0\n",
       "Furnished                    13500\n",
       "Open_fire                    23025\n",
       "Terrace                       8183\n",
       "Terrace_Area                 14257\n",
       "Garden                       18647\n",
       "Garden_Area                  18647\n",
       "Surface_of_the_Land          18647\n",
       "Surface_area_plot_of_land    11288\n",
       "Number_of_Facades             7430\n",
       "Swimming_Pool                15091\n",
       "Disabled_Access              12971\n",
       "Lift                          9732\n",
       "dtype: int64"
      ]
     },
     "execution_count": 88,
     "metadata": {},
     "output_type": "execute_result"
    }
   ],
   "source": [
    "df.isna().sum()"
   ]
  },
  {
   "cell_type": "code",
   "execution_count": 89,
   "metadata": {},
   "outputs": [],
   "source": [
    "# fill missing value as \"None\" for columns: Number_of_rooms\n",
    "df.Number_of_Rooms = df.Number_of_Rooms.fillna('None')"
   ]
  },
  {
   "cell_type": "code",
   "execution_count": 90,
   "metadata": {},
   "outputs": [
    {
     "data": {
      "text/plain": [
       "Price                            0\n",
       "Postal_code                      0\n",
       "Province                         0\n",
       "Municipality                     0\n",
       "Type_of_Property                 0\n",
       "Subtype_of_Property              0\n",
       "State_of_the_Building         4177\n",
       "Number_of_Rooms                  0\n",
       "Living_Area                   1397\n",
       "Fully_Equipped_Kitchen           0\n",
       "Furnished                    13500\n",
       "Open_fire                    23025\n",
       "Terrace                       8183\n",
       "Terrace_Area                 14257\n",
       "Garden                       18647\n",
       "Garden_Area                  18647\n",
       "Surface_of_the_Land          18647\n",
       "Surface_area_plot_of_land    11288\n",
       "Number_of_Facades             7430\n",
       "Swimming_Pool                15091\n",
       "Disabled_Access              12971\n",
       "Lift                          9732\n",
       "dtype: int64"
      ]
     },
     "execution_count": 90,
     "metadata": {},
     "output_type": "execute_result"
    }
   ],
   "source": [
    "df.isna().sum()"
   ]
  },
  {
   "cell_type": "code",
   "execution_count": 91,
   "metadata": {},
   "outputs": [
    {
     "data": {
      "text/html": [
       "<div>\n",
       "<style scoped>\n",
       "    .dataframe tbody tr th:only-of-type {\n",
       "        vertical-align: middle;\n",
       "    }\n",
       "\n",
       "    .dataframe tbody tr th {\n",
       "        vertical-align: top;\n",
       "    }\n",
       "\n",
       "    .dataframe thead th {\n",
       "        text-align: right;\n",
       "    }\n",
       "</style>\n",
       "<table border=\"1\" class=\"dataframe\">\n",
       "  <thead>\n",
       "    <tr style=\"text-align: right;\">\n",
       "      <th></th>\n",
       "      <th>Price</th>\n",
       "      <th>Postal_code</th>\n",
       "      <th>Province</th>\n",
       "      <th>Municipality</th>\n",
       "      <th>Type_of_Property</th>\n",
       "      <th>Subtype_of_Property</th>\n",
       "      <th>State_of_the_Building</th>\n",
       "      <th>Number_of_Rooms</th>\n",
       "      <th>Living_Area</th>\n",
       "      <th>Fully_Equipped_Kitchen</th>\n",
       "      <th>...</th>\n",
       "      <th>Terrace</th>\n",
       "      <th>Terrace_Area</th>\n",
       "      <th>Garden</th>\n",
       "      <th>Garden_Area</th>\n",
       "      <th>Surface_of_the_Land</th>\n",
       "      <th>Surface_area_plot_of_land</th>\n",
       "      <th>Number_of_Facades</th>\n",
       "      <th>Swimming_Pool</th>\n",
       "      <th>Disabled_Access</th>\n",
       "      <th>Lift</th>\n",
       "    </tr>\n",
       "  </thead>\n",
       "  <tbody>\n",
       "    <tr>\n",
       "      <th>0</th>\n",
       "      <td>475000.0</td>\n",
       "      <td>1800</td>\n",
       "      <td>Vlaams-Brabant</td>\n",
       "      <td>Vilvoorde</td>\n",
       "      <td>APARTMENT</td>\n",
       "      <td>LOFT</td>\n",
       "      <td>NaN</td>\n",
       "      <td>3.0</td>\n",
       "      <td>400.0</td>\n",
       "      <td>False</td>\n",
       "      <td>...</td>\n",
       "      <td>NaN</td>\n",
       "      <td>NaN</td>\n",
       "      <td>NaN</td>\n",
       "      <td>NaN</td>\n",
       "      <td>NaN</td>\n",
       "      <td>NaN</td>\n",
       "      <td>NaN</td>\n",
       "      <td>NaN</td>\n",
       "      <td>NaN</td>\n",
       "      <td>NaN</td>\n",
       "    </tr>\n",
       "    <tr>\n",
       "      <th>1</th>\n",
       "      <td>895000.0</td>\n",
       "      <td>2000</td>\n",
       "      <td>Antwerpen</td>\n",
       "      <td>Antwerpen</td>\n",
       "      <td>APARTMENT</td>\n",
       "      <td>DUPLEX</td>\n",
       "      <td>NaN</td>\n",
       "      <td>3.0</td>\n",
       "      <td>286.0</td>\n",
       "      <td>True</td>\n",
       "      <td>...</td>\n",
       "      <td>1.0</td>\n",
       "      <td>30.0</td>\n",
       "      <td>NaN</td>\n",
       "      <td>NaN</td>\n",
       "      <td>NaN</td>\n",
       "      <td>NaN</td>\n",
       "      <td>NaN</td>\n",
       "      <td>NaN</td>\n",
       "      <td>NaN</td>\n",
       "      <td>NaN</td>\n",
       "    </tr>\n",
       "    <tr>\n",
       "      <th>2</th>\n",
       "      <td>685000.0</td>\n",
       "      <td>1180</td>\n",
       "      <td>Brussel</td>\n",
       "      <td>Ukkel</td>\n",
       "      <td>APARTMENT</td>\n",
       "      <td>PENTHOUSE</td>\n",
       "      <td>JUST_RENOVATED</td>\n",
       "      <td>2.0</td>\n",
       "      <td>127.0</td>\n",
       "      <td>False</td>\n",
       "      <td>...</td>\n",
       "      <td>1.0</td>\n",
       "      <td>55.0</td>\n",
       "      <td>NaN</td>\n",
       "      <td>NaN</td>\n",
       "      <td>NaN</td>\n",
       "      <td>NaN</td>\n",
       "      <td>4.0</td>\n",
       "      <td>0.0</td>\n",
       "      <td>0.0</td>\n",
       "      <td>1.0</td>\n",
       "    </tr>\n",
       "    <tr>\n",
       "      <th>3</th>\n",
       "      <td>289000.0</td>\n",
       "      <td>8680</td>\n",
       "      <td>West-Vlaanderen</td>\n",
       "      <td>Zande</td>\n",
       "      <td>APARTMENT</td>\n",
       "      <td>APARTMENT</td>\n",
       "      <td>JUST_RENOVATED</td>\n",
       "      <td>3.0</td>\n",
       "      <td>120.0</td>\n",
       "      <td>False</td>\n",
       "      <td>...</td>\n",
       "      <td>1.0</td>\n",
       "      <td>4.0</td>\n",
       "      <td>NaN</td>\n",
       "      <td>NaN</td>\n",
       "      <td>NaN</td>\n",
       "      <td>NaN</td>\n",
       "      <td>NaN</td>\n",
       "      <td>NaN</td>\n",
       "      <td>NaN</td>\n",
       "      <td>1.0</td>\n",
       "    </tr>\n",
       "    <tr>\n",
       "      <th>4</th>\n",
       "      <td>None</td>\n",
       "      <td>8900</td>\n",
       "      <td>West-Vlaanderen</td>\n",
       "      <td>Sint-Jan</td>\n",
       "      <td>HOUSE_GROUP</td>\n",
       "      <td>HOUSE_GROUP</td>\n",
       "      <td>NaN</td>\n",
       "      <td>None</td>\n",
       "      <td>NaN</td>\n",
       "      <td>False</td>\n",
       "      <td>...</td>\n",
       "      <td>NaN</td>\n",
       "      <td>NaN</td>\n",
       "      <td>NaN</td>\n",
       "      <td>NaN</td>\n",
       "      <td>NaN</td>\n",
       "      <td>NaN</td>\n",
       "      <td>NaN</td>\n",
       "      <td>NaN</td>\n",
       "      <td>NaN</td>\n",
       "      <td>NaN</td>\n",
       "    </tr>\n",
       "    <tr>\n",
       "      <th>...</th>\n",
       "      <td>...</td>\n",
       "      <td>...</td>\n",
       "      <td>...</td>\n",
       "      <td>...</td>\n",
       "      <td>...</td>\n",
       "      <td>...</td>\n",
       "      <td>...</td>\n",
       "      <td>...</td>\n",
       "      <td>...</td>\n",
       "      <td>...</td>\n",
       "      <td>...</td>\n",
       "      <td>...</td>\n",
       "      <td>...</td>\n",
       "      <td>...</td>\n",
       "      <td>...</td>\n",
       "      <td>...</td>\n",
       "      <td>...</td>\n",
       "      <td>...</td>\n",
       "      <td>...</td>\n",
       "      <td>...</td>\n",
       "      <td>...</td>\n",
       "    </tr>\n",
       "    <tr>\n",
       "      <th>25875</th>\n",
       "      <td>799000.0</td>\n",
       "      <td>9000</td>\n",
       "      <td>Oost-Vlaanderen</td>\n",
       "      <td>Gent</td>\n",
       "      <td>HOUSE</td>\n",
       "      <td>EXCEPTIONAL_PROPERTY</td>\n",
       "      <td>GOOD</td>\n",
       "      <td>5.0</td>\n",
       "      <td>330.0</td>\n",
       "      <td>False</td>\n",
       "      <td>...</td>\n",
       "      <td>NaN</td>\n",
       "      <td>NaN</td>\n",
       "      <td>1.0</td>\n",
       "      <td>69.0</td>\n",
       "      <td>69.0</td>\n",
       "      <td>364.0</td>\n",
       "      <td>NaN</td>\n",
       "      <td>0.0</td>\n",
       "      <td>0.0</td>\n",
       "      <td>0.0</td>\n",
       "    </tr>\n",
       "    <tr>\n",
       "      <th>25876</th>\n",
       "      <td>295000.0</td>\n",
       "      <td>6747</td>\n",
       "      <td>Luxemburg</td>\n",
       "      <td>Saint-léger</td>\n",
       "      <td>HOUSE</td>\n",
       "      <td>MANSION</td>\n",
       "      <td>TO_RENOVATE</td>\n",
       "      <td>5.0</td>\n",
       "      <td>260.0</td>\n",
       "      <td>False</td>\n",
       "      <td>...</td>\n",
       "      <td>1.0</td>\n",
       "      <td>30.0</td>\n",
       "      <td>1.0</td>\n",
       "      <td>1600.0</td>\n",
       "      <td>1600.0</td>\n",
       "      <td>1809.0</td>\n",
       "      <td>4.0</td>\n",
       "      <td>NaN</td>\n",
       "      <td>NaN</td>\n",
       "      <td>NaN</td>\n",
       "    </tr>\n",
       "    <tr>\n",
       "      <th>25878</th>\n",
       "      <td>350000.0</td>\n",
       "      <td>1070</td>\n",
       "      <td>Brussel</td>\n",
       "      <td>Anderlecht</td>\n",
       "      <td>APARTMENT</td>\n",
       "      <td>APARTMENT</td>\n",
       "      <td>NaN</td>\n",
       "      <td>1.0</td>\n",
       "      <td>140.0</td>\n",
       "      <td>False</td>\n",
       "      <td>...</td>\n",
       "      <td>1.0</td>\n",
       "      <td>10.0</td>\n",
       "      <td>NaN</td>\n",
       "      <td>NaN</td>\n",
       "      <td>NaN</td>\n",
       "      <td>NaN</td>\n",
       "      <td>2.0</td>\n",
       "      <td>NaN</td>\n",
       "      <td>NaN</td>\n",
       "      <td>1.0</td>\n",
       "    </tr>\n",
       "    <tr>\n",
       "      <th>25879</th>\n",
       "      <td>225000.0</td>\n",
       "      <td>7700</td>\n",
       "      <td>Henegouwen</td>\n",
       "      <td>Moeskroen</td>\n",
       "      <td>APARTMENT</td>\n",
       "      <td>APARTMENT</td>\n",
       "      <td>GOOD</td>\n",
       "      <td>3.0</td>\n",
       "      <td>112.0</td>\n",
       "      <td>False</td>\n",
       "      <td>...</td>\n",
       "      <td>1.0</td>\n",
       "      <td>4.0</td>\n",
       "      <td>NaN</td>\n",
       "      <td>NaN</td>\n",
       "      <td>NaN</td>\n",
       "      <td>NaN</td>\n",
       "      <td>2.0</td>\n",
       "      <td>0.0</td>\n",
       "      <td>0.0</td>\n",
       "      <td>0.0</td>\n",
       "    </tr>\n",
       "    <tr>\n",
       "      <th>25880</th>\n",
       "      <td>300000.0</td>\n",
       "      <td>8430</td>\n",
       "      <td>West-Vlaanderen</td>\n",
       "      <td>Middelkerke</td>\n",
       "      <td>APARTMENT</td>\n",
       "      <td>APARTMENT</td>\n",
       "      <td>NaN</td>\n",
       "      <td>1.0</td>\n",
       "      <td>65.0</td>\n",
       "      <td>False</td>\n",
       "      <td>...</td>\n",
       "      <td>NaN</td>\n",
       "      <td>NaN</td>\n",
       "      <td>NaN</td>\n",
       "      <td>NaN</td>\n",
       "      <td>NaN</td>\n",
       "      <td>NaN</td>\n",
       "      <td>2.0</td>\n",
       "      <td>NaN</td>\n",
       "      <td>NaN</td>\n",
       "      <td>1.0</td>\n",
       "    </tr>\n",
       "  </tbody>\n",
       "</table>\n",
       "<p>24039 rows × 22 columns</p>\n",
       "</div>"
      ],
      "text/plain": [
       "          Price Postal_code         Province Municipality Type_of_Property  \\\n",
       "0      475000.0        1800   Vlaams-Brabant    Vilvoorde        APARTMENT   \n",
       "1      895000.0        2000        Antwerpen    Antwerpen        APARTMENT   \n",
       "2      685000.0        1180          Brussel        Ukkel        APARTMENT   \n",
       "3      289000.0        8680  West-Vlaanderen        Zande        APARTMENT   \n",
       "4          None        8900  West-Vlaanderen     Sint-Jan      HOUSE_GROUP   \n",
       "...         ...         ...              ...          ...              ...   \n",
       "25875  799000.0        9000  Oost-Vlaanderen         Gent            HOUSE   \n",
       "25876  295000.0        6747        Luxemburg  Saint-léger            HOUSE   \n",
       "25878  350000.0        1070          Brussel   Anderlecht        APARTMENT   \n",
       "25879  225000.0        7700       Henegouwen    Moeskroen        APARTMENT   \n",
       "25880  300000.0        8430  West-Vlaanderen  Middelkerke        APARTMENT   \n",
       "\n",
       "        Subtype_of_Property State_of_the_Building Number_of_Rooms  \\\n",
       "0                      LOFT                   NaN             3.0   \n",
       "1                    DUPLEX                   NaN             3.0   \n",
       "2                 PENTHOUSE        JUST_RENOVATED             2.0   \n",
       "3                 APARTMENT        JUST_RENOVATED             3.0   \n",
       "4               HOUSE_GROUP                   NaN            None   \n",
       "...                     ...                   ...             ...   \n",
       "25875  EXCEPTIONAL_PROPERTY                  GOOD             5.0   \n",
       "25876               MANSION           TO_RENOVATE             5.0   \n",
       "25878             APARTMENT                   NaN             1.0   \n",
       "25879             APARTMENT                  GOOD             3.0   \n",
       "25880             APARTMENT                   NaN             1.0   \n",
       "\n",
       "       Living_Area  Fully_Equipped_Kitchen  ...  Terrace  Terrace_Area  \\\n",
       "0            400.0                   False  ...      NaN           NaN   \n",
       "1            286.0                    True  ...      1.0          30.0   \n",
       "2            127.0                   False  ...      1.0          55.0   \n",
       "3            120.0                   False  ...      1.0           4.0   \n",
       "4              NaN                   False  ...      NaN           NaN   \n",
       "...            ...                     ...  ...      ...           ...   \n",
       "25875        330.0                   False  ...      NaN           NaN   \n",
       "25876        260.0                   False  ...      1.0          30.0   \n",
       "25878        140.0                   False  ...      1.0          10.0   \n",
       "25879        112.0                   False  ...      1.0           4.0   \n",
       "25880         65.0                   False  ...      NaN           NaN   \n",
       "\n",
       "       Garden  Garden_Area  Surface_of_the_Land  Surface_area_plot_of_land  \\\n",
       "0         NaN          NaN                  NaN                        NaN   \n",
       "1         NaN          NaN                  NaN                        NaN   \n",
       "2         NaN          NaN                  NaN                        NaN   \n",
       "3         NaN          NaN                  NaN                        NaN   \n",
       "4         NaN          NaN                  NaN                        NaN   \n",
       "...       ...          ...                  ...                        ...   \n",
       "25875     1.0         69.0                 69.0                      364.0   \n",
       "25876     1.0       1600.0               1600.0                     1809.0   \n",
       "25878     NaN          NaN                  NaN                        NaN   \n",
       "25879     NaN          NaN                  NaN                        NaN   \n",
       "25880     NaN          NaN                  NaN                        NaN   \n",
       "\n",
       "       Number_of_Facades  Swimming_Pool  Disabled_Access  Lift  \n",
       "0                    NaN            NaN              NaN   NaN  \n",
       "1                    NaN            NaN              NaN   NaN  \n",
       "2                    4.0            0.0              0.0   1.0  \n",
       "3                    NaN            NaN              NaN   1.0  \n",
       "4                    NaN            NaN              NaN   NaN  \n",
       "...                  ...            ...              ...   ...  \n",
       "25875                NaN            0.0              0.0   0.0  \n",
       "25876                4.0            NaN              NaN   NaN  \n",
       "25878                2.0            NaN              NaN   1.0  \n",
       "25879                2.0            0.0              0.0   0.0  \n",
       "25880                2.0            NaN              NaN   1.0  \n",
       "\n",
       "[24039 rows x 22 columns]"
      ]
     },
     "execution_count": 91,
     "metadata": {},
     "output_type": "execute_result"
    }
   ],
   "source": [
    "df"
   ]
  },
  {
   "cell_type": "code",
   "execution_count": null,
   "metadata": {},
   "outputs": [],
   "source": []
  },
  {
   "cell_type": "code",
   "execution_count": null,
   "metadata": {},
   "outputs": [],
   "source": []
  },
  {
   "cell_type": "code",
   "execution_count": null,
   "metadata": {},
   "outputs": [],
   "source": []
  },
  {
   "cell_type": "code",
   "execution_count": 17,
   "metadata": {},
   "outputs": [
    {
     "ename": "NameError",
     "evalue": "name 'ds' is not defined",
     "output_type": "error",
     "traceback": [
      "\u001b[1;31m---------------------------------------------------------------------------\u001b[0m",
      "\u001b[1;31mNameError\u001b[0m                                 Traceback (most recent call last)",
      "Cell \u001b[1;32mIn[17], line 2\u001b[0m\n\u001b[0;32m      1\u001b[0m \u001b[38;5;66;03m# I would separate Brussels from other cities and build two different graphs\u001b[39;00m\n\u001b[1;32m----> 2\u001b[0m locality \u001b[38;5;241m=\u001b[39m \u001b[43mds\u001b[49m[\u001b[38;5;124m\"\u001b[39m\u001b[38;5;124mprovince\u001b[39m\u001b[38;5;124m\"\u001b[39m]\u001b[38;5;241m.\u001b[39mvalue_counts()\u001b[38;5;241m.\u001b[39mhead(\u001b[38;5;241m15\u001b[39m)\n\u001b[0;32m      3\u001b[0m \u001b[38;5;66;03m#locality.index\u001b[39;00m\n\u001b[0;32m      4\u001b[0m locality\n",
      "\u001b[1;31mNameError\u001b[0m: name 'ds' is not defined"
     ]
    }
   ],
   "source": [
    "# I would separate Brussels from other cities and build two different graphs\n",
    "locality = ds[\"province\"].value_counts().head(15)\n",
    "#locality.index\n",
    "locality\n",
    "\n",
    "#!!! Bruxelles and Brussel!!! What is the differrence?"
   ]
  },
  {
   "cell_type": "code",
   "execution_count": 79,
   "metadata": {},
   "outputs": [
    {
     "data": {
      "text/plain": [
       "Municipality\n",
       "Westkapelle               1005\n",
       "Antwerpen                  795\n",
       "Gent                       604\n",
       "Brussel                    509\n",
       "Zandvoorde                 423\n",
       "Ukkel                      405\n",
       "Elsene                     400\n",
       "Rocourt                    302\n",
       "Anderlecht                 256\n",
       "Sint-lambrechts-woluwe     255\n",
       "Schaarbeek                 226\n",
       "Uitkerke                   224\n",
       "Aalst                      216\n",
       "Sint-pieters-woluwe        215\n",
       "Deurne                     213\n",
       "Name: count, dtype: int64"
      ]
     },
     "execution_count": 79,
     "metadata": {},
     "output_type": "execute_result"
    }
   ],
   "source": [
    "# I would separate Brussels from other cities and build two different graphs\n",
    "locality = ds[\"Municipality\"].value_counts().head(15)\n",
    "#locality.index\n",
    "locality\n",
    "\n",
    "#!!! Bruxelles and Brussel!!! What is the differrence?"
   ]
  },
  {
   "cell_type": "code",
   "execution_count": 80,
   "metadata": {},
   "outputs": [
    {
     "data": {
      "text/plain": [
       "Subtype_of_Property\n",
       "HOUSE                   9825\n",
       "APARTMENT               8744\n",
       "VILLA                   1249\n",
       "APARTMENT_GROUP          950\n",
       "APARTMENT_BLOCK          588\n",
       "DUPLEX                   585\n",
       "GROUND_FLOOR             561\n",
       "MIXED_USE_BUILDING       543\n",
       "HOUSE_GROUP              534\n",
       "PENTHOUSE                500\n",
       "FLAT_STUDIO              434\n",
       "EXCEPTIONAL_PROPERTY     235\n",
       "MANSION                  202\n",
       "TOWN_HOUSE               173\n",
       "SERVICE_FLAT             142\n",
       "BUNGALOW                 140\n",
       "COUNTRY_COTTAGE          123\n",
       "LOFT                     102\n",
       "KOT                       67\n",
       "TRIPLEX                   65\n",
       "FARMHOUSE                 56\n",
       "CHALET                    31\n",
       "MANOR_HOUSE               15\n",
       "CASTLE                     9\n",
       "OTHER_PROPERTY             8\n",
       "Name: count, dtype: int64"
      ]
     },
     "execution_count": 80,
     "metadata": {},
     "output_type": "execute_result"
    }
   ],
   "source": [
    "ds[\"Subtype_of_Property\"].value_counts()"
   ]
  },
  {
   "cell_type": "code",
   "execution_count": 81,
   "metadata": {},
   "outputs": [
    {
     "data": {
      "text/plain": [
       "Number_of_Rooms\n",
       "3.0     7699\n",
       "2.0     7413\n",
       "4.0     3713\n",
       "1.0     2524\n",
       "5.0     1402\n",
       "6.0      609\n",
       "0.0      591\n",
       "7.0      186\n",
       "8.0      111\n",
       "9.0       42\n",
       "10.0      38\n",
       "12.0      18\n",
       "11.0      12\n",
       "16.0      11\n",
       "13.0       8\n",
       "20.0       3\n",
       "22.0       3\n",
       "15.0       3\n",
       "14.0       2\n",
       "18.0       2\n",
       "24.0       2\n",
       "21.0       1\n",
       "25.0       1\n",
       "46.0       1\n",
       "17.0       1\n",
       "40.0       1\n",
       "Name: count, dtype: int64"
      ]
     },
     "execution_count": 81,
     "metadata": {},
     "output_type": "execute_result"
    }
   ],
   "source": [
    "ds[\"Number_of_Rooms\"].value_counts()"
   ]
  },
  {
   "cell_type": "code",
   "execution_count": 82,
   "metadata": {},
   "outputs": [
    {
     "data": {
      "text/plain": [
       "Living_Area\n",
       "100.0     401\n",
       "90.0      325\n",
       "85.0      322\n",
       "150.0     314\n",
       "110.0     295\n",
       "         ... \n",
       "472.0       1\n",
       "777.0       1\n",
       "696.0       1\n",
       "1745.0      1\n",
       "1180.0      1\n",
       "Name: count, Length: 736, dtype: int64"
      ]
     },
     "execution_count": 82,
     "metadata": {},
     "output_type": "execute_result"
    }
   ],
   "source": [
    "ds[\"Living_Area\"].value_counts()"
   ]
  },
  {
   "cell_type": "code",
   "execution_count": 83,
   "metadata": {},
   "outputs": [
    {
     "data": {
      "text/plain": [
       "Fully_Equipped_Kitchen\n",
       "False    21273\n",
       "True      4608\n",
       "Name: count, dtype: int64"
      ]
     },
     "execution_count": 83,
     "metadata": {},
     "output_type": "execute_result"
    }
   ],
   "source": [
    "# we can check correlation between equipped and State of Building\n",
    "ds[\"Fully_Equipped_Kitchen\"].value_counts()"
   ]
  },
  {
   "cell_type": "code",
   "execution_count": 84,
   "metadata": {},
   "outputs": [
    {
     "data": {
      "text/plain": [
       "Furnished\n",
       "0.0    10141\n",
       "1.0      956\n",
       "Name: count, dtype: int64"
      ]
     },
     "execution_count": 84,
     "metadata": {},
     "output_type": "execute_result"
    }
   ],
   "source": [
    "# we can check correlation between furnished and State of Building\n",
    "ds[\"Furnished\"].value_counts()"
   ]
  },
  {
   "cell_type": "code",
   "execution_count": 85,
   "metadata": {},
   "outputs": [
    {
     "data": {
      "text/plain": [
       "Open_fire\n",
       "1.0       994\n",
       "2.0        28\n",
       "3.0         4\n",
       "4.0         2\n",
       "7.0         1\n",
       "1000.0      1\n",
       "Name: count, dtype: int64"
      ]
     },
     "execution_count": 85,
     "metadata": {},
     "output_type": "execute_result"
    }
   ],
   "source": [
    "# candidate to DELETE\n",
    "ds[\"Open_fire\"].value_counts()"
   ]
  },
  {
   "cell_type": "code",
   "execution_count": 86,
   "metadata": {},
   "outputs": [
    {
     "data": {
      "text/plain": [
       "Terrace\n",
       "1.0    16503\n",
       "Name: count, dtype: int64"
      ]
     },
     "execution_count": 86,
     "metadata": {},
     "output_type": "execute_result"
    }
   ],
   "source": [
    "ds[\"Terrace\"].value_counts()"
   ]
  },
  {
   "cell_type": "code",
   "execution_count": 87,
   "metadata": {},
   "outputs": [
    {
     "data": {
      "text/plain": [
       "Terrace_Area\n",
       "20.0      630\n",
       "10.0      609\n",
       "15.0      487\n",
       "8.0       430\n",
       "30.0      426\n",
       "         ... \n",
       "122.0       1\n",
       "3749.0      1\n",
       "540.0       1\n",
       "134.0       1\n",
       "124.0       1\n",
       "Name: count, Length: 188, dtype: int64"
      ]
     },
     "execution_count": 87,
     "metadata": {},
     "output_type": "execute_result"
    }
   ],
   "source": [
    "ds[\"Terrace_Area\"].value_counts()"
   ]
  },
  {
   "cell_type": "code",
   "execution_count": 88,
   "metadata": {},
   "outputs": [
    {
     "data": {
      "text/html": [
       "<div>\n",
       "<style scoped>\n",
       "    .dataframe tbody tr th:only-of-type {\n",
       "        vertical-align: middle;\n",
       "    }\n",
       "\n",
       "    .dataframe tbody tr th {\n",
       "        vertical-align: top;\n",
       "    }\n",
       "\n",
       "    .dataframe thead th {\n",
       "        text-align: right;\n",
       "    }\n",
       "</style>\n",
       "<table border=\"1\" class=\"dataframe\">\n",
       "  <thead>\n",
       "    <tr style=\"text-align: right;\">\n",
       "      <th></th>\n",
       "      <th>Price</th>\n",
       "      <th>Locality</th>\n",
       "      <th>Type_of_Property</th>\n",
       "      <th>Subtype_of_Property</th>\n",
       "      <th>State_of_the_Building</th>\n",
       "      <th>Number_of_Rooms</th>\n",
       "      <th>Living_Area</th>\n",
       "      <th>Fully_Equipped_Kitchen</th>\n",
       "      <th>Furnished</th>\n",
       "      <th>Open_fire</th>\n",
       "      <th>...</th>\n",
       "      <th>Garden</th>\n",
       "      <th>Garden_Area</th>\n",
       "      <th>Surface_of_the_Land</th>\n",
       "      <th>Surface_area_plot_of_land</th>\n",
       "      <th>Number_of_Facades</th>\n",
       "      <th>Swimming_Pool</th>\n",
       "      <th>Disabled_Access</th>\n",
       "      <th>Lift</th>\n",
       "      <th>province</th>\n",
       "      <th>Municipality</th>\n",
       "    </tr>\n",
       "  </thead>\n",
       "  <tbody>\n",
       "    <tr>\n",
       "      <th>0</th>\n",
       "      <td>475000.0</td>\n",
       "      <td>1800</td>\n",
       "      <td>APARTMENT</td>\n",
       "      <td>LOFT</td>\n",
       "      <td>NaN</td>\n",
       "      <td>3.0</td>\n",
       "      <td>400.0</td>\n",
       "      <td>False</td>\n",
       "      <td>NaN</td>\n",
       "      <td>NaN</td>\n",
       "      <td>...</td>\n",
       "      <td>NaN</td>\n",
       "      <td>NaN</td>\n",
       "      <td>NaN</td>\n",
       "      <td>NaN</td>\n",
       "      <td>NaN</td>\n",
       "      <td>NaN</td>\n",
       "      <td>NaN</td>\n",
       "      <td>NaN</td>\n",
       "      <td>Vlaams-Brabant</td>\n",
       "      <td>Vilvoorde</td>\n",
       "    </tr>\n",
       "    <tr>\n",
       "      <th>1</th>\n",
       "      <td>895000.0</td>\n",
       "      <td>2000</td>\n",
       "      <td>APARTMENT</td>\n",
       "      <td>DUPLEX</td>\n",
       "      <td>NaN</td>\n",
       "      <td>3.0</td>\n",
       "      <td>286.0</td>\n",
       "      <td>True</td>\n",
       "      <td>NaN</td>\n",
       "      <td>NaN</td>\n",
       "      <td>...</td>\n",
       "      <td>NaN</td>\n",
       "      <td>NaN</td>\n",
       "      <td>NaN</td>\n",
       "      <td>NaN</td>\n",
       "      <td>NaN</td>\n",
       "      <td>NaN</td>\n",
       "      <td>NaN</td>\n",
       "      <td>NaN</td>\n",
       "      <td>Antwerpen</td>\n",
       "      <td>Antwerpen</td>\n",
       "    </tr>\n",
       "    <tr>\n",
       "      <th>2</th>\n",
       "      <td>685000.0</td>\n",
       "      <td>1180</td>\n",
       "      <td>APARTMENT</td>\n",
       "      <td>PENTHOUSE</td>\n",
       "      <td>JUST_RENOVATED</td>\n",
       "      <td>2.0</td>\n",
       "      <td>127.0</td>\n",
       "      <td>False</td>\n",
       "      <td>NaN</td>\n",
       "      <td>NaN</td>\n",
       "      <td>...</td>\n",
       "      <td>NaN</td>\n",
       "      <td>NaN</td>\n",
       "      <td>NaN</td>\n",
       "      <td>NaN</td>\n",
       "      <td>4.0</td>\n",
       "      <td>0.0</td>\n",
       "      <td>0.0</td>\n",
       "      <td>1.0</td>\n",
       "      <td>Brussel</td>\n",
       "      <td>Ukkel</td>\n",
       "    </tr>\n",
       "    <tr>\n",
       "      <th>3</th>\n",
       "      <td>289000.0</td>\n",
       "      <td>8680</td>\n",
       "      <td>APARTMENT</td>\n",
       "      <td>APARTMENT</td>\n",
       "      <td>JUST_RENOVATED</td>\n",
       "      <td>3.0</td>\n",
       "      <td>120.0</td>\n",
       "      <td>False</td>\n",
       "      <td>NaN</td>\n",
       "      <td>NaN</td>\n",
       "      <td>...</td>\n",
       "      <td>NaN</td>\n",
       "      <td>NaN</td>\n",
       "      <td>NaN</td>\n",
       "      <td>NaN</td>\n",
       "      <td>NaN</td>\n",
       "      <td>NaN</td>\n",
       "      <td>NaN</td>\n",
       "      <td>1.0</td>\n",
       "      <td>West-Vlaanderen</td>\n",
       "      <td>Zande</td>\n",
       "    </tr>\n",
       "    <tr>\n",
       "      <th>4</th>\n",
       "      <td>NaN</td>\n",
       "      <td>8900</td>\n",
       "      <td>HOUSE_GROUP</td>\n",
       "      <td>HOUSE_GROUP</td>\n",
       "      <td>NaN</td>\n",
       "      <td>NaN</td>\n",
       "      <td>NaN</td>\n",
       "      <td>False</td>\n",
       "      <td>NaN</td>\n",
       "      <td>NaN</td>\n",
       "      <td>...</td>\n",
       "      <td>NaN</td>\n",
       "      <td>NaN</td>\n",
       "      <td>NaN</td>\n",
       "      <td>NaN</td>\n",
       "      <td>NaN</td>\n",
       "      <td>NaN</td>\n",
       "      <td>NaN</td>\n",
       "      <td>NaN</td>\n",
       "      <td>West-Vlaanderen</td>\n",
       "      <td>Sint-Jan</td>\n",
       "    </tr>\n",
       "    <tr>\n",
       "      <th>...</th>\n",
       "      <td>...</td>\n",
       "      <td>...</td>\n",
       "      <td>...</td>\n",
       "      <td>...</td>\n",
       "      <td>...</td>\n",
       "      <td>...</td>\n",
       "      <td>...</td>\n",
       "      <td>...</td>\n",
       "      <td>...</td>\n",
       "      <td>...</td>\n",
       "      <td>...</td>\n",
       "      <td>...</td>\n",
       "      <td>...</td>\n",
       "      <td>...</td>\n",
       "      <td>...</td>\n",
       "      <td>...</td>\n",
       "      <td>...</td>\n",
       "      <td>...</td>\n",
       "      <td>...</td>\n",
       "      <td>...</td>\n",
       "      <td>...</td>\n",
       "    </tr>\n",
       "    <tr>\n",
       "      <th>25876</th>\n",
       "      <td>295000.0</td>\n",
       "      <td>6747</td>\n",
       "      <td>HOUSE</td>\n",
       "      <td>MANSION</td>\n",
       "      <td>TO_RENOVATE</td>\n",
       "      <td>5.0</td>\n",
       "      <td>260.0</td>\n",
       "      <td>False</td>\n",
       "      <td>NaN</td>\n",
       "      <td>NaN</td>\n",
       "      <td>...</td>\n",
       "      <td>1.0</td>\n",
       "      <td>1600.0</td>\n",
       "      <td>1600.0</td>\n",
       "      <td>1809.0</td>\n",
       "      <td>4.0</td>\n",
       "      <td>NaN</td>\n",
       "      <td>NaN</td>\n",
       "      <td>NaN</td>\n",
       "      <td>Luxemburg</td>\n",
       "      <td>Saint-léger</td>\n",
       "    </tr>\n",
       "    <tr>\n",
       "      <th>25877</th>\n",
       "      <td>448000.0</td>\n",
       "      <td>9880</td>\n",
       "      <td>HOUSE</td>\n",
       "      <td>HOUSE</td>\n",
       "      <td>GOOD</td>\n",
       "      <td>4.0</td>\n",
       "      <td>169.0</td>\n",
       "      <td>False</td>\n",
       "      <td>NaN</td>\n",
       "      <td>NaN</td>\n",
       "      <td>...</td>\n",
       "      <td>NaN</td>\n",
       "      <td>NaN</td>\n",
       "      <td>NaN</td>\n",
       "      <td>770.0</td>\n",
       "      <td>NaN</td>\n",
       "      <td>NaN</td>\n",
       "      <td>NaN</td>\n",
       "      <td>NaN</td>\n",
       "      <td>Oost-Vlaanderen</td>\n",
       "      <td>Poeke</td>\n",
       "    </tr>\n",
       "    <tr>\n",
       "      <th>25878</th>\n",
       "      <td>350000.0</td>\n",
       "      <td>1070</td>\n",
       "      <td>APARTMENT</td>\n",
       "      <td>APARTMENT</td>\n",
       "      <td>NaN</td>\n",
       "      <td>1.0</td>\n",
       "      <td>140.0</td>\n",
       "      <td>False</td>\n",
       "      <td>NaN</td>\n",
       "      <td>1.0</td>\n",
       "      <td>...</td>\n",
       "      <td>NaN</td>\n",
       "      <td>NaN</td>\n",
       "      <td>NaN</td>\n",
       "      <td>NaN</td>\n",
       "      <td>2.0</td>\n",
       "      <td>NaN</td>\n",
       "      <td>NaN</td>\n",
       "      <td>1.0</td>\n",
       "      <td>Brussel</td>\n",
       "      <td>Anderlecht</td>\n",
       "    </tr>\n",
       "    <tr>\n",
       "      <th>25879</th>\n",
       "      <td>225000.0</td>\n",
       "      <td>7700</td>\n",
       "      <td>APARTMENT</td>\n",
       "      <td>APARTMENT</td>\n",
       "      <td>GOOD</td>\n",
       "      <td>3.0</td>\n",
       "      <td>112.0</td>\n",
       "      <td>False</td>\n",
       "      <td>0.0</td>\n",
       "      <td>NaN</td>\n",
       "      <td>...</td>\n",
       "      <td>NaN</td>\n",
       "      <td>NaN</td>\n",
       "      <td>NaN</td>\n",
       "      <td>NaN</td>\n",
       "      <td>2.0</td>\n",
       "      <td>0.0</td>\n",
       "      <td>0.0</td>\n",
       "      <td>0.0</td>\n",
       "      <td>Henegouwen</td>\n",
       "      <td>Moeskroen</td>\n",
       "    </tr>\n",
       "    <tr>\n",
       "      <th>25880</th>\n",
       "      <td>300000.0</td>\n",
       "      <td>8430</td>\n",
       "      <td>APARTMENT</td>\n",
       "      <td>APARTMENT</td>\n",
       "      <td>NaN</td>\n",
       "      <td>1.0</td>\n",
       "      <td>65.0</td>\n",
       "      <td>False</td>\n",
       "      <td>1.0</td>\n",
       "      <td>NaN</td>\n",
       "      <td>...</td>\n",
       "      <td>NaN</td>\n",
       "      <td>NaN</td>\n",
       "      <td>NaN</td>\n",
       "      <td>NaN</td>\n",
       "      <td>2.0</td>\n",
       "      <td>NaN</td>\n",
       "      <td>NaN</td>\n",
       "      <td>1.0</td>\n",
       "      <td>West-Vlaanderen</td>\n",
       "      <td>Middelkerke</td>\n",
       "    </tr>\n",
       "  </tbody>\n",
       "</table>\n",
       "<p>25881 rows × 22 columns</p>\n",
       "</div>"
      ],
      "text/plain": [
       "          Price Locality Type_of_Property Subtype_of_Property  \\\n",
       "0      475000.0     1800        APARTMENT                LOFT   \n",
       "1      895000.0     2000        APARTMENT              DUPLEX   \n",
       "2      685000.0     1180        APARTMENT           PENTHOUSE   \n",
       "3      289000.0     8680        APARTMENT           APARTMENT   \n",
       "4           NaN     8900      HOUSE_GROUP         HOUSE_GROUP   \n",
       "...         ...      ...              ...                 ...   \n",
       "25876  295000.0     6747            HOUSE             MANSION   \n",
       "25877  448000.0     9880            HOUSE               HOUSE   \n",
       "25878  350000.0     1070        APARTMENT           APARTMENT   \n",
       "25879  225000.0     7700        APARTMENT           APARTMENT   \n",
       "25880  300000.0     8430        APARTMENT           APARTMENT   \n",
       "\n",
       "      State_of_the_Building  Number_of_Rooms  Living_Area  \\\n",
       "0                       NaN              3.0        400.0   \n",
       "1                       NaN              3.0        286.0   \n",
       "2            JUST_RENOVATED              2.0        127.0   \n",
       "3            JUST_RENOVATED              3.0        120.0   \n",
       "4                       NaN              NaN          NaN   \n",
       "...                     ...              ...          ...   \n",
       "25876           TO_RENOVATE              5.0        260.0   \n",
       "25877                  GOOD              4.0        169.0   \n",
       "25878                   NaN              1.0        140.0   \n",
       "25879                  GOOD              3.0        112.0   \n",
       "25880                   NaN              1.0         65.0   \n",
       "\n",
       "       Fully_Equipped_Kitchen  Furnished  Open_fire  ...  Garden  Garden_Area  \\\n",
       "0                       False        NaN        NaN  ...     NaN          NaN   \n",
       "1                        True        NaN        NaN  ...     NaN          NaN   \n",
       "2                       False        NaN        NaN  ...     NaN          NaN   \n",
       "3                       False        NaN        NaN  ...     NaN          NaN   \n",
       "4                       False        NaN        NaN  ...     NaN          NaN   \n",
       "...                       ...        ...        ...  ...     ...          ...   \n",
       "25876                   False        NaN        NaN  ...     1.0       1600.0   \n",
       "25877                   False        NaN        NaN  ...     NaN          NaN   \n",
       "25878                   False        NaN        1.0  ...     NaN          NaN   \n",
       "25879                   False        0.0        NaN  ...     NaN          NaN   \n",
       "25880                   False        1.0        NaN  ...     NaN          NaN   \n",
       "\n",
       "       Surface_of_the_Land  Surface_area_plot_of_land  Number_of_Facades  \\\n",
       "0                      NaN                        NaN                NaN   \n",
       "1                      NaN                        NaN                NaN   \n",
       "2                      NaN                        NaN                4.0   \n",
       "3                      NaN                        NaN                NaN   \n",
       "4                      NaN                        NaN                NaN   \n",
       "...                    ...                        ...                ...   \n",
       "25876               1600.0                     1809.0                4.0   \n",
       "25877                  NaN                      770.0                NaN   \n",
       "25878                  NaN                        NaN                2.0   \n",
       "25879                  NaN                        NaN                2.0   \n",
       "25880                  NaN                        NaN                2.0   \n",
       "\n",
       "       Swimming_Pool  Disabled_Access  Lift         province  Municipality  \n",
       "0                NaN              NaN   NaN   Vlaams-Brabant     Vilvoorde  \n",
       "1                NaN              NaN   NaN        Antwerpen     Antwerpen  \n",
       "2                0.0              0.0   1.0          Brussel         Ukkel  \n",
       "3                NaN              NaN   1.0  West-Vlaanderen         Zande  \n",
       "4                NaN              NaN   NaN  West-Vlaanderen      Sint-Jan  \n",
       "...              ...              ...   ...              ...           ...  \n",
       "25876            NaN              NaN   NaN        Luxemburg   Saint-léger  \n",
       "25877            NaN              NaN   NaN  Oost-Vlaanderen         Poeke  \n",
       "25878            NaN              NaN   1.0          Brussel    Anderlecht  \n",
       "25879            0.0              0.0   0.0       Henegouwen     Moeskroen  \n",
       "25880            NaN              NaN   1.0  West-Vlaanderen   Middelkerke  \n",
       "\n",
       "[25881 rows x 22 columns]"
      ]
     },
     "execution_count": 88,
     "metadata": {},
     "output_type": "execute_result"
    }
   ],
   "source": [
    "ds"
   ]
  },
  {
   "cell_type": "code",
   "execution_count": 89,
   "metadata": {},
   "outputs": [
    {
     "data": {
      "text/plain": [
       "Garden\n",
       "1.0    5582\n",
       "Name: count, dtype: int64"
      ]
     },
     "execution_count": 89,
     "metadata": {},
     "output_type": "execute_result"
    }
   ],
   "source": [
    "ds[\"Garden\"].value_counts()"
   ]
  },
  {
   "cell_type": "code",
   "execution_count": 90,
   "metadata": {},
   "outputs": [
    {
     "data": {
      "text/plain": [
       "Garden_Area\n",
       "100.0      158\n",
       "50.0       135\n",
       "200.0      123\n",
       "1.0        119\n",
       "400.0       91\n",
       "          ... \n",
       "1324.0       1\n",
       "1085.0       1\n",
       "1334.0       1\n",
       "50000.0      1\n",
       "432.0        1\n",
       "Name: count, Length: 1026, dtype: int64"
      ]
     },
     "execution_count": 90,
     "metadata": {},
     "output_type": "execute_result"
    }
   ],
   "source": [
    "# candidate to DELETE\n",
    "ds[\"Garden_Area\"].value_counts()"
   ]
  },
  {
   "cell_type": "code",
   "execution_count": 91,
   "metadata": {},
   "outputs": [
    {
     "data": {
      "text/plain": [
       "Surface_of_the_Land\n",
       "100.0      158\n",
       "50.0       135\n",
       "200.0      123\n",
       "1.0        119\n",
       "400.0       91\n",
       "          ... \n",
       "1324.0       1\n",
       "1085.0       1\n",
       "1334.0       1\n",
       "50000.0      1\n",
       "432.0        1\n",
       "Name: count, Length: 1026, dtype: int64"
      ]
     },
     "execution_count": 91,
     "metadata": {},
     "output_type": "execute_result"
    }
   ],
   "source": [
    "# candidate to DELETE\n",
    "ds[\"Surface_of_the_Land\"].value_counts()"
   ]
  },
  {
   "cell_type": "code",
   "execution_count": 92,
   "metadata": {},
   "outputs": [
    {
     "data": {
      "text/plain": [
       "Surface_area_plot_of_land\n",
       "0.0        790\n",
       "200.0       99\n",
       "120.0       84\n",
       "180.0       72\n",
       "170.0       71\n",
       "          ... \n",
       "6303.0       1\n",
       "14299.0      1\n",
       "23912.0      1\n",
       "1829.0       1\n",
       "1809.0       1\n",
       "Name: count, Length: 2573, dtype: int64"
      ]
     },
     "execution_count": 92,
     "metadata": {},
     "output_type": "execute_result"
    }
   ],
   "source": [
    "# candidate to DELETE\n",
    "ds[\"Surface_area_plot_of_land\"].value_counts()"
   ]
  },
  {
   "cell_type": "code",
   "execution_count": 93,
   "metadata": {},
   "outputs": [
    {
     "data": {
      "text/plain": [
       "Number_of_Facades\n",
       "2.0     8683\n",
       "4.0     4552\n",
       "3.0     3908\n",
       "1.0       72\n",
       "5.0        4\n",
       "6.0        3\n",
       "15.0       1\n",
       "Name: count, dtype: int64"
      ]
     },
     "execution_count": 93,
     "metadata": {},
     "output_type": "execute_result"
    }
   ],
   "source": [
    "ds[\"Number_of_Facades\"].value_counts()"
   ]
  },
  {
   "cell_type": "code",
   "execution_count": 94,
   "metadata": {},
   "outputs": [
    {
     "data": {
      "text/plain": [
       "Swimming_Pool\n",
       "0.0    8727\n",
       "1.0     627\n",
       "Name: count, dtype: int64"
      ]
     },
     "execution_count": 94,
     "metadata": {},
     "output_type": "execute_result"
    }
   ],
   "source": [
    "# candidate to DELETE\n",
    "ds[\"Swimming_Pool\"].value_counts()"
   ]
  },
  {
   "cell_type": "code",
   "execution_count": 95,
   "metadata": {},
   "outputs": [
    {
     "data": {
      "text/plain": [
       "State_of_the_Building\n",
       "GOOD              9460\n",
       "AS_NEW            5255\n",
       "TO_RENOVATE       2335\n",
       "TO_BE_DONE_UP     1927\n",
       "JUST_RENOVATED    1530\n",
       "TO_RESTORE          95\n",
       "Name: count, dtype: int64"
      ]
     },
     "execution_count": 95,
     "metadata": {},
     "output_type": "execute_result"
    }
   ],
   "source": [
    "# candidate to DELETE, but we can check correlation between equipped kitchen and furhinsed, so I proposed to stay\n",
    "ds[\"State_of_the_Building\"].value_counts()"
   ]
  },
  {
   "cell_type": "code",
   "execution_count": 96,
   "metadata": {},
   "outputs": [
    {
     "data": {
      "text/html": [
       "<div>\n",
       "<style scoped>\n",
       "    .dataframe tbody tr th:only-of-type {\n",
       "        vertical-align: middle;\n",
       "    }\n",
       "\n",
       "    .dataframe tbody tr th {\n",
       "        vertical-align: top;\n",
       "    }\n",
       "\n",
       "    .dataframe thead th {\n",
       "        text-align: right;\n",
       "    }\n",
       "</style>\n",
       "<table border=\"1\" class=\"dataframe\">\n",
       "  <thead>\n",
       "    <tr style=\"text-align: right;\">\n",
       "      <th></th>\n",
       "      <th>Price</th>\n",
       "      <th>Locality</th>\n",
       "      <th>Type_of_Property</th>\n",
       "      <th>Subtype_of_Property</th>\n",
       "      <th>State_of_the_Building</th>\n",
       "      <th>Number_of_Rooms</th>\n",
       "      <th>Living_Area</th>\n",
       "      <th>Fully_Equipped_Kitchen</th>\n",
       "      <th>Furnished</th>\n",
       "      <th>Open_fire</th>\n",
       "      <th>...</th>\n",
       "      <th>Garden</th>\n",
       "      <th>Garden_Area</th>\n",
       "      <th>Surface_of_the_Land</th>\n",
       "      <th>Surface_area_plot_of_land</th>\n",
       "      <th>Number_of_Facades</th>\n",
       "      <th>Swimming_Pool</th>\n",
       "      <th>Disabled_Access</th>\n",
       "      <th>Lift</th>\n",
       "      <th>province</th>\n",
       "      <th>Municipality</th>\n",
       "    </tr>\n",
       "  </thead>\n",
       "  <tbody>\n",
       "    <tr>\n",
       "      <th>0</th>\n",
       "      <td>475000.0</td>\n",
       "      <td>1800</td>\n",
       "      <td>APARTMENT</td>\n",
       "      <td>LOFT</td>\n",
       "      <td>NaN</td>\n",
       "      <td>3.0</td>\n",
       "      <td>400.0</td>\n",
       "      <td>False</td>\n",
       "      <td>NaN</td>\n",
       "      <td>NaN</td>\n",
       "      <td>...</td>\n",
       "      <td>NaN</td>\n",
       "      <td>NaN</td>\n",
       "      <td>NaN</td>\n",
       "      <td>NaN</td>\n",
       "      <td>NaN</td>\n",
       "      <td>NaN</td>\n",
       "      <td>NaN</td>\n",
       "      <td>NaN</td>\n",
       "      <td>Vlaams-Brabant</td>\n",
       "      <td>Vilvoorde</td>\n",
       "    </tr>\n",
       "    <tr>\n",
       "      <th>1</th>\n",
       "      <td>895000.0</td>\n",
       "      <td>2000</td>\n",
       "      <td>APARTMENT</td>\n",
       "      <td>DUPLEX</td>\n",
       "      <td>NaN</td>\n",
       "      <td>3.0</td>\n",
       "      <td>286.0</td>\n",
       "      <td>True</td>\n",
       "      <td>NaN</td>\n",
       "      <td>NaN</td>\n",
       "      <td>...</td>\n",
       "      <td>NaN</td>\n",
       "      <td>NaN</td>\n",
       "      <td>NaN</td>\n",
       "      <td>NaN</td>\n",
       "      <td>NaN</td>\n",
       "      <td>NaN</td>\n",
       "      <td>NaN</td>\n",
       "      <td>NaN</td>\n",
       "      <td>Antwerpen</td>\n",
       "      <td>Antwerpen</td>\n",
       "    </tr>\n",
       "    <tr>\n",
       "      <th>2</th>\n",
       "      <td>685000.0</td>\n",
       "      <td>1180</td>\n",
       "      <td>APARTMENT</td>\n",
       "      <td>PENTHOUSE</td>\n",
       "      <td>JUST_RENOVATED</td>\n",
       "      <td>2.0</td>\n",
       "      <td>127.0</td>\n",
       "      <td>False</td>\n",
       "      <td>NaN</td>\n",
       "      <td>NaN</td>\n",
       "      <td>...</td>\n",
       "      <td>NaN</td>\n",
       "      <td>NaN</td>\n",
       "      <td>NaN</td>\n",
       "      <td>NaN</td>\n",
       "      <td>4.0</td>\n",
       "      <td>0.0</td>\n",
       "      <td>0.0</td>\n",
       "      <td>1.0</td>\n",
       "      <td>Brussel</td>\n",
       "      <td>Ukkel</td>\n",
       "    </tr>\n",
       "    <tr>\n",
       "      <th>3</th>\n",
       "      <td>289000.0</td>\n",
       "      <td>8680</td>\n",
       "      <td>APARTMENT</td>\n",
       "      <td>APARTMENT</td>\n",
       "      <td>JUST_RENOVATED</td>\n",
       "      <td>3.0</td>\n",
       "      <td>120.0</td>\n",
       "      <td>False</td>\n",
       "      <td>NaN</td>\n",
       "      <td>NaN</td>\n",
       "      <td>...</td>\n",
       "      <td>NaN</td>\n",
       "      <td>NaN</td>\n",
       "      <td>NaN</td>\n",
       "      <td>NaN</td>\n",
       "      <td>NaN</td>\n",
       "      <td>NaN</td>\n",
       "      <td>NaN</td>\n",
       "      <td>1.0</td>\n",
       "      <td>West-Vlaanderen</td>\n",
       "      <td>Zande</td>\n",
       "    </tr>\n",
       "    <tr>\n",
       "      <th>4</th>\n",
       "      <td>NaN</td>\n",
       "      <td>8900</td>\n",
       "      <td>HOUSE_GROUP</td>\n",
       "      <td>HOUSE_GROUP</td>\n",
       "      <td>NaN</td>\n",
       "      <td>NaN</td>\n",
       "      <td>NaN</td>\n",
       "      <td>False</td>\n",
       "      <td>NaN</td>\n",
       "      <td>NaN</td>\n",
       "      <td>...</td>\n",
       "      <td>NaN</td>\n",
       "      <td>NaN</td>\n",
       "      <td>NaN</td>\n",
       "      <td>NaN</td>\n",
       "      <td>NaN</td>\n",
       "      <td>NaN</td>\n",
       "      <td>NaN</td>\n",
       "      <td>NaN</td>\n",
       "      <td>West-Vlaanderen</td>\n",
       "      <td>Sint-Jan</td>\n",
       "    </tr>\n",
       "    <tr>\n",
       "      <th>...</th>\n",
       "      <td>...</td>\n",
       "      <td>...</td>\n",
       "      <td>...</td>\n",
       "      <td>...</td>\n",
       "      <td>...</td>\n",
       "      <td>...</td>\n",
       "      <td>...</td>\n",
       "      <td>...</td>\n",
       "      <td>...</td>\n",
       "      <td>...</td>\n",
       "      <td>...</td>\n",
       "      <td>...</td>\n",
       "      <td>...</td>\n",
       "      <td>...</td>\n",
       "      <td>...</td>\n",
       "      <td>...</td>\n",
       "      <td>...</td>\n",
       "      <td>...</td>\n",
       "      <td>...</td>\n",
       "      <td>...</td>\n",
       "      <td>...</td>\n",
       "    </tr>\n",
       "    <tr>\n",
       "      <th>25876</th>\n",
       "      <td>295000.0</td>\n",
       "      <td>6747</td>\n",
       "      <td>HOUSE</td>\n",
       "      <td>MANSION</td>\n",
       "      <td>TO_RENOVATE</td>\n",
       "      <td>5.0</td>\n",
       "      <td>260.0</td>\n",
       "      <td>False</td>\n",
       "      <td>NaN</td>\n",
       "      <td>NaN</td>\n",
       "      <td>...</td>\n",
       "      <td>1.0</td>\n",
       "      <td>1600.0</td>\n",
       "      <td>1600.0</td>\n",
       "      <td>1809.0</td>\n",
       "      <td>4.0</td>\n",
       "      <td>NaN</td>\n",
       "      <td>NaN</td>\n",
       "      <td>NaN</td>\n",
       "      <td>Luxemburg</td>\n",
       "      <td>Saint-léger</td>\n",
       "    </tr>\n",
       "    <tr>\n",
       "      <th>25877</th>\n",
       "      <td>448000.0</td>\n",
       "      <td>9880</td>\n",
       "      <td>HOUSE</td>\n",
       "      <td>HOUSE</td>\n",
       "      <td>GOOD</td>\n",
       "      <td>4.0</td>\n",
       "      <td>169.0</td>\n",
       "      <td>False</td>\n",
       "      <td>NaN</td>\n",
       "      <td>NaN</td>\n",
       "      <td>...</td>\n",
       "      <td>NaN</td>\n",
       "      <td>NaN</td>\n",
       "      <td>NaN</td>\n",
       "      <td>770.0</td>\n",
       "      <td>NaN</td>\n",
       "      <td>NaN</td>\n",
       "      <td>NaN</td>\n",
       "      <td>NaN</td>\n",
       "      <td>Oost-Vlaanderen</td>\n",
       "      <td>Poeke</td>\n",
       "    </tr>\n",
       "    <tr>\n",
       "      <th>25878</th>\n",
       "      <td>350000.0</td>\n",
       "      <td>1070</td>\n",
       "      <td>APARTMENT</td>\n",
       "      <td>APARTMENT</td>\n",
       "      <td>NaN</td>\n",
       "      <td>1.0</td>\n",
       "      <td>140.0</td>\n",
       "      <td>False</td>\n",
       "      <td>NaN</td>\n",
       "      <td>1.0</td>\n",
       "      <td>...</td>\n",
       "      <td>NaN</td>\n",
       "      <td>NaN</td>\n",
       "      <td>NaN</td>\n",
       "      <td>NaN</td>\n",
       "      <td>2.0</td>\n",
       "      <td>NaN</td>\n",
       "      <td>NaN</td>\n",
       "      <td>1.0</td>\n",
       "      <td>Brussel</td>\n",
       "      <td>Anderlecht</td>\n",
       "    </tr>\n",
       "    <tr>\n",
       "      <th>25879</th>\n",
       "      <td>225000.0</td>\n",
       "      <td>7700</td>\n",
       "      <td>APARTMENT</td>\n",
       "      <td>APARTMENT</td>\n",
       "      <td>GOOD</td>\n",
       "      <td>3.0</td>\n",
       "      <td>112.0</td>\n",
       "      <td>False</td>\n",
       "      <td>0.0</td>\n",
       "      <td>NaN</td>\n",
       "      <td>...</td>\n",
       "      <td>NaN</td>\n",
       "      <td>NaN</td>\n",
       "      <td>NaN</td>\n",
       "      <td>NaN</td>\n",
       "      <td>2.0</td>\n",
       "      <td>0.0</td>\n",
       "      <td>0.0</td>\n",
       "      <td>0.0</td>\n",
       "      <td>Henegouwen</td>\n",
       "      <td>Moeskroen</td>\n",
       "    </tr>\n",
       "    <tr>\n",
       "      <th>25880</th>\n",
       "      <td>300000.0</td>\n",
       "      <td>8430</td>\n",
       "      <td>APARTMENT</td>\n",
       "      <td>APARTMENT</td>\n",
       "      <td>NaN</td>\n",
       "      <td>1.0</td>\n",
       "      <td>65.0</td>\n",
       "      <td>False</td>\n",
       "      <td>1.0</td>\n",
       "      <td>NaN</td>\n",
       "      <td>...</td>\n",
       "      <td>NaN</td>\n",
       "      <td>NaN</td>\n",
       "      <td>NaN</td>\n",
       "      <td>NaN</td>\n",
       "      <td>2.0</td>\n",
       "      <td>NaN</td>\n",
       "      <td>NaN</td>\n",
       "      <td>1.0</td>\n",
       "      <td>West-Vlaanderen</td>\n",
       "      <td>Middelkerke</td>\n",
       "    </tr>\n",
       "  </tbody>\n",
       "</table>\n",
       "<p>25881 rows × 22 columns</p>\n",
       "</div>"
      ],
      "text/plain": [
       "          Price Locality Type_of_Property Subtype_of_Property  \\\n",
       "0      475000.0     1800        APARTMENT                LOFT   \n",
       "1      895000.0     2000        APARTMENT              DUPLEX   \n",
       "2      685000.0     1180        APARTMENT           PENTHOUSE   \n",
       "3      289000.0     8680        APARTMENT           APARTMENT   \n",
       "4           NaN     8900      HOUSE_GROUP         HOUSE_GROUP   \n",
       "...         ...      ...              ...                 ...   \n",
       "25876  295000.0     6747            HOUSE             MANSION   \n",
       "25877  448000.0     9880            HOUSE               HOUSE   \n",
       "25878  350000.0     1070        APARTMENT           APARTMENT   \n",
       "25879  225000.0     7700        APARTMENT           APARTMENT   \n",
       "25880  300000.0     8430        APARTMENT           APARTMENT   \n",
       "\n",
       "      State_of_the_Building  Number_of_Rooms  Living_Area  \\\n",
       "0                       NaN              3.0        400.0   \n",
       "1                       NaN              3.0        286.0   \n",
       "2            JUST_RENOVATED              2.0        127.0   \n",
       "3            JUST_RENOVATED              3.0        120.0   \n",
       "4                       NaN              NaN          NaN   \n",
       "...                     ...              ...          ...   \n",
       "25876           TO_RENOVATE              5.0        260.0   \n",
       "25877                  GOOD              4.0        169.0   \n",
       "25878                   NaN              1.0        140.0   \n",
       "25879                  GOOD              3.0        112.0   \n",
       "25880                   NaN              1.0         65.0   \n",
       "\n",
       "       Fully_Equipped_Kitchen  Furnished  Open_fire  ...  Garden  Garden_Area  \\\n",
       "0                       False        NaN        NaN  ...     NaN          NaN   \n",
       "1                        True        NaN        NaN  ...     NaN          NaN   \n",
       "2                       False        NaN        NaN  ...     NaN          NaN   \n",
       "3                       False        NaN        NaN  ...     NaN          NaN   \n",
       "4                       False        NaN        NaN  ...     NaN          NaN   \n",
       "...                       ...        ...        ...  ...     ...          ...   \n",
       "25876                   False        NaN        NaN  ...     1.0       1600.0   \n",
       "25877                   False        NaN        NaN  ...     NaN          NaN   \n",
       "25878                   False        NaN        1.0  ...     NaN          NaN   \n",
       "25879                   False        0.0        NaN  ...     NaN          NaN   \n",
       "25880                   False        1.0        NaN  ...     NaN          NaN   \n",
       "\n",
       "       Surface_of_the_Land  Surface_area_plot_of_land  Number_of_Facades  \\\n",
       "0                      NaN                        NaN                NaN   \n",
       "1                      NaN                        NaN                NaN   \n",
       "2                      NaN                        NaN                4.0   \n",
       "3                      NaN                        NaN                NaN   \n",
       "4                      NaN                        NaN                NaN   \n",
       "...                    ...                        ...                ...   \n",
       "25876               1600.0                     1809.0                4.0   \n",
       "25877                  NaN                      770.0                NaN   \n",
       "25878                  NaN                        NaN                2.0   \n",
       "25879                  NaN                        NaN                2.0   \n",
       "25880                  NaN                        NaN                2.0   \n",
       "\n",
       "       Swimming_Pool  Disabled_Access  Lift         province  Municipality  \n",
       "0                NaN              NaN   NaN   Vlaams-Brabant     Vilvoorde  \n",
       "1                NaN              NaN   NaN        Antwerpen     Antwerpen  \n",
       "2                0.0              0.0   1.0          Brussel         Ukkel  \n",
       "3                NaN              NaN   1.0  West-Vlaanderen         Zande  \n",
       "4                NaN              NaN   NaN  West-Vlaanderen      Sint-Jan  \n",
       "...              ...              ...   ...              ...           ...  \n",
       "25876            NaN              NaN   NaN        Luxemburg   Saint-léger  \n",
       "25877            NaN              NaN   NaN  Oost-Vlaanderen         Poeke  \n",
       "25878            NaN              NaN   1.0          Brussel    Anderlecht  \n",
       "25879            0.0              0.0   0.0       Henegouwen     Moeskroen  \n",
       "25880            NaN              NaN   1.0  West-Vlaanderen   Middelkerke  \n",
       "\n",
       "[25881 rows x 22 columns]"
      ]
     },
     "execution_count": 96,
     "metadata": {},
     "output_type": "execute_result"
    }
   ],
   "source": [
    "ds"
   ]
  },
  {
   "cell_type": "code",
   "execution_count": 97,
   "metadata": {},
   "outputs": [
    {
     "data": {
      "text/html": [
       "<div>\n",
       "<style scoped>\n",
       "    .dataframe tbody tr th:only-of-type {\n",
       "        vertical-align: middle;\n",
       "    }\n",
       "\n",
       "    .dataframe tbody tr th {\n",
       "        vertical-align: top;\n",
       "    }\n",
       "\n",
       "    .dataframe thead th {\n",
       "        text-align: right;\n",
       "    }\n",
       "</style>\n",
       "<table border=\"1\" class=\"dataframe\">\n",
       "  <thead>\n",
       "    <tr style=\"text-align: right;\">\n",
       "      <th></th>\n",
       "      <th>Price</th>\n",
       "      <th>Locality</th>\n",
       "      <th>Type_of_Property</th>\n",
       "      <th>Subtype_of_Property</th>\n",
       "      <th>State_of_the_Building</th>\n",
       "      <th>Number_of_Rooms</th>\n",
       "      <th>Living_Area</th>\n",
       "      <th>Fully_Equipped_Kitchen</th>\n",
       "      <th>Furnished</th>\n",
       "      <th>Terrace</th>\n",
       "      <th>Terrace_Area</th>\n",
       "      <th>Garden</th>\n",
       "      <th>Garden_Area</th>\n",
       "      <th>Surface_of_the_Land</th>\n",
       "      <th>Number_of_Facades</th>\n",
       "      <th>province</th>\n",
       "      <th>Municipality</th>\n",
       "    </tr>\n",
       "  </thead>\n",
       "  <tbody>\n",
       "    <tr>\n",
       "      <th>0</th>\n",
       "      <td>475000.0</td>\n",
       "      <td>1800</td>\n",
       "      <td>APARTMENT</td>\n",
       "      <td>LOFT</td>\n",
       "      <td>NaN</td>\n",
       "      <td>3.0</td>\n",
       "      <td>400.0</td>\n",
       "      <td>False</td>\n",
       "      <td>NaN</td>\n",
       "      <td>NaN</td>\n",
       "      <td>NaN</td>\n",
       "      <td>NaN</td>\n",
       "      <td>NaN</td>\n",
       "      <td>NaN</td>\n",
       "      <td>NaN</td>\n",
       "      <td>Vlaams-Brabant</td>\n",
       "      <td>Vilvoorde</td>\n",
       "    </tr>\n",
       "    <tr>\n",
       "      <th>1</th>\n",
       "      <td>895000.0</td>\n",
       "      <td>2000</td>\n",
       "      <td>APARTMENT</td>\n",
       "      <td>DUPLEX</td>\n",
       "      <td>NaN</td>\n",
       "      <td>3.0</td>\n",
       "      <td>286.0</td>\n",
       "      <td>True</td>\n",
       "      <td>NaN</td>\n",
       "      <td>1.0</td>\n",
       "      <td>30.0</td>\n",
       "      <td>NaN</td>\n",
       "      <td>NaN</td>\n",
       "      <td>NaN</td>\n",
       "      <td>NaN</td>\n",
       "      <td>Antwerpen</td>\n",
       "      <td>Antwerpen</td>\n",
       "    </tr>\n",
       "    <tr>\n",
       "      <th>2</th>\n",
       "      <td>685000.0</td>\n",
       "      <td>1180</td>\n",
       "      <td>APARTMENT</td>\n",
       "      <td>PENTHOUSE</td>\n",
       "      <td>JUST_RENOVATED</td>\n",
       "      <td>2.0</td>\n",
       "      <td>127.0</td>\n",
       "      <td>False</td>\n",
       "      <td>NaN</td>\n",
       "      <td>1.0</td>\n",
       "      <td>55.0</td>\n",
       "      <td>NaN</td>\n",
       "      <td>NaN</td>\n",
       "      <td>NaN</td>\n",
       "      <td>4.0</td>\n",
       "      <td>Brussel</td>\n",
       "      <td>Ukkel</td>\n",
       "    </tr>\n",
       "    <tr>\n",
       "      <th>3</th>\n",
       "      <td>289000.0</td>\n",
       "      <td>8680</td>\n",
       "      <td>APARTMENT</td>\n",
       "      <td>APARTMENT</td>\n",
       "      <td>JUST_RENOVATED</td>\n",
       "      <td>3.0</td>\n",
       "      <td>120.0</td>\n",
       "      <td>False</td>\n",
       "      <td>NaN</td>\n",
       "      <td>1.0</td>\n",
       "      <td>4.0</td>\n",
       "      <td>NaN</td>\n",
       "      <td>NaN</td>\n",
       "      <td>NaN</td>\n",
       "      <td>NaN</td>\n",
       "      <td>West-Vlaanderen</td>\n",
       "      <td>Zande</td>\n",
       "    </tr>\n",
       "    <tr>\n",
       "      <th>4</th>\n",
       "      <td>NaN</td>\n",
       "      <td>8900</td>\n",
       "      <td>HOUSE_GROUP</td>\n",
       "      <td>HOUSE_GROUP</td>\n",
       "      <td>NaN</td>\n",
       "      <td>NaN</td>\n",
       "      <td>NaN</td>\n",
       "      <td>False</td>\n",
       "      <td>NaN</td>\n",
       "      <td>NaN</td>\n",
       "      <td>NaN</td>\n",
       "      <td>NaN</td>\n",
       "      <td>NaN</td>\n",
       "      <td>NaN</td>\n",
       "      <td>NaN</td>\n",
       "      <td>West-Vlaanderen</td>\n",
       "      <td>Sint-Jan</td>\n",
       "    </tr>\n",
       "    <tr>\n",
       "      <th>...</th>\n",
       "      <td>...</td>\n",
       "      <td>...</td>\n",
       "      <td>...</td>\n",
       "      <td>...</td>\n",
       "      <td>...</td>\n",
       "      <td>...</td>\n",
       "      <td>...</td>\n",
       "      <td>...</td>\n",
       "      <td>...</td>\n",
       "      <td>...</td>\n",
       "      <td>...</td>\n",
       "      <td>...</td>\n",
       "      <td>...</td>\n",
       "      <td>...</td>\n",
       "      <td>...</td>\n",
       "      <td>...</td>\n",
       "      <td>...</td>\n",
       "    </tr>\n",
       "    <tr>\n",
       "      <th>25876</th>\n",
       "      <td>295000.0</td>\n",
       "      <td>6747</td>\n",
       "      <td>HOUSE</td>\n",
       "      <td>MANSION</td>\n",
       "      <td>TO_RENOVATE</td>\n",
       "      <td>5.0</td>\n",
       "      <td>260.0</td>\n",
       "      <td>False</td>\n",
       "      <td>NaN</td>\n",
       "      <td>1.0</td>\n",
       "      <td>30.0</td>\n",
       "      <td>1.0</td>\n",
       "      <td>1600.0</td>\n",
       "      <td>1600.0</td>\n",
       "      <td>4.0</td>\n",
       "      <td>Luxemburg</td>\n",
       "      <td>Saint-léger</td>\n",
       "    </tr>\n",
       "    <tr>\n",
       "      <th>25877</th>\n",
       "      <td>448000.0</td>\n",
       "      <td>9880</td>\n",
       "      <td>HOUSE</td>\n",
       "      <td>HOUSE</td>\n",
       "      <td>GOOD</td>\n",
       "      <td>4.0</td>\n",
       "      <td>169.0</td>\n",
       "      <td>False</td>\n",
       "      <td>NaN</td>\n",
       "      <td>NaN</td>\n",
       "      <td>NaN</td>\n",
       "      <td>NaN</td>\n",
       "      <td>NaN</td>\n",
       "      <td>NaN</td>\n",
       "      <td>NaN</td>\n",
       "      <td>Oost-Vlaanderen</td>\n",
       "      <td>Poeke</td>\n",
       "    </tr>\n",
       "    <tr>\n",
       "      <th>25878</th>\n",
       "      <td>350000.0</td>\n",
       "      <td>1070</td>\n",
       "      <td>APARTMENT</td>\n",
       "      <td>APARTMENT</td>\n",
       "      <td>NaN</td>\n",
       "      <td>1.0</td>\n",
       "      <td>140.0</td>\n",
       "      <td>False</td>\n",
       "      <td>NaN</td>\n",
       "      <td>1.0</td>\n",
       "      <td>10.0</td>\n",
       "      <td>NaN</td>\n",
       "      <td>NaN</td>\n",
       "      <td>NaN</td>\n",
       "      <td>2.0</td>\n",
       "      <td>Brussel</td>\n",
       "      <td>Anderlecht</td>\n",
       "    </tr>\n",
       "    <tr>\n",
       "      <th>25879</th>\n",
       "      <td>225000.0</td>\n",
       "      <td>7700</td>\n",
       "      <td>APARTMENT</td>\n",
       "      <td>APARTMENT</td>\n",
       "      <td>GOOD</td>\n",
       "      <td>3.0</td>\n",
       "      <td>112.0</td>\n",
       "      <td>False</td>\n",
       "      <td>0.0</td>\n",
       "      <td>1.0</td>\n",
       "      <td>4.0</td>\n",
       "      <td>NaN</td>\n",
       "      <td>NaN</td>\n",
       "      <td>NaN</td>\n",
       "      <td>2.0</td>\n",
       "      <td>Henegouwen</td>\n",
       "      <td>Moeskroen</td>\n",
       "    </tr>\n",
       "    <tr>\n",
       "      <th>25880</th>\n",
       "      <td>300000.0</td>\n",
       "      <td>8430</td>\n",
       "      <td>APARTMENT</td>\n",
       "      <td>APARTMENT</td>\n",
       "      <td>NaN</td>\n",
       "      <td>1.0</td>\n",
       "      <td>65.0</td>\n",
       "      <td>False</td>\n",
       "      <td>1.0</td>\n",
       "      <td>NaN</td>\n",
       "      <td>NaN</td>\n",
       "      <td>NaN</td>\n",
       "      <td>NaN</td>\n",
       "      <td>NaN</td>\n",
       "      <td>2.0</td>\n",
       "      <td>West-Vlaanderen</td>\n",
       "      <td>Middelkerke</td>\n",
       "    </tr>\n",
       "  </tbody>\n",
       "</table>\n",
       "<p>25881 rows × 17 columns</p>\n",
       "</div>"
      ],
      "text/plain": [
       "          Price Locality Type_of_Property Subtype_of_Property  \\\n",
       "0      475000.0     1800        APARTMENT                LOFT   \n",
       "1      895000.0     2000        APARTMENT              DUPLEX   \n",
       "2      685000.0     1180        APARTMENT           PENTHOUSE   \n",
       "3      289000.0     8680        APARTMENT           APARTMENT   \n",
       "4           NaN     8900      HOUSE_GROUP         HOUSE_GROUP   \n",
       "...         ...      ...              ...                 ...   \n",
       "25876  295000.0     6747            HOUSE             MANSION   \n",
       "25877  448000.0     9880            HOUSE               HOUSE   \n",
       "25878  350000.0     1070        APARTMENT           APARTMENT   \n",
       "25879  225000.0     7700        APARTMENT           APARTMENT   \n",
       "25880  300000.0     8430        APARTMENT           APARTMENT   \n",
       "\n",
       "      State_of_the_Building  Number_of_Rooms  Living_Area  \\\n",
       "0                       NaN              3.0        400.0   \n",
       "1                       NaN              3.0        286.0   \n",
       "2            JUST_RENOVATED              2.0        127.0   \n",
       "3            JUST_RENOVATED              3.0        120.0   \n",
       "4                       NaN              NaN          NaN   \n",
       "...                     ...              ...          ...   \n",
       "25876           TO_RENOVATE              5.0        260.0   \n",
       "25877                  GOOD              4.0        169.0   \n",
       "25878                   NaN              1.0        140.0   \n",
       "25879                  GOOD              3.0        112.0   \n",
       "25880                   NaN              1.0         65.0   \n",
       "\n",
       "       Fully_Equipped_Kitchen  Furnished  Terrace  Terrace_Area  Garden  \\\n",
       "0                       False        NaN      NaN           NaN     NaN   \n",
       "1                        True        NaN      1.0          30.0     NaN   \n",
       "2                       False        NaN      1.0          55.0     NaN   \n",
       "3                       False        NaN      1.0           4.0     NaN   \n",
       "4                       False        NaN      NaN           NaN     NaN   \n",
       "...                       ...        ...      ...           ...     ...   \n",
       "25876                   False        NaN      1.0          30.0     1.0   \n",
       "25877                   False        NaN      NaN           NaN     NaN   \n",
       "25878                   False        NaN      1.0          10.0     NaN   \n",
       "25879                   False        0.0      1.0           4.0     NaN   \n",
       "25880                   False        1.0      NaN           NaN     NaN   \n",
       "\n",
       "       Garden_Area  Surface_of_the_Land  Number_of_Facades         province  \\\n",
       "0              NaN                  NaN                NaN   Vlaams-Brabant   \n",
       "1              NaN                  NaN                NaN        Antwerpen   \n",
       "2              NaN                  NaN                4.0          Brussel   \n",
       "3              NaN                  NaN                NaN  West-Vlaanderen   \n",
       "4              NaN                  NaN                NaN  West-Vlaanderen   \n",
       "...            ...                  ...                ...              ...   \n",
       "25876       1600.0               1600.0                4.0        Luxemburg   \n",
       "25877          NaN                  NaN                NaN  Oost-Vlaanderen   \n",
       "25878          NaN                  NaN                2.0          Brussel   \n",
       "25879          NaN                  NaN                2.0       Henegouwen   \n",
       "25880          NaN                  NaN                2.0  West-Vlaanderen   \n",
       "\n",
       "      Municipality  \n",
       "0        Vilvoorde  \n",
       "1        Antwerpen  \n",
       "2            Ukkel  \n",
       "3            Zande  \n",
       "4         Sint-Jan  \n",
       "...            ...  \n",
       "25876  Saint-léger  \n",
       "25877        Poeke  \n",
       "25878   Anderlecht  \n",
       "25879    Moeskroen  \n",
       "25880  Middelkerke  \n",
       "\n",
       "[25881 rows x 17 columns]"
      ]
     },
     "execution_count": 97,
     "metadata": {},
     "output_type": "execute_result"
    }
   ],
   "source": [
    "# to delete columns\n",
    "df = ds.drop(columns = [\"Open_fire\", \"Swimming_Pool\", \"Disabled_Access\", \"Surface_area_plot_of_land\", \"Lift\"])\n",
    "# df = data.drop(columns = [\"Open_fire\"], [\"Number_of_Fasades\"]) # to name dataset for our analysis\n",
    "# data.drop(columns = [\"Open_fire\"], [\"Number_of_Fasades\"], inplace = True) - to inplace our dataset \n",
    "df\n"
   ]
  },
  {
   "cell_type": "code",
   "execution_count": 98,
   "metadata": {},
   "outputs": [
    {
     "data": {
      "text/plain": [
       "1887"
      ]
     },
     "execution_count": 98,
     "metadata": {},
     "output_type": "execute_result"
    }
   ],
   "source": [
    "# check duplicates !!!!HOW CAN WE SEE THEM?!!!\n",
    "df.duplicated().sum()"
   ]
  },
  {
   "cell_type": "code",
   "execution_count": 99,
   "metadata": {},
   "outputs": [],
   "source": [
    "# to delete duplicates\n",
    "df.drop_duplicates(inplace = True)"
   ]
  },
  {
   "cell_type": "code",
   "execution_count": 100,
   "metadata": {},
   "outputs": [
    {
     "data": {
      "text/plain": [
       "0"
      ]
     },
     "execution_count": 100,
     "metadata": {},
     "output_type": "execute_result"
    }
   ],
   "source": [
    "# check duplicates\n",
    "df.duplicated().sum()"
   ]
  },
  {
   "cell_type": "code",
   "execution_count": 101,
   "metadata": {},
   "outputs": [
    {
     "data": {
      "text/html": [
       "<div>\n",
       "<style scoped>\n",
       "    .dataframe tbody tr th:only-of-type {\n",
       "        vertical-align: middle;\n",
       "    }\n",
       "\n",
       "    .dataframe tbody tr th {\n",
       "        vertical-align: top;\n",
       "    }\n",
       "\n",
       "    .dataframe thead th {\n",
       "        text-align: right;\n",
       "    }\n",
       "</style>\n",
       "<table border=\"1\" class=\"dataframe\">\n",
       "  <thead>\n",
       "    <tr style=\"text-align: right;\">\n",
       "      <th></th>\n",
       "      <th>Price</th>\n",
       "      <th>Locality</th>\n",
       "      <th>Type_of_Property</th>\n",
       "      <th>Subtype_of_Property</th>\n",
       "      <th>State_of_the_Building</th>\n",
       "      <th>Number_of_Rooms</th>\n",
       "      <th>Living_Area</th>\n",
       "      <th>Fully_Equipped_Kitchen</th>\n",
       "      <th>Furnished</th>\n",
       "      <th>Terrace</th>\n",
       "      <th>Terrace_Area</th>\n",
       "      <th>Garden</th>\n",
       "      <th>Garden_Area</th>\n",
       "      <th>Surface_of_the_Land</th>\n",
       "      <th>Number_of_Facades</th>\n",
       "      <th>province</th>\n",
       "      <th>Municipality</th>\n",
       "    </tr>\n",
       "  </thead>\n",
       "  <tbody>\n",
       "    <tr>\n",
       "      <th>0</th>\n",
       "      <td>475000.0</td>\n",
       "      <td>1800</td>\n",
       "      <td>APARTMENT</td>\n",
       "      <td>LOFT</td>\n",
       "      <td>NaN</td>\n",
       "      <td>3.0</td>\n",
       "      <td>400.0</td>\n",
       "      <td>False</td>\n",
       "      <td>NaN</td>\n",
       "      <td>NaN</td>\n",
       "      <td>NaN</td>\n",
       "      <td>NaN</td>\n",
       "      <td>NaN</td>\n",
       "      <td>NaN</td>\n",
       "      <td>NaN</td>\n",
       "      <td>Vlaams-Brabant</td>\n",
       "      <td>Vilvoorde</td>\n",
       "    </tr>\n",
       "    <tr>\n",
       "      <th>1</th>\n",
       "      <td>895000.0</td>\n",
       "      <td>2000</td>\n",
       "      <td>APARTMENT</td>\n",
       "      <td>DUPLEX</td>\n",
       "      <td>NaN</td>\n",
       "      <td>3.0</td>\n",
       "      <td>286.0</td>\n",
       "      <td>True</td>\n",
       "      <td>NaN</td>\n",
       "      <td>1.0</td>\n",
       "      <td>30.0</td>\n",
       "      <td>NaN</td>\n",
       "      <td>NaN</td>\n",
       "      <td>NaN</td>\n",
       "      <td>NaN</td>\n",
       "      <td>Antwerpen</td>\n",
       "      <td>Antwerpen</td>\n",
       "    </tr>\n",
       "    <tr>\n",
       "      <th>2</th>\n",
       "      <td>685000.0</td>\n",
       "      <td>1180</td>\n",
       "      <td>APARTMENT</td>\n",
       "      <td>PENTHOUSE</td>\n",
       "      <td>JUST_RENOVATED</td>\n",
       "      <td>2.0</td>\n",
       "      <td>127.0</td>\n",
       "      <td>False</td>\n",
       "      <td>NaN</td>\n",
       "      <td>1.0</td>\n",
       "      <td>55.0</td>\n",
       "      <td>NaN</td>\n",
       "      <td>NaN</td>\n",
       "      <td>NaN</td>\n",
       "      <td>4.0</td>\n",
       "      <td>Brussel</td>\n",
       "      <td>Ukkel</td>\n",
       "    </tr>\n",
       "    <tr>\n",
       "      <th>3</th>\n",
       "      <td>289000.0</td>\n",
       "      <td>8680</td>\n",
       "      <td>APARTMENT</td>\n",
       "      <td>APARTMENT</td>\n",
       "      <td>JUST_RENOVATED</td>\n",
       "      <td>3.0</td>\n",
       "      <td>120.0</td>\n",
       "      <td>False</td>\n",
       "      <td>NaN</td>\n",
       "      <td>1.0</td>\n",
       "      <td>4.0</td>\n",
       "      <td>NaN</td>\n",
       "      <td>NaN</td>\n",
       "      <td>NaN</td>\n",
       "      <td>NaN</td>\n",
       "      <td>West-Vlaanderen</td>\n",
       "      <td>Zande</td>\n",
       "    </tr>\n",
       "    <tr>\n",
       "      <th>4</th>\n",
       "      <td>NaN</td>\n",
       "      <td>8900</td>\n",
       "      <td>HOUSE_GROUP</td>\n",
       "      <td>HOUSE_GROUP</td>\n",
       "      <td>NaN</td>\n",
       "      <td>NaN</td>\n",
       "      <td>NaN</td>\n",
       "      <td>False</td>\n",
       "      <td>NaN</td>\n",
       "      <td>NaN</td>\n",
       "      <td>NaN</td>\n",
       "      <td>NaN</td>\n",
       "      <td>NaN</td>\n",
       "      <td>NaN</td>\n",
       "      <td>NaN</td>\n",
       "      <td>West-Vlaanderen</td>\n",
       "      <td>Sint-Jan</td>\n",
       "    </tr>\n",
       "    <tr>\n",
       "      <th>...</th>\n",
       "      <td>...</td>\n",
       "      <td>...</td>\n",
       "      <td>...</td>\n",
       "      <td>...</td>\n",
       "      <td>...</td>\n",
       "      <td>...</td>\n",
       "      <td>...</td>\n",
       "      <td>...</td>\n",
       "      <td>...</td>\n",
       "      <td>...</td>\n",
       "      <td>...</td>\n",
       "      <td>...</td>\n",
       "      <td>...</td>\n",
       "      <td>...</td>\n",
       "      <td>...</td>\n",
       "      <td>...</td>\n",
       "      <td>...</td>\n",
       "    </tr>\n",
       "    <tr>\n",
       "      <th>25875</th>\n",
       "      <td>799000.0</td>\n",
       "      <td>9000</td>\n",
       "      <td>HOUSE</td>\n",
       "      <td>EXCEPTIONAL_PROPERTY</td>\n",
       "      <td>GOOD</td>\n",
       "      <td>5.0</td>\n",
       "      <td>330.0</td>\n",
       "      <td>False</td>\n",
       "      <td>NaN</td>\n",
       "      <td>NaN</td>\n",
       "      <td>NaN</td>\n",
       "      <td>1.0</td>\n",
       "      <td>69.0</td>\n",
       "      <td>69.0</td>\n",
       "      <td>NaN</td>\n",
       "      <td>Oost-Vlaanderen</td>\n",
       "      <td>Gent</td>\n",
       "    </tr>\n",
       "    <tr>\n",
       "      <th>25876</th>\n",
       "      <td>295000.0</td>\n",
       "      <td>6747</td>\n",
       "      <td>HOUSE</td>\n",
       "      <td>MANSION</td>\n",
       "      <td>TO_RENOVATE</td>\n",
       "      <td>5.0</td>\n",
       "      <td>260.0</td>\n",
       "      <td>False</td>\n",
       "      <td>NaN</td>\n",
       "      <td>1.0</td>\n",
       "      <td>30.0</td>\n",
       "      <td>1.0</td>\n",
       "      <td>1600.0</td>\n",
       "      <td>1600.0</td>\n",
       "      <td>4.0</td>\n",
       "      <td>Luxemburg</td>\n",
       "      <td>Saint-léger</td>\n",
       "    </tr>\n",
       "    <tr>\n",
       "      <th>25878</th>\n",
       "      <td>350000.0</td>\n",
       "      <td>1070</td>\n",
       "      <td>APARTMENT</td>\n",
       "      <td>APARTMENT</td>\n",
       "      <td>NaN</td>\n",
       "      <td>1.0</td>\n",
       "      <td>140.0</td>\n",
       "      <td>False</td>\n",
       "      <td>NaN</td>\n",
       "      <td>1.0</td>\n",
       "      <td>10.0</td>\n",
       "      <td>NaN</td>\n",
       "      <td>NaN</td>\n",
       "      <td>NaN</td>\n",
       "      <td>2.0</td>\n",
       "      <td>Brussel</td>\n",
       "      <td>Anderlecht</td>\n",
       "    </tr>\n",
       "    <tr>\n",
       "      <th>25879</th>\n",
       "      <td>225000.0</td>\n",
       "      <td>7700</td>\n",
       "      <td>APARTMENT</td>\n",
       "      <td>APARTMENT</td>\n",
       "      <td>GOOD</td>\n",
       "      <td>3.0</td>\n",
       "      <td>112.0</td>\n",
       "      <td>False</td>\n",
       "      <td>0.0</td>\n",
       "      <td>1.0</td>\n",
       "      <td>4.0</td>\n",
       "      <td>NaN</td>\n",
       "      <td>NaN</td>\n",
       "      <td>NaN</td>\n",
       "      <td>2.0</td>\n",
       "      <td>Henegouwen</td>\n",
       "      <td>Moeskroen</td>\n",
       "    </tr>\n",
       "    <tr>\n",
       "      <th>25880</th>\n",
       "      <td>300000.0</td>\n",
       "      <td>8430</td>\n",
       "      <td>APARTMENT</td>\n",
       "      <td>APARTMENT</td>\n",
       "      <td>NaN</td>\n",
       "      <td>1.0</td>\n",
       "      <td>65.0</td>\n",
       "      <td>False</td>\n",
       "      <td>1.0</td>\n",
       "      <td>NaN</td>\n",
       "      <td>NaN</td>\n",
       "      <td>NaN</td>\n",
       "      <td>NaN</td>\n",
       "      <td>NaN</td>\n",
       "      <td>2.0</td>\n",
       "      <td>West-Vlaanderen</td>\n",
       "      <td>Middelkerke</td>\n",
       "    </tr>\n",
       "  </tbody>\n",
       "</table>\n",
       "<p>23994 rows × 17 columns</p>\n",
       "</div>"
      ],
      "text/plain": [
       "          Price Locality Type_of_Property   Subtype_of_Property  \\\n",
       "0      475000.0     1800        APARTMENT                  LOFT   \n",
       "1      895000.0     2000        APARTMENT                DUPLEX   \n",
       "2      685000.0     1180        APARTMENT             PENTHOUSE   \n",
       "3      289000.0     8680        APARTMENT             APARTMENT   \n",
       "4           NaN     8900      HOUSE_GROUP           HOUSE_GROUP   \n",
       "...         ...      ...              ...                   ...   \n",
       "25875  799000.0     9000            HOUSE  EXCEPTIONAL_PROPERTY   \n",
       "25876  295000.0     6747            HOUSE               MANSION   \n",
       "25878  350000.0     1070        APARTMENT             APARTMENT   \n",
       "25879  225000.0     7700        APARTMENT             APARTMENT   \n",
       "25880  300000.0     8430        APARTMENT             APARTMENT   \n",
       "\n",
       "      State_of_the_Building  Number_of_Rooms  Living_Area  \\\n",
       "0                       NaN              3.0        400.0   \n",
       "1                       NaN              3.0        286.0   \n",
       "2            JUST_RENOVATED              2.0        127.0   \n",
       "3            JUST_RENOVATED              3.0        120.0   \n",
       "4                       NaN              NaN          NaN   \n",
       "...                     ...              ...          ...   \n",
       "25875                  GOOD              5.0        330.0   \n",
       "25876           TO_RENOVATE              5.0        260.0   \n",
       "25878                   NaN              1.0        140.0   \n",
       "25879                  GOOD              3.0        112.0   \n",
       "25880                   NaN              1.0         65.0   \n",
       "\n",
       "       Fully_Equipped_Kitchen  Furnished  Terrace  Terrace_Area  Garden  \\\n",
       "0                       False        NaN      NaN           NaN     NaN   \n",
       "1                        True        NaN      1.0          30.0     NaN   \n",
       "2                       False        NaN      1.0          55.0     NaN   \n",
       "3                       False        NaN      1.0           4.0     NaN   \n",
       "4                       False        NaN      NaN           NaN     NaN   \n",
       "...                       ...        ...      ...           ...     ...   \n",
       "25875                   False        NaN      NaN           NaN     1.0   \n",
       "25876                   False        NaN      1.0          30.0     1.0   \n",
       "25878                   False        NaN      1.0          10.0     NaN   \n",
       "25879                   False        0.0      1.0           4.0     NaN   \n",
       "25880                   False        1.0      NaN           NaN     NaN   \n",
       "\n",
       "       Garden_Area  Surface_of_the_Land  Number_of_Facades         province  \\\n",
       "0              NaN                  NaN                NaN   Vlaams-Brabant   \n",
       "1              NaN                  NaN                NaN        Antwerpen   \n",
       "2              NaN                  NaN                4.0          Brussel   \n",
       "3              NaN                  NaN                NaN  West-Vlaanderen   \n",
       "4              NaN                  NaN                NaN  West-Vlaanderen   \n",
       "...            ...                  ...                ...              ...   \n",
       "25875         69.0                 69.0                NaN  Oost-Vlaanderen   \n",
       "25876       1600.0               1600.0                4.0        Luxemburg   \n",
       "25878          NaN                  NaN                2.0          Brussel   \n",
       "25879          NaN                  NaN                2.0       Henegouwen   \n",
       "25880          NaN                  NaN                2.0  West-Vlaanderen   \n",
       "\n",
       "      Municipality  \n",
       "0        Vilvoorde  \n",
       "1        Antwerpen  \n",
       "2            Ukkel  \n",
       "3            Zande  \n",
       "4         Sint-Jan  \n",
       "...            ...  \n",
       "25875         Gent  \n",
       "25876  Saint-léger  \n",
       "25878   Anderlecht  \n",
       "25879    Moeskroen  \n",
       "25880  Middelkerke  \n",
       "\n",
       "[23994 rows x 17 columns]"
      ]
     },
     "execution_count": 101,
     "metadata": {},
     "output_type": "execute_result"
    }
   ],
   "source": [
    "df"
   ]
  },
  {
   "cell_type": "code",
   "execution_count": 102,
   "metadata": {},
   "outputs": [
    {
     "data": {
      "text/plain": [
       "(23994, 17)"
      ]
     },
     "execution_count": 102,
     "metadata": {},
     "output_type": "execute_result"
    }
   ],
   "source": [
    "df.shape"
   ]
  },
  {
   "cell_type": "code",
   "execution_count": 103,
   "metadata": {},
   "outputs": [],
   "source": [
    "# to count total amount of any values\n",
    "# df.isna().sum().sum()"
   ]
  },
  {
   "cell_type": "code",
   "execution_count": 104,
   "metadata": {},
   "outputs": [],
   "source": [
    "# ???df.dropna(inplace = True)"
   ]
  },
  {
   "cell_type": "code",
   "execution_count": 105,
   "metadata": {},
   "outputs": [],
   "source": [
    "# ???df.isna().sum().sum()"
   ]
  },
  {
   "cell_type": "code",
   "execution_count": 106,
   "metadata": {},
   "outputs": [
    {
     "data": {
      "text/plain": [
       "Subtype_of_Property\n",
       "HOUSE                   9474\n",
       "APARTMENT               8360\n",
       "VILLA                   1192\n",
       "APARTMENT_BLOCK          574\n",
       "DUPLEX                   566\n",
       "GROUND_FLOOR             539\n",
       "MIXED_USE_BUILDING       530\n",
       "PENTHOUSE                482\n",
       "FLAT_STUDIO              411\n",
       "APARTMENT_GROUP          285\n",
       "HOUSE_GROUP              262\n",
       "EXCEPTIONAL_PROPERTY     224\n",
       "MANSION                  197\n",
       "TOWN_HOUSE               166\n",
       "SERVICE_FLAT             136\n",
       "BUNGALOW                 134\n",
       "COUNTRY_COTTAGE          119\n",
       "LOFT                      99\n",
       "TRIPLEX                   65\n",
       "KOT                       62\n",
       "FARMHOUSE                 55\n",
       "CHALET                    31\n",
       "MANOR_HOUSE               14\n",
       "CASTLE                     9\n",
       "OTHER_PROPERTY             8\n",
       "Name: count, dtype: int64"
      ]
     },
     "execution_count": 106,
     "metadata": {},
     "output_type": "execute_result"
    }
   ],
   "source": [
    "# to COUNT and CORT values\n",
    "df[\"Subtype_of_Property\"].value_counts().sort_values(ascending = False)"
   ]
  },
  {
   "cell_type": "code",
   "execution_count": 107,
   "metadata": {},
   "outputs": [
    {
     "data": {
      "text/plain": [
       "Subtype_of_Property\n",
       "HOUSE                   9474\n",
       "APARTMENT               8360\n",
       "VILLA                   1192\n",
       "APARTMENT_BLOCK          574\n",
       "DUPLEX                   566\n",
       "GROUND_FLOOR             539\n",
       "MIXED_USE_BUILDING       530\n",
       "PENTHOUSE                482\n",
       "FLAT_STUDIO              411\n",
       "APARTMENT_GROUP          285\n",
       "HOUSE_GROUP              262\n",
       "EXCEPTIONAL_PROPERTY     224\n",
       "MANSION                  197\n",
       "TOWN_HOUSE               166\n",
       "SERVICE_FLAT             136\n",
       "Name: count, dtype: int64"
      ]
     },
     "execution_count": 107,
     "metadata": {},
     "output_type": "execute_result"
    }
   ],
   "source": [
    "# to COUNT and CORT values (discending) and look at TOP 7\n",
    "df[\"Subtype_of_Property\"].value_counts().sort_values(ascending = False).head(15)"
   ]
  },
  {
   "cell_type": "code",
   "execution_count": 108,
   "metadata": {},
   "outputs": [
    {
     "data": {
      "text/plain": [
       "<Axes: xlabel='Subtype_of_Property'>"
      ]
     },
     "execution_count": 108,
     "metadata": {},
     "output_type": "execute_result"
    },
    {
     "data": {
      "image/png": "[encoded data removed]",
      "text/plain": [
       "<Figure size 640x480 with 1 Axes>"
      ]
     },
     "metadata": {},
     "output_type": "display_data"
    }
   ],
   "source": [
    "# to COUNT and CORT values (discending) and look at plot var\n",
    "df[\"Subtype_of_Property\"].value_counts().sort_values(ascending = False).plot(kind = \"bar\")"
   ]
  },
  {
   "cell_type": "code",
   "execution_count": 109,
   "metadata": {},
   "outputs": [],
   "source": [
    "import matplotlib.pyplot as plt"
   ]
  },
  {
   "cell_type": "code",
   "execution_count": 110,
   "metadata": {},
   "outputs": [
    {
     "data": {
      "image/png": "[encoded data removed]",
      "text/plain": [
       "<Figure size 640x480 with 1 Axes>"
      ]
     },
     "metadata": {},
     "output_type": "display_data"
    }
   ],
   "source": [
    "# use matplotlib.pyplot to apdate our bar\n",
    "df[\"Subtype_of_Property\"].value_counts().sort_values(ascending = False).head(10).plot(kind = \"bar\")\n",
    "plt.title(\"Number of Subtype of Property\")\n",
    "plt.ylabel(\"Listing Number\")\n",
    "plt.xlabel(\"Types\")\n",
    "plt.show()"
   ]
  },
  {
   "cell_type": "code",
   "execution_count": 112,
   "metadata": {},
   "outputs": [
    {
     "data": {
      "image/png": "[encoded data removed]",
      "text/plain": [
       "<Figure size 1200x800 with 1 Axes>"
      ]
     },
     "metadata": {},
     "output_type": "display_data"
    }
   ],
   "source": [
    "import matplotlib.pyplot as plt\n",
    "import numpy as np\n",
    "\n",
    "# Data\n",
    "subtype_data = {\n",
    "    \"HOUSE\": 9474,\n",
    "    \"APARTMENT\": 8360,\n",
    "    \"VILLA\": 1192,\n",
    "    \"APARTMENT_BLOCK\": 574,\n",
    "    \"DUPLEX\": 566,\n",
    "    \"GROUND_FLOOR\": 539,\n",
    "    \"MIXED_USE_BUILDING\": 530,\n",
    "    \"PENTHOUSE\": 482,\n",
    "    \"FLAT_STUDIO\": 411,\n",
    "    \"APARTMENT_GROUP\": 285,\n",
    "    \"HOUSE_GROUP\": 262,\n",
    "    \"EXCEPTIONAL_PROPERTY\": 224,\n",
    "    \"MANSION\": 197,\n",
    "    \"TOWN_HOUSE\": 166,\n",
    "    \"SERVICE_FLAT\": 136,\n",
    "}\n",
    "\n",
    "# Convert to sorted lists for plotting\n",
    "subtypes = list(subtype_data.keys())\n",
    "counts = list(subtype_data.values())\n",
    "\n",
    "# Sorting the data by counts\n",
    "sorted_indices = np.argsort(counts)[::-1]  # Descending order\n",
    "subtypes = [subtypes[i] for i in sorted_indices]\n",
    "counts = [counts[i] for i in sorted_indices]\n",
    "\n",
    "# Creating the bar chart with a colormap\n",
    "colors = plt.cm.viridis(np.linspace(0, 1, len(subtypes)))\n",
    "\n",
    "plt.figure(figsize=(12, 8))\n",
    "plt.bar(subtypes, counts, color=colors)\n",
    "\n",
    "plt.title(\"Number of Subtype of Property\", fontsize=16)\n",
    "plt.ylabel(\"Listing Number\", fontsize=12)\n",
    "plt.xlabel(\"Subtype of Property\", fontsize=12)\n",
    "plt.xticks(rotation=45, ha='right')\n",
    "plt.tight_layout()\n",
    "\n",
    "plt.show()\n"
   ]
  },
  {
   "cell_type": "code",
   "execution_count": 113,
   "metadata": {},
   "outputs": [
    {
     "data": {
      "text/plain": [
       "Locality  Subtype_of_Property\n",
       "03001     APARTMENT               299000.0\n",
       "03150     HOUSE                   289000.0\n",
       "03170     VILLA                   540000.0\n",
       "03186     PENTHOUSE               234900.0\n",
       "03187     VILLA                   349450.0\n",
       "                                   ...    \n",
       "9991      HOUSE_GROUP                  NaN\n",
       "          VILLA                   778000.0\n",
       "9992      FARMHOUSE               672500.0\n",
       "          HOUSE                   972000.0\n",
       "          VILLA                  1095000.0\n",
       "Name: Price, Length: 4423, dtype: float64"
      ]
     },
     "execution_count": 113,
     "metadata": {},
     "output_type": "execute_result"
    }
   ],
   "source": [
    "df.groupby([\"Locality\", \"Subtype_of_Property\"])[\"Price\"].mean()"
   ]
  },
  {
   "cell_type": "code",
   "execution_count": 114,
   "metadata": {},
   "outputs": [
    {
     "data": {
      "text/html": [
       "<div>\n",
       "<style scoped>\n",
       "    .dataframe tbody tr th:only-of-type {\n",
       "        vertical-align: middle;\n",
       "    }\n",
       "\n",
       "    .dataframe tbody tr th {\n",
       "        vertical-align: top;\n",
       "    }\n",
       "\n",
       "    .dataframe thead th {\n",
       "        text-align: right;\n",
       "    }\n",
       "</style>\n",
       "<table border=\"1\" class=\"dataframe\">\n",
       "  <thead>\n",
       "    <tr style=\"text-align: right;\">\n",
       "      <th></th>\n",
       "      <th>Locality</th>\n",
       "      <th>Subtype_of_Property</th>\n",
       "      <th>Price</th>\n",
       "    </tr>\n",
       "  </thead>\n",
       "  <tbody>\n",
       "    <tr>\n",
       "      <th>0</th>\n",
       "      <td>03001</td>\n",
       "      <td>APARTMENT</td>\n",
       "      <td>299000.0</td>\n",
       "    </tr>\n",
       "    <tr>\n",
       "      <th>1</th>\n",
       "      <td>03150</td>\n",
       "      <td>HOUSE</td>\n",
       "      <td>289000.0</td>\n",
       "    </tr>\n",
       "    <tr>\n",
       "      <th>2</th>\n",
       "      <td>03170</td>\n",
       "      <td>VILLA</td>\n",
       "      <td>540000.0</td>\n",
       "    </tr>\n",
       "    <tr>\n",
       "      <th>3</th>\n",
       "      <td>03186</td>\n",
       "      <td>PENTHOUSE</td>\n",
       "      <td>234900.0</td>\n",
       "    </tr>\n",
       "    <tr>\n",
       "      <th>4</th>\n",
       "      <td>03187</td>\n",
       "      <td>VILLA</td>\n",
       "      <td>349450.0</td>\n",
       "    </tr>\n",
       "    <tr>\n",
       "      <th>...</th>\n",
       "      <td>...</td>\n",
       "      <td>...</td>\n",
       "      <td>...</td>\n",
       "    </tr>\n",
       "    <tr>\n",
       "      <th>4418</th>\n",
       "      <td>9991</td>\n",
       "      <td>HOUSE_GROUP</td>\n",
       "      <td>NaN</td>\n",
       "    </tr>\n",
       "    <tr>\n",
       "      <th>4419</th>\n",
       "      <td>9991</td>\n",
       "      <td>VILLA</td>\n",
       "      <td>778000.0</td>\n",
       "    </tr>\n",
       "    <tr>\n",
       "      <th>4420</th>\n",
       "      <td>9992</td>\n",
       "      <td>FARMHOUSE</td>\n",
       "      <td>672500.0</td>\n",
       "    </tr>\n",
       "    <tr>\n",
       "      <th>4421</th>\n",
       "      <td>9992</td>\n",
       "      <td>HOUSE</td>\n",
       "      <td>972000.0</td>\n",
       "    </tr>\n",
       "    <tr>\n",
       "      <th>4422</th>\n",
       "      <td>9992</td>\n",
       "      <td>VILLA</td>\n",
       "      <td>1095000.0</td>\n",
       "    </tr>\n",
       "  </tbody>\n",
       "</table>\n",
       "<p>4423 rows × 3 columns</p>\n",
       "</div>"
      ],
      "text/plain": [
       "     Locality Subtype_of_Property      Price\n",
       "0       03001           APARTMENT   299000.0\n",
       "1       03150               HOUSE   289000.0\n",
       "2       03170               VILLA   540000.0\n",
       "3       03186           PENTHOUSE   234900.0\n",
       "4       03187               VILLA   349450.0\n",
       "...       ...                 ...        ...\n",
       "4418     9991         HOUSE_GROUP        NaN\n",
       "4419     9991               VILLA   778000.0\n",
       "4420     9992           FARMHOUSE   672500.0\n",
       "4421     9992               HOUSE   972000.0\n",
       "4422     9992               VILLA  1095000.0\n",
       "\n",
       "[4423 rows x 3 columns]"
      ]
     },
     "execution_count": 114,
     "metadata": {},
     "output_type": "execute_result"
    }
   ],
   "source": [
    "df.groupby([\"Locality\", \"Subtype_of_Property\"])[\"Price\"].mean().reset_index()"
   ]
  },
  {
   "cell_type": "code",
   "execution_count": 115,
   "metadata": {},
   "outputs": [
    {
     "data": {
      "text/html": [
       "<div>\n",
       "<style scoped>\n",
       "    .dataframe tbody tr th:only-of-type {\n",
       "        vertical-align: middle;\n",
       "    }\n",
       "\n",
       "    .dataframe tbody tr th {\n",
       "        vertical-align: top;\n",
       "    }\n",
       "\n",
       "    .dataframe thead th {\n",
       "        text-align: right;\n",
       "    }\n",
       "</style>\n",
       "<table border=\"1\" class=\"dataframe\">\n",
       "  <thead>\n",
       "    <tr style=\"text-align: right;\">\n",
       "      <th></th>\n",
       "      <th>Price</th>\n",
       "      <th>Number_of_Rooms</th>\n",
       "      <th>Living_Area</th>\n",
       "      <th>Furnished</th>\n",
       "      <th>Terrace</th>\n",
       "      <th>Terrace_Area</th>\n",
       "      <th>Garden</th>\n",
       "      <th>Garden_Area</th>\n",
       "      <th>Surface_of_the_Land</th>\n",
       "      <th>Number_of_Facades</th>\n",
       "    </tr>\n",
       "  </thead>\n",
       "  <tbody>\n",
       "    <tr>\n",
       "      <th>0</th>\n",
       "      <td>475000.0</td>\n",
       "      <td>3.0</td>\n",
       "      <td>400.0</td>\n",
       "      <td>NaN</td>\n",
       "      <td>NaN</td>\n",
       "      <td>NaN</td>\n",
       "      <td>NaN</td>\n",
       "      <td>NaN</td>\n",
       "      <td>NaN</td>\n",
       "      <td>NaN</td>\n",
       "    </tr>\n",
       "    <tr>\n",
       "      <th>1</th>\n",
       "      <td>895000.0</td>\n",
       "      <td>3.0</td>\n",
       "      <td>286.0</td>\n",
       "      <td>NaN</td>\n",
       "      <td>1.0</td>\n",
       "      <td>30.0</td>\n",
       "      <td>NaN</td>\n",
       "      <td>NaN</td>\n",
       "      <td>NaN</td>\n",
       "      <td>NaN</td>\n",
       "    </tr>\n",
       "    <tr>\n",
       "      <th>2</th>\n",
       "      <td>685000.0</td>\n",
       "      <td>2.0</td>\n",
       "      <td>127.0</td>\n",
       "      <td>NaN</td>\n",
       "      <td>1.0</td>\n",
       "      <td>55.0</td>\n",
       "      <td>NaN</td>\n",
       "      <td>NaN</td>\n",
       "      <td>NaN</td>\n",
       "      <td>4.0</td>\n",
       "    </tr>\n",
       "    <tr>\n",
       "      <th>3</th>\n",
       "      <td>289000.0</td>\n",
       "      <td>3.0</td>\n",
       "      <td>120.0</td>\n",
       "      <td>NaN</td>\n",
       "      <td>1.0</td>\n",
       "      <td>4.0</td>\n",
       "      <td>NaN</td>\n",
       "      <td>NaN</td>\n",
       "      <td>NaN</td>\n",
       "      <td>NaN</td>\n",
       "    </tr>\n",
       "    <tr>\n",
       "      <th>4</th>\n",
       "      <td>NaN</td>\n",
       "      <td>NaN</td>\n",
       "      <td>NaN</td>\n",
       "      <td>NaN</td>\n",
       "      <td>NaN</td>\n",
       "      <td>NaN</td>\n",
       "      <td>NaN</td>\n",
       "      <td>NaN</td>\n",
       "      <td>NaN</td>\n",
       "      <td>NaN</td>\n",
       "    </tr>\n",
       "    <tr>\n",
       "      <th>...</th>\n",
       "      <td>...</td>\n",
       "      <td>...</td>\n",
       "      <td>...</td>\n",
       "      <td>...</td>\n",
       "      <td>...</td>\n",
       "      <td>...</td>\n",
       "      <td>...</td>\n",
       "      <td>...</td>\n",
       "      <td>...</td>\n",
       "      <td>...</td>\n",
       "    </tr>\n",
       "    <tr>\n",
       "      <th>25875</th>\n",
       "      <td>799000.0</td>\n",
       "      <td>5.0</td>\n",
       "      <td>330.0</td>\n",
       "      <td>NaN</td>\n",
       "      <td>NaN</td>\n",
       "      <td>NaN</td>\n",
       "      <td>1.0</td>\n",
       "      <td>69.0</td>\n",
       "      <td>69.0</td>\n",
       "      <td>NaN</td>\n",
       "    </tr>\n",
       "    <tr>\n",
       "      <th>25876</th>\n",
       "      <td>295000.0</td>\n",
       "      <td>5.0</td>\n",
       "      <td>260.0</td>\n",
       "      <td>NaN</td>\n",
       "      <td>1.0</td>\n",
       "      <td>30.0</td>\n",
       "      <td>1.0</td>\n",
       "      <td>1600.0</td>\n",
       "      <td>1600.0</td>\n",
       "      <td>4.0</td>\n",
       "    </tr>\n",
       "    <tr>\n",
       "      <th>25878</th>\n",
       "      <td>350000.0</td>\n",
       "      <td>1.0</td>\n",
       "      <td>140.0</td>\n",
       "      <td>NaN</td>\n",
       "      <td>1.0</td>\n",
       "      <td>10.0</td>\n",
       "      <td>NaN</td>\n",
       "      <td>NaN</td>\n",
       "      <td>NaN</td>\n",
       "      <td>2.0</td>\n",
       "    </tr>\n",
       "    <tr>\n",
       "      <th>25879</th>\n",
       "      <td>225000.0</td>\n",
       "      <td>3.0</td>\n",
       "      <td>112.0</td>\n",
       "      <td>0.0</td>\n",
       "      <td>1.0</td>\n",
       "      <td>4.0</td>\n",
       "      <td>NaN</td>\n",
       "      <td>NaN</td>\n",
       "      <td>NaN</td>\n",
       "      <td>2.0</td>\n",
       "    </tr>\n",
       "    <tr>\n",
       "      <th>25880</th>\n",
       "      <td>300000.0</td>\n",
       "      <td>1.0</td>\n",
       "      <td>65.0</td>\n",
       "      <td>1.0</td>\n",
       "      <td>NaN</td>\n",
       "      <td>NaN</td>\n",
       "      <td>NaN</td>\n",
       "      <td>NaN</td>\n",
       "      <td>NaN</td>\n",
       "      <td>2.0</td>\n",
       "    </tr>\n",
       "  </tbody>\n",
       "</table>\n",
       "<p>23994 rows × 10 columns</p>\n",
       "</div>"
      ],
      "text/plain": [
       "          Price  Number_of_Rooms  Living_Area  Furnished  Terrace  \\\n",
       "0      475000.0              3.0        400.0        NaN      NaN   \n",
       "1      895000.0              3.0        286.0        NaN      1.0   \n",
       "2      685000.0              2.0        127.0        NaN      1.0   \n",
       "3      289000.0              3.0        120.0        NaN      1.0   \n",
       "4           NaN              NaN          NaN        NaN      NaN   \n",
       "...         ...              ...          ...        ...      ...   \n",
       "25875  799000.0              5.0        330.0        NaN      NaN   \n",
       "25876  295000.0              5.0        260.0        NaN      1.0   \n",
       "25878  350000.0              1.0        140.0        NaN      1.0   \n",
       "25879  225000.0              3.0        112.0        0.0      1.0   \n",
       "25880  300000.0              1.0         65.0        1.0      NaN   \n",
       "\n",
       "       Terrace_Area  Garden  Garden_Area  Surface_of_the_Land  \\\n",
       "0               NaN     NaN          NaN                  NaN   \n",
       "1              30.0     NaN          NaN                  NaN   \n",
       "2              55.0     NaN          NaN                  NaN   \n",
       "3               4.0     NaN          NaN                  NaN   \n",
       "4               NaN     NaN          NaN                  NaN   \n",
       "...             ...     ...          ...                  ...   \n",
       "25875           NaN     1.0         69.0                 69.0   \n",
       "25876          30.0     1.0       1600.0               1600.0   \n",
       "25878          10.0     NaN          NaN                  NaN   \n",
       "25879           4.0     NaN          NaN                  NaN   \n",
       "25880           NaN     NaN          NaN                  NaN   \n",
       "\n",
       "       Number_of_Facades  \n",
       "0                    NaN  \n",
       "1                    NaN  \n",
       "2                    4.0  \n",
       "3                    NaN  \n",
       "4                    NaN  \n",
       "...                  ...  \n",
       "25875                NaN  \n",
       "25876                4.0  \n",
       "25878                2.0  \n",
       "25879                2.0  \n",
       "25880                2.0  \n",
       "\n",
       "[23994 rows x 10 columns]"
      ]
     },
     "execution_count": 115,
     "metadata": {},
     "output_type": "execute_result"
    }
   ],
   "source": [
    "# to find correlation between valeus and Price\n",
    "df.select_dtypes(include=[\"number\"])"
   ]
  },
  {
   "cell_type": "code",
   "execution_count": 117,
   "metadata": {},
   "outputs": [
    {
     "data": {
      "text/plain": [
       "Price                  1.000000\n",
       "Number_of_Rooms        0.369129\n",
       "Living_Area            0.440590\n",
       "Furnished              0.048203\n",
       "Terrace                     NaN\n",
       "Terrace_Area           0.154283\n",
       "Garden                      NaN\n",
       "Garden_Area            0.220467\n",
       "Surface_of_the_Land    0.220467\n",
       "Number_of_Facades      0.191151\n",
       "Name: Price, dtype: float64"
      ]
     },
     "execution_count": 117,
     "metadata": {},
     "output_type": "execute_result"
    }
   ],
   "source": [
    "# full line to find correlation between valeus and Price\n",
    "df.select_dtypes(include=[\"number\"]).corr()[\"Price\"]"
   ]
  },
  {
   "cell_type": "code",
   "execution_count": null,
   "metadata": {},
   "outputs": [],
   "source": [
    "To create a treemap using the plotly.express library (px.treemap) with continuous color.locality\n",
    "Explanation:\n",
    "path=['Locality']: Specifies the hierarchy of the treemap.\n",
    "values='Value': Specifies the numerical values used to size the rectangles.\n",
    "color='Value': Uses the same column for color intensity.\n",
    "color_continuous_scale='Viridis': Sets the color scale; you can customize it (e.g., 'Plasma', 'Cividis', etc.).\n",
    "This will display a treemap where each locality is represented as a rectangle sized by the Value column and colored according to the same values."
   ]
  },
  {
   "cell_type": "code",
   "execution_count": 119,
   "metadata": {},
   "outputs": [
    {
     "data": {
      "text/html": [
       "<div>\n",
       "<style scoped>\n",
       "    .dataframe tbody tr th:only-of-type {\n",
       "        vertical-align: middle;\n",
       "    }\n",
       "\n",
       "    .dataframe tbody tr th {\n",
       "        vertical-align: top;\n",
       "    }\n",
       "\n",
       "    .dataframe thead th {\n",
       "        text-align: right;\n",
       "    }\n",
       "</style>\n",
       "<table border=\"1\" class=\"dataframe\">\n",
       "  <thead>\n",
       "    <tr style=\"text-align: right;\">\n",
       "      <th></th>\n",
       "      <th>Price</th>\n",
       "      <th>Locality</th>\n",
       "      <th>Type_of_Property</th>\n",
       "      <th>Subtype_of_Property</th>\n",
       "      <th>State_of_the_Building</th>\n",
       "      <th>Number_of_Rooms</th>\n",
       "      <th>Living_Area</th>\n",
       "      <th>Fully_Equipped_Kitchen</th>\n",
       "      <th>Furnished</th>\n",
       "      <th>Terrace</th>\n",
       "      <th>Terrace_Area</th>\n",
       "      <th>Garden</th>\n",
       "      <th>Garden_Area</th>\n",
       "      <th>Surface_of_the_Land</th>\n",
       "      <th>Number_of_Facades</th>\n",
       "      <th>province</th>\n",
       "      <th>Municipality</th>\n",
       "    </tr>\n",
       "  </thead>\n",
       "  <tbody>\n",
       "    <tr>\n",
       "      <th>0</th>\n",
       "      <td>475000.0</td>\n",
       "      <td>1800</td>\n",
       "      <td>APARTMENT</td>\n",
       "      <td>LOFT</td>\n",
       "      <td>NaN</td>\n",
       "      <td>3.0</td>\n",
       "      <td>400.0</td>\n",
       "      <td>False</td>\n",
       "      <td>NaN</td>\n",
       "      <td>NaN</td>\n",
       "      <td>NaN</td>\n",
       "      <td>NaN</td>\n",
       "      <td>NaN</td>\n",
       "      <td>NaN</td>\n",
       "      <td>NaN</td>\n",
       "      <td>Vlaams-Brabant</td>\n",
       "      <td>Vilvoorde</td>\n",
       "    </tr>\n",
       "    <tr>\n",
       "      <th>1</th>\n",
       "      <td>895000.0</td>\n",
       "      <td>2000</td>\n",
       "      <td>APARTMENT</td>\n",
       "      <td>DUPLEX</td>\n",
       "      <td>NaN</td>\n",
       "      <td>3.0</td>\n",
       "      <td>286.0</td>\n",
       "      <td>True</td>\n",
       "      <td>NaN</td>\n",
       "      <td>1.0</td>\n",
       "      <td>30.0</td>\n",
       "      <td>NaN</td>\n",
       "      <td>NaN</td>\n",
       "      <td>NaN</td>\n",
       "      <td>NaN</td>\n",
       "      <td>Antwerpen</td>\n",
       "      <td>Antwerpen</td>\n",
       "    </tr>\n",
       "    <tr>\n",
       "      <th>2</th>\n",
       "      <td>685000.0</td>\n",
       "      <td>1180</td>\n",
       "      <td>APARTMENT</td>\n",
       "      <td>PENTHOUSE</td>\n",
       "      <td>JUST_RENOVATED</td>\n",
       "      <td>2.0</td>\n",
       "      <td>127.0</td>\n",
       "      <td>False</td>\n",
       "      <td>NaN</td>\n",
       "      <td>1.0</td>\n",
       "      <td>55.0</td>\n",
       "      <td>NaN</td>\n",
       "      <td>NaN</td>\n",
       "      <td>NaN</td>\n",
       "      <td>4.0</td>\n",
       "      <td>Brussel</td>\n",
       "      <td>Ukkel</td>\n",
       "    </tr>\n",
       "    <tr>\n",
       "      <th>3</th>\n",
       "      <td>289000.0</td>\n",
       "      <td>8680</td>\n",
       "      <td>APARTMENT</td>\n",
       "      <td>APARTMENT</td>\n",
       "      <td>JUST_RENOVATED</td>\n",
       "      <td>3.0</td>\n",
       "      <td>120.0</td>\n",
       "      <td>False</td>\n",
       "      <td>NaN</td>\n",
       "      <td>1.0</td>\n",
       "      <td>4.0</td>\n",
       "      <td>NaN</td>\n",
       "      <td>NaN</td>\n",
       "      <td>NaN</td>\n",
       "      <td>NaN</td>\n",
       "      <td>West-Vlaanderen</td>\n",
       "      <td>Zande</td>\n",
       "    </tr>\n",
       "    <tr>\n",
       "      <th>4</th>\n",
       "      <td>NaN</td>\n",
       "      <td>8900</td>\n",
       "      <td>HOUSE_GROUP</td>\n",
       "      <td>HOUSE_GROUP</td>\n",
       "      <td>NaN</td>\n",
       "      <td>NaN</td>\n",
       "      <td>NaN</td>\n",
       "      <td>False</td>\n",
       "      <td>NaN</td>\n",
       "      <td>NaN</td>\n",
       "      <td>NaN</td>\n",
       "      <td>NaN</td>\n",
       "      <td>NaN</td>\n",
       "      <td>NaN</td>\n",
       "      <td>NaN</td>\n",
       "      <td>West-Vlaanderen</td>\n",
       "      <td>Sint-Jan</td>\n",
       "    </tr>\n",
       "    <tr>\n",
       "      <th>...</th>\n",
       "      <td>...</td>\n",
       "      <td>...</td>\n",
       "      <td>...</td>\n",
       "      <td>...</td>\n",
       "      <td>...</td>\n",
       "      <td>...</td>\n",
       "      <td>...</td>\n",
       "      <td>...</td>\n",
       "      <td>...</td>\n",
       "      <td>...</td>\n",
       "      <td>...</td>\n",
       "      <td>...</td>\n",
       "      <td>...</td>\n",
       "      <td>...</td>\n",
       "      <td>...</td>\n",
       "      <td>...</td>\n",
       "      <td>...</td>\n",
       "    </tr>\n",
       "    <tr>\n",
       "      <th>25875</th>\n",
       "      <td>799000.0</td>\n",
       "      <td>9000</td>\n",
       "      <td>HOUSE</td>\n",
       "      <td>EXCEPTIONAL_PROPERTY</td>\n",
       "      <td>GOOD</td>\n",
       "      <td>5.0</td>\n",
       "      <td>330.0</td>\n",
       "      <td>False</td>\n",
       "      <td>NaN</td>\n",
       "      <td>NaN</td>\n",
       "      <td>NaN</td>\n",
       "      <td>1.0</td>\n",
       "      <td>69.0</td>\n",
       "      <td>69.0</td>\n",
       "      <td>NaN</td>\n",
       "      <td>Oost-Vlaanderen</td>\n",
       "      <td>Gent</td>\n",
       "    </tr>\n",
       "    <tr>\n",
       "      <th>25876</th>\n",
       "      <td>295000.0</td>\n",
       "      <td>6747</td>\n",
       "      <td>HOUSE</td>\n",
       "      <td>MANSION</td>\n",
       "      <td>TO_RENOVATE</td>\n",
       "      <td>5.0</td>\n",
       "      <td>260.0</td>\n",
       "      <td>False</td>\n",
       "      <td>NaN</td>\n",
       "      <td>1.0</td>\n",
       "      <td>30.0</td>\n",
       "      <td>1.0</td>\n",
       "      <td>1600.0</td>\n",
       "      <td>1600.0</td>\n",
       "      <td>4.0</td>\n",
       "      <td>Luxemburg</td>\n",
       "      <td>Saint-léger</td>\n",
       "    </tr>\n",
       "    <tr>\n",
       "      <th>25878</th>\n",
       "      <td>350000.0</td>\n",
       "      <td>1070</td>\n",
       "      <td>APARTMENT</td>\n",
       "      <td>APARTMENT</td>\n",
       "      <td>NaN</td>\n",
       "      <td>1.0</td>\n",
       "      <td>140.0</td>\n",
       "      <td>False</td>\n",
       "      <td>NaN</td>\n",
       "      <td>1.0</td>\n",
       "      <td>10.0</td>\n",
       "      <td>NaN</td>\n",
       "      <td>NaN</td>\n",
       "      <td>NaN</td>\n",
       "      <td>2.0</td>\n",
       "      <td>Brussel</td>\n",
       "      <td>Anderlecht</td>\n",
       "    </tr>\n",
       "    <tr>\n",
       "      <th>25879</th>\n",
       "      <td>225000.0</td>\n",
       "      <td>7700</td>\n",
       "      <td>APARTMENT</td>\n",
       "      <td>APARTMENT</td>\n",
       "      <td>GOOD</td>\n",
       "      <td>3.0</td>\n",
       "      <td>112.0</td>\n",
       "      <td>False</td>\n",
       "      <td>0.0</td>\n",
       "      <td>1.0</td>\n",
       "      <td>4.0</td>\n",
       "      <td>NaN</td>\n",
       "      <td>NaN</td>\n",
       "      <td>NaN</td>\n",
       "      <td>2.0</td>\n",
       "      <td>Henegouwen</td>\n",
       "      <td>Moeskroen</td>\n",
       "    </tr>\n",
       "    <tr>\n",
       "      <th>25880</th>\n",
       "      <td>300000.0</td>\n",
       "      <td>8430</td>\n",
       "      <td>APARTMENT</td>\n",
       "      <td>APARTMENT</td>\n",
       "      <td>NaN</td>\n",
       "      <td>1.0</td>\n",
       "      <td>65.0</td>\n",
       "      <td>False</td>\n",
       "      <td>1.0</td>\n",
       "      <td>NaN</td>\n",
       "      <td>NaN</td>\n",
       "      <td>NaN</td>\n",
       "      <td>NaN</td>\n",
       "      <td>NaN</td>\n",
       "      <td>2.0</td>\n",
       "      <td>West-Vlaanderen</td>\n",
       "      <td>Middelkerke</td>\n",
       "    </tr>\n",
       "  </tbody>\n",
       "</table>\n",
       "<p>23994 rows × 17 columns</p>\n",
       "</div>"
      ],
      "text/plain": [
       "          Price Locality Type_of_Property   Subtype_of_Property  \\\n",
       "0      475000.0     1800        APARTMENT                  LOFT   \n",
       "1      895000.0     2000        APARTMENT                DUPLEX   \n",
       "2      685000.0     1180        APARTMENT             PENTHOUSE   \n",
       "3      289000.0     8680        APARTMENT             APARTMENT   \n",
       "4           NaN     8900      HOUSE_GROUP           HOUSE_GROUP   \n",
       "...         ...      ...              ...                   ...   \n",
       "25875  799000.0     9000            HOUSE  EXCEPTIONAL_PROPERTY   \n",
       "25876  295000.0     6747            HOUSE               MANSION   \n",
       "25878  350000.0     1070        APARTMENT             APARTMENT   \n",
       "25879  225000.0     7700        APARTMENT             APARTMENT   \n",
       "25880  300000.0     8430        APARTMENT             APARTMENT   \n",
       "\n",
       "      State_of_the_Building  Number_of_Rooms  Living_Area  \\\n",
       "0                       NaN              3.0        400.0   \n",
       "1                       NaN              3.0        286.0   \n",
       "2            JUST_RENOVATED              2.0        127.0   \n",
       "3            JUST_RENOVATED              3.0        120.0   \n",
       "4                       NaN              NaN          NaN   \n",
       "...                     ...              ...          ...   \n",
       "25875                  GOOD              5.0        330.0   \n",
       "25876           TO_RENOVATE              5.0        260.0   \n",
       "25878                   NaN              1.0        140.0   \n",
       "25879                  GOOD              3.0        112.0   \n",
       "25880                   NaN              1.0         65.0   \n",
       "\n",
       "       Fully_Equipped_Kitchen  Furnished  Terrace  Terrace_Area  Garden  \\\n",
       "0                       False        NaN      NaN           NaN     NaN   \n",
       "1                        True        NaN      1.0          30.0     NaN   \n",
       "2                       False        NaN      1.0          55.0     NaN   \n",
       "3                       False        NaN      1.0           4.0     NaN   \n",
       "4                       False        NaN      NaN           NaN     NaN   \n",
       "...                       ...        ...      ...           ...     ...   \n",
       "25875                   False        NaN      NaN           NaN     1.0   \n",
       "25876                   False        NaN      1.0          30.0     1.0   \n",
       "25878                   False        NaN      1.0          10.0     NaN   \n",
       "25879                   False        0.0      1.0           4.0     NaN   \n",
       "25880                   False        1.0      NaN           NaN     NaN   \n",
       "\n",
       "       Garden_Area  Surface_of_the_Land  Number_of_Facades         province  \\\n",
       "0              NaN                  NaN                NaN   Vlaams-Brabant   \n",
       "1              NaN                  NaN                NaN        Antwerpen   \n",
       "2              NaN                  NaN                4.0          Brussel   \n",
       "3              NaN                  NaN                NaN  West-Vlaanderen   \n",
       "4              NaN                  NaN                NaN  West-Vlaanderen   \n",
       "...            ...                  ...                ...              ...   \n",
       "25875         69.0                 69.0                NaN  Oost-Vlaanderen   \n",
       "25876       1600.0               1600.0                4.0        Luxemburg   \n",
       "25878          NaN                  NaN                2.0          Brussel   \n",
       "25879          NaN                  NaN                2.0       Henegouwen   \n",
       "25880          NaN                  NaN                2.0  West-Vlaanderen   \n",
       "\n",
       "      Municipality  \n",
       "0        Vilvoorde  \n",
       "1        Antwerpen  \n",
       "2            Ukkel  \n",
       "3            Zande  \n",
       "4         Sint-Jan  \n",
       "...            ...  \n",
       "25875         Gent  \n",
       "25876  Saint-léger  \n",
       "25878   Anderlecht  \n",
       "25879    Moeskroen  \n",
       "25880  Middelkerke  \n",
       "\n",
       "[23994 rows x 17 columns]"
      ]
     },
     "execution_count": 119,
     "metadata": {},
     "output_type": "execute_result"
    }
   ],
   "source": [
    "df"
   ]
  },
  {
   "cell_type": "code",
   "execution_count": 123,
   "metadata": {},
   "outputs": [
    {
     "data": {
      "text/plain": [
       "province\n",
       "West-Vlaanderen    5083\n",
       "Oost-Vlaanderen    4602\n",
       "Antwerpen          4057\n",
       "Brussel            3660\n",
       "Luik               2200\n",
       "Vlaams-Brabant     2030\n",
       "Henegouwen         1176\n",
       "Waals-Brabant       812\n",
       "Luxemburg           809\n",
       "Limburg             706\n",
       "Namen               684\n",
       "Unknown              62\n",
       "Name: count, dtype: int64"
      ]
     },
     "execution_count": 123,
     "metadata": {},
     "output_type": "execute_result"
    }
   ],
   "source": [
    "# I would separate Brussels from other cities and build two different graphs\n",
    "locality = ds[\"province\"].value_counts().head(15)\n",
    "#locality.index\n",
    "locality\n",
    "\n",
    "#!!! Bruxelles and Brussel!!! What is the differrence?"
   ]
  },
  {
   "cell_type": "code",
   "execution_count": 124,
   "metadata": {},
   "outputs": [
    {
     "data": {
      "application/vnd.plotly.v1+json": {
       "config": {
        "plotlyServerURL": "https://plot.ly"
       },
       "data": [
        {
         "branchvalues": "total",
         "customdata": [
          [
           4057
          ],
          [
           3660
          ],
          [
           1176
          ],
          [
           706
          ],
          [
           2200
          ],
          [
           809
          ],
          [
           684
          ],
          [
           4602
          ],
          [
           2030
          ],
          [
           812
          ],
          [
           5083
          ]
         ],
         "domain": {
          "x": [
           0,
           1
          ],
          "y": [
           0,
           1
          ]
         },
         "hovertemplate": "labels=%{label}<br>Value_sum=%{value}<br>parent=%{parent}<br>id=%{id}<br>Value=%{color}<extra></extra>",
         "ids": [
          "Antwerpen",
          "Brussel",
          "Henegouwen",
          "Limburg",
          "Luik",
          "Luxemburg",
          "Namen",
          "Oost-Vlaanderen",
          "Vlaams-Brabant",
          "Waals-Brabant",
          "West-Vlaanderen"
         ],
         "labels": [
          "Antwerpen",
          "Brussel",
          "Henegouwen",
          "Limburg",
          "Luik",
          "Luxemburg",
          "Namen",
          "Oost-Vlaanderen",
          "Vlaams-Brabant",
          "Waals-Brabant",
          "West-Vlaanderen"
         ],
         "marker": {
          "coloraxis": "coloraxis",
          "colors": [
           4057,
           3660,
           1176,
           706,
           2200,
           809,
           684,
           4602,
           2030,
           812,
           5083
          ]
         },
         "name": "",
         "parents": [
          "",
          "",
          "",
          "",
          "",
          "",
          "",
          "",
          "",
          "",
          ""
         ],
         "type": "treemap",
         "values": [
          4057,
          3660,
          1176,
          706,
          2200,
          809,
          684,
          4602,
          2030,
          812,
          5083
         ]
        }
       ],
       "layout": {
        "coloraxis": {
         "colorbar": {
          "title": {
           "text": "Value"
          }
         },
         "colorscale": [
          [
           0,
           "#440154"
          ],
          [
           0.1111111111111111,
           "#482878"
          ],
          [
           0.2222222222222222,
           "#3e4989"
          ],
          [
           0.3333333333333333,
           "#31688e"
          ],
          [
           0.4444444444444444,
           "#26828e"
          ],
          [
           0.5555555555555556,
           "#1f9e89"
          ],
          [
           0.6666666666666666,
           "#35b779"
          ],
          [
           0.7777777777777778,
           "#6ece58"
          ],
          [
           0.8888888888888888,
           "#b5de2b"
          ],
          [
           1,
           "#fde725"
          ]
         ]
        },
        "legend": {
         "tracegroupgap": 0
        },
        "margin": {
         "t": 60
        },
        "template": {
         "data": {
          "bar": [
           {
            "error_x": {
             "color": "#2a3f5f"
            },
            "error_y": {
             "color": "#2a3f5f"
            },
            "marker": {
             "line": {
              "color": "#E5ECF6",
              "width": 0.5
             },
             "pattern": {
              "fillmode": "overlay",
              "size": 10,
              "solidity": 0.2
             }
            },
            "type": "bar"
           }
          ],
          "barpolar": [
           {
            "marker": {
             "line": {
              "color": "#E5ECF6",
              "width": 0.5
             },
             "pattern": {
              "fillmode": "overlay",
              "size": 10,
              "solidity": 0.2
             }
            },
            "type": "barpolar"
           }
          ],
          "carpet": [
           {
            "aaxis": {
             "endlinecolor": "#2a3f5f",
             "gridcolor": "white",
             "linecolor": "white",
             "minorgridcolor": "white",
             "startlinecolor": "#2a3f5f"
            },
            "baxis": {
             "endlinecolor": "#2a3f5f",
             "gridcolor": "white",
             "linecolor": "white",
             "minorgridcolor": "white",
             "startlinecolor": "#2a3f5f"
            },
            "type": "carpet"
           }
          ],
          "choropleth": [
           {
            "colorbar": {
             "outlinewidth": 0,
             "ticks": ""
            },
            "type": "choropleth"
           }
          ],
          "contour": [
           {
            "colorbar": {
             "outlinewidth": 0,
             "ticks": ""
            },
            "colorscale": [
             [
              0,
              "#0d0887"
             ],
             [
              0.1111111111111111,
              "#46039f"
             ],
             [
              0.2222222222222222,
              "#7201a8"
             ],
             [
              0.3333333333333333,
              "#9c179e"
             ],
             [
              0.4444444444444444,
              "#bd3786"
             ],
             [
              0.5555555555555556,
              "#d8576b"
             ],
             [
              0.6666666666666666,
              "#ed7953"
             ],
             [
              0.7777777777777778,
              "#fb9f3a"
             ],
             [
              0.8888888888888888,
              "#fdca26"
             ],
             [
              1,
              "#f0f921"
             ]
            ],
            "type": "contour"
           }
          ],
          "contourcarpet": [
           {
            "colorbar": {
             "outlinewidth": 0,
             "ticks": ""
            },
            "type": "contourcarpet"
           }
          ],
          "heatmap": [
           {
            "colorbar": {
             "outlinewidth": 0,
             "ticks": ""
            },
            "colorscale": [
             [
              0,
              "#0d0887"
             ],
             [
              0.1111111111111111,
              "#46039f"
             ],
             [
              0.2222222222222222,
              "#7201a8"
             ],
             [
              0.3333333333333333,
              "#9c179e"
             ],
             [
              0.4444444444444444,
              "#bd3786"
             ],
             [
              0.5555555555555556,
              "#d8576b"
             ],
             [
              0.6666666666666666,
              "#ed7953"
             ],
             [
              0.7777777777777778,
              "#fb9f3a"
             ],
             [
              0.8888888888888888,
              "#fdca26"
             ],
             [
              1,
              "#f0f921"
             ]
            ],
            "type": "heatmap"
           }
          ],
          "heatmapgl": [
           {
            "colorbar": {
             "outlinewidth": 0,
             "ticks": ""
            },
            "colorscale": [
             [
              0,
              "#0d0887"
             ],
             [
              0.1111111111111111,
              "#46039f"
             ],
             [
              0.2222222222222222,
              "#7201a8"
             ],
             [
              0.3333333333333333,
              "#9c179e"
             ],
             [
              0.4444444444444444,
              "#bd3786"
             ],
             [
              0.5555555555555556,
              "#d8576b"
             ],
             [
              0.6666666666666666,
              "#ed7953"
             ],
             [
              0.7777777777777778,
              "#fb9f3a"
             ],
             [
              0.8888888888888888,
              "#fdca26"
             ],
             [
              1,
              "#f0f921"
             ]
            ],
            "type": "heatmapgl"
           }
          ],
          "histogram": [
           {
            "marker": {
             "pattern": {
              "fillmode": "overlay",
              "size": 10,
              "solidity": 0.2
             }
            },
            "type": "histogram"
           }
          ],
          "histogram2d": [
           {
            "colorbar": {
             "outlinewidth": 0,
             "ticks": ""
            },
            "colorscale": [
             [
              0,
              "#0d0887"
             ],
             [
              0.1111111111111111,
              "#46039f"
             ],
             [
              0.2222222222222222,
              "#7201a8"
             ],
             [
              0.3333333333333333,
              "#9c179e"
             ],
             [
              0.4444444444444444,
              "#bd3786"
             ],
             [
              0.5555555555555556,
              "#d8576b"
             ],
             [
              0.6666666666666666,
              "#ed7953"
             ],
             [
              0.7777777777777778,
              "#fb9f3a"
             ],
             [
              0.8888888888888888,
              "#fdca26"
             ],
             [
              1,
              "#f0f921"
             ]
            ],
            "type": "histogram2d"
           }
          ],
          "histogram2dcontour": [
           {
            "colorbar": {
             "outlinewidth": 0,
             "ticks": ""
            },
            "colorscale": [
             [
              0,
              "#0d0887"
             ],
             [
              0.1111111111111111,
              "#46039f"
             ],
             [
              0.2222222222222222,
              "#7201a8"
             ],
             [
              0.3333333333333333,
              "#9c179e"
             ],
             [
              0.4444444444444444,
              "#bd3786"
             ],
             [
              0.5555555555555556,
              "#d8576b"
             ],
             [
              0.6666666666666666,
              "#ed7953"
             ],
             [
              0.7777777777777778,
              "#fb9f3a"
             ],
             [
              0.8888888888888888,
              "#fdca26"
             ],
             [
              1,
              "#f0f921"
             ]
            ],
            "type": "histogram2dcontour"
           }
          ],
          "mesh3d": [
           {
            "colorbar": {
             "outlinewidth": 0,
             "ticks": ""
            },
            "type": "mesh3d"
           }
          ],
          "parcoords": [
           {
            "line": {
             "colorbar": {
              "outlinewidth": 0,
              "ticks": ""
             }
            },
            "type": "parcoords"
           }
          ],
          "pie": [
           {
            "automargin": true,
            "type": "pie"
           }
          ],
          "scatter": [
           {
            "fillpattern": {
             "fillmode": "overlay",
             "size": 10,
             "solidity": 0.2
            },
            "type": "scatter"
           }
          ],
          "scatter3d": [
           {
            "line": {
             "colorbar": {
              "outlinewidth": 0,
              "ticks": ""
             }
            },
            "marker": {
             "colorbar": {
              "outlinewidth": 0,
              "ticks": ""
             }
            },
            "type": "scatter3d"
           }
          ],
          "scattercarpet": [
           {
            "marker": {
             "colorbar": {
              "outlinewidth": 0,
              "ticks": ""
             }
            },
            "type": "scattercarpet"
           }
          ],
          "scattergeo": [
           {
            "marker": {
             "colorbar": {
              "outlinewidth": 0,
              "ticks": ""
             }
            },
            "type": "scattergeo"
           }
          ],
          "scattergl": [
           {
            "marker": {
             "colorbar": {
              "outlinewidth": 0,
              "ticks": ""
             }
            },
            "type": "scattergl"
           }
          ],
          "scattermapbox": [
           {
            "marker": {
             "colorbar": {
              "outlinewidth": 0,
              "ticks": ""
             }
            },
            "type": "scattermapbox"
           }
          ],
          "scatterpolar": [
           {
            "marker": {
             "colorbar": {
              "outlinewidth": 0,
              "ticks": ""
             }
            },
            "type": "scatterpolar"
           }
          ],
          "scatterpolargl": [
           {
            "marker": {
             "colorbar": {
              "outlinewidth": 0,
              "ticks": ""
             }
            },
            "type": "scatterpolargl"
           }
          ],
          "scatterternary": [
           {
            "marker": {
             "colorbar": {
              "outlinewidth": 0,
              "ticks": ""
             }
            },
            "type": "scatterternary"
           }
          ],
          "surface": [
           {
            "colorbar": {
             "outlinewidth": 0,
             "ticks": ""
            },
            "colorscale": [
             [
              0,
              "#0d0887"
             ],
             [
              0.1111111111111111,
              "#46039f"
             ],
             [
              0.2222222222222222,
              "#7201a8"
             ],
             [
              0.3333333333333333,
              "#9c179e"
             ],
             [
              0.4444444444444444,
              "#bd3786"
             ],
             [
              0.5555555555555556,
              "#d8576b"
             ],
             [
              0.6666666666666666,
              "#ed7953"
             ],
             [
              0.7777777777777778,
              "#fb9f3a"
             ],
             [
              0.8888888888888888,
              "#fdca26"
             ],
             [
              1,
              "#f0f921"
             ]
            ],
            "type": "surface"
           }
          ],
          "table": [
           {
            "cells": {
             "fill": {
              "color": "#EBF0F8"
             },
             "line": {
              "color": "white"
             }
            },
            "header": {
             "fill": {
              "color": "#C8D4E3"
             },
             "line": {
              "color": "white"
             }
            },
            "type": "table"
           }
          ]
         },
         "layout": {
          "annotationdefaults": {
           "arrowcolor": "#2a3f5f",
           "arrowhead": 0,
           "arrowwidth": 1
          },
          "autotypenumbers": "strict",
          "coloraxis": {
           "colorbar": {
            "outlinewidth": 0,
            "ticks": ""
           }
          },
          "colorscale": {
           "diverging": [
            [
             0,
             "#8e0152"
            ],
            [
             0.1,
             "#c51b7d"
            ],
            [
             0.2,
             "#de77ae"
            ],
            [
             0.3,
             "#f1b6da"
            ],
            [
             0.4,
             "#fde0ef"
            ],
            [
             0.5,
             "#f7f7f7"
            ],
            [
             0.6,
             "#e6f5d0"
            ],
            [
             0.7,
             "#b8e186"
            ],
            [
             0.8,
             "#7fbc41"
            ],
            [
             0.9,
             "#4d9221"
            ],
            [
             1,
             "#276419"
            ]
           ],
           "sequential": [
            [
             0,
             "#0d0887"
            ],
            [
             0.1111111111111111,
             "#46039f"
            ],
            [
             0.2222222222222222,
             "#7201a8"
            ],
            [
             0.3333333333333333,
             "#9c179e"
            ],
            [
             0.4444444444444444,
             "#bd3786"
            ],
            [
             0.5555555555555556,
             "#d8576b"
            ],
            [
             0.6666666666666666,
             "#ed7953"
            ],
            [
             0.7777777777777778,
             "#fb9f3a"
            ],
            [
             0.8888888888888888,
             "#fdca26"
            ],
            [
             1,
             "#f0f921"
            ]
           ],
           "sequentialminus": [
            [
             0,
             "#0d0887"
            ],
            [
             0.1111111111111111,
             "#46039f"
            ],
            [
             0.2222222222222222,
             "#7201a8"
            ],
            [
             0.3333333333333333,
             "#9c179e"
            ],
            [
             0.4444444444444444,
             "#bd3786"
            ],
            [
             0.5555555555555556,
             "#d8576b"
            ],
            [
             0.6666666666666666,
             "#ed7953"
            ],
            [
             0.7777777777777778,
             "#fb9f3a"
            ],
            [
             0.8888888888888888,
             "#fdca26"
            ],
            [
             1,
             "#f0f921"
            ]
           ]
          },
          "colorway": [
           "#636efa",
           "#EF553B",
           "#00cc96",
           "#ab63fa",
           "#FFA15A",
           "#19d3f3",
           "#FF6692",
           "#B6E880",
           "#FF97FF",
           "#FECB52"
          ],
          "font": {
           "color": "#2a3f5f"
          },
          "geo": {
           "bgcolor": "white",
           "lakecolor": "white",
           "landcolor": "#E5ECF6",
           "showlakes": true,
           "showland": true,
           "subunitcolor": "white"
          },
          "hoverlabel": {
           "align": "left"
          },
          "hovermode": "closest",
          "mapbox": {
           "style": "light"
          },
          "paper_bgcolor": "white",
          "plot_bgcolor": "#E5ECF6",
          "polar": {
           "angularaxis": {
            "gridcolor": "white",
            "linecolor": "white",
            "ticks": ""
           },
           "bgcolor": "#E5ECF6",
           "radialaxis": {
            "gridcolor": "white",
            "linecolor": "white",
            "ticks": ""
           }
          },
          "scene": {
           "xaxis": {
            "backgroundcolor": "#E5ECF6",
            "gridcolor": "white",
            "gridwidth": 2,
            "linecolor": "white",
            "showbackground": true,
            "ticks": "",
            "zerolinecolor": "white"
           },
           "yaxis": {
            "backgroundcolor": "#E5ECF6",
            "gridcolor": "white",
            "gridwidth": 2,
            "linecolor": "white",
            "showbackground": true,
            "ticks": "",
            "zerolinecolor": "white"
           },
           "zaxis": {
            "backgroundcolor": "#E5ECF6",
            "gridcolor": "white",
            "gridwidth": 2,
            "linecolor": "white",
            "showbackground": true,
            "ticks": "",
            "zerolinecolor": "white"
           }
          },
          "shapedefaults": {
           "line": {
            "color": "#2a3f5f"
           }
          },
          "ternary": {
           "aaxis": {
            "gridcolor": "white",
            "linecolor": "white",
            "ticks": ""
           },
           "baxis": {
            "gridcolor": "white",
            "linecolor": "white",
            "ticks": ""
           },
           "bgcolor": "#E5ECF6",
           "caxis": {
            "gridcolor": "white",
            "linecolor": "white",
            "ticks": ""
           }
          },
          "title": {
           "x": 0.05
          },
          "xaxis": {
           "automargin": true,
           "gridcolor": "white",
           "linecolor": "white",
           "ticks": "",
           "title": {
            "standoff": 15
           },
           "zerolinecolor": "white",
           "zerolinewidth": 2
          },
          "yaxis": {
           "automargin": true,
           "gridcolor": "white",
           "linecolor": "white",
           "ticks": "",
           "title": {
            "standoff": 15
           },
           "zerolinecolor": "white",
           "zerolinewidth": 2
          }
         }
        }
       }
      }
     },
     "metadata": {},
     "output_type": "display_data"
    }
   ],
   "source": [
    "import pandas as pd\n",
    "import plotly.express as px\n",
    "\n",
    "# Updated data\n",
    "data = {\n",
    "    'Locality': [\n",
    "        'West-Vlaanderen', 'Oost-Vlaanderen', 'Antwerpen', 'Brussel', 'Luik',\n",
    "        'Vlaams-Brabant', 'Henegouwen', 'Waals-Brabant', 'Luxemburg', 'Limburg',\n",
    "        'Namen'\n",
    "    ],\n",
    "    'Value': [\n",
    "        5083, 4602, 4057, 3660, 2200, 2030, 1176, 812, 809, 706, \n",
    "        684\n",
    "    ]\n",
    "}\n",
    "\n",
    "# Creating a DataFrame\n",
    "df_local = pd.DataFrame(data)\n",
    "df.set_index('Locality', inplace=True)\n",
    "\n",
    "# Create the treemap\n",
    "fig = px.treemap(\n",
    "    df_local.reset_index(), \n",
    "    path=['Locality'], \n",
    "    values='Value', \n",
    "    color='Value', \n",
    "    color_continuous_scale='Viridis'\n",
    ")\n",
    "\n",
    "# Show the plot\n",
    "fig.show()\n"
   ]
  },
  {
   "cell_type": "markdown",
   "metadata": {},
   "source": []
  },
  {
   "cell_type": "code",
   "execution_count": 125,
   "metadata": {},
   "outputs": [
    {
     "data": {
      "application/vnd.plotly.v1+json": {
       "config": {
        "plotlyServerURL": "https://plot.ly"
       },
       "data": [
        {
         "hovertemplate": "<b>%{hovertext}</b><br><br>Locality=%{x}<br>Value=%{marker.size}<extra></extra>",
         "hovertext": [
          "West-Vlaanderen",
          "Oost-Vlaanderen",
          "Antwerpen",
          "Brussel",
          "Luik",
          "Vlaams-Brabant",
          "Henegouwen",
          "Waals-Brabant",
          "Luxemburg",
          "Limburg",
          "Namen"
         ],
         "legendgroup": "",
         "marker": {
          "color": "#636efa",
          "size": [
           5083,
           4602,
           4057,
           3660,
           2200,
           2030,
           1176,
           812,
           809,
           706,
           684
          ],
          "sizemode": "area",
          "sizeref": 12.7075,
          "symbol": "circle"
         },
         "mode": "markers",
         "name": "",
         "orientation": "v",
         "showlegend": false,
         "type": "scatter",
         "x": [
          "West-Vlaanderen",
          "Oost-Vlaanderen",
          "Antwerpen",
          "Brussel",
          "Luik",
          "Vlaams-Brabant",
          "Henegouwen",
          "Waals-Brabant",
          "Luxemburg",
          "Limburg",
          "Namen"
         ],
         "xaxis": "x",
         "y": [
          5083,
          4602,
          4057,
          3660,
          2200,
          2030,
          1176,
          812,
          809,
          706,
          684
         ],
         "yaxis": "y"
        }
       ],
       "layout": {
        "legend": {
         "itemsizing": "constant",
         "tracegroupgap": 0
        },
        "template": {
         "data": {
          "bar": [
           {
            "error_x": {
             "color": "#2a3f5f"
            },
            "error_y": {
             "color": "#2a3f5f"
            },
            "marker": {
             "line": {
              "color": "#E5ECF6",
              "width": 0.5
             },
             "pattern": {
              "fillmode": "overlay",
              "size": 10,
              "solidity": 0.2
             }
            },
            "type": "bar"
           }
          ],
          "barpolar": [
           {
            "marker": {
             "line": {
              "color": "#E5ECF6",
              "width": 0.5
             },
             "pattern": {
              "fillmode": "overlay",
              "size": 10,
              "solidity": 0.2
             }
            },
            "type": "barpolar"
           }
          ],
          "carpet": [
           {
            "aaxis": {
             "endlinecolor": "#2a3f5f",
             "gridcolor": "white",
             "linecolor": "white",
             "minorgridcolor": "white",
             "startlinecolor": "#2a3f5f"
            },
            "baxis": {
             "endlinecolor": "#2a3f5f",
             "gridcolor": "white",
             "linecolor": "white",
             "minorgridcolor": "white",
             "startlinecolor": "#2a3f5f"
            },
            "type": "carpet"
           }
          ],
          "choropleth": [
           {
            "colorbar": {
             "outlinewidth": 0,
             "ticks": ""
            },
            "type": "choropleth"
           }
          ],
          "contour": [
           {
            "colorbar": {
             "outlinewidth": 0,
             "ticks": ""
            },
            "colorscale": [
             [
              0,
              "#0d0887"
             ],
             [
              0.1111111111111111,
              "#46039f"
             ],
             [
              0.2222222222222222,
              "#7201a8"
             ],
             [
              0.3333333333333333,
              "#9c179e"
             ],
             [
              0.4444444444444444,
              "#bd3786"
             ],
             [
              0.5555555555555556,
              "#d8576b"
             ],
             [
              0.6666666666666666,
              "#ed7953"
             ],
             [
              0.7777777777777778,
              "#fb9f3a"
             ],
             [
              0.8888888888888888,
              "#fdca26"
             ],
             [
              1,
              "#f0f921"
             ]
            ],
            "type": "contour"
           }
          ],
          "contourcarpet": [
           {
            "colorbar": {
             "outlinewidth": 0,
             "ticks": ""
            },
            "type": "contourcarpet"
           }
          ],
          "heatmap": [
           {
            "colorbar": {
             "outlinewidth": 0,
             "ticks": ""
            },
            "colorscale": [
             [
              0,
              "#0d0887"
             ],
             [
              0.1111111111111111,
              "#46039f"
             ],
             [
              0.2222222222222222,
              "#7201a8"
             ],
             [
              0.3333333333333333,
              "#9c179e"
             ],
             [
              0.4444444444444444,
              "#bd3786"
             ],
             [
              0.5555555555555556,
              "#d8576b"
             ],
             [
              0.6666666666666666,
              "#ed7953"
             ],
             [
              0.7777777777777778,
              "#fb9f3a"
             ],
             [
              0.8888888888888888,
              "#fdca26"
             ],
             [
              1,
              "#f0f921"
             ]
            ],
            "type": "heatmap"
           }
          ],
          "heatmapgl": [
           {
            "colorbar": {
             "outlinewidth": 0,
             "ticks": ""
            },
            "colorscale": [
             [
              0,
              "#0d0887"
             ],
             [
              0.1111111111111111,
              "#46039f"
             ],
             [
              0.2222222222222222,
              "#7201a8"
             ],
             [
              0.3333333333333333,
              "#9c179e"
             ],
             [
              0.4444444444444444,
              "#bd3786"
             ],
             [
              0.5555555555555556,
              "#d8576b"
             ],
             [
              0.6666666666666666,
              "#ed7953"
             ],
             [
              0.7777777777777778,
              "#fb9f3a"
             ],
             [
              0.8888888888888888,
              "#fdca26"
             ],
             [
              1,
              "#f0f921"
             ]
            ],
            "type": "heatmapgl"
           }
          ],
          "histogram": [
           {
            "marker": {
             "pattern": {
              "fillmode": "overlay",
              "size": 10,
              "solidity": 0.2
             }
            },
            "type": "histogram"
           }
          ],
          "histogram2d": [
           {
            "colorbar": {
             "outlinewidth": 0,
             "ticks": ""
            },
            "colorscale": [
             [
              0,
              "#0d0887"
             ],
             [
              0.1111111111111111,
              "#46039f"
             ],
             [
              0.2222222222222222,
              "#7201a8"
             ],
             [
              0.3333333333333333,
              "#9c179e"
             ],
             [
              0.4444444444444444,
              "#bd3786"
             ],
             [
              0.5555555555555556,
              "#d8576b"
             ],
             [
              0.6666666666666666,
              "#ed7953"
             ],
             [
              0.7777777777777778,
              "#fb9f3a"
             ],
             [
              0.8888888888888888,
              "#fdca26"
             ],
             [
              1,
              "#f0f921"
             ]
            ],
            "type": "histogram2d"
           }
          ],
          "histogram2dcontour": [
           {
            "colorbar": {
             "outlinewidth": 0,
             "ticks": ""
            },
            "colorscale": [
             [
              0,
              "#0d0887"
             ],
             [
              0.1111111111111111,
              "#46039f"
             ],
             [
              0.2222222222222222,
              "#7201a8"
             ],
             [
              0.3333333333333333,
              "#9c179e"
             ],
             [
              0.4444444444444444,
              "#bd3786"
             ],
             [
              0.5555555555555556,
              "#d8576b"
             ],
             [
              0.6666666666666666,
              "#ed7953"
             ],
             [
              0.7777777777777778,
              "#fb9f3a"
             ],
             [
              0.8888888888888888,
              "#fdca26"
             ],
             [
              1,
              "#f0f921"
             ]
            ],
            "type": "histogram2dcontour"
           }
          ],
          "mesh3d": [
           {
            "colorbar": {
             "outlinewidth": 0,
             "ticks": ""
            },
            "type": "mesh3d"
           }
          ],
          "parcoords": [
           {
            "line": {
             "colorbar": {
              "outlinewidth": 0,
              "ticks": ""
             }
            },
            "type": "parcoords"
           }
          ],
          "pie": [
           {
            "automargin": true,
            "type": "pie"
           }
          ],
          "scatter": [
           {
            "fillpattern": {
             "fillmode": "overlay",
             "size": 10,
             "solidity": 0.2
            },
            "type": "scatter"
           }
          ],
          "scatter3d": [
           {
            "line": {
             "colorbar": {
              "outlinewidth": 0,
              "ticks": ""
             }
            },
            "marker": {
             "colorbar": {
              "outlinewidth": 0,
              "ticks": ""
             }
            },
            "type": "scatter3d"
           }
          ],
          "scattercarpet": [
           {
            "marker": {
             "colorbar": {
              "outlinewidth": 0,
              "ticks": ""
             }
            },
            "type": "scattercarpet"
           }
          ],
          "scattergeo": [
           {
            "marker": {
             "colorbar": {
              "outlinewidth": 0,
              "ticks": ""
             }
            },
            "type": "scattergeo"
           }
          ],
          "scattergl": [
           {
            "marker": {
             "colorbar": {
              "outlinewidth": 0,
              "ticks": ""
             }
            },
            "type": "scattergl"
           }
          ],
          "scattermapbox": [
           {
            "marker": {
             "colorbar": {
              "outlinewidth": 0,
              "ticks": ""
             }
            },
            "type": "scattermapbox"
           }
          ],
          "scatterpolar": [
           {
            "marker": {
             "colorbar": {
              "outlinewidth": 0,
              "ticks": ""
             }
            },
            "type": "scatterpolar"
           }
          ],
          "scatterpolargl": [
           {
            "marker": {
             "colorbar": {
              "outlinewidth": 0,
              "ticks": ""
             }
            },
            "type": "scatterpolargl"
           }
          ],
          "scatterternary": [
           {
            "marker": {
             "colorbar": {
              "outlinewidth": 0,
              "ticks": ""
             }
            },
            "type": "scatterternary"
           }
          ],
          "surface": [
           {
            "colorbar": {
             "outlinewidth": 0,
             "ticks": ""
            },
            "colorscale": [
             [
              0,
              "#0d0887"
             ],
             [
              0.1111111111111111,
              "#46039f"
             ],
             [
              0.2222222222222222,
              "#7201a8"
             ],
             [
              0.3333333333333333,
              "#9c179e"
             ],
             [
              0.4444444444444444,
              "#bd3786"
             ],
             [
              0.5555555555555556,
              "#d8576b"
             ],
             [
              0.6666666666666666,
              "#ed7953"
             ],
             [
              0.7777777777777778,
              "#fb9f3a"
             ],
             [
              0.8888888888888888,
              "#fdca26"
             ],
             [
              1,
              "#f0f921"
             ]
            ],
            "type": "surface"
           }
          ],
          "table": [
           {
            "cells": {
             "fill": {
              "color": "#EBF0F8"
             },
             "line": {
              "color": "white"
             }
            },
            "header": {
             "fill": {
              "color": "#C8D4E3"
             },
             "line": {
              "color": "white"
             }
            },
            "type": "table"
           }
          ]
         },
         "layout": {
          "annotationdefaults": {
           "arrowcolor": "#2a3f5f",
           "arrowhead": 0,
           "arrowwidth": 1
          },
          "autotypenumbers": "strict",
          "coloraxis": {
           "colorbar": {
            "outlinewidth": 0,
            "ticks": ""
           }
          },
          "colorscale": {
           "diverging": [
            [
             0,
             "#8e0152"
            ],
            [
             0.1,
             "#c51b7d"
            ],
            [
             0.2,
             "#de77ae"
            ],
            [
             0.3,
             "#f1b6da"
            ],
            [
             0.4,
             "#fde0ef"
            ],
            [
             0.5,
             "#f7f7f7"
            ],
            [
             0.6,
             "#e6f5d0"
            ],
            [
             0.7,
             "#b8e186"
            ],
            [
             0.8,
             "#7fbc41"
            ],
            [
             0.9,
             "#4d9221"
            ],
            [
             1,
             "#276419"
            ]
           ],
           "sequential": [
            [
             0,
             "#0d0887"
            ],
            [
             0.1111111111111111,
             "#46039f"
            ],
            [
             0.2222222222222222,
             "#7201a8"
            ],
            [
             0.3333333333333333,
             "#9c179e"
            ],
            [
             0.4444444444444444,
             "#bd3786"
            ],
            [
             0.5555555555555556,
             "#d8576b"
            ],
            [
             0.6666666666666666,
             "#ed7953"
            ],
            [
             0.7777777777777778,
             "#fb9f3a"
            ],
            [
             0.8888888888888888,
             "#fdca26"
            ],
            [
             1,
             "#f0f921"
            ]
           ],
           "sequentialminus": [
            [
             0,
             "#0d0887"
            ],
            [
             0.1111111111111111,
             "#46039f"
            ],
            [
             0.2222222222222222,
             "#7201a8"
            ],
            [
             0.3333333333333333,
             "#9c179e"
            ],
            [
             0.4444444444444444,
             "#bd3786"
            ],
            [
             0.5555555555555556,
             "#d8576b"
            ],
            [
             0.6666666666666666,
             "#ed7953"
            ],
            [
             0.7777777777777778,
             "#fb9f3a"
            ],
            [
             0.8888888888888888,
             "#fdca26"
            ],
            [
             1,
             "#f0f921"
            ]
           ]
          },
          "colorway": [
           "#636efa",
           "#EF553B",
           "#00cc96",
           "#ab63fa",
           "#FFA15A",
           "#19d3f3",
           "#FF6692",
           "#B6E880",
           "#FF97FF",
           "#FECB52"
          ],
          "font": {
           "color": "#2a3f5f"
          },
          "geo": {
           "bgcolor": "white",
           "lakecolor": "white",
           "landcolor": "#E5ECF6",
           "showlakes": true,
           "showland": true,
           "subunitcolor": "white"
          },
          "hoverlabel": {
           "align": "left"
          },
          "hovermode": "closest",
          "mapbox": {
           "style": "light"
          },
          "paper_bgcolor": "white",
          "plot_bgcolor": "#E5ECF6",
          "polar": {
           "angularaxis": {
            "gridcolor": "white",
            "linecolor": "white",
            "ticks": ""
           },
           "bgcolor": "#E5ECF6",
           "radialaxis": {
            "gridcolor": "white",
            "linecolor": "white",
            "ticks": ""
           }
          },
          "scene": {
           "xaxis": {
            "backgroundcolor": "#E5ECF6",
            "gridcolor": "white",
            "gridwidth": 2,
            "linecolor": "white",
            "showbackground": true,
            "ticks": "",
            "zerolinecolor": "white"
           },
           "yaxis": {
            "backgroundcolor": "#E5ECF6",
            "gridcolor": "white",
            "gridwidth": 2,
            "linecolor": "white",
            "showbackground": true,
            "ticks": "",
            "zerolinecolor": "white"
           },
           "zaxis": {
            "backgroundcolor": "#E5ECF6",
            "gridcolor": "white",
            "gridwidth": 2,
            "linecolor": "white",
            "showbackground": true,
            "ticks": "",
            "zerolinecolor": "white"
           }
          },
          "shapedefaults": {
           "line": {
            "color": "#2a3f5f"
           }
          },
          "ternary": {
           "aaxis": {
            "gridcolor": "white",
            "linecolor": "white",
            "ticks": ""
           },
           "baxis": {
            "gridcolor": "white",
            "linecolor": "white",
            "ticks": ""
           },
           "bgcolor": "#E5ECF6",
           "caxis": {
            "gridcolor": "white",
            "linecolor": "white",
            "ticks": ""
           }
          },
          "title": {
           "x": 0.05
          },
          "xaxis": {
           "automargin": true,
           "gridcolor": "white",
           "linecolor": "white",
           "ticks": "",
           "title": {
            "standoff": 15
           },
           "zerolinecolor": "white",
           "zerolinewidth": 2
          },
          "yaxis": {
           "automargin": true,
           "gridcolor": "white",
           "linecolor": "white",
           "ticks": "",
           "title": {
            "standoff": 15
           },
           "zerolinecolor": "white",
           "zerolinewidth": 2
          }
         }
        },
        "title": {
         "text": "Grouped Bubble Chart of Localities"
        },
        "xaxis": {
         "anchor": "y",
         "domain": [
          0,
          1
         ],
         "title": {
          "text": "Locality"
         }
        },
        "yaxis": {
         "anchor": "x",
         "domain": [
          0,
          1
         ],
         "title": {
          "text": "Value"
         }
        }
       }
      }
     },
     "metadata": {},
     "output_type": "display_data"
    }
   ],
   "source": [
    "import pandas as pd\n",
    "import plotly.express as px\n",
    "\n",
    "# Updated data with groups for demonstration\n",
    "data = {\n",
    "    'Locality': [\n",
    "        'West-Vlaanderen', 'Oost-Vlaanderen', 'Antwerpen', 'Brussel', 'Luik',\n",
    "        'Vlaams-Brabant', 'Henegouwen', 'Waals-Brabant', 'Luxemburg', 'Limburg',\n",
    "        'Namen'\n",
    "    ],\n",
    "    'Value': [\n",
    "        5083, 4602, 4057, 3660, 2200, 2030, 1176, 812, 809, 706, \n",
    "        684\n",
    "    ]\n",
    "}\n",
    "\n",
    "# Creating a DataFrame\n",
    "df_local_II = pd.DataFrame(data)\n",
    "\n",
    "# Create the grouped bubble chart\n",
    "fig = px.scatter(\n",
    "    df_local_II,\n",
    "    x='Locality',           # x-axis shows the localities\n",
    "    y='Value',              # y-axis shows the value\n",
    "    size='Value',           # Bubble size based on the value\n",
    "    hover_name='Locality',  # Display locality on hover\n",
    "    title='Grouped Bubble Chart of Localities'\n",
    ")\n",
    "\n",
    "# Show the plot\n",
    "fig.show()\n"
   ]
  },
  {
   "cell_type": "code",
   "execution_count": 126,
   "metadata": {},
   "outputs": [
    {
     "data": {
      "text/plain": [
       "Garden_Area\n",
       "100.0      158\n",
       "50.0       135\n",
       "200.0      123\n",
       "1.0        119\n",
       "400.0       91\n",
       "          ... \n",
       "1324.0       1\n",
       "1085.0       1\n",
       "1334.0       1\n",
       "50000.0      1\n",
       "432.0        1\n",
       "Name: count, Length: 1026, dtype: int64"
      ]
     },
     "execution_count": 126,
     "metadata": {},
     "output_type": "execute_result"
    }
   ],
   "source": [
    "# candidate to DELETE\n",
    "ds[\"Garden_Area\"].value_counts()"
   ]
  },
  {
   "cell_type": "code",
   "execution_count": null,
   "metadata": {},
   "outputs": [],
   "source": []
  },
  {
   "cell_type": "code",
   "execution_count": null,
   "metadata": {},
   "outputs": [],
   "source": []
  },
  {
   "cell_type": "code",
   "execution_count": null,
   "metadata": {},
   "outputs": [],
   "source": []
  },
  {
   "cell_type": "code",
   "execution_count": null,
   "metadata": {},
   "outputs": [],
   "source": []
  },
  {
   "cell_type": "code",
   "execution_count": null,
   "metadata": {},
   "outputs": [],
   "source": []
  },
  {
   "cell_type": "code",
   "execution_count": null,
   "metadata": {},
   "outputs": [],
   "source": []
  },
  {
   "cell_type": "code",
   "execution_count": null,
   "metadata": {},
   "outputs": [],
   "source": []
  },
  {
   "cell_type": "code",
   "execution_count": null,
   "metadata": {},
   "outputs": [],
   "source": []
  },
  {
   "cell_type": "code",
   "execution_count": null,
   "metadata": {},
   "outputs": [],
   "source": []
  },
  {
   "cell_type": "code",
   "execution_count": null,
   "metadata": {},
   "outputs": [],
   "source": []
  }
 ],
 "metadata": {
  "kernelspec": {
   "display_name": "base",
   "language": "python",
   "name": "python3"
  },
  "language_info": {
   "codemirror_mode": {
    "name": "ipython",
    "version": 3
   },
   "file_extension": ".py",
   "mimetype": "text/x-python",
   "name": "python",
   "nbconvert_exporter": "python",
   "pygments_lexer": "ipython3",
   "version": "3.12.4"
  }
 },
 "nbformat": 4,
 "nbformat_minor": 2
}
