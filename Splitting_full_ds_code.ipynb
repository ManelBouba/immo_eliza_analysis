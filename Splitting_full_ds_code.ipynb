{
 "cells": [
  {
   "cell_type": "code",
   "execution_count": null,
   "metadata": {},
   "outputs": [],
   "source": [
    "import pandas as pd\n",
    "\n",
    "\n",
    "def clean_dataset_with_analysis(file_path, output_path, drop_threshold=0.5):\n",
    "  \n",
    "    try:\n",
    "        # Load the dataset\n",
    "        df = pd.read_csv(file_path)\n",
    "        \n",
    "        # Analyze missing values\n",
    "        print(\"Analyzing missing values...\")\n",
    "        missing_data = df.isnull().sum()\n",
    "        missing_percentage = (missing_data / len(df)) * 100\n",
    "        missing_info = pd.DataFrame({\n",
    "            'Missing Values': missing_data,\n",
    "            'Percentage': missing_percentage\n",
    "        }).sort_values(by='Percentage', ascending=False)\n",
    "        print(missing_info)\n",
    "        \n",
    "        # Drop columns with > drop_threshold missing data\n",
    "        threshold = drop_threshold * len(df)\n",
    "        columns_to_drop = missing_info[missing_info['Missing Values'] > threshold].index\n",
    "        print(f\"Dropping columns: {list(columns_to_drop)}\")\n",
    "        df = df.drop(columns=columns_to_drop)\n",
    "        \n",
    "        # Drop rows where critical columns have missing values\n",
    "        critical_columns = ['Price', 'Type_of_Property', 'Locality']\n",
    "        df = df.dropna(subset=critical_columns)\n",
    "        \n",
    "        # Fill missing values\n",
    "        for col in df.select_dtypes(include=['float64', 'int64']).columns:\n",
    "            df[col] = df[col].fillna(df[col].median())  # Median for numerical columns\n",
    "        \n",
    "        for col in df.select_dtypes(include=['object']).columns:\n",
    "            df[col] = df[col].fillna(df[col].mode()[0])  # Mode for categorical columns\n",
    "        \n",
    "        # Save the cleaned dataset\n",
    "        df.to_csv(output_path, index=False)\n",
    "        print(f\"Cleaned dataset saved to {output_path}\")\n",
    "    \n",
    "    except Exception as e:\n",
    "        print(f\"An error occurred: {e}\")\n",
    "\n",
    "# Example usage:\n",
    "clean_dataset_with_analysis('apartment_dataset.csv', 'immoweb_data_appartment_cleaned.csv') # for appartment\n",
    "clean_dataset_with_analysis('houses_dataset.csv', 'immoweb_data_houses_cleaned.csv') # for houses\n",
    "\n"
   ]
  }
 ],
 "metadata": {
  "language_info": {
   "name": "python"
  }
 },
 "nbformat": 4,
 "nbformat_minor": 2
}
