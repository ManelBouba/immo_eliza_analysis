{
 "cells": [
  {
   "cell_type": "markdown",
   "metadata": {},
   "source": [
    "The splitting the dataset on two: apartment_ds and house_ds\n",
    "Explanation:\n",
    "str.lower(): Ensures case insensitivity while filtering.\n",
    "to_csv(): Saves each subset to a separate CSV file without the index column.\n",
    "This will create two CSV files, house_dataset.csv and apartment_dataset.csv, each containing only the rows corresponding to their respective property types."
   ]
  },
  {
   "cell_type": "code",
   "execution_count": 2,
   "metadata": {},
   "outputs": [
    {
     "name": "stdout",
     "output_type": "stream",
     "text": [
      "Datasets split and saved as 'house_dataset_full.csv' and 'apartment_dataset_full.csv'.\n"
     ]
    }
   ],
   "source": [
    "import pandas as pd\n",
    "\n",
    "# Load the original dataset\n",
    "df = pd.read_csv('cleaned_data.csv')\n",
    "\n",
    "# Split the dataset into two separate datasets based on \"Type_of_Property\"\n",
    "df_house = df[df['Type_of_Property'].str.lower() == 'house']\n",
    "df_apartment = df[df['Type_of_Property'].str.lower() == 'apartment']\n",
    "\n",
    "# Save the datasets into separate CSV files\n",
    "df_house.to_csv('02_house_dataset.csv', index=False)\n",
    "df_apartment.to_csv('01_apartment_dataset.csv', index=False)\n",
    "\n",
    "print(\"Datasets split and saved as 'house_dataset_full.csv' and 'apartment_dataset_full.csv'.\")\n"
   ]
  },
  {
   "cell_type": "code",
   "execution_count": 6,
   "metadata": {},
   "outputs": [
    {
     "name": "stdout",
     "output_type": "stream",
     "text": [
      "Analyzing missing values...\n",
      "                           Missing Values  Percentage\n",
      "Surface_area_plot_of_land           10966  100.000000\n",
      "Surface_of_the_Land                 10231   93.297465\n",
      "Garden_Area                         10231   93.297465\n",
      "Garden                              10231   93.297465\n",
      "Terrace_Area                         5145   46.917746\n",
      "Number_of_Facades                    4423   40.333759\n",
      "Terrace                              3042   27.740288\n",
      "State_of_the_Building                1790   16.323181\n",
      "Living_Area                           373    3.401423\n",
      "Open_fire                               0    0.000000\n",
      "Locality                                0    0.000000\n",
      "Furnished                               0    0.000000\n",
      "Fully_Equipped_Kitchen                  0    0.000000\n",
      "Number_of_Rooms                         0    0.000000\n",
      "Subtype_of_Property                     0    0.000000\n",
      "Type_of_Property                        0    0.000000\n",
      "Swimming_Pool                           0    0.000000\n",
      "Price                                   0    0.000000\n",
      "Dropping columns: ['Surface_area_plot_of_land', 'Surface_of_the_Land', 'Garden_Area', 'Garden']\n",
      "Cleaned dataset saved to 01_appartment_cleaned.csv\n"
     ]
    }
   ],
   "source": [
    "import pandas as pd\n",
    "\n",
    "\n",
    "def clean_dataset_with_analysis(file_path, output_path, drop_threshold=0.5):\n",
    "  \n",
    "    try:\n",
    "        # Load the dataset\n",
    "        df = pd.read_csv(file_path)\n",
    "        \n",
    "        # Analyze missing values\n",
    "        print(\"Analyzing missing values...\")\n",
    "        missing_data = df.isnull().sum()\n",
    "        missing_percentage = (missing_data / len(df)) * 100\n",
    "        missing_info = pd.DataFrame({\n",
    "            'Missing Values': missing_data,\n",
    "            'Percentage': missing_percentage\n",
    "        }).sort_values(by='Percentage', ascending=False)\n",
    "        print(missing_info)\n",
    "        \n",
    "        # Drop columns with > drop_threshold missing data\n",
    "        threshold = drop_threshold * len(df)\n",
    "        columns_to_drop = missing_info[missing_info['Missing Values'] > threshold].index\n",
    "        print(f\"Dropping columns: {list(columns_to_drop)}\")\n",
    "        df = df.drop(columns=columns_to_drop)\n",
    "        \n",
    "        # Drop rows where critical columns have missing values\n",
    "        critical_columns = ['Price', 'Type_of_Property', 'Locality']\n",
    "        df = df.dropna(subset=critical_columns)\n",
    "        \n",
    "        # Fill missing values\n",
    "        for col in df.select_dtypes(include=['float64', 'int64']).columns:\n",
    "            df[col] = df[col].fillna(df[col].median())  # Median for numerical columns\n",
    "        \n",
    "        for col in df.select_dtypes(include=['object']).columns:\n",
    "            df[col] = df[col].fillna(df[col].mode()[0])  # Mode for categorical columns\n",
    "        \n",
    "        # Save the cleaned dataset\n",
    "        df.to_csv(output_path, index=False)\n",
    "        print(f\"Cleaned dataset saved to {output_path}\")\n",
    "    \n",
    "    except Exception as e:\n",
    "        print(f\"An error occurred: {e}\")\n",
    "\n",
    "# Example usage:\n",
    "clean_dataset_with_analysis('01_appartment_dataset.csv', '01_appartment_cleaned.csv') # for appartment\n",
    "#clean_dataset_with_analysis('02_house_dataset.csv', '02_houses_cleaned.csv') # for houses\n",
    "\n"
   ]
  }
 ],
 "metadata": {
  "kernelspec": {
   "display_name": "base",
   "language": "python",
   "name": "python3"
  },
  "language_info": {
   "codemirror_mode": {
    "name": "ipython",
    "version": 3
   },
   "file_extension": ".py",
   "mimetype": "text/x-python",
   "name": "python",
   "nbconvert_exporter": "python",
   "pygments_lexer": "ipython3",
   "version": "3.12.4"
  }
 },
 "nbformat": 4,
 "nbformat_minor": 2
}
