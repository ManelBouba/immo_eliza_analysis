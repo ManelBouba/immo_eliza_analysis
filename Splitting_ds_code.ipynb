{
 "cells": [
  {
   "cell_type": "markdown",
   "metadata": {},
   "source": [
    "The splitting the dataset on two: apartment_ds and house_ds\n",
    "Explanation:\n",
    "str.lower(): Ensures case insensitivity while filtering.\n",
    "to_csv(): Saves each subset to a separate CSV file without the index column.\n",
    "This will create two CSV files, house_dataset.csv and apartment_dataset.csv, each containing only the rows corresponding to their respective property types."
   ]
  },
  {
   "cell_type": "code",
   "execution_count": 10,
   "metadata": {},
   "outputs": [
    {
     "name": "stdout",
     "output_type": "stream",
     "text": [
      "Datasets split and saved as 'house_dataset.csv' and 'apartment_dataset.csv'.\n"
     ]
    }
   ],
   "source": [
    "import pandas as pd\n",
    "\n",
    "# Load the original dataset\n",
    "df = pd.read_csv('cleaned_data.csv')\n",
    "\n",
    "# Split the dataset into two separate datasets based on \"Type_of_Property\"\n",
    "df_house = df[df['Type_of_Property'].str.lower() == 'house']\n",
    "df_apartment = df[df['Type_of_Property'].str.lower() == 'apartment']\n",
    "\n",
    "# Save the datasets into separate CSV files\n",
    "df_house.to_csv('house_dataset.csv', index=False)\n",
    "df_apartment.to_csv('apartment_dataset.csv', index=False)\n",
    "\n",
    "print(\"Datasets split and saved as 'house_dataset.csv' and 'apartment_dataset.csv'.\")\n"
   ]
  },
  {
   "cell_type": "code",
   "execution_count": null,
   "metadata": {},
   "outputs": [],
   "source": []
  }
 ],
 "metadata": {
  "kernelspec": {
   "display_name": "base",
   "language": "python",
   "name": "python3"
  },
  "language_info": {
   "codemirror_mode": {
    "name": "ipython",
    "version": 3
   },
   "file_extension": ".py",
   "mimetype": "text/x-python",
   "name": "python",
   "nbconvert_exporter": "python",
   "pygments_lexer": "ipython3",
   "version": "3.12.4"
  }
 },
 "nbformat": 4,
 "nbformat_minor": 2
}
