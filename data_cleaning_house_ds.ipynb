{
 "cells": [
  {
   "cell_type": "code",
   "execution_count": null,
   "metadata": {},
   "outputs": [
    {
     "data": {
      "text/html": [
       "<div>\n",
       "<style scoped>\n",
       "    .dataframe tbody tr th:only-of-type {\n",
       "        vertical-align: middle;\n",
       "    }\n",
       "\n",
       "    .dataframe tbody tr th {\n",
       "        vertical-align: top;\n",
       "    }\n",
       "\n",
       "    .dataframe thead th {\n",
       "        text-align: right;\n",
       "    }\n",
       "</style>\n",
       "<table border=\"1\" class=\"dataframe\">\n",
       "  <thead>\n",
       "    <tr style=\"text-align: right;\">\n",
       "      <th></th>\n",
       "      <th>Price</th>\n",
       "      <th>Locality</th>\n",
       "      <th>Type_of_Property</th>\n",
       "      <th>Subtype_of_Property</th>\n",
       "      <th>Number_of_Rooms</th>\n",
       "      <th>Living_Area</th>\n",
       "      <th>Fully_Equipped_Kitchen</th>\n",
       "      <th>Furnished</th>\n",
       "      <th>Open_fire</th>\n",
       "      <th>Terrace</th>\n",
       "      <th>Terrace_Area</th>\n",
       "      <th>Garden</th>\n",
       "      <th>Garden_Area</th>\n",
       "      <th>Surface_of_the_Land</th>\n",
       "      <th>Surface_area_plot_of_land</th>\n",
       "      <th>Number_of_Facades</th>\n",
       "      <th>Swimming_Pool</th>\n",
       "      <th>State_of_the_Building</th>\n",
       "    </tr>\n",
       "  </thead>\n",
       "  <tbody>\n",
       "    <tr>\n",
       "      <th>0</th>\n",
       "      <td>371800</td>\n",
       "      <td>Tielt (8700)</td>\n",
       "      <td>House</td>\n",
       "      <td>HOUSE</td>\n",
       "      <td>3</td>\n",
       "      <td>145.0</td>\n",
       "      <td>0</td>\n",
       "      <td>0</td>\n",
       "      <td>0</td>\n",
       "      <td>1.0</td>\n",
       "      <td>NaN</td>\n",
       "      <td>NaN</td>\n",
       "      <td>NaN</td>\n",
       "      <td>NaN</td>\n",
       "      <td>143.0</td>\n",
       "      <td>NaN</td>\n",
       "      <td>0</td>\n",
       "      <td>GOOD</td>\n",
       "    </tr>\n",
       "    <tr>\n",
       "      <th>1</th>\n",
       "      <td>185000</td>\n",
       "      <td>Ougrée</td>\n",
       "      <td>House</td>\n",
       "      <td>HOUSE</td>\n",
       "      <td>2</td>\n",
       "      <td>112.0</td>\n",
       "      <td>0</td>\n",
       "      <td>0</td>\n",
       "      <td>0</td>\n",
       "      <td>1.0</td>\n",
       "      <td>13.0</td>\n",
       "      <td>NaN</td>\n",
       "      <td>NaN</td>\n",
       "      <td>NaN</td>\n",
       "      <td>1050.0</td>\n",
       "      <td>2.0</td>\n",
       "      <td>0</td>\n",
       "      <td>TO_BE_DONE_UP</td>\n",
       "    </tr>\n",
       "    <tr>\n",
       "      <th>2</th>\n",
       "      <td>214000</td>\n",
       "      <td>Oupeye Heurele-Romain</td>\n",
       "      <td>House</td>\n",
       "      <td>HOUSE</td>\n",
       "      <td>2</td>\n",
       "      <td>124.0</td>\n",
       "      <td>0</td>\n",
       "      <td>0</td>\n",
       "      <td>0</td>\n",
       "      <td>1.0</td>\n",
       "      <td>20.0</td>\n",
       "      <td>1.0</td>\n",
       "      <td>150.0</td>\n",
       "      <td>150.0</td>\n",
       "      <td>330.0</td>\n",
       "      <td>2.0</td>\n",
       "      <td>0</td>\n",
       "      <td>GOOD</td>\n",
       "    </tr>\n",
       "    <tr>\n",
       "      <th>3</th>\n",
       "      <td>599000</td>\n",
       "      <td>Brugge</td>\n",
       "      <td>House</td>\n",
       "      <td>VILLA</td>\n",
       "      <td>4</td>\n",
       "      <td>288.0</td>\n",
       "      <td>0</td>\n",
       "      <td>0</td>\n",
       "      <td>0</td>\n",
       "      <td>1.0</td>\n",
       "      <td>50.0</td>\n",
       "      <td>1.0</td>\n",
       "      <td>550.0</td>\n",
       "      <td>550.0</td>\n",
       "      <td>953.0</td>\n",
       "      <td>4.0</td>\n",
       "      <td>1</td>\n",
       "      <td>TO_BE_DONE_UP</td>\n",
       "    </tr>\n",
       "    <tr>\n",
       "      <th>4</th>\n",
       "      <td>3700000</td>\n",
       "      <td>Knokke-Heist</td>\n",
       "      <td>House</td>\n",
       "      <td>HOUSE</td>\n",
       "      <td>3</td>\n",
       "      <td>127.0</td>\n",
       "      <td>0</td>\n",
       "      <td>0</td>\n",
       "      <td>0</td>\n",
       "      <td>1.0</td>\n",
       "      <td>NaN</td>\n",
       "      <td>NaN</td>\n",
       "      <td>NaN</td>\n",
       "      <td>NaN</td>\n",
       "      <td>924.0</td>\n",
       "      <td>4.0</td>\n",
       "      <td>0</td>\n",
       "      <td>TO_RENOVATE</td>\n",
       "    </tr>\n",
       "    <tr>\n",
       "      <th>...</th>\n",
       "      <td>...</td>\n",
       "      <td>...</td>\n",
       "      <td>...</td>\n",
       "      <td>...</td>\n",
       "      <td>...</td>\n",
       "      <td>...</td>\n",
       "      <td>...</td>\n",
       "      <td>...</td>\n",
       "      <td>...</td>\n",
       "      <td>...</td>\n",
       "      <td>...</td>\n",
       "      <td>...</td>\n",
       "      <td>...</td>\n",
       "      <td>...</td>\n",
       "      <td>...</td>\n",
       "      <td>...</td>\n",
       "      <td>...</td>\n",
       "      <td>...</td>\n",
       "    </tr>\n",
       "    <tr>\n",
       "      <th>12931</th>\n",
       "      <td>159000</td>\n",
       "      <td>Brakel</td>\n",
       "      <td>House</td>\n",
       "      <td>HOUSE</td>\n",
       "      <td>2</td>\n",
       "      <td>128.0</td>\n",
       "      <td>0</td>\n",
       "      <td>0</td>\n",
       "      <td>0</td>\n",
       "      <td>NaN</td>\n",
       "      <td>NaN</td>\n",
       "      <td>NaN</td>\n",
       "      <td>NaN</td>\n",
       "      <td>NaN</td>\n",
       "      <td>804.0</td>\n",
       "      <td>NaN</td>\n",
       "      <td>0</td>\n",
       "      <td>TO_BE_DONE_UP</td>\n",
       "    </tr>\n",
       "    <tr>\n",
       "      <th>12932</th>\n",
       "      <td>369000</td>\n",
       "      <td>Zwalm</td>\n",
       "      <td>House</td>\n",
       "      <td>HOUSE</td>\n",
       "      <td>4</td>\n",
       "      <td>195.0</td>\n",
       "      <td>0</td>\n",
       "      <td>0</td>\n",
       "      <td>0</td>\n",
       "      <td>1.0</td>\n",
       "      <td>NaN</td>\n",
       "      <td>NaN</td>\n",
       "      <td>NaN</td>\n",
       "      <td>NaN</td>\n",
       "      <td>5978.0</td>\n",
       "      <td>3.0</td>\n",
       "      <td>0</td>\n",
       "      <td>TO_RENOVATE</td>\n",
       "    </tr>\n",
       "    <tr>\n",
       "      <th>12933</th>\n",
       "      <td>124000</td>\n",
       "      <td>Saint-Hubert</td>\n",
       "      <td>House</td>\n",
       "      <td>HOUSE</td>\n",
       "      <td>4</td>\n",
       "      <td>97.0</td>\n",
       "      <td>0</td>\n",
       "      <td>0</td>\n",
       "      <td>0</td>\n",
       "      <td>NaN</td>\n",
       "      <td>NaN</td>\n",
       "      <td>NaN</td>\n",
       "      <td>NaN</td>\n",
       "      <td>NaN</td>\n",
       "      <td>68.0</td>\n",
       "      <td>3.0</td>\n",
       "      <td>0</td>\n",
       "      <td>GOOD</td>\n",
       "    </tr>\n",
       "    <tr>\n",
       "      <th>12934</th>\n",
       "      <td>699000</td>\n",
       "      <td>Uccle</td>\n",
       "      <td>House</td>\n",
       "      <td>TOWN_HOUSE</td>\n",
       "      <td>4</td>\n",
       "      <td>190.0</td>\n",
       "      <td>0</td>\n",
       "      <td>0</td>\n",
       "      <td>0</td>\n",
       "      <td>1.0</td>\n",
       "      <td>3.0</td>\n",
       "      <td>1.0</td>\n",
       "      <td>85.0</td>\n",
       "      <td>85.0</td>\n",
       "      <td>150.0</td>\n",
       "      <td>2.0</td>\n",
       "      <td>0</td>\n",
       "      <td>TO_RENOVATE</td>\n",
       "    </tr>\n",
       "    <tr>\n",
       "      <th>12935</th>\n",
       "      <td>575000</td>\n",
       "      <td>Herentals</td>\n",
       "      <td>House</td>\n",
       "      <td>HOUSE</td>\n",
       "      <td>4</td>\n",
       "      <td>429.0</td>\n",
       "      <td>0</td>\n",
       "      <td>0</td>\n",
       "      <td>1</td>\n",
       "      <td>1.0</td>\n",
       "      <td>NaN</td>\n",
       "      <td>NaN</td>\n",
       "      <td>NaN</td>\n",
       "      <td>NaN</td>\n",
       "      <td>1444.0</td>\n",
       "      <td>3.0</td>\n",
       "      <td>0</td>\n",
       "      <td>GOOD</td>\n",
       "    </tr>\n",
       "  </tbody>\n",
       "</table>\n",
       "<p>12936 rows × 18 columns</p>\n",
       "</div>"
      ],
      "text/plain": [
       "         Price               Locality Type_of_Property Subtype_of_Property  \\\n",
       "0       371800           Tielt (8700)            House               HOUSE   \n",
       "1       185000                 Ougrée            House               HOUSE   \n",
       "2       214000  Oupeye Heurele-Romain            House               HOUSE   \n",
       "3       599000                 Brugge            House               VILLA   \n",
       "4      3700000           Knokke-Heist            House               HOUSE   \n",
       "...        ...                    ...              ...                 ...   \n",
       "12931   159000                 Brakel            House               HOUSE   \n",
       "12932   369000                  Zwalm            House               HOUSE   \n",
       "12933   124000           Saint-Hubert            House               HOUSE   \n",
       "12934   699000                  Uccle            House          TOWN_HOUSE   \n",
       "12935   575000              Herentals            House               HOUSE   \n",
       "\n",
       "       Number_of_Rooms  Living_Area  Fully_Equipped_Kitchen  Furnished  \\\n",
       "0                    3        145.0                       0          0   \n",
       "1                    2        112.0                       0          0   \n",
       "2                    2        124.0                       0          0   \n",
       "3                    4        288.0                       0          0   \n",
       "4                    3        127.0                       0          0   \n",
       "...                ...          ...                     ...        ...   \n",
       "12931                2        128.0                       0          0   \n",
       "12932                4        195.0                       0          0   \n",
       "12933                4         97.0                       0          0   \n",
       "12934                4        190.0                       0          0   \n",
       "12935                4        429.0                       0          0   \n",
       "\n",
       "       Open_fire  Terrace  Terrace_Area  Garden  Garden_Area  \\\n",
       "0              0      1.0           NaN     NaN          NaN   \n",
       "1              0      1.0          13.0     NaN          NaN   \n",
       "2              0      1.0          20.0     1.0        150.0   \n",
       "3              0      1.0          50.0     1.0        550.0   \n",
       "4              0      1.0           NaN     NaN          NaN   \n",
       "...          ...      ...           ...     ...          ...   \n",
       "12931          0      NaN           NaN     NaN          NaN   \n",
       "12932          0      1.0           NaN     NaN          NaN   \n",
       "12933          0      NaN           NaN     NaN          NaN   \n",
       "12934          0      1.0           3.0     1.0         85.0   \n",
       "12935          1      1.0           NaN     NaN          NaN   \n",
       "\n",
       "       Surface_of_the_Land  Surface_area_plot_of_land  Number_of_Facades  \\\n",
       "0                      NaN                      143.0                NaN   \n",
       "1                      NaN                     1050.0                2.0   \n",
       "2                    150.0                      330.0                2.0   \n",
       "3                    550.0                      953.0                4.0   \n",
       "4                      NaN                      924.0                4.0   \n",
       "...                    ...                        ...                ...   \n",
       "12931                  NaN                      804.0                NaN   \n",
       "12932                  NaN                     5978.0                3.0   \n",
       "12933                  NaN                       68.0                3.0   \n",
       "12934                 85.0                      150.0                2.0   \n",
       "12935                  NaN                     1444.0                3.0   \n",
       "\n",
       "       Swimming_Pool State_of_the_Building  \n",
       "0                  0                  GOOD  \n",
       "1                  0         TO_BE_DONE_UP  \n",
       "2                  0                  GOOD  \n",
       "3                  1         TO_BE_DONE_UP  \n",
       "4                  0           TO_RENOVATE  \n",
       "...              ...                   ...  \n",
       "12931              0         TO_BE_DONE_UP  \n",
       "12932              0           TO_RENOVATE  \n",
       "12933              0                  GOOD  \n",
       "12934              0           TO_RENOVATE  \n",
       "12935              0                  GOOD  \n",
       "\n",
       "[12936 rows x 18 columns]"
      ]
     },
     "execution_count": 3,
     "metadata": {},
     "output_type": "execute_result"
    }
   ],
   "source": [
    "# postcodes should be deleted\n",
    "import pandas as pd\n",
    "\n",
    "ds = pd.read_csv(\"02_house_dataset.csv\")\n",
    "ds"
   ]
  },
  {
   "cell_type": "code",
   "execution_count": 4,
   "metadata": {},
   "outputs": [
    {
     "data": {
      "text/plain": [
       "Locality\n",
       "Antwerpen              269\n",
       "Gent                   242\n",
       "Liège                  205\n",
       "Seraing                147\n",
       "Geraardsbergen         130\n",
       "Ronse                  117\n",
       "Knokke-Heist           117\n",
       "Brugge                 116\n",
       "Oudenaarde             112\n",
       "Uccle                  103\n",
       "Roeselare               94\n",
       "Mechelen                89\n",
       "Aalst                   81\n",
       "Oostende                79\n",
       "Woluwe-Saint-Pierre     78\n",
       "Name: count, dtype: int64"
      ]
     },
     "execution_count": 4,
     "metadata": {},
     "output_type": "execute_result"
    }
   ],
   "source": [
    "# I would separate Brussels from other cities and build two different graphs\n",
    "locality = ds[\"Locality\"].value_counts().head(15)\n",
    "#locality.index\n",
    "locality\n",
    "\n",
    "#!!! Bruxelles and Brussel!!! What is the differrence?"
   ]
  },
  {
   "cell_type": "code",
   "execution_count": 5,
   "metadata": {},
   "outputs": [
    {
     "data": {
      "text/plain": [
       "Locality\n",
       "Antwerpen              269\n",
       "Gent                   242\n",
       "Liège                  205\n",
       "Seraing                147\n",
       "Geraardsbergen         130\n",
       "Ronse                  117\n",
       "Knokke-Heist           117\n",
       "Brugge                 116\n",
       "Oudenaarde             112\n",
       "Uccle                  103\n",
       "Roeselare               94\n",
       "Mechelen                89\n",
       "Aalst                   81\n",
       "Oostende                79\n",
       "Woluwe-Saint-Pierre     78\n",
       "Name: count, dtype: int64"
      ]
     },
     "execution_count": 5,
     "metadata": {},
     "output_type": "execute_result"
    }
   ],
   "source": [
    "# I would separate Brussels from other cities and build two different graphs\n",
    "locality = ds[\"Locality\"].value_counts().head(15)\n",
    "#locality.index\n",
    "locality\n",
    "\n",
    "#!!! Bruxelles and Brussel!!! What is the differrence?"
   ]
  },
  {
   "cell_type": "code",
   "execution_count": 6,
   "metadata": {},
   "outputs": [
    {
     "data": {
      "text/plain": [
       "Subtype_of_Property\n",
       "HOUSE                   9642\n",
       "VILLA                   1202\n",
       "APARTMENT_BLOCK          582\n",
       "MIXED_USE_BUILDING       542\n",
       "EXCEPTIONAL_PROPERTY     222\n",
       "MANSION                  203\n",
       "TOWN_HOUSE               170\n",
       "BUNGALOW                 132\n",
       "COUNTRY_COTTAGE          130\n",
       "FARMHOUSE                 52\n",
       "CHALET                    25\n",
       "MANOR_HOUSE               15\n",
       "CASTLE                    10\n",
       "OTHER_PROPERTY             8\n",
       "PAVILION                   1\n",
       "Name: count, dtype: int64"
      ]
     },
     "execution_count": 6,
     "metadata": {},
     "output_type": "execute_result"
    }
   ],
   "source": [
    "ds[\"Subtype_of_Property\"].value_counts()"
   ]
  },
  {
   "cell_type": "code",
   "execution_count": 7,
   "metadata": {},
   "outputs": [
    {
     "data": {
      "text/plain": [
       "Number_of_Rooms\n",
       "3     5281\n",
       "4     3289\n",
       "2     1632\n",
       "5     1343\n",
       "6      568\n",
       "1      203\n",
       "0      191\n",
       "7      186\n",
       "8      104\n",
       "10      38\n",
       "9       34\n",
       "12      14\n",
       "16      11\n",
       "11      11\n",
       "13       9\n",
       "20       3\n",
       "14       3\n",
       "18       3\n",
       "25       2\n",
       "15       2\n",
       "21       2\n",
       "24       1\n",
       "22       1\n",
       "23       1\n",
       "34       1\n",
       "31       1\n",
       "30       1\n",
       "60       1\n",
       "Name: count, dtype: int64"
      ]
     },
     "execution_count": 7,
     "metadata": {},
     "output_type": "execute_result"
    }
   ],
   "source": [
    "ds[\"Number_of_Rooms\"].value_counts()"
   ]
  },
  {
   "cell_type": "code",
   "execution_count": 9,
   "metadata": {},
   "outputs": [
    {
     "data": {
      "text/plain": [
       "Living_Area\n",
       "150.0     236\n",
       "200.0     210\n",
       "160.0     195\n",
       "140.0     183\n",
       "130.0     171\n",
       "         ... \n",
       "626.0       1\n",
       "787.0       1\n",
       "644.0       1\n",
       "4829.0      1\n",
       "969.0       1\n",
       "Name: count, Length: 710, dtype: int64"
      ]
     },
     "execution_count": 9,
     "metadata": {},
     "output_type": "execute_result"
    }
   ],
   "source": [
    "ds[\"Living_Area\"].value_counts()"
   ]
  },
  {
   "cell_type": "code",
   "execution_count": 10,
   "metadata": {},
   "outputs": [
    {
     "data": {
      "text/plain": [
       "Fully_Equipped_Kitchen\n",
       "0    11029\n",
       "1     1907\n",
       "Name: count, dtype: int64"
      ]
     },
     "execution_count": 10,
     "metadata": {},
     "output_type": "execute_result"
    }
   ],
   "source": [
    "# we can check correlation between equipped and State of Building\n",
    "ds[\"Fully_Equipped_Kitchen\"].value_counts()"
   ]
  },
  {
   "cell_type": "code",
   "execution_count": 11,
   "metadata": {},
   "outputs": [
    {
     "data": {
      "text/plain": [
       "Furnished\n",
       "0    12687\n",
       "1      249\n",
       "Name: count, dtype: int64"
      ]
     },
     "execution_count": 11,
     "metadata": {},
     "output_type": "execute_result"
    }
   ],
   "source": [
    "# we can check correlation between furnished and State of Building\n",
    "ds[\"Furnished\"].value_counts()"
   ]
  },
  {
   "cell_type": "code",
   "execution_count": 12,
   "metadata": {},
   "outputs": [
    {
     "data": {
      "text/plain": [
       "Open_fire\n",
       "0    12085\n",
       "1      818\n",
       "2       26\n",
       "3        4\n",
       "4        2\n",
       "7        1\n",
       "Name: count, dtype: int64"
      ]
     },
     "execution_count": 12,
     "metadata": {},
     "output_type": "execute_result"
    }
   ],
   "source": [
    "# candidate to DELETE\n",
    "ds[\"Open_fire\"].value_counts()"
   ]
  },
  {
   "cell_type": "code",
   "execution_count": 18,
   "metadata": {},
   "outputs": [
    {
     "data": {
      "text/plain": [
       "Terrace\n",
       "1.0    8168\n",
       "Name: count, dtype: int64"
      ]
     },
     "execution_count": 18,
     "metadata": {},
     "output_type": "execute_result"
    }
   ],
   "source": [
    "ds[\"Terrace\"].value_counts()"
   ]
  },
  {
   "cell_type": "code",
   "execution_count": 19,
   "metadata": {},
   "outputs": [
    {
     "data": {
      "text/plain": [
       "Terrace_Area\n",
       "20.0     433\n",
       "30.0     318\n",
       "15.0     253\n",
       "40.0     210\n",
       "25.0     199\n",
       "        ... \n",
       "156.0      1\n",
       "124.0      1\n",
       "155.0      1\n",
       "371.0      1\n",
       "131.0      1\n",
       "Name: count, Length: 163, dtype: int64"
      ]
     },
     "execution_count": 19,
     "metadata": {},
     "output_type": "execute_result"
    }
   ],
   "source": [
    "ds[\"Terrace_Area\"].value_counts()"
   ]
  },
  {
   "cell_type": "code",
   "execution_count": 20,
   "metadata": {},
   "outputs": [
    {
     "data": {
      "text/html": [
       "<div>\n",
       "<style scoped>\n",
       "    .dataframe tbody tr th:only-of-type {\n",
       "        vertical-align: middle;\n",
       "    }\n",
       "\n",
       "    .dataframe tbody tr th {\n",
       "        vertical-align: top;\n",
       "    }\n",
       "\n",
       "    .dataframe thead th {\n",
       "        text-align: right;\n",
       "    }\n",
       "</style>\n",
       "<table border=\"1\" class=\"dataframe\">\n",
       "  <thead>\n",
       "    <tr style=\"text-align: right;\">\n",
       "      <th></th>\n",
       "      <th>Price</th>\n",
       "      <th>Locality</th>\n",
       "      <th>Type_of_Property</th>\n",
       "      <th>Subtype_of_Property</th>\n",
       "      <th>Number_of_Rooms</th>\n",
       "      <th>Living_Area</th>\n",
       "      <th>Fully_Equipped_Kitchen</th>\n",
       "      <th>Furnished</th>\n",
       "      <th>Open_fire</th>\n",
       "      <th>Terrace</th>\n",
       "      <th>Terrace_Area</th>\n",
       "      <th>Garden</th>\n",
       "      <th>Garden_Area</th>\n",
       "      <th>Surface_of_the_Land</th>\n",
       "      <th>Surface_area_plot_of_land</th>\n",
       "      <th>Number_of_Facades</th>\n",
       "      <th>Swimming_Pool</th>\n",
       "      <th>State_of_the_Building</th>\n",
       "    </tr>\n",
       "  </thead>\n",
       "  <tbody>\n",
       "    <tr>\n",
       "      <th>0</th>\n",
       "      <td>371800</td>\n",
       "      <td>Tielt (8700)</td>\n",
       "      <td>House</td>\n",
       "      <td>HOUSE</td>\n",
       "      <td>3</td>\n",
       "      <td>145.0</td>\n",
       "      <td>0</td>\n",
       "      <td>0</td>\n",
       "      <td>0</td>\n",
       "      <td>1.0</td>\n",
       "      <td>NaN</td>\n",
       "      <td>NaN</td>\n",
       "      <td>NaN</td>\n",
       "      <td>NaN</td>\n",
       "      <td>143.0</td>\n",
       "      <td>NaN</td>\n",
       "      <td>0</td>\n",
       "      <td>GOOD</td>\n",
       "    </tr>\n",
       "    <tr>\n",
       "      <th>1</th>\n",
       "      <td>185000</td>\n",
       "      <td>Ougrée</td>\n",
       "      <td>House</td>\n",
       "      <td>HOUSE</td>\n",
       "      <td>2</td>\n",
       "      <td>112.0</td>\n",
       "      <td>0</td>\n",
       "      <td>0</td>\n",
       "      <td>0</td>\n",
       "      <td>1.0</td>\n",
       "      <td>13.0</td>\n",
       "      <td>NaN</td>\n",
       "      <td>NaN</td>\n",
       "      <td>NaN</td>\n",
       "      <td>1050.0</td>\n",
       "      <td>2.0</td>\n",
       "      <td>0</td>\n",
       "      <td>TO_BE_DONE_UP</td>\n",
       "    </tr>\n",
       "    <tr>\n",
       "      <th>2</th>\n",
       "      <td>214000</td>\n",
       "      <td>Oupeye Heurele-Romain</td>\n",
       "      <td>House</td>\n",
       "      <td>HOUSE</td>\n",
       "      <td>2</td>\n",
       "      <td>124.0</td>\n",
       "      <td>0</td>\n",
       "      <td>0</td>\n",
       "      <td>0</td>\n",
       "      <td>1.0</td>\n",
       "      <td>20.0</td>\n",
       "      <td>1.0</td>\n",
       "      <td>150.0</td>\n",
       "      <td>150.0</td>\n",
       "      <td>330.0</td>\n",
       "      <td>2.0</td>\n",
       "      <td>0</td>\n",
       "      <td>GOOD</td>\n",
       "    </tr>\n",
       "    <tr>\n",
       "      <th>3</th>\n",
       "      <td>599000</td>\n",
       "      <td>Brugge</td>\n",
       "      <td>House</td>\n",
       "      <td>VILLA</td>\n",
       "      <td>4</td>\n",
       "      <td>288.0</td>\n",
       "      <td>0</td>\n",
       "      <td>0</td>\n",
       "      <td>0</td>\n",
       "      <td>1.0</td>\n",
       "      <td>50.0</td>\n",
       "      <td>1.0</td>\n",
       "      <td>550.0</td>\n",
       "      <td>550.0</td>\n",
       "      <td>953.0</td>\n",
       "      <td>4.0</td>\n",
       "      <td>1</td>\n",
       "      <td>TO_BE_DONE_UP</td>\n",
       "    </tr>\n",
       "    <tr>\n",
       "      <th>4</th>\n",
       "      <td>3700000</td>\n",
       "      <td>Knokke-Heist</td>\n",
       "      <td>House</td>\n",
       "      <td>HOUSE</td>\n",
       "      <td>3</td>\n",
       "      <td>127.0</td>\n",
       "      <td>0</td>\n",
       "      <td>0</td>\n",
       "      <td>0</td>\n",
       "      <td>1.0</td>\n",
       "      <td>NaN</td>\n",
       "      <td>NaN</td>\n",
       "      <td>NaN</td>\n",
       "      <td>NaN</td>\n",
       "      <td>924.0</td>\n",
       "      <td>4.0</td>\n",
       "      <td>0</td>\n",
       "      <td>TO_RENOVATE</td>\n",
       "    </tr>\n",
       "    <tr>\n",
       "      <th>...</th>\n",
       "      <td>...</td>\n",
       "      <td>...</td>\n",
       "      <td>...</td>\n",
       "      <td>...</td>\n",
       "      <td>...</td>\n",
       "      <td>...</td>\n",
       "      <td>...</td>\n",
       "      <td>...</td>\n",
       "      <td>...</td>\n",
       "      <td>...</td>\n",
       "      <td>...</td>\n",
       "      <td>...</td>\n",
       "      <td>...</td>\n",
       "      <td>...</td>\n",
       "      <td>...</td>\n",
       "      <td>...</td>\n",
       "      <td>...</td>\n",
       "      <td>...</td>\n",
       "    </tr>\n",
       "    <tr>\n",
       "      <th>12931</th>\n",
       "      <td>159000</td>\n",
       "      <td>Brakel</td>\n",
       "      <td>House</td>\n",
       "      <td>HOUSE</td>\n",
       "      <td>2</td>\n",
       "      <td>128.0</td>\n",
       "      <td>0</td>\n",
       "      <td>0</td>\n",
       "      <td>0</td>\n",
       "      <td>NaN</td>\n",
       "      <td>NaN</td>\n",
       "      <td>NaN</td>\n",
       "      <td>NaN</td>\n",
       "      <td>NaN</td>\n",
       "      <td>804.0</td>\n",
       "      <td>NaN</td>\n",
       "      <td>0</td>\n",
       "      <td>TO_BE_DONE_UP</td>\n",
       "    </tr>\n",
       "    <tr>\n",
       "      <th>12932</th>\n",
       "      <td>369000</td>\n",
       "      <td>Zwalm</td>\n",
       "      <td>House</td>\n",
       "      <td>HOUSE</td>\n",
       "      <td>4</td>\n",
       "      <td>195.0</td>\n",
       "      <td>0</td>\n",
       "      <td>0</td>\n",
       "      <td>0</td>\n",
       "      <td>1.0</td>\n",
       "      <td>NaN</td>\n",
       "      <td>NaN</td>\n",
       "      <td>NaN</td>\n",
       "      <td>NaN</td>\n",
       "      <td>5978.0</td>\n",
       "      <td>3.0</td>\n",
       "      <td>0</td>\n",
       "      <td>TO_RENOVATE</td>\n",
       "    </tr>\n",
       "    <tr>\n",
       "      <th>12933</th>\n",
       "      <td>124000</td>\n",
       "      <td>Saint-Hubert</td>\n",
       "      <td>House</td>\n",
       "      <td>HOUSE</td>\n",
       "      <td>4</td>\n",
       "      <td>97.0</td>\n",
       "      <td>0</td>\n",
       "      <td>0</td>\n",
       "      <td>0</td>\n",
       "      <td>NaN</td>\n",
       "      <td>NaN</td>\n",
       "      <td>NaN</td>\n",
       "      <td>NaN</td>\n",
       "      <td>NaN</td>\n",
       "      <td>68.0</td>\n",
       "      <td>3.0</td>\n",
       "      <td>0</td>\n",
       "      <td>GOOD</td>\n",
       "    </tr>\n",
       "    <tr>\n",
       "      <th>12934</th>\n",
       "      <td>699000</td>\n",
       "      <td>Uccle</td>\n",
       "      <td>House</td>\n",
       "      <td>TOWN_HOUSE</td>\n",
       "      <td>4</td>\n",
       "      <td>190.0</td>\n",
       "      <td>0</td>\n",
       "      <td>0</td>\n",
       "      <td>0</td>\n",
       "      <td>1.0</td>\n",
       "      <td>3.0</td>\n",
       "      <td>1.0</td>\n",
       "      <td>85.0</td>\n",
       "      <td>85.0</td>\n",
       "      <td>150.0</td>\n",
       "      <td>2.0</td>\n",
       "      <td>0</td>\n",
       "      <td>TO_RENOVATE</td>\n",
       "    </tr>\n",
       "    <tr>\n",
       "      <th>12935</th>\n",
       "      <td>575000</td>\n",
       "      <td>Herentals</td>\n",
       "      <td>House</td>\n",
       "      <td>HOUSE</td>\n",
       "      <td>4</td>\n",
       "      <td>429.0</td>\n",
       "      <td>0</td>\n",
       "      <td>0</td>\n",
       "      <td>1</td>\n",
       "      <td>1.0</td>\n",
       "      <td>NaN</td>\n",
       "      <td>NaN</td>\n",
       "      <td>NaN</td>\n",
       "      <td>NaN</td>\n",
       "      <td>1444.0</td>\n",
       "      <td>3.0</td>\n",
       "      <td>0</td>\n",
       "      <td>GOOD</td>\n",
       "    </tr>\n",
       "  </tbody>\n",
       "</table>\n",
       "<p>12936 rows × 18 columns</p>\n",
       "</div>"
      ],
      "text/plain": [
       "         Price               Locality Type_of_Property Subtype_of_Property  \\\n",
       "0       371800           Tielt (8700)            House               HOUSE   \n",
       "1       185000                 Ougrée            House               HOUSE   \n",
       "2       214000  Oupeye Heurele-Romain            House               HOUSE   \n",
       "3       599000                 Brugge            House               VILLA   \n",
       "4      3700000           Knokke-Heist            House               HOUSE   \n",
       "...        ...                    ...              ...                 ...   \n",
       "12931   159000                 Brakel            House               HOUSE   \n",
       "12932   369000                  Zwalm            House               HOUSE   \n",
       "12933   124000           Saint-Hubert            House               HOUSE   \n",
       "12934   699000                  Uccle            House          TOWN_HOUSE   \n",
       "12935   575000              Herentals            House               HOUSE   \n",
       "\n",
       "       Number_of_Rooms  Living_Area  Fully_Equipped_Kitchen  Furnished  \\\n",
       "0                    3        145.0                       0          0   \n",
       "1                    2        112.0                       0          0   \n",
       "2                    2        124.0                       0          0   \n",
       "3                    4        288.0                       0          0   \n",
       "4                    3        127.0                       0          0   \n",
       "...                ...          ...                     ...        ...   \n",
       "12931                2        128.0                       0          0   \n",
       "12932                4        195.0                       0          0   \n",
       "12933                4         97.0                       0          0   \n",
       "12934                4        190.0                       0          0   \n",
       "12935                4        429.0                       0          0   \n",
       "\n",
       "       Open_fire  Terrace  Terrace_Area  Garden  Garden_Area  \\\n",
       "0              0      1.0           NaN     NaN          NaN   \n",
       "1              0      1.0          13.0     NaN          NaN   \n",
       "2              0      1.0          20.0     1.0        150.0   \n",
       "3              0      1.0          50.0     1.0        550.0   \n",
       "4              0      1.0           NaN     NaN          NaN   \n",
       "...          ...      ...           ...     ...          ...   \n",
       "12931          0      NaN           NaN     NaN          NaN   \n",
       "12932          0      1.0           NaN     NaN          NaN   \n",
       "12933          0      NaN           NaN     NaN          NaN   \n",
       "12934          0      1.0           3.0     1.0         85.0   \n",
       "12935          1      1.0           NaN     NaN          NaN   \n",
       "\n",
       "       Surface_of_the_Land  Surface_area_plot_of_land  Number_of_Facades  \\\n",
       "0                      NaN                      143.0                NaN   \n",
       "1                      NaN                     1050.0                2.0   \n",
       "2                    150.0                      330.0                2.0   \n",
       "3                    550.0                      953.0                4.0   \n",
       "4                      NaN                      924.0                4.0   \n",
       "...                    ...                        ...                ...   \n",
       "12931                  NaN                      804.0                NaN   \n",
       "12932                  NaN                     5978.0                3.0   \n",
       "12933                  NaN                       68.0                3.0   \n",
       "12934                 85.0                      150.0                2.0   \n",
       "12935                  NaN                     1444.0                3.0   \n",
       "\n",
       "       Swimming_Pool State_of_the_Building  \n",
       "0                  0                  GOOD  \n",
       "1                  0         TO_BE_DONE_UP  \n",
       "2                  0                  GOOD  \n",
       "3                  1         TO_BE_DONE_UP  \n",
       "4                  0           TO_RENOVATE  \n",
       "...              ...                   ...  \n",
       "12931              0         TO_BE_DONE_UP  \n",
       "12932              0           TO_RENOVATE  \n",
       "12933              0                  GOOD  \n",
       "12934              0           TO_RENOVATE  \n",
       "12935              0                  GOOD  \n",
       "\n",
       "[12936 rows x 18 columns]"
      ]
     },
     "execution_count": 20,
     "metadata": {},
     "output_type": "execute_result"
    }
   ],
   "source": [
    "ds"
   ]
  },
  {
   "cell_type": "code",
   "execution_count": 21,
   "metadata": {},
   "outputs": [
    {
     "data": {
      "text/plain": [
       "Garden\n",
       "1.0    4830\n",
       "Name: count, dtype: int64"
      ]
     },
     "execution_count": 21,
     "metadata": {},
     "output_type": "execute_result"
    }
   ],
   "source": [
    "ds[\"Garden\"].value_counts()"
   ]
  },
  {
   "cell_type": "code",
   "execution_count": 23,
   "metadata": {},
   "outputs": [
    {
     "data": {
      "text/plain": [
       "Garden_Area\n",
       "100.0     120\n",
       "1.0       118\n",
       "200.0     112\n",
       "50.0       97\n",
       "400.0      86\n",
       "         ... \n",
       "221.0       1\n",
       "1746.0      1\n",
       "429.0       1\n",
       "2194.0      1\n",
       "223.0       1\n",
       "Name: count, Length: 1019, dtype: int64"
      ]
     },
     "execution_count": 23,
     "metadata": {},
     "output_type": "execute_result"
    }
   ],
   "source": [
    "# candidate to DELETE\n",
    "ds[\"Garden_Area\"].value_counts()"
   ]
  },
  {
   "cell_type": "code",
   "execution_count": 24,
   "metadata": {},
   "outputs": [
    {
     "data": {
      "text/plain": [
       "Surface_of_the_Land\n",
       "100.0     120\n",
       "1.0       118\n",
       "200.0     112\n",
       "50.0       97\n",
       "400.0      86\n",
       "         ... \n",
       "221.0       1\n",
       "1746.0      1\n",
       "429.0       1\n",
       "2194.0      1\n",
       "223.0       1\n",
       "Name: count, Length: 1019, dtype: int64"
      ]
     },
     "execution_count": 24,
     "metadata": {},
     "output_type": "execute_result"
    }
   ],
   "source": [
    "# candidate to DELETE\n",
    "ds[\"Surface_of_the_Land\"].value_counts()"
   ]
  },
  {
   "cell_type": "code",
   "execution_count": 26,
   "metadata": {},
   "outputs": [
    {
     "data": {
      "text/plain": [
       "Surface_area_plot_of_land\n",
       "0.0        806\n",
       "200.0      100\n",
       "120.0       82\n",
       "170.0       73\n",
       "150.0       68\n",
       "          ... \n",
       "1744.0       1\n",
       "9092.0       1\n",
       "25511.0      1\n",
       "6454.0       1\n",
       "5978.0       1\n",
       "Name: count, Length: 2542, dtype: int64"
      ]
     },
     "execution_count": 26,
     "metadata": {},
     "output_type": "execute_result"
    }
   ],
   "source": [
    "# candidate to DELETE\n",
    "ds[\"Surface_area_plot_of_land\"].value_counts()"
   ]
  },
  {
   "cell_type": "code",
   "execution_count": 27,
   "metadata": {},
   "outputs": [
    {
     "data": {
      "text/plain": [
       "Number_of_Facades\n",
       "2.0    3852\n",
       "4.0    3751\n",
       "3.0    2716\n",
       "1.0      15\n",
       "6.0       3\n",
       "5.0       2\n",
       "Name: count, dtype: int64"
      ]
     },
     "execution_count": 27,
     "metadata": {},
     "output_type": "execute_result"
    }
   ],
   "source": [
    "ds[\"Number_of_Facades\"].value_counts()"
   ]
  },
  {
   "cell_type": "code",
   "execution_count": 28,
   "metadata": {},
   "outputs": [
    {
     "data": {
      "text/plain": [
       "Swimming_Pool\n",
       "0    12424\n",
       "1      512\n",
       "Name: count, dtype: int64"
      ]
     },
     "execution_count": 28,
     "metadata": {},
     "output_type": "execute_result"
    }
   ],
   "source": [
    "# candidate to DELETE\n",
    "ds[\"Swimming_Pool\"].value_counts()"
   ]
  },
  {
   "cell_type": "code",
   "execution_count": 29,
   "metadata": {},
   "outputs": [
    {
     "data": {
      "text/plain": [
       "State_of_the_Building\n",
       "GOOD              4902\n",
       "AS_NEW            2119\n",
       "TO_RENOVATE       1895\n",
       "TO_BE_DONE_UP     1313\n",
       "JUST_RENOVATED     681\n",
       "TO_RESTORE          85\n",
       "Name: count, dtype: int64"
      ]
     },
     "execution_count": 29,
     "metadata": {},
     "output_type": "execute_result"
    }
   ],
   "source": [
    "# candidate to DELETE, but we can check correlation between equipped kitchen and furhinsed, so I proposed to stay\n",
    "ds[\"State_of_the_Building\"].value_counts()"
   ]
  },
  {
   "cell_type": "code",
   "execution_count": 32,
   "metadata": {},
   "outputs": [
    {
     "data": {
      "text/html": [
       "<div>\n",
       "<style scoped>\n",
       "    .dataframe tbody tr th:only-of-type {\n",
       "        vertical-align: middle;\n",
       "    }\n",
       "\n",
       "    .dataframe tbody tr th {\n",
       "        vertical-align: top;\n",
       "    }\n",
       "\n",
       "    .dataframe thead th {\n",
       "        text-align: right;\n",
       "    }\n",
       "</style>\n",
       "<table border=\"1\" class=\"dataframe\">\n",
       "  <thead>\n",
       "    <tr style=\"text-align: right;\">\n",
       "      <th></th>\n",
       "      <th>Price</th>\n",
       "      <th>Locality</th>\n",
       "      <th>Type_of_Property</th>\n",
       "      <th>Subtype_of_Property</th>\n",
       "      <th>Number_of_Rooms</th>\n",
       "      <th>Living_Area</th>\n",
       "      <th>Fully_Equipped_Kitchen</th>\n",
       "      <th>Furnished</th>\n",
       "      <th>Open_fire</th>\n",
       "      <th>Terrace</th>\n",
       "      <th>Terrace_Area</th>\n",
       "      <th>Garden</th>\n",
       "      <th>Garden_Area</th>\n",
       "      <th>Surface_of_the_Land</th>\n",
       "      <th>Surface_area_plot_of_land</th>\n",
       "      <th>Number_of_Facades</th>\n",
       "      <th>Swimming_Pool</th>\n",
       "      <th>State_of_the_Building</th>\n",
       "    </tr>\n",
       "  </thead>\n",
       "  <tbody>\n",
       "    <tr>\n",
       "      <th>0</th>\n",
       "      <td>371800</td>\n",
       "      <td>Tielt (8700)</td>\n",
       "      <td>House</td>\n",
       "      <td>HOUSE</td>\n",
       "      <td>3</td>\n",
       "      <td>145.0</td>\n",
       "      <td>0</td>\n",
       "      <td>0</td>\n",
       "      <td>0</td>\n",
       "      <td>1.0</td>\n",
       "      <td>NaN</td>\n",
       "      <td>NaN</td>\n",
       "      <td>NaN</td>\n",
       "      <td>NaN</td>\n",
       "      <td>143.0</td>\n",
       "      <td>NaN</td>\n",
       "      <td>0</td>\n",
       "      <td>GOOD</td>\n",
       "    </tr>\n",
       "    <tr>\n",
       "      <th>1</th>\n",
       "      <td>185000</td>\n",
       "      <td>Ougrée</td>\n",
       "      <td>House</td>\n",
       "      <td>HOUSE</td>\n",
       "      <td>2</td>\n",
       "      <td>112.0</td>\n",
       "      <td>0</td>\n",
       "      <td>0</td>\n",
       "      <td>0</td>\n",
       "      <td>1.0</td>\n",
       "      <td>13.0</td>\n",
       "      <td>NaN</td>\n",
       "      <td>NaN</td>\n",
       "      <td>NaN</td>\n",
       "      <td>1050.0</td>\n",
       "      <td>2.0</td>\n",
       "      <td>0</td>\n",
       "      <td>TO_BE_DONE_UP</td>\n",
       "    </tr>\n",
       "    <tr>\n",
       "      <th>2</th>\n",
       "      <td>214000</td>\n",
       "      <td>Oupeye Heurele-Romain</td>\n",
       "      <td>House</td>\n",
       "      <td>HOUSE</td>\n",
       "      <td>2</td>\n",
       "      <td>124.0</td>\n",
       "      <td>0</td>\n",
       "      <td>0</td>\n",
       "      <td>0</td>\n",
       "      <td>1.0</td>\n",
       "      <td>20.0</td>\n",
       "      <td>1.0</td>\n",
       "      <td>150.0</td>\n",
       "      <td>150.0</td>\n",
       "      <td>330.0</td>\n",
       "      <td>2.0</td>\n",
       "      <td>0</td>\n",
       "      <td>GOOD</td>\n",
       "    </tr>\n",
       "    <tr>\n",
       "      <th>3</th>\n",
       "      <td>599000</td>\n",
       "      <td>Brugge</td>\n",
       "      <td>House</td>\n",
       "      <td>VILLA</td>\n",
       "      <td>4</td>\n",
       "      <td>288.0</td>\n",
       "      <td>0</td>\n",
       "      <td>0</td>\n",
       "      <td>0</td>\n",
       "      <td>1.0</td>\n",
       "      <td>50.0</td>\n",
       "      <td>1.0</td>\n",
       "      <td>550.0</td>\n",
       "      <td>550.0</td>\n",
       "      <td>953.0</td>\n",
       "      <td>4.0</td>\n",
       "      <td>1</td>\n",
       "      <td>TO_BE_DONE_UP</td>\n",
       "    </tr>\n",
       "    <tr>\n",
       "      <th>4</th>\n",
       "      <td>3700000</td>\n",
       "      <td>Knokke-Heist</td>\n",
       "      <td>House</td>\n",
       "      <td>HOUSE</td>\n",
       "      <td>3</td>\n",
       "      <td>127.0</td>\n",
       "      <td>0</td>\n",
       "      <td>0</td>\n",
       "      <td>0</td>\n",
       "      <td>1.0</td>\n",
       "      <td>NaN</td>\n",
       "      <td>NaN</td>\n",
       "      <td>NaN</td>\n",
       "      <td>NaN</td>\n",
       "      <td>924.0</td>\n",
       "      <td>4.0</td>\n",
       "      <td>0</td>\n",
       "      <td>TO_RENOVATE</td>\n",
       "    </tr>\n",
       "    <tr>\n",
       "      <th>...</th>\n",
       "      <td>...</td>\n",
       "      <td>...</td>\n",
       "      <td>...</td>\n",
       "      <td>...</td>\n",
       "      <td>...</td>\n",
       "      <td>...</td>\n",
       "      <td>...</td>\n",
       "      <td>...</td>\n",
       "      <td>...</td>\n",
       "      <td>...</td>\n",
       "      <td>...</td>\n",
       "      <td>...</td>\n",
       "      <td>...</td>\n",
       "      <td>...</td>\n",
       "      <td>...</td>\n",
       "      <td>...</td>\n",
       "      <td>...</td>\n",
       "      <td>...</td>\n",
       "    </tr>\n",
       "    <tr>\n",
       "      <th>12931</th>\n",
       "      <td>159000</td>\n",
       "      <td>Brakel</td>\n",
       "      <td>House</td>\n",
       "      <td>HOUSE</td>\n",
       "      <td>2</td>\n",
       "      <td>128.0</td>\n",
       "      <td>0</td>\n",
       "      <td>0</td>\n",
       "      <td>0</td>\n",
       "      <td>NaN</td>\n",
       "      <td>NaN</td>\n",
       "      <td>NaN</td>\n",
       "      <td>NaN</td>\n",
       "      <td>NaN</td>\n",
       "      <td>804.0</td>\n",
       "      <td>NaN</td>\n",
       "      <td>0</td>\n",
       "      <td>TO_BE_DONE_UP</td>\n",
       "    </tr>\n",
       "    <tr>\n",
       "      <th>12932</th>\n",
       "      <td>369000</td>\n",
       "      <td>Zwalm</td>\n",
       "      <td>House</td>\n",
       "      <td>HOUSE</td>\n",
       "      <td>4</td>\n",
       "      <td>195.0</td>\n",
       "      <td>0</td>\n",
       "      <td>0</td>\n",
       "      <td>0</td>\n",
       "      <td>1.0</td>\n",
       "      <td>NaN</td>\n",
       "      <td>NaN</td>\n",
       "      <td>NaN</td>\n",
       "      <td>NaN</td>\n",
       "      <td>5978.0</td>\n",
       "      <td>3.0</td>\n",
       "      <td>0</td>\n",
       "      <td>TO_RENOVATE</td>\n",
       "    </tr>\n",
       "    <tr>\n",
       "      <th>12933</th>\n",
       "      <td>124000</td>\n",
       "      <td>Saint-Hubert</td>\n",
       "      <td>House</td>\n",
       "      <td>HOUSE</td>\n",
       "      <td>4</td>\n",
       "      <td>97.0</td>\n",
       "      <td>0</td>\n",
       "      <td>0</td>\n",
       "      <td>0</td>\n",
       "      <td>NaN</td>\n",
       "      <td>NaN</td>\n",
       "      <td>NaN</td>\n",
       "      <td>NaN</td>\n",
       "      <td>NaN</td>\n",
       "      <td>68.0</td>\n",
       "      <td>3.0</td>\n",
       "      <td>0</td>\n",
       "      <td>GOOD</td>\n",
       "    </tr>\n",
       "    <tr>\n",
       "      <th>12934</th>\n",
       "      <td>699000</td>\n",
       "      <td>Uccle</td>\n",
       "      <td>House</td>\n",
       "      <td>TOWN_HOUSE</td>\n",
       "      <td>4</td>\n",
       "      <td>190.0</td>\n",
       "      <td>0</td>\n",
       "      <td>0</td>\n",
       "      <td>0</td>\n",
       "      <td>1.0</td>\n",
       "      <td>3.0</td>\n",
       "      <td>1.0</td>\n",
       "      <td>85.0</td>\n",
       "      <td>85.0</td>\n",
       "      <td>150.0</td>\n",
       "      <td>2.0</td>\n",
       "      <td>0</td>\n",
       "      <td>TO_RENOVATE</td>\n",
       "    </tr>\n",
       "    <tr>\n",
       "      <th>12935</th>\n",
       "      <td>575000</td>\n",
       "      <td>Herentals</td>\n",
       "      <td>House</td>\n",
       "      <td>HOUSE</td>\n",
       "      <td>4</td>\n",
       "      <td>429.0</td>\n",
       "      <td>0</td>\n",
       "      <td>0</td>\n",
       "      <td>1</td>\n",
       "      <td>1.0</td>\n",
       "      <td>NaN</td>\n",
       "      <td>NaN</td>\n",
       "      <td>NaN</td>\n",
       "      <td>NaN</td>\n",
       "      <td>1444.0</td>\n",
       "      <td>3.0</td>\n",
       "      <td>0</td>\n",
       "      <td>GOOD</td>\n",
       "    </tr>\n",
       "  </tbody>\n",
       "</table>\n",
       "<p>12936 rows × 18 columns</p>\n",
       "</div>"
      ],
      "text/plain": [
       "         Price               Locality Type_of_Property Subtype_of_Property  \\\n",
       "0       371800           Tielt (8700)            House               HOUSE   \n",
       "1       185000                 Ougrée            House               HOUSE   \n",
       "2       214000  Oupeye Heurele-Romain            House               HOUSE   \n",
       "3       599000                 Brugge            House               VILLA   \n",
       "4      3700000           Knokke-Heist            House               HOUSE   \n",
       "...        ...                    ...              ...                 ...   \n",
       "12931   159000                 Brakel            House               HOUSE   \n",
       "12932   369000                  Zwalm            House               HOUSE   \n",
       "12933   124000           Saint-Hubert            House               HOUSE   \n",
       "12934   699000                  Uccle            House          TOWN_HOUSE   \n",
       "12935   575000              Herentals            House               HOUSE   \n",
       "\n",
       "       Number_of_Rooms  Living_Area  Fully_Equipped_Kitchen  Furnished  \\\n",
       "0                    3        145.0                       0          0   \n",
       "1                    2        112.0                       0          0   \n",
       "2                    2        124.0                       0          0   \n",
       "3                    4        288.0                       0          0   \n",
       "4                    3        127.0                       0          0   \n",
       "...                ...          ...                     ...        ...   \n",
       "12931                2        128.0                       0          0   \n",
       "12932                4        195.0                       0          0   \n",
       "12933                4         97.0                       0          0   \n",
       "12934                4        190.0                       0          0   \n",
       "12935                4        429.0                       0          0   \n",
       "\n",
       "       Open_fire  Terrace  Terrace_Area  Garden  Garden_Area  \\\n",
       "0              0      1.0           NaN     NaN          NaN   \n",
       "1              0      1.0          13.0     NaN          NaN   \n",
       "2              0      1.0          20.0     1.0        150.0   \n",
       "3              0      1.0          50.0     1.0        550.0   \n",
       "4              0      1.0           NaN     NaN          NaN   \n",
       "...          ...      ...           ...     ...          ...   \n",
       "12931          0      NaN           NaN     NaN          NaN   \n",
       "12932          0      1.0           NaN     NaN          NaN   \n",
       "12933          0      NaN           NaN     NaN          NaN   \n",
       "12934          0      1.0           3.0     1.0         85.0   \n",
       "12935          1      1.0           NaN     NaN          NaN   \n",
       "\n",
       "       Surface_of_the_Land  Surface_area_plot_of_land  Number_of_Facades  \\\n",
       "0                      NaN                      143.0                NaN   \n",
       "1                      NaN                     1050.0                2.0   \n",
       "2                    150.0                      330.0                2.0   \n",
       "3                    550.0                      953.0                4.0   \n",
       "4                      NaN                      924.0                4.0   \n",
       "...                    ...                        ...                ...   \n",
       "12931                  NaN                      804.0                NaN   \n",
       "12932                  NaN                     5978.0                3.0   \n",
       "12933                  NaN                       68.0                3.0   \n",
       "12934                 85.0                      150.0                2.0   \n",
       "12935                  NaN                     1444.0                3.0   \n",
       "\n",
       "       Swimming_Pool State_of_the_Building  \n",
       "0                  0                  GOOD  \n",
       "1                  0         TO_BE_DONE_UP  \n",
       "2                  0                  GOOD  \n",
       "3                  1         TO_BE_DONE_UP  \n",
       "4                  0           TO_RENOVATE  \n",
       "...              ...                   ...  \n",
       "12931              0         TO_BE_DONE_UP  \n",
       "12932              0           TO_RENOVATE  \n",
       "12933              0                  GOOD  \n",
       "12934              0           TO_RENOVATE  \n",
       "12935              0                  GOOD  \n",
       "\n",
       "[12936 rows x 18 columns]"
      ]
     },
     "execution_count": 32,
     "metadata": {},
     "output_type": "execute_result"
    }
   ],
   "source": [
    "ds"
   ]
  },
  {
   "cell_type": "code",
   "execution_count": 33,
   "metadata": {},
   "outputs": [
    {
     "data": {
      "text/html": [
       "<div>\n",
       "<style scoped>\n",
       "    .dataframe tbody tr th:only-of-type {\n",
       "        vertical-align: middle;\n",
       "    }\n",
       "\n",
       "    .dataframe tbody tr th {\n",
       "        vertical-align: top;\n",
       "    }\n",
       "\n",
       "    .dataframe thead th {\n",
       "        text-align: right;\n",
       "    }\n",
       "</style>\n",
       "<table border=\"1\" class=\"dataframe\">\n",
       "  <thead>\n",
       "    <tr style=\"text-align: right;\">\n",
       "      <th></th>\n",
       "      <th>Price</th>\n",
       "      <th>Locality</th>\n",
       "      <th>Type_of_Property</th>\n",
       "      <th>Subtype_of_Property</th>\n",
       "      <th>Number_of_Rooms</th>\n",
       "      <th>Living_Area</th>\n",
       "      <th>Fully_Equipped_Kitchen</th>\n",
       "      <th>Furnished</th>\n",
       "      <th>Terrace</th>\n",
       "      <th>Terrace_Area</th>\n",
       "      <th>Garden</th>\n",
       "      <th>Garden_Area</th>\n",
       "      <th>Surface_of_the_Land</th>\n",
       "      <th>Surface_area_plot_of_land</th>\n",
       "      <th>Number_of_Facades</th>\n",
       "      <th>State_of_the_Building</th>\n",
       "    </tr>\n",
       "  </thead>\n",
       "  <tbody>\n",
       "    <tr>\n",
       "      <th>0</th>\n",
       "      <td>371800</td>\n",
       "      <td>Tielt (8700)</td>\n",
       "      <td>House</td>\n",
       "      <td>HOUSE</td>\n",
       "      <td>3</td>\n",
       "      <td>145.0</td>\n",
       "      <td>0</td>\n",
       "      <td>0</td>\n",
       "      <td>1.0</td>\n",
       "      <td>NaN</td>\n",
       "      <td>NaN</td>\n",
       "      <td>NaN</td>\n",
       "      <td>NaN</td>\n",
       "      <td>143.0</td>\n",
       "      <td>NaN</td>\n",
       "      <td>GOOD</td>\n",
       "    </tr>\n",
       "    <tr>\n",
       "      <th>1</th>\n",
       "      <td>185000</td>\n",
       "      <td>Ougrée</td>\n",
       "      <td>House</td>\n",
       "      <td>HOUSE</td>\n",
       "      <td>2</td>\n",
       "      <td>112.0</td>\n",
       "      <td>0</td>\n",
       "      <td>0</td>\n",
       "      <td>1.0</td>\n",
       "      <td>13.0</td>\n",
       "      <td>NaN</td>\n",
       "      <td>NaN</td>\n",
       "      <td>NaN</td>\n",
       "      <td>1050.0</td>\n",
       "      <td>2.0</td>\n",
       "      <td>TO_BE_DONE_UP</td>\n",
       "    </tr>\n",
       "    <tr>\n",
       "      <th>2</th>\n",
       "      <td>214000</td>\n",
       "      <td>Oupeye Heurele-Romain</td>\n",
       "      <td>House</td>\n",
       "      <td>HOUSE</td>\n",
       "      <td>2</td>\n",
       "      <td>124.0</td>\n",
       "      <td>0</td>\n",
       "      <td>0</td>\n",
       "      <td>1.0</td>\n",
       "      <td>20.0</td>\n",
       "      <td>1.0</td>\n",
       "      <td>150.0</td>\n",
       "      <td>150.0</td>\n",
       "      <td>330.0</td>\n",
       "      <td>2.0</td>\n",
       "      <td>GOOD</td>\n",
       "    </tr>\n",
       "    <tr>\n",
       "      <th>3</th>\n",
       "      <td>599000</td>\n",
       "      <td>Brugge</td>\n",
       "      <td>House</td>\n",
       "      <td>VILLA</td>\n",
       "      <td>4</td>\n",
       "      <td>288.0</td>\n",
       "      <td>0</td>\n",
       "      <td>0</td>\n",
       "      <td>1.0</td>\n",
       "      <td>50.0</td>\n",
       "      <td>1.0</td>\n",
       "      <td>550.0</td>\n",
       "      <td>550.0</td>\n",
       "      <td>953.0</td>\n",
       "      <td>4.0</td>\n",
       "      <td>TO_BE_DONE_UP</td>\n",
       "    </tr>\n",
       "    <tr>\n",
       "      <th>4</th>\n",
       "      <td>3700000</td>\n",
       "      <td>Knokke-Heist</td>\n",
       "      <td>House</td>\n",
       "      <td>HOUSE</td>\n",
       "      <td>3</td>\n",
       "      <td>127.0</td>\n",
       "      <td>0</td>\n",
       "      <td>0</td>\n",
       "      <td>1.0</td>\n",
       "      <td>NaN</td>\n",
       "      <td>NaN</td>\n",
       "      <td>NaN</td>\n",
       "      <td>NaN</td>\n",
       "      <td>924.0</td>\n",
       "      <td>4.0</td>\n",
       "      <td>TO_RENOVATE</td>\n",
       "    </tr>\n",
       "    <tr>\n",
       "      <th>...</th>\n",
       "      <td>...</td>\n",
       "      <td>...</td>\n",
       "      <td>...</td>\n",
       "      <td>...</td>\n",
       "      <td>...</td>\n",
       "      <td>...</td>\n",
       "      <td>...</td>\n",
       "      <td>...</td>\n",
       "      <td>...</td>\n",
       "      <td>...</td>\n",
       "      <td>...</td>\n",
       "      <td>...</td>\n",
       "      <td>...</td>\n",
       "      <td>...</td>\n",
       "      <td>...</td>\n",
       "      <td>...</td>\n",
       "    </tr>\n",
       "    <tr>\n",
       "      <th>12931</th>\n",
       "      <td>159000</td>\n",
       "      <td>Brakel</td>\n",
       "      <td>House</td>\n",
       "      <td>HOUSE</td>\n",
       "      <td>2</td>\n",
       "      <td>128.0</td>\n",
       "      <td>0</td>\n",
       "      <td>0</td>\n",
       "      <td>NaN</td>\n",
       "      <td>NaN</td>\n",
       "      <td>NaN</td>\n",
       "      <td>NaN</td>\n",
       "      <td>NaN</td>\n",
       "      <td>804.0</td>\n",
       "      <td>NaN</td>\n",
       "      <td>TO_BE_DONE_UP</td>\n",
       "    </tr>\n",
       "    <tr>\n",
       "      <th>12932</th>\n",
       "      <td>369000</td>\n",
       "      <td>Zwalm</td>\n",
       "      <td>House</td>\n",
       "      <td>HOUSE</td>\n",
       "      <td>4</td>\n",
       "      <td>195.0</td>\n",
       "      <td>0</td>\n",
       "      <td>0</td>\n",
       "      <td>1.0</td>\n",
       "      <td>NaN</td>\n",
       "      <td>NaN</td>\n",
       "      <td>NaN</td>\n",
       "      <td>NaN</td>\n",
       "      <td>5978.0</td>\n",
       "      <td>3.0</td>\n",
       "      <td>TO_RENOVATE</td>\n",
       "    </tr>\n",
       "    <tr>\n",
       "      <th>12933</th>\n",
       "      <td>124000</td>\n",
       "      <td>Saint-Hubert</td>\n",
       "      <td>House</td>\n",
       "      <td>HOUSE</td>\n",
       "      <td>4</td>\n",
       "      <td>97.0</td>\n",
       "      <td>0</td>\n",
       "      <td>0</td>\n",
       "      <td>NaN</td>\n",
       "      <td>NaN</td>\n",
       "      <td>NaN</td>\n",
       "      <td>NaN</td>\n",
       "      <td>NaN</td>\n",
       "      <td>68.0</td>\n",
       "      <td>3.0</td>\n",
       "      <td>GOOD</td>\n",
       "    </tr>\n",
       "    <tr>\n",
       "      <th>12934</th>\n",
       "      <td>699000</td>\n",
       "      <td>Uccle</td>\n",
       "      <td>House</td>\n",
       "      <td>TOWN_HOUSE</td>\n",
       "      <td>4</td>\n",
       "      <td>190.0</td>\n",
       "      <td>0</td>\n",
       "      <td>0</td>\n",
       "      <td>1.0</td>\n",
       "      <td>3.0</td>\n",
       "      <td>1.0</td>\n",
       "      <td>85.0</td>\n",
       "      <td>85.0</td>\n",
       "      <td>150.0</td>\n",
       "      <td>2.0</td>\n",
       "      <td>TO_RENOVATE</td>\n",
       "    </tr>\n",
       "    <tr>\n",
       "      <th>12935</th>\n",
       "      <td>575000</td>\n",
       "      <td>Herentals</td>\n",
       "      <td>House</td>\n",
       "      <td>HOUSE</td>\n",
       "      <td>4</td>\n",
       "      <td>429.0</td>\n",
       "      <td>0</td>\n",
       "      <td>0</td>\n",
       "      <td>1.0</td>\n",
       "      <td>NaN</td>\n",
       "      <td>NaN</td>\n",
       "      <td>NaN</td>\n",
       "      <td>NaN</td>\n",
       "      <td>1444.0</td>\n",
       "      <td>3.0</td>\n",
       "      <td>GOOD</td>\n",
       "    </tr>\n",
       "  </tbody>\n",
       "</table>\n",
       "<p>12936 rows × 16 columns</p>\n",
       "</div>"
      ],
      "text/plain": [
       "         Price               Locality Type_of_Property Subtype_of_Property  \\\n",
       "0       371800           Tielt (8700)            House               HOUSE   \n",
       "1       185000                 Ougrée            House               HOUSE   \n",
       "2       214000  Oupeye Heurele-Romain            House               HOUSE   \n",
       "3       599000                 Brugge            House               VILLA   \n",
       "4      3700000           Knokke-Heist            House               HOUSE   \n",
       "...        ...                    ...              ...                 ...   \n",
       "12931   159000                 Brakel            House               HOUSE   \n",
       "12932   369000                  Zwalm            House               HOUSE   \n",
       "12933   124000           Saint-Hubert            House               HOUSE   \n",
       "12934   699000                  Uccle            House          TOWN_HOUSE   \n",
       "12935   575000              Herentals            House               HOUSE   \n",
       "\n",
       "       Number_of_Rooms  Living_Area  Fully_Equipped_Kitchen  Furnished  \\\n",
       "0                    3        145.0                       0          0   \n",
       "1                    2        112.0                       0          0   \n",
       "2                    2        124.0                       0          0   \n",
       "3                    4        288.0                       0          0   \n",
       "4                    3        127.0                       0          0   \n",
       "...                ...          ...                     ...        ...   \n",
       "12931                2        128.0                       0          0   \n",
       "12932                4        195.0                       0          0   \n",
       "12933                4         97.0                       0          0   \n",
       "12934                4        190.0                       0          0   \n",
       "12935                4        429.0                       0          0   \n",
       "\n",
       "       Terrace  Terrace_Area  Garden  Garden_Area  Surface_of_the_Land  \\\n",
       "0          1.0           NaN     NaN          NaN                  NaN   \n",
       "1          1.0          13.0     NaN          NaN                  NaN   \n",
       "2          1.0          20.0     1.0        150.0                150.0   \n",
       "3          1.0          50.0     1.0        550.0                550.0   \n",
       "4          1.0           NaN     NaN          NaN                  NaN   \n",
       "...        ...           ...     ...          ...                  ...   \n",
       "12931      NaN           NaN     NaN          NaN                  NaN   \n",
       "12932      1.0           NaN     NaN          NaN                  NaN   \n",
       "12933      NaN           NaN     NaN          NaN                  NaN   \n",
       "12934      1.0           3.0     1.0         85.0                 85.0   \n",
       "12935      1.0           NaN     NaN          NaN                  NaN   \n",
       "\n",
       "       Surface_area_plot_of_land  Number_of_Facades State_of_the_Building  \n",
       "0                          143.0                NaN                  GOOD  \n",
       "1                         1050.0                2.0         TO_BE_DONE_UP  \n",
       "2                          330.0                2.0                  GOOD  \n",
       "3                          953.0                4.0         TO_BE_DONE_UP  \n",
       "4                          924.0                4.0           TO_RENOVATE  \n",
       "...                          ...                ...                   ...  \n",
       "12931                      804.0                NaN         TO_BE_DONE_UP  \n",
       "12932                     5978.0                3.0           TO_RENOVATE  \n",
       "12933                       68.0                3.0                  GOOD  \n",
       "12934                      150.0                2.0           TO_RENOVATE  \n",
       "12935                     1444.0                3.0                  GOOD  \n",
       "\n",
       "[12936 rows x 16 columns]"
      ]
     },
     "execution_count": 33,
     "metadata": {},
     "output_type": "execute_result"
    }
   ],
   "source": [
    "# to delete columns\n",
    "df = ds.drop(columns = [\"Open_fire\", \"Swimming_Pool\"])\n",
    "# df = data.drop(columns = [\"Open_fire\"], [\"Number_of_Fasades\"]) # to name dataset for our analysis\n",
    "# data.drop(columns = [\"Open_fire\"], [\"Number_of_Fasades\"], inplace = True) - to inplace our dataset \n",
    "df\n"
   ]
  },
  {
   "cell_type": "code",
   "execution_count": 34,
   "metadata": {},
   "outputs": [
    {
     "data": {
      "text/plain": [
       "466"
      ]
     },
     "execution_count": 34,
     "metadata": {},
     "output_type": "execute_result"
    }
   ],
   "source": [
    "# check duplicates !!!!HOW CAN WE SEE THEM?!!!\n",
    "df.duplicated().sum()"
   ]
  },
  {
   "cell_type": "code",
   "execution_count": 35,
   "metadata": {},
   "outputs": [],
   "source": [
    "# to delete duplicates\n",
    "df.drop_duplicates(inplace = True)"
   ]
  },
  {
   "cell_type": "code",
   "execution_count": 36,
   "metadata": {},
   "outputs": [
    {
     "data": {
      "text/plain": [
       "0"
      ]
     },
     "execution_count": 36,
     "metadata": {},
     "output_type": "execute_result"
    }
   ],
   "source": [
    "# check duplicates\n",
    "df.duplicated().sum()"
   ]
  },
  {
   "cell_type": "code",
   "execution_count": 37,
   "metadata": {},
   "outputs": [
    {
     "data": {
      "text/html": [
       "<div>\n",
       "<style scoped>\n",
       "    .dataframe tbody tr th:only-of-type {\n",
       "        vertical-align: middle;\n",
       "    }\n",
       "\n",
       "    .dataframe tbody tr th {\n",
       "        vertical-align: top;\n",
       "    }\n",
       "\n",
       "    .dataframe thead th {\n",
       "        text-align: right;\n",
       "    }\n",
       "</style>\n",
       "<table border=\"1\" class=\"dataframe\">\n",
       "  <thead>\n",
       "    <tr style=\"text-align: right;\">\n",
       "      <th></th>\n",
       "      <th>Price</th>\n",
       "      <th>Locality</th>\n",
       "      <th>Type_of_Property</th>\n",
       "      <th>Subtype_of_Property</th>\n",
       "      <th>Number_of_Rooms</th>\n",
       "      <th>Living_Area</th>\n",
       "      <th>Fully_Equipped_Kitchen</th>\n",
       "      <th>Furnished</th>\n",
       "      <th>Terrace</th>\n",
       "      <th>Terrace_Area</th>\n",
       "      <th>Garden</th>\n",
       "      <th>Garden_Area</th>\n",
       "      <th>Surface_of_the_Land</th>\n",
       "      <th>Surface_area_plot_of_land</th>\n",
       "      <th>Number_of_Facades</th>\n",
       "      <th>State_of_the_Building</th>\n",
       "    </tr>\n",
       "  </thead>\n",
       "  <tbody>\n",
       "    <tr>\n",
       "      <th>0</th>\n",
       "      <td>371800</td>\n",
       "      <td>Tielt (8700)</td>\n",
       "      <td>House</td>\n",
       "      <td>HOUSE</td>\n",
       "      <td>3</td>\n",
       "      <td>145.0</td>\n",
       "      <td>0</td>\n",
       "      <td>0</td>\n",
       "      <td>1.0</td>\n",
       "      <td>NaN</td>\n",
       "      <td>NaN</td>\n",
       "      <td>NaN</td>\n",
       "      <td>NaN</td>\n",
       "      <td>143.0</td>\n",
       "      <td>NaN</td>\n",
       "      <td>GOOD</td>\n",
       "    </tr>\n",
       "    <tr>\n",
       "      <th>1</th>\n",
       "      <td>185000</td>\n",
       "      <td>Ougrée</td>\n",
       "      <td>House</td>\n",
       "      <td>HOUSE</td>\n",
       "      <td>2</td>\n",
       "      <td>112.0</td>\n",
       "      <td>0</td>\n",
       "      <td>0</td>\n",
       "      <td>1.0</td>\n",
       "      <td>13.0</td>\n",
       "      <td>NaN</td>\n",
       "      <td>NaN</td>\n",
       "      <td>NaN</td>\n",
       "      <td>1050.0</td>\n",
       "      <td>2.0</td>\n",
       "      <td>TO_BE_DONE_UP</td>\n",
       "    </tr>\n",
       "    <tr>\n",
       "      <th>2</th>\n",
       "      <td>214000</td>\n",
       "      <td>Oupeye Heurele-Romain</td>\n",
       "      <td>House</td>\n",
       "      <td>HOUSE</td>\n",
       "      <td>2</td>\n",
       "      <td>124.0</td>\n",
       "      <td>0</td>\n",
       "      <td>0</td>\n",
       "      <td>1.0</td>\n",
       "      <td>20.0</td>\n",
       "      <td>1.0</td>\n",
       "      <td>150.0</td>\n",
       "      <td>150.0</td>\n",
       "      <td>330.0</td>\n",
       "      <td>2.0</td>\n",
       "      <td>GOOD</td>\n",
       "    </tr>\n",
       "    <tr>\n",
       "      <th>3</th>\n",
       "      <td>599000</td>\n",
       "      <td>Brugge</td>\n",
       "      <td>House</td>\n",
       "      <td>VILLA</td>\n",
       "      <td>4</td>\n",
       "      <td>288.0</td>\n",
       "      <td>0</td>\n",
       "      <td>0</td>\n",
       "      <td>1.0</td>\n",
       "      <td>50.0</td>\n",
       "      <td>1.0</td>\n",
       "      <td>550.0</td>\n",
       "      <td>550.0</td>\n",
       "      <td>953.0</td>\n",
       "      <td>4.0</td>\n",
       "      <td>TO_BE_DONE_UP</td>\n",
       "    </tr>\n",
       "    <tr>\n",
       "      <th>4</th>\n",
       "      <td>3700000</td>\n",
       "      <td>Knokke-Heist</td>\n",
       "      <td>House</td>\n",
       "      <td>HOUSE</td>\n",
       "      <td>3</td>\n",
       "      <td>127.0</td>\n",
       "      <td>0</td>\n",
       "      <td>0</td>\n",
       "      <td>1.0</td>\n",
       "      <td>NaN</td>\n",
       "      <td>NaN</td>\n",
       "      <td>NaN</td>\n",
       "      <td>NaN</td>\n",
       "      <td>924.0</td>\n",
       "      <td>4.0</td>\n",
       "      <td>TO_RENOVATE</td>\n",
       "    </tr>\n",
       "    <tr>\n",
       "      <th>...</th>\n",
       "      <td>...</td>\n",
       "      <td>...</td>\n",
       "      <td>...</td>\n",
       "      <td>...</td>\n",
       "      <td>...</td>\n",
       "      <td>...</td>\n",
       "      <td>...</td>\n",
       "      <td>...</td>\n",
       "      <td>...</td>\n",
       "      <td>...</td>\n",
       "      <td>...</td>\n",
       "      <td>...</td>\n",
       "      <td>...</td>\n",
       "      <td>...</td>\n",
       "      <td>...</td>\n",
       "      <td>...</td>\n",
       "    </tr>\n",
       "    <tr>\n",
       "      <th>12931</th>\n",
       "      <td>159000</td>\n",
       "      <td>Brakel</td>\n",
       "      <td>House</td>\n",
       "      <td>HOUSE</td>\n",
       "      <td>2</td>\n",
       "      <td>128.0</td>\n",
       "      <td>0</td>\n",
       "      <td>0</td>\n",
       "      <td>NaN</td>\n",
       "      <td>NaN</td>\n",
       "      <td>NaN</td>\n",
       "      <td>NaN</td>\n",
       "      <td>NaN</td>\n",
       "      <td>804.0</td>\n",
       "      <td>NaN</td>\n",
       "      <td>TO_BE_DONE_UP</td>\n",
       "    </tr>\n",
       "    <tr>\n",
       "      <th>12932</th>\n",
       "      <td>369000</td>\n",
       "      <td>Zwalm</td>\n",
       "      <td>House</td>\n",
       "      <td>HOUSE</td>\n",
       "      <td>4</td>\n",
       "      <td>195.0</td>\n",
       "      <td>0</td>\n",
       "      <td>0</td>\n",
       "      <td>1.0</td>\n",
       "      <td>NaN</td>\n",
       "      <td>NaN</td>\n",
       "      <td>NaN</td>\n",
       "      <td>NaN</td>\n",
       "      <td>5978.0</td>\n",
       "      <td>3.0</td>\n",
       "      <td>TO_RENOVATE</td>\n",
       "    </tr>\n",
       "    <tr>\n",
       "      <th>12933</th>\n",
       "      <td>124000</td>\n",
       "      <td>Saint-Hubert</td>\n",
       "      <td>House</td>\n",
       "      <td>HOUSE</td>\n",
       "      <td>4</td>\n",
       "      <td>97.0</td>\n",
       "      <td>0</td>\n",
       "      <td>0</td>\n",
       "      <td>NaN</td>\n",
       "      <td>NaN</td>\n",
       "      <td>NaN</td>\n",
       "      <td>NaN</td>\n",
       "      <td>NaN</td>\n",
       "      <td>68.0</td>\n",
       "      <td>3.0</td>\n",
       "      <td>GOOD</td>\n",
       "    </tr>\n",
       "    <tr>\n",
       "      <th>12934</th>\n",
       "      <td>699000</td>\n",
       "      <td>Uccle</td>\n",
       "      <td>House</td>\n",
       "      <td>TOWN_HOUSE</td>\n",
       "      <td>4</td>\n",
       "      <td>190.0</td>\n",
       "      <td>0</td>\n",
       "      <td>0</td>\n",
       "      <td>1.0</td>\n",
       "      <td>3.0</td>\n",
       "      <td>1.0</td>\n",
       "      <td>85.0</td>\n",
       "      <td>85.0</td>\n",
       "      <td>150.0</td>\n",
       "      <td>2.0</td>\n",
       "      <td>TO_RENOVATE</td>\n",
       "    </tr>\n",
       "    <tr>\n",
       "      <th>12935</th>\n",
       "      <td>575000</td>\n",
       "      <td>Herentals</td>\n",
       "      <td>House</td>\n",
       "      <td>HOUSE</td>\n",
       "      <td>4</td>\n",
       "      <td>429.0</td>\n",
       "      <td>0</td>\n",
       "      <td>0</td>\n",
       "      <td>1.0</td>\n",
       "      <td>NaN</td>\n",
       "      <td>NaN</td>\n",
       "      <td>NaN</td>\n",
       "      <td>NaN</td>\n",
       "      <td>1444.0</td>\n",
       "      <td>3.0</td>\n",
       "      <td>GOOD</td>\n",
       "    </tr>\n",
       "  </tbody>\n",
       "</table>\n",
       "<p>12470 rows × 16 columns</p>\n",
       "</div>"
      ],
      "text/plain": [
       "         Price               Locality Type_of_Property Subtype_of_Property  \\\n",
       "0       371800           Tielt (8700)            House               HOUSE   \n",
       "1       185000                 Ougrée            House               HOUSE   \n",
       "2       214000  Oupeye Heurele-Romain            House               HOUSE   \n",
       "3       599000                 Brugge            House               VILLA   \n",
       "4      3700000           Knokke-Heist            House               HOUSE   \n",
       "...        ...                    ...              ...                 ...   \n",
       "12931   159000                 Brakel            House               HOUSE   \n",
       "12932   369000                  Zwalm            House               HOUSE   \n",
       "12933   124000           Saint-Hubert            House               HOUSE   \n",
       "12934   699000                  Uccle            House          TOWN_HOUSE   \n",
       "12935   575000              Herentals            House               HOUSE   \n",
       "\n",
       "       Number_of_Rooms  Living_Area  Fully_Equipped_Kitchen  Furnished  \\\n",
       "0                    3        145.0                       0          0   \n",
       "1                    2        112.0                       0          0   \n",
       "2                    2        124.0                       0          0   \n",
       "3                    4        288.0                       0          0   \n",
       "4                    3        127.0                       0          0   \n",
       "...                ...          ...                     ...        ...   \n",
       "12931                2        128.0                       0          0   \n",
       "12932                4        195.0                       0          0   \n",
       "12933                4         97.0                       0          0   \n",
       "12934                4        190.0                       0          0   \n",
       "12935                4        429.0                       0          0   \n",
       "\n",
       "       Terrace  Terrace_Area  Garden  Garden_Area  Surface_of_the_Land  \\\n",
       "0          1.0           NaN     NaN          NaN                  NaN   \n",
       "1          1.0          13.0     NaN          NaN                  NaN   \n",
       "2          1.0          20.0     1.0        150.0                150.0   \n",
       "3          1.0          50.0     1.0        550.0                550.0   \n",
       "4          1.0           NaN     NaN          NaN                  NaN   \n",
       "...        ...           ...     ...          ...                  ...   \n",
       "12931      NaN           NaN     NaN          NaN                  NaN   \n",
       "12932      1.0           NaN     NaN          NaN                  NaN   \n",
       "12933      NaN           NaN     NaN          NaN                  NaN   \n",
       "12934      1.0           3.0     1.0         85.0                 85.0   \n",
       "12935      1.0           NaN     NaN          NaN                  NaN   \n",
       "\n",
       "       Surface_area_plot_of_land  Number_of_Facades State_of_the_Building  \n",
       "0                          143.0                NaN                  GOOD  \n",
       "1                         1050.0                2.0         TO_BE_DONE_UP  \n",
       "2                          330.0                2.0                  GOOD  \n",
       "3                          953.0                4.0         TO_BE_DONE_UP  \n",
       "4                          924.0                4.0           TO_RENOVATE  \n",
       "...                          ...                ...                   ...  \n",
       "12931                      804.0                NaN         TO_BE_DONE_UP  \n",
       "12932                     5978.0                3.0           TO_RENOVATE  \n",
       "12933                       68.0                3.0                  GOOD  \n",
       "12934                      150.0                2.0           TO_RENOVATE  \n",
       "12935                     1444.0                3.0                  GOOD  \n",
       "\n",
       "[12470 rows x 16 columns]"
      ]
     },
     "execution_count": 37,
     "metadata": {},
     "output_type": "execute_result"
    }
   ],
   "source": [
    "df"
   ]
  },
  {
   "cell_type": "code",
   "execution_count": 38,
   "metadata": {},
   "outputs": [
    {
     "data": {
      "text/plain": [
       "(12470, 16)"
      ]
     },
     "execution_count": 38,
     "metadata": {},
     "output_type": "execute_result"
    }
   ],
   "source": [
    "df.shape"
   ]
  },
  {
   "cell_type": "code",
   "execution_count": 39,
   "metadata": {},
   "outputs": [
    {
     "data": {
      "text/plain": [
       "41452"
      ]
     },
     "execution_count": 39,
     "metadata": {},
     "output_type": "execute_result"
    }
   ],
   "source": [
    "# to count total amount of any values\n",
    "df.isna().sum().sum()"
   ]
  },
  {
   "cell_type": "code",
   "execution_count": null,
   "metadata": {},
   "outputs": [],
   "source": [
    "# ???df.dropna(inplace = True)"
   ]
  },
  {
   "cell_type": "code",
   "execution_count": null,
   "metadata": {},
   "outputs": [],
   "source": [
    "# ???df.isna().sum().sum()"
   ]
  },
  {
   "cell_type": "code",
   "execution_count": 41,
   "metadata": {},
   "outputs": [
    {
     "data": {
      "text/plain": [
       "Subtype_of_Property\n",
       "HOUSE                   9302\n",
       "VILLA                   1137\n",
       "APARTMENT_BLOCK          569\n",
       "MIXED_USE_BUILDING       531\n",
       "EXCEPTIONAL_PROPERTY     207\n",
       "MANSION                  200\n",
       "TOWN_HOUSE               163\n",
       "BUNGALOW                 130\n",
       "COUNTRY_COTTAGE          121\n",
       "FARMHOUSE                 52\n",
       "CHALET                    25\n",
       "MANOR_HOUSE               14\n",
       "CASTLE                    10\n",
       "OTHER_PROPERTY             8\n",
       "PAVILION                   1\n",
       "Name: count, dtype: int64"
      ]
     },
     "execution_count": 41,
     "metadata": {},
     "output_type": "execute_result"
    }
   ],
   "source": [
    "# to COUNT and CORT values (ascending)\n",
    "df[\"Subtype_of_Property\"].value_counts().sort_values(ascending = False)"
   ]
  },
  {
   "cell_type": "code",
   "execution_count": 42,
   "metadata": {},
   "outputs": [
    {
     "data": {
      "text/plain": [
       "Subtype_of_Property\n",
       "HOUSE                   9302\n",
       "VILLA                   1137\n",
       "APARTMENT_BLOCK          569\n",
       "MIXED_USE_BUILDING       531\n",
       "EXCEPTIONAL_PROPERTY     207\n",
       "MANSION                  200\n",
       "TOWN_HOUSE               163\n",
       "BUNGALOW                 130\n",
       "COUNTRY_COTTAGE          121\n",
       "FARMHOUSE                 52\n",
       "CHALET                    25\n",
       "MANOR_HOUSE               14\n",
       "CASTLE                    10\n",
       "OTHER_PROPERTY             8\n",
       "PAVILION                   1\n",
       "Name: count, dtype: int64"
      ]
     },
     "execution_count": 42,
     "metadata": {},
     "output_type": "execute_result"
    }
   ],
   "source": [
    "# to COUNT and CORT values (discending) and look at TOP 7\n",
    "df[\"Subtype_of_Property\"].value_counts().sort_values(ascending = False).head(15)"
   ]
  },
  {
   "cell_type": "code",
   "execution_count": 43,
   "metadata": {},
   "outputs": [
    {
     "data": {
      "text/plain": [
       "<Axes: xlabel='Subtype_of_Property'>"
      ]
     },
     "execution_count": 43,
     "metadata": {},
     "output_type": "execute_result"
    },
    {
     "data": {
      "image/png": "[encoded data removed]",
      "text/plain": [
       "<Figure size 640x480 with 1 Axes>"
      ]
     },
     "metadata": {},
     "output_type": "display_data"
    }
   ],
   "source": [
    "# to COUNT and CORT values (discending) and look at plot var\n",
    "df[\"Subtype_of_Property\"].value_counts().sort_values(ascending = False).plot(kind = \"bar\")"
   ]
  },
  {
   "cell_type": "code",
   "execution_count": 44,
   "metadata": {},
   "outputs": [],
   "source": [
    "import matplotlib.pyplot as plt"
   ]
  },
  {
   "cell_type": "code",
   "execution_count": 45,
   "metadata": {},
   "outputs": [
    {
     "data": {
      "image/png": "[encoded data removed]",
      "text/plain": [
       "<Figure size 640x480 with 1 Axes>"
      ]
     },
     "metadata": {},
     "output_type": "display_data"
    }
   ],
   "source": [
    "# use matplotlib.pyplot to apdate our bar\n",
    "df[\"Subtype_of_Property\"].value_counts().sort_values(ascending = False).head(10).plot(kind = \"bar\")\n",
    "plt.title(\"Number of Subtype of Property\")\n",
    "plt.ylabel(\"Listing Number\")\n",
    "plt.xlabel(\"Types\")\n",
    "plt.show()"
   ]
  },
  {
   "cell_type": "code",
   "execution_count": 46,
   "metadata": {},
   "outputs": [
    {
     "data": {
      "text/plain": [
       "Locality          Subtype_of_Property \n",
       "'S Gravenwezel    HOUSE                   590000.0\n",
       "'S-Gravenwezel    VILLA                   549000.0\n",
       "Aaigem            VILLA                   495000.0\n",
       "Aalbeke           BUNGALOW                269000.0\n",
       "                  HOUSE                   302475.0\n",
       "                                            ...   \n",
       "Érezée            HOUSE                   262450.0\n",
       "Étalle            COUNTRY_COTTAGE         189000.0\n",
       "                  EXCEPTIONAL_PROPERTY    495000.0\n",
       "                  HOUSE                   420000.0\n",
       "Étalle (Buzenol)  HOUSE                   295000.0\n",
       "Name: Price, Length: 3426, dtype: float64"
      ]
     },
     "execution_count": 46,
     "metadata": {},
     "output_type": "execute_result"
    }
   ],
   "source": [
    "df.groupby([\"Locality\", \"Subtype_of_Property\"])[\"Price\"].mean()"
   ]
  },
  {
   "cell_type": "code",
   "execution_count": 47,
   "metadata": {},
   "outputs": [
    {
     "data": {
      "text/html": [
       "<div>\n",
       "<style scoped>\n",
       "    .dataframe tbody tr th:only-of-type {\n",
       "        vertical-align: middle;\n",
       "    }\n",
       "\n",
       "    .dataframe tbody tr th {\n",
       "        vertical-align: top;\n",
       "    }\n",
       "\n",
       "    .dataframe thead th {\n",
       "        text-align: right;\n",
       "    }\n",
       "</style>\n",
       "<table border=\"1\" class=\"dataframe\">\n",
       "  <thead>\n",
       "    <tr style=\"text-align: right;\">\n",
       "      <th></th>\n",
       "      <th>Locality</th>\n",
       "      <th>Subtype_of_Property</th>\n",
       "      <th>Price</th>\n",
       "    </tr>\n",
       "  </thead>\n",
       "  <tbody>\n",
       "    <tr>\n",
       "      <th>0</th>\n",
       "      <td>'S Gravenwezel</td>\n",
       "      <td>HOUSE</td>\n",
       "      <td>590000.0</td>\n",
       "    </tr>\n",
       "    <tr>\n",
       "      <th>1</th>\n",
       "      <td>'S-Gravenwezel</td>\n",
       "      <td>VILLA</td>\n",
       "      <td>549000.0</td>\n",
       "    </tr>\n",
       "    <tr>\n",
       "      <th>2</th>\n",
       "      <td>Aaigem</td>\n",
       "      <td>VILLA</td>\n",
       "      <td>495000.0</td>\n",
       "    </tr>\n",
       "    <tr>\n",
       "      <th>3</th>\n",
       "      <td>Aalbeke</td>\n",
       "      <td>BUNGALOW</td>\n",
       "      <td>269000.0</td>\n",
       "    </tr>\n",
       "    <tr>\n",
       "      <th>4</th>\n",
       "      <td>Aalbeke</td>\n",
       "      <td>HOUSE</td>\n",
       "      <td>302475.0</td>\n",
       "    </tr>\n",
       "    <tr>\n",
       "      <th>...</th>\n",
       "      <td>...</td>\n",
       "      <td>...</td>\n",
       "      <td>...</td>\n",
       "    </tr>\n",
       "    <tr>\n",
       "      <th>3421</th>\n",
       "      <td>Érezée</td>\n",
       "      <td>HOUSE</td>\n",
       "      <td>262450.0</td>\n",
       "    </tr>\n",
       "    <tr>\n",
       "      <th>3422</th>\n",
       "      <td>Étalle</td>\n",
       "      <td>COUNTRY_COTTAGE</td>\n",
       "      <td>189000.0</td>\n",
       "    </tr>\n",
       "    <tr>\n",
       "      <th>3423</th>\n",
       "      <td>Étalle</td>\n",
       "      <td>EXCEPTIONAL_PROPERTY</td>\n",
       "      <td>495000.0</td>\n",
       "    </tr>\n",
       "    <tr>\n",
       "      <th>3424</th>\n",
       "      <td>Étalle</td>\n",
       "      <td>HOUSE</td>\n",
       "      <td>420000.0</td>\n",
       "    </tr>\n",
       "    <tr>\n",
       "      <th>3425</th>\n",
       "      <td>Étalle (Buzenol)</td>\n",
       "      <td>HOUSE</td>\n",
       "      <td>295000.0</td>\n",
       "    </tr>\n",
       "  </tbody>\n",
       "</table>\n",
       "<p>3426 rows × 3 columns</p>\n",
       "</div>"
      ],
      "text/plain": [
       "              Locality   Subtype_of_Property     Price\n",
       "0       'S Gravenwezel                 HOUSE  590000.0\n",
       "1       'S-Gravenwezel                 VILLA  549000.0\n",
       "2               Aaigem                 VILLA  495000.0\n",
       "3              Aalbeke              BUNGALOW  269000.0\n",
       "4              Aalbeke                 HOUSE  302475.0\n",
       "...                ...                   ...       ...\n",
       "3421            Érezée                 HOUSE  262450.0\n",
       "3422            Étalle       COUNTRY_COTTAGE  189000.0\n",
       "3423            Étalle  EXCEPTIONAL_PROPERTY  495000.0\n",
       "3424            Étalle                 HOUSE  420000.0\n",
       "3425  Étalle (Buzenol)                 HOUSE  295000.0\n",
       "\n",
       "[3426 rows x 3 columns]"
      ]
     },
     "execution_count": 47,
     "metadata": {},
     "output_type": "execute_result"
    }
   ],
   "source": [
    "df.groupby([\"Locality\", \"Subtype_of_Property\"])[\"Price\"].mean().reset_index()"
   ]
  },
  {
   "cell_type": "code",
   "execution_count": 48,
   "metadata": {},
   "outputs": [
    {
     "data": {
      "text/html": [
       "<div>\n",
       "<style scoped>\n",
       "    .dataframe tbody tr th:only-of-type {\n",
       "        vertical-align: middle;\n",
       "    }\n",
       "\n",
       "    .dataframe tbody tr th {\n",
       "        vertical-align: top;\n",
       "    }\n",
       "\n",
       "    .dataframe thead th {\n",
       "        text-align: right;\n",
       "    }\n",
       "</style>\n",
       "<table border=\"1\" class=\"dataframe\">\n",
       "  <thead>\n",
       "    <tr style=\"text-align: right;\">\n",
       "      <th></th>\n",
       "      <th>Price</th>\n",
       "      <th>Number_of_Rooms</th>\n",
       "      <th>Living_Area</th>\n",
       "      <th>Fully_Equipped_Kitchen</th>\n",
       "      <th>Furnished</th>\n",
       "      <th>Terrace</th>\n",
       "      <th>Terrace_Area</th>\n",
       "      <th>Garden</th>\n",
       "      <th>Garden_Area</th>\n",
       "      <th>Surface_of_the_Land</th>\n",
       "      <th>Surface_area_plot_of_land</th>\n",
       "      <th>Number_of_Facades</th>\n",
       "    </tr>\n",
       "  </thead>\n",
       "  <tbody>\n",
       "    <tr>\n",
       "      <th>0</th>\n",
       "      <td>371800</td>\n",
       "      <td>3</td>\n",
       "      <td>145.0</td>\n",
       "      <td>0</td>\n",
       "      <td>0</td>\n",
       "      <td>1.0</td>\n",
       "      <td>NaN</td>\n",
       "      <td>NaN</td>\n",
       "      <td>NaN</td>\n",
       "      <td>NaN</td>\n",
       "      <td>143.0</td>\n",
       "      <td>NaN</td>\n",
       "    </tr>\n",
       "    <tr>\n",
       "      <th>1</th>\n",
       "      <td>185000</td>\n",
       "      <td>2</td>\n",
       "      <td>112.0</td>\n",
       "      <td>0</td>\n",
       "      <td>0</td>\n",
       "      <td>1.0</td>\n",
       "      <td>13.0</td>\n",
       "      <td>NaN</td>\n",
       "      <td>NaN</td>\n",
       "      <td>NaN</td>\n",
       "      <td>1050.0</td>\n",
       "      <td>2.0</td>\n",
       "    </tr>\n",
       "    <tr>\n",
       "      <th>2</th>\n",
       "      <td>214000</td>\n",
       "      <td>2</td>\n",
       "      <td>124.0</td>\n",
       "      <td>0</td>\n",
       "      <td>0</td>\n",
       "      <td>1.0</td>\n",
       "      <td>20.0</td>\n",
       "      <td>1.0</td>\n",
       "      <td>150.0</td>\n",
       "      <td>150.0</td>\n",
       "      <td>330.0</td>\n",
       "      <td>2.0</td>\n",
       "    </tr>\n",
       "    <tr>\n",
       "      <th>3</th>\n",
       "      <td>599000</td>\n",
       "      <td>4</td>\n",
       "      <td>288.0</td>\n",
       "      <td>0</td>\n",
       "      <td>0</td>\n",
       "      <td>1.0</td>\n",
       "      <td>50.0</td>\n",
       "      <td>1.0</td>\n",
       "      <td>550.0</td>\n",
       "      <td>550.0</td>\n",
       "      <td>953.0</td>\n",
       "      <td>4.0</td>\n",
       "    </tr>\n",
       "    <tr>\n",
       "      <th>4</th>\n",
       "      <td>3700000</td>\n",
       "      <td>3</td>\n",
       "      <td>127.0</td>\n",
       "      <td>0</td>\n",
       "      <td>0</td>\n",
       "      <td>1.0</td>\n",
       "      <td>NaN</td>\n",
       "      <td>NaN</td>\n",
       "      <td>NaN</td>\n",
       "      <td>NaN</td>\n",
       "      <td>924.0</td>\n",
       "      <td>4.0</td>\n",
       "    </tr>\n",
       "    <tr>\n",
       "      <th>...</th>\n",
       "      <td>...</td>\n",
       "      <td>...</td>\n",
       "      <td>...</td>\n",
       "      <td>...</td>\n",
       "      <td>...</td>\n",
       "      <td>...</td>\n",
       "      <td>...</td>\n",
       "      <td>...</td>\n",
       "      <td>...</td>\n",
       "      <td>...</td>\n",
       "      <td>...</td>\n",
       "      <td>...</td>\n",
       "    </tr>\n",
       "    <tr>\n",
       "      <th>12931</th>\n",
       "      <td>159000</td>\n",
       "      <td>2</td>\n",
       "      <td>128.0</td>\n",
       "      <td>0</td>\n",
       "      <td>0</td>\n",
       "      <td>NaN</td>\n",
       "      <td>NaN</td>\n",
       "      <td>NaN</td>\n",
       "      <td>NaN</td>\n",
       "      <td>NaN</td>\n",
       "      <td>804.0</td>\n",
       "      <td>NaN</td>\n",
       "    </tr>\n",
       "    <tr>\n",
       "      <th>12932</th>\n",
       "      <td>369000</td>\n",
       "      <td>4</td>\n",
       "      <td>195.0</td>\n",
       "      <td>0</td>\n",
       "      <td>0</td>\n",
       "      <td>1.0</td>\n",
       "      <td>NaN</td>\n",
       "      <td>NaN</td>\n",
       "      <td>NaN</td>\n",
       "      <td>NaN</td>\n",
       "      <td>5978.0</td>\n",
       "      <td>3.0</td>\n",
       "    </tr>\n",
       "    <tr>\n",
       "      <th>12933</th>\n",
       "      <td>124000</td>\n",
       "      <td>4</td>\n",
       "      <td>97.0</td>\n",
       "      <td>0</td>\n",
       "      <td>0</td>\n",
       "      <td>NaN</td>\n",
       "      <td>NaN</td>\n",
       "      <td>NaN</td>\n",
       "      <td>NaN</td>\n",
       "      <td>NaN</td>\n",
       "      <td>68.0</td>\n",
       "      <td>3.0</td>\n",
       "    </tr>\n",
       "    <tr>\n",
       "      <th>12934</th>\n",
       "      <td>699000</td>\n",
       "      <td>4</td>\n",
       "      <td>190.0</td>\n",
       "      <td>0</td>\n",
       "      <td>0</td>\n",
       "      <td>1.0</td>\n",
       "      <td>3.0</td>\n",
       "      <td>1.0</td>\n",
       "      <td>85.0</td>\n",
       "      <td>85.0</td>\n",
       "      <td>150.0</td>\n",
       "      <td>2.0</td>\n",
       "    </tr>\n",
       "    <tr>\n",
       "      <th>12935</th>\n",
       "      <td>575000</td>\n",
       "      <td>4</td>\n",
       "      <td>429.0</td>\n",
       "      <td>0</td>\n",
       "      <td>0</td>\n",
       "      <td>1.0</td>\n",
       "      <td>NaN</td>\n",
       "      <td>NaN</td>\n",
       "      <td>NaN</td>\n",
       "      <td>NaN</td>\n",
       "      <td>1444.0</td>\n",
       "      <td>3.0</td>\n",
       "    </tr>\n",
       "  </tbody>\n",
       "</table>\n",
       "<p>12470 rows × 12 columns</p>\n",
       "</div>"
      ],
      "text/plain": [
       "         Price  Number_of_Rooms  Living_Area  Fully_Equipped_Kitchen  \\\n",
       "0       371800                3        145.0                       0   \n",
       "1       185000                2        112.0                       0   \n",
       "2       214000                2        124.0                       0   \n",
       "3       599000                4        288.0                       0   \n",
       "4      3700000                3        127.0                       0   \n",
       "...        ...              ...          ...                     ...   \n",
       "12931   159000                2        128.0                       0   \n",
       "12932   369000                4        195.0                       0   \n",
       "12933   124000                4         97.0                       0   \n",
       "12934   699000                4        190.0                       0   \n",
       "12935   575000                4        429.0                       0   \n",
       "\n",
       "       Furnished  Terrace  Terrace_Area  Garden  Garden_Area  \\\n",
       "0              0      1.0           NaN     NaN          NaN   \n",
       "1              0      1.0          13.0     NaN          NaN   \n",
       "2              0      1.0          20.0     1.0        150.0   \n",
       "3              0      1.0          50.0     1.0        550.0   \n",
       "4              0      1.0           NaN     NaN          NaN   \n",
       "...          ...      ...           ...     ...          ...   \n",
       "12931          0      NaN           NaN     NaN          NaN   \n",
       "12932          0      1.0           NaN     NaN          NaN   \n",
       "12933          0      NaN           NaN     NaN          NaN   \n",
       "12934          0      1.0           3.0     1.0         85.0   \n",
       "12935          0      1.0           NaN     NaN          NaN   \n",
       "\n",
       "       Surface_of_the_Land  Surface_area_plot_of_land  Number_of_Facades  \n",
       "0                      NaN                      143.0                NaN  \n",
       "1                      NaN                     1050.0                2.0  \n",
       "2                    150.0                      330.0                2.0  \n",
       "3                    550.0                      953.0                4.0  \n",
       "4                      NaN                      924.0                4.0  \n",
       "...                    ...                        ...                ...  \n",
       "12931                  NaN                      804.0                NaN  \n",
       "12932                  NaN                     5978.0                3.0  \n",
       "12933                  NaN                       68.0                3.0  \n",
       "12934                 85.0                      150.0                2.0  \n",
       "12935                  NaN                     1444.0                3.0  \n",
       "\n",
       "[12470 rows x 12 columns]"
      ]
     },
     "execution_count": 48,
     "metadata": {},
     "output_type": "execute_result"
    }
   ],
   "source": [
    "# to find correlation between valeus and Price\n",
    "df.select_dtypes(include=[\"number\"])"
   ]
  },
  {
   "cell_type": "code",
   "execution_count": 49,
   "metadata": {},
   "outputs": [
    {
     "data": {
      "text/plain": [
       "Price                        1.000000\n",
       "Number_of_Rooms              0.307901\n",
       "Living_Area                  0.499902\n",
       "Fully_Equipped_Kitchen       0.212501\n",
       "Furnished                    0.049481\n",
       "Terrace                           NaN\n",
       "Terrace_Area                 0.148894\n",
       "Garden                            NaN\n",
       "Garden_Area                  0.221014\n",
       "Surface_of_the_Land          0.221014\n",
       "Surface_area_plot_of_land    0.222863\n",
       "Number_of_Facades            0.186983\n",
       "Name: Price, dtype: float64"
      ]
     },
     "execution_count": 49,
     "metadata": {},
     "output_type": "execute_result"
    }
   ],
   "source": [
    "# full line to find correlation between valeus and Price\n",
    "df.select_dtypes(include=[\"number\"]).corr()[\"Price\"]"
   ]
  },
  {
   "cell_type": "code",
   "execution_count": null,
   "metadata": {},
   "outputs": [],
   "source": [
    "To create a treemap using the plotly.express library (px.treemap) with continuous color.locality\n",
    "Explanation:\n",
    "path=['Locality']: Specifies the hierarchy of the treemap.\n",
    "values='Value': Specifies the numerical values used to size the rectangles.\n",
    "color='Value': Uses the same column for color intensity.\n",
    "color_continuous_scale='Viridis': Sets the color scale; you can customize it (e.g., 'Plasma', 'Cividis', etc.).\n",
    "This will display a treemap where each locality is represented as a rectangle sized by the Value column and colored according to the same values."
   ]
  },
  {
   "cell_type": "code",
   "execution_count": 52,
   "metadata": {},
   "outputs": [
    {
     "data": {
      "text/plain": [
       "Locality\n",
       "Antwerpen              269\n",
       "Gent                   242\n",
       "Liège                  205\n",
       "Seraing                147\n",
       "Geraardsbergen         130\n",
       "Ronse                  117\n",
       "Knokke-Heist           117\n",
       "Brugge                 116\n",
       "Oudenaarde             112\n",
       "Uccle                  103\n",
       "Roeselare               94\n",
       "Mechelen                89\n",
       "Aalst                   81\n",
       "Oostende                79\n",
       "Woluwe-Saint-Pierre     78\n",
       "Name: count, dtype: int64"
      ]
     },
     "execution_count": 52,
     "metadata": {},
     "output_type": "execute_result"
    }
   ],
   "source": [
    "# I would separate Brussels from other cities and build two different graphs\n",
    "locality = ds[\"Locality\"].value_counts().head(15)\n",
    "#locality.index\n",
    "locality\n",
    "\n",
    "#!!! Bruxelles and Brussel!!! What is the differrence?"
   ]
  },
  {
   "cell_type": "code",
   "execution_count": 53,
   "metadata": {},
   "outputs": [
    {
     "data": {
      "application/vnd.plotly.v1+json": {
       "config": {
        "plotlyServerURL": "https://plot.ly"
       },
       "data": [
        {
         "branchvalues": "total",
         "customdata": [
          [
           81
          ],
          [
           269
          ],
          [
           112
          ],
          [
           242
          ],
          [
           130
          ],
          [
           117
          ],
          [
           205
          ],
          [
           89
          ],
          [
           79
          ],
          [
           103
          ],
          [
           94
          ],
          [
           117
          ],
          [
           147
          ],
          [
           94
          ],
          [
           78
          ]
         ],
         "domain": {
          "x": [
           0,
           1
          ],
          "y": [
           0,
           1
          ]
         },
         "hovertemplate": "labels=%{label}<br>Value_sum=%{value}<br>parent=%{parent}<br>id=%{id}<br>Value=%{color}<extra></extra>",
         "ids": [
          "Aalst",
          "Antwerpen",
          "Brugge",
          "Gent",
          "Geraardsbergen",
          "Knokke-Heist",
          "Liège",
          "Mechelen",
          "Oostende",
          "Oudenaarde",
          "Roeselare",
          "Ronse",
          "Seraing",
          "Uccle",
          "Woluwe-Saint-Pierre"
         ],
         "labels": [
          "Aalst",
          "Antwerpen",
          "Brugge",
          "Gent",
          "Geraardsbergen",
          "Knokke-Heist",
          "Liège",
          "Mechelen",
          "Oostende",
          "Oudenaarde",
          "Roeselare",
          "Ronse",
          "Seraing",
          "Uccle",
          "Woluwe-Saint-Pierre"
         ],
         "marker": {
          "coloraxis": "coloraxis",
          "colors": [
           81,
           269,
           112,
           242,
           130,
           117,
           205,
           89,
           79,
           103,
           94,
           117,
           147,
           94,
           78
          ]
         },
         "name": "",
         "parents": [
          "",
          "",
          "",
          "",
          "",
          "",
          "",
          "",
          "",
          "",
          "",
          "",
          "",
          "",
          ""
         ],
         "type": "treemap",
         "values": [
          81,
          269,
          112,
          242,
          130,
          117,
          205,
          89,
          79,
          103,
          94,
          117,
          147,
          94,
          78
         ]
        }
       ],
       "layout": {
        "coloraxis": {
         "colorbar": {
          "title": {
           "text": "Value"
          }
         },
         "colorscale": [
          [
           0,
           "#440154"
          ],
          [
           0.1111111111111111,
           "#482878"
          ],
          [
           0.2222222222222222,
           "#3e4989"
          ],
          [
           0.3333333333333333,
           "#31688e"
          ],
          [
           0.4444444444444444,
           "#26828e"
          ],
          [
           0.5555555555555556,
           "#1f9e89"
          ],
          [
           0.6666666666666666,
           "#35b779"
          ],
          [
           0.7777777777777778,
           "#6ece58"
          ],
          [
           0.8888888888888888,
           "#b5de2b"
          ],
          [
           1,
           "#fde725"
          ]
         ]
        },
        "legend": {
         "tracegroupgap": 0
        },
        "margin": {
         "t": 60
        },
        "template": {
         "data": {
          "bar": [
           {
            "error_x": {
             "color": "#2a3f5f"
            },
            "error_y": {
             "color": "#2a3f5f"
            },
            "marker": {
             "line": {
              "color": "#E5ECF6",
              "width": 0.5
             },
             "pattern": {
              "fillmode": "overlay",
              "size": 10,
              "solidity": 0.2
             }
            },
            "type": "bar"
           }
          ],
          "barpolar": [
           {
            "marker": {
             "line": {
              "color": "#E5ECF6",
              "width": 0.5
             },
             "pattern": {
              "fillmode": "overlay",
              "size": 10,
              "solidity": 0.2
             }
            },
            "type": "barpolar"
           }
          ],
          "carpet": [
           {
            "aaxis": {
             "endlinecolor": "#2a3f5f",
             "gridcolor": "white",
             "linecolor": "white",
             "minorgridcolor": "white",
             "startlinecolor": "#2a3f5f"
            },
            "baxis": {
             "endlinecolor": "#2a3f5f",
             "gridcolor": "white",
             "linecolor": "white",
             "minorgridcolor": "white",
             "startlinecolor": "#2a3f5f"
            },
            "type": "carpet"
           }
          ],
          "choropleth": [
           {
            "colorbar": {
             "outlinewidth": 0,
             "ticks": ""
            },
            "type": "choropleth"
           }
          ],
          "contour": [
           {
            "colorbar": {
             "outlinewidth": 0,
             "ticks": ""
            },
            "colorscale": [
             [
              0,
              "#0d0887"
             ],
             [
              0.1111111111111111,
              "#46039f"
             ],
             [
              0.2222222222222222,
              "#7201a8"
             ],
             [
              0.3333333333333333,
              "#9c179e"
             ],
             [
              0.4444444444444444,
              "#bd3786"
             ],
             [
              0.5555555555555556,
              "#d8576b"
             ],
             [
              0.6666666666666666,
              "#ed7953"
             ],
             [
              0.7777777777777778,
              "#fb9f3a"
             ],
             [
              0.8888888888888888,
              "#fdca26"
             ],
             [
              1,
              "#f0f921"
             ]
            ],
            "type": "contour"
           }
          ],
          "contourcarpet": [
           {
            "colorbar": {
             "outlinewidth": 0,
             "ticks": ""
            },
            "type": "contourcarpet"
           }
          ],
          "heatmap": [
           {
            "colorbar": {
             "outlinewidth": 0,
             "ticks": ""
            },
            "colorscale": [
             [
              0,
              "#0d0887"
             ],
             [
              0.1111111111111111,
              "#46039f"
             ],
             [
              0.2222222222222222,
              "#7201a8"
             ],
             [
              0.3333333333333333,
              "#9c179e"
             ],
             [
              0.4444444444444444,
              "#bd3786"
             ],
             [
              0.5555555555555556,
              "#d8576b"
             ],
             [
              0.6666666666666666,
              "#ed7953"
             ],
             [
              0.7777777777777778,
              "#fb9f3a"
             ],
             [
              0.8888888888888888,
              "#fdca26"
             ],
             [
              1,
              "#f0f921"
             ]
            ],
            "type": "heatmap"
           }
          ],
          "heatmapgl": [
           {
            "colorbar": {
             "outlinewidth": 0,
             "ticks": ""
            },
            "colorscale": [
             [
              0,
              "#0d0887"
             ],
             [
              0.1111111111111111,
              "#46039f"
             ],
             [
              0.2222222222222222,
              "#7201a8"
             ],
             [
              0.3333333333333333,
              "#9c179e"
             ],
             [
              0.4444444444444444,
              "#bd3786"
             ],
             [
              0.5555555555555556,
              "#d8576b"
             ],
             [
              0.6666666666666666,
              "#ed7953"
             ],
             [
              0.7777777777777778,
              "#fb9f3a"
             ],
             [
              0.8888888888888888,
              "#fdca26"
             ],
             [
              1,
              "#f0f921"
             ]
            ],
            "type": "heatmapgl"
           }
          ],
          "histogram": [
           {
            "marker": {
             "pattern": {
              "fillmode": "overlay",
              "size": 10,
              "solidity": 0.2
             }
            },
            "type": "histogram"
           }
          ],
          "histogram2d": [
           {
            "colorbar": {
             "outlinewidth": 0,
             "ticks": ""
            },
            "colorscale": [
             [
              0,
              "#0d0887"
             ],
             [
              0.1111111111111111,
              "#46039f"
             ],
             [
              0.2222222222222222,
              "#7201a8"
             ],
             [
              0.3333333333333333,
              "#9c179e"
             ],
             [
              0.4444444444444444,
              "#bd3786"
             ],
             [
              0.5555555555555556,
              "#d8576b"
             ],
             [
              0.6666666666666666,
              "#ed7953"
             ],
             [
              0.7777777777777778,
              "#fb9f3a"
             ],
             [
              0.8888888888888888,
              "#fdca26"
             ],
             [
              1,
              "#f0f921"
             ]
            ],
            "type": "histogram2d"
           }
          ],
          "histogram2dcontour": [
           {
            "colorbar": {
             "outlinewidth": 0,
             "ticks": ""
            },
            "colorscale": [
             [
              0,
              "#0d0887"
             ],
             [
              0.1111111111111111,
              "#46039f"
             ],
             [
              0.2222222222222222,
              "#7201a8"
             ],
             [
              0.3333333333333333,
              "#9c179e"
             ],
             [
              0.4444444444444444,
              "#bd3786"
             ],
             [
              0.5555555555555556,
              "#d8576b"
             ],
             [
              0.6666666666666666,
              "#ed7953"
             ],
             [
              0.7777777777777778,
              "#fb9f3a"
             ],
             [
              0.8888888888888888,
              "#fdca26"
             ],
             [
              1,
              "#f0f921"
             ]
            ],
            "type": "histogram2dcontour"
           }
          ],
          "mesh3d": [
           {
            "colorbar": {
             "outlinewidth": 0,
             "ticks": ""
            },
            "type": "mesh3d"
           }
          ],
          "parcoords": [
           {
            "line": {
             "colorbar": {
              "outlinewidth": 0,
              "ticks": ""
             }
            },
            "type": "parcoords"
           }
          ],
          "pie": [
           {
            "automargin": true,
            "type": "pie"
           }
          ],
          "scatter": [
           {
            "fillpattern": {
             "fillmode": "overlay",
             "size": 10,
             "solidity": 0.2
            },
            "type": "scatter"
           }
          ],
          "scatter3d": [
           {
            "line": {
             "colorbar": {
              "outlinewidth": 0,
              "ticks": ""
             }
            },
            "marker": {
             "colorbar": {
              "outlinewidth": 0,
              "ticks": ""
             }
            },
            "type": "scatter3d"
           }
          ],
          "scattercarpet": [
           {
            "marker": {
             "colorbar": {
              "outlinewidth": 0,
              "ticks": ""
             }
            },
            "type": "scattercarpet"
           }
          ],
          "scattergeo": [
           {
            "marker": {
             "colorbar": {
              "outlinewidth": 0,
              "ticks": ""
             }
            },
            "type": "scattergeo"
           }
          ],
          "scattergl": [
           {
            "marker": {
             "colorbar": {
              "outlinewidth": 0,
              "ticks": ""
             }
            },
            "type": "scattergl"
           }
          ],
          "scattermapbox": [
           {
            "marker": {
             "colorbar": {
              "outlinewidth": 0,
              "ticks": ""
             }
            },
            "type": "scattermapbox"
           }
          ],
          "scatterpolar": [
           {
            "marker": {
             "colorbar": {
              "outlinewidth": 0,
              "ticks": ""
             }
            },
            "type": "scatterpolar"
           }
          ],
          "scatterpolargl": [
           {
            "marker": {
             "colorbar": {
              "outlinewidth": 0,
              "ticks": ""
             }
            },
            "type": "scatterpolargl"
           }
          ],
          "scatterternary": [
           {
            "marker": {
             "colorbar": {
              "outlinewidth": 0,
              "ticks": ""
             }
            },
            "type": "scatterternary"
           }
          ],
          "surface": [
           {
            "colorbar": {
             "outlinewidth": 0,
             "ticks": ""
            },
            "colorscale": [
             [
              0,
              "#0d0887"
             ],
             [
              0.1111111111111111,
              "#46039f"
             ],
             [
              0.2222222222222222,
              "#7201a8"
             ],
             [
              0.3333333333333333,
              "#9c179e"
             ],
             [
              0.4444444444444444,
              "#bd3786"
             ],
             [
              0.5555555555555556,
              "#d8576b"
             ],
             [
              0.6666666666666666,
              "#ed7953"
             ],
             [
              0.7777777777777778,
              "#fb9f3a"
             ],
             [
              0.8888888888888888,
              "#fdca26"
             ],
             [
              1,
              "#f0f921"
             ]
            ],
            "type": "surface"
           }
          ],
          "table": [
           {
            "cells": {
             "fill": {
              "color": "#EBF0F8"
             },
             "line": {
              "color": "white"
             }
            },
            "header": {
             "fill": {
              "color": "#C8D4E3"
             },
             "line": {
              "color": "white"
             }
            },
            "type": "table"
           }
          ]
         },
         "layout": {
          "annotationdefaults": {
           "arrowcolor": "#2a3f5f",
           "arrowhead": 0,
           "arrowwidth": 1
          },
          "autotypenumbers": "strict",
          "coloraxis": {
           "colorbar": {
            "outlinewidth": 0,
            "ticks": ""
           }
          },
          "colorscale": {
           "diverging": [
            [
             0,
             "#8e0152"
            ],
            [
             0.1,
             "#c51b7d"
            ],
            [
             0.2,
             "#de77ae"
            ],
            [
             0.3,
             "#f1b6da"
            ],
            [
             0.4,
             "#fde0ef"
            ],
            [
             0.5,
             "#f7f7f7"
            ],
            [
             0.6,
             "#e6f5d0"
            ],
            [
             0.7,
             "#b8e186"
            ],
            [
             0.8,
             "#7fbc41"
            ],
            [
             0.9,
             "#4d9221"
            ],
            [
             1,
             "#276419"
            ]
           ],
           "sequential": [
            [
             0,
             "#0d0887"
            ],
            [
             0.1111111111111111,
             "#46039f"
            ],
            [
             0.2222222222222222,
             "#7201a8"
            ],
            [
             0.3333333333333333,
             "#9c179e"
            ],
            [
             0.4444444444444444,
             "#bd3786"
            ],
            [
             0.5555555555555556,
             "#d8576b"
            ],
            [
             0.6666666666666666,
             "#ed7953"
            ],
            [
             0.7777777777777778,
             "#fb9f3a"
            ],
            [
             0.8888888888888888,
             "#fdca26"
            ],
            [
             1,
             "#f0f921"
            ]
           ],
           "sequentialminus": [
            [
             0,
             "#0d0887"
            ],
            [
             0.1111111111111111,
             "#46039f"
            ],
            [
             0.2222222222222222,
             "#7201a8"
            ],
            [
             0.3333333333333333,
             "#9c179e"
            ],
            [
             0.4444444444444444,
             "#bd3786"
            ],
            [
             0.5555555555555556,
             "#d8576b"
            ],
            [
             0.6666666666666666,
             "#ed7953"
            ],
            [
             0.7777777777777778,
             "#fb9f3a"
            ],
            [
             0.8888888888888888,
             "#fdca26"
            ],
            [
             1,
             "#f0f921"
            ]
           ]
          },
          "colorway": [
           "#636efa",
           "#EF553B",
           "#00cc96",
           "#ab63fa",
           "#FFA15A",
           "#19d3f3",
           "#FF6692",
           "#B6E880",
           "#FF97FF",
           "#FECB52"
          ],
          "font": {
           "color": "#2a3f5f"
          },
          "geo": {
           "bgcolor": "white",
           "lakecolor": "white",
           "landcolor": "#E5ECF6",
           "showlakes": true,
           "showland": true,
           "subunitcolor": "white"
          },
          "hoverlabel": {
           "align": "left"
          },
          "hovermode": "closest",
          "mapbox": {
           "style": "light"
          },
          "paper_bgcolor": "white",
          "plot_bgcolor": "#E5ECF6",
          "polar": {
           "angularaxis": {
            "gridcolor": "white",
            "linecolor": "white",
            "ticks": ""
           },
           "bgcolor": "#E5ECF6",
           "radialaxis": {
            "gridcolor": "white",
            "linecolor": "white",
            "ticks": ""
           }
          },
          "scene": {
           "xaxis": {
            "backgroundcolor": "#E5ECF6",
            "gridcolor": "white",
            "gridwidth": 2,
            "linecolor": "white",
            "showbackground": true,
            "ticks": "",
            "zerolinecolor": "white"
           },
           "yaxis": {
            "backgroundcolor": "#E5ECF6",
            "gridcolor": "white",
            "gridwidth": 2,
            "linecolor": "white",
            "showbackground": true,
            "ticks": "",
            "zerolinecolor": "white"
           },
           "zaxis": {
            "backgroundcolor": "#E5ECF6",
            "gridcolor": "white",
            "gridwidth": 2,
            "linecolor": "white",
            "showbackground": true,
            "ticks": "",
            "zerolinecolor": "white"
           }
          },
          "shapedefaults": {
           "line": {
            "color": "#2a3f5f"
           }
          },
          "ternary": {
           "aaxis": {
            "gridcolor": "white",
            "linecolor": "white",
            "ticks": ""
           },
           "baxis": {
            "gridcolor": "white",
            "linecolor": "white",
            "ticks": ""
           },
           "bgcolor": "#E5ECF6",
           "caxis": {
            "gridcolor": "white",
            "linecolor": "white",
            "ticks": ""
           }
          },
          "title": {
           "x": 0.05
          },
          "xaxis": {
           "automargin": true,
           "gridcolor": "white",
           "linecolor": "white",
           "ticks": "",
           "title": {
            "standoff": 15
           },
           "zerolinecolor": "white",
           "zerolinewidth": 2
          },
          "yaxis": {
           "automargin": true,
           "gridcolor": "white",
           "linecolor": "white",
           "ticks": "",
           "title": {
            "standoff": 15
           },
           "zerolinecolor": "white",
           "zerolinewidth": 2
          }
         }
        }
       }
      }
     },
     "metadata": {},
     "output_type": "display_data"
    }
   ],
   "source": [
    "import pandas as pd\n",
    "import plotly.express as px\n",
    "\n",
    "# Updated data\n",
    "data = {\n",
    "    'Locality': [\n",
    "        'Antwerpen', 'Gent', 'Liège', 'Seraing', 'Geraardsbergen', 'Ronse',\n",
    "        'Knokke-Heist', 'Brugge', 'Oudenaarde', 'Uccle', 'Roeselare',\n",
    "        'Mechelen', 'Aalst', 'Oostende', 'Woluwe-Saint-Pierre'\n",
    "    ],\n",
    "    'Value': [\n",
    "        269, 242, 205, 147, 130, 117, 117, 112, 103, 94, \n",
    "        94, 89, 81, 79, 78\n",
    "    ]\n",
    "}\n",
    "\n",
    "# Creating a DataFrame\n",
    "df_local = pd.DataFrame(data)\n",
    "df.set_index('Locality', inplace=True)\n",
    "\n",
    "# Create the treemap\n",
    "fig = px.treemap(\n",
    "    df_local.reset_index(), \n",
    "    path=['Locality'], \n",
    "    values='Value', \n",
    "    color='Value', \n",
    "    color_continuous_scale='Viridis'\n",
    ")\n",
    "\n",
    "# Show the plot\n",
    "fig.show()\n"
   ]
  },
  {
   "cell_type": "markdown",
   "metadata": {},
   "source": []
  },
  {
   "cell_type": "code",
   "execution_count": 54,
   "metadata": {},
   "outputs": [
    {
     "data": {
      "application/vnd.plotly.v1+json": {
       "config": {
        "plotlyServerURL": "https://plot.ly"
       },
       "data": [
        {
         "hovertemplate": "<b>%{hovertext}</b><br><br>Locality=%{x}<br>Value=%{marker.size}<extra></extra>",
         "hovertext": [
          "Antwerpen",
          "Gent",
          "Liège",
          "Seraing",
          "Geraardsbergen",
          "Ronse",
          "Knokke-Heist",
          "Brugge",
          "Oudenaarde",
          "Uccle",
          "Roeselare",
          "Mechelen",
          "Aalst",
          "Oostende",
          "Woluwe-Saint-Pierre"
         ],
         "legendgroup": "",
         "marker": {
          "color": "#636efa",
          "size": [
           269,
           242,
           205,
           147,
           130,
           117,
           117,
           112,
           103,
           94,
           94,
           89,
           81,
           79,
           78
          ],
          "sizemode": "area",
          "sizeref": 0.6725,
          "symbol": "circle"
         },
         "mode": "markers",
         "name": "",
         "orientation": "v",
         "showlegend": false,
         "type": "scatter",
         "x": [
          "Antwerpen",
          "Gent",
          "Liège",
          "Seraing",
          "Geraardsbergen",
          "Ronse",
          "Knokke-Heist",
          "Brugge",
          "Oudenaarde",
          "Uccle",
          "Roeselare",
          "Mechelen",
          "Aalst",
          "Oostende",
          "Woluwe-Saint-Pierre"
         ],
         "xaxis": "x",
         "y": [
          269,
          242,
          205,
          147,
          130,
          117,
          117,
          112,
          103,
          94,
          94,
          89,
          81,
          79,
          78
         ],
         "yaxis": "y"
        }
       ],
       "layout": {
        "legend": {
         "itemsizing": "constant",
         "tracegroupgap": 0
        },
        "template": {
         "data": {
          "bar": [
           {
            "error_x": {
             "color": "#2a3f5f"
            },
            "error_y": {
             "color": "#2a3f5f"
            },
            "marker": {
             "line": {
              "color": "#E5ECF6",
              "width": 0.5
             },
             "pattern": {
              "fillmode": "overlay",
              "size": 10,
              "solidity": 0.2
             }
            },
            "type": "bar"
           }
          ],
          "barpolar": [
           {
            "marker": {
             "line": {
              "color": "#E5ECF6",
              "width": 0.5
             },
             "pattern": {
              "fillmode": "overlay",
              "size": 10,
              "solidity": 0.2
             }
            },
            "type": "barpolar"
           }
          ],
          "carpet": [
           {
            "aaxis": {
             "endlinecolor": "#2a3f5f",
             "gridcolor": "white",
             "linecolor": "white",
             "minorgridcolor": "white",
             "startlinecolor": "#2a3f5f"
            },
            "baxis": {
             "endlinecolor": "#2a3f5f",
             "gridcolor": "white",
             "linecolor": "white",
             "minorgridcolor": "white",
             "startlinecolor": "#2a3f5f"
            },
            "type": "carpet"
           }
          ],
          "choropleth": [
           {
            "colorbar": {
             "outlinewidth": 0,
             "ticks": ""
            },
            "type": "choropleth"
           }
          ],
          "contour": [
           {
            "colorbar": {
             "outlinewidth": 0,
             "ticks": ""
            },
            "colorscale": [
             [
              0,
              "#0d0887"
             ],
             [
              0.1111111111111111,
              "#46039f"
             ],
             [
              0.2222222222222222,
              "#7201a8"
             ],
             [
              0.3333333333333333,
              "#9c179e"
             ],
             [
              0.4444444444444444,
              "#bd3786"
             ],
             [
              0.5555555555555556,
              "#d8576b"
             ],
             [
              0.6666666666666666,
              "#ed7953"
             ],
             [
              0.7777777777777778,
              "#fb9f3a"
             ],
             [
              0.8888888888888888,
              "#fdca26"
             ],
             [
              1,
              "#f0f921"
             ]
            ],
            "type": "contour"
           }
          ],
          "contourcarpet": [
           {
            "colorbar": {
             "outlinewidth": 0,
             "ticks": ""
            },
            "type": "contourcarpet"
           }
          ],
          "heatmap": [
           {
            "colorbar": {
             "outlinewidth": 0,
             "ticks": ""
            },
            "colorscale": [
             [
              0,
              "#0d0887"
             ],
             [
              0.1111111111111111,
              "#46039f"
             ],
             [
              0.2222222222222222,
              "#7201a8"
             ],
             [
              0.3333333333333333,
              "#9c179e"
             ],
             [
              0.4444444444444444,
              "#bd3786"
             ],
             [
              0.5555555555555556,
              "#d8576b"
             ],
             [
              0.6666666666666666,
              "#ed7953"
             ],
             [
              0.7777777777777778,
              "#fb9f3a"
             ],
             [
              0.8888888888888888,
              "#fdca26"
             ],
             [
              1,
              "#f0f921"
             ]
            ],
            "type": "heatmap"
           }
          ],
          "heatmapgl": [
           {
            "colorbar": {
             "outlinewidth": 0,
             "ticks": ""
            },
            "colorscale": [
             [
              0,
              "#0d0887"
             ],
             [
              0.1111111111111111,
              "#46039f"
             ],
             [
              0.2222222222222222,
              "#7201a8"
             ],
             [
              0.3333333333333333,
              "#9c179e"
             ],
             [
              0.4444444444444444,
              "#bd3786"
             ],
             [
              0.5555555555555556,
              "#d8576b"
             ],
             [
              0.6666666666666666,
              "#ed7953"
             ],
             [
              0.7777777777777778,
              "#fb9f3a"
             ],
             [
              0.8888888888888888,
              "#fdca26"
             ],
             [
              1,
              "#f0f921"
             ]
            ],
            "type": "heatmapgl"
           }
          ],
          "histogram": [
           {
            "marker": {
             "pattern": {
              "fillmode": "overlay",
              "size": 10,
              "solidity": 0.2
             }
            },
            "type": "histogram"
           }
          ],
          "histogram2d": [
           {
            "colorbar": {
             "outlinewidth": 0,
             "ticks": ""
            },
            "colorscale": [
             [
              0,
              "#0d0887"
             ],
             [
              0.1111111111111111,
              "#46039f"
             ],
             [
              0.2222222222222222,
              "#7201a8"
             ],
             [
              0.3333333333333333,
              "#9c179e"
             ],
             [
              0.4444444444444444,
              "#bd3786"
             ],
             [
              0.5555555555555556,
              "#d8576b"
             ],
             [
              0.6666666666666666,
              "#ed7953"
             ],
             [
              0.7777777777777778,
              "#fb9f3a"
             ],
             [
              0.8888888888888888,
              "#fdca26"
             ],
             [
              1,
              "#f0f921"
             ]
            ],
            "type": "histogram2d"
           }
          ],
          "histogram2dcontour": [
           {
            "colorbar": {
             "outlinewidth": 0,
             "ticks": ""
            },
            "colorscale": [
             [
              0,
              "#0d0887"
             ],
             [
              0.1111111111111111,
              "#46039f"
             ],
             [
              0.2222222222222222,
              "#7201a8"
             ],
             [
              0.3333333333333333,
              "#9c179e"
             ],
             [
              0.4444444444444444,
              "#bd3786"
             ],
             [
              0.5555555555555556,
              "#d8576b"
             ],
             [
              0.6666666666666666,
              "#ed7953"
             ],
             [
              0.7777777777777778,
              "#fb9f3a"
             ],
             [
              0.8888888888888888,
              "#fdca26"
             ],
             [
              1,
              "#f0f921"
             ]
            ],
            "type": "histogram2dcontour"
           }
          ],
          "mesh3d": [
           {
            "colorbar": {
             "outlinewidth": 0,
             "ticks": ""
            },
            "type": "mesh3d"
           }
          ],
          "parcoords": [
           {
            "line": {
             "colorbar": {
              "outlinewidth": 0,
              "ticks": ""
             }
            },
            "type": "parcoords"
           }
          ],
          "pie": [
           {
            "automargin": true,
            "type": "pie"
           }
          ],
          "scatter": [
           {
            "fillpattern": {
             "fillmode": "overlay",
             "size": 10,
             "solidity": 0.2
            },
            "type": "scatter"
           }
          ],
          "scatter3d": [
           {
            "line": {
             "colorbar": {
              "outlinewidth": 0,
              "ticks": ""
             }
            },
            "marker": {
             "colorbar": {
              "outlinewidth": 0,
              "ticks": ""
             }
            },
            "type": "scatter3d"
           }
          ],
          "scattercarpet": [
           {
            "marker": {
             "colorbar": {
              "outlinewidth": 0,
              "ticks": ""
             }
            },
            "type": "scattercarpet"
           }
          ],
          "scattergeo": [
           {
            "marker": {
             "colorbar": {
              "outlinewidth": 0,
              "ticks": ""
             }
            },
            "type": "scattergeo"
           }
          ],
          "scattergl": [
           {
            "marker": {
             "colorbar": {
              "outlinewidth": 0,
              "ticks": ""
             }
            },
            "type": "scattergl"
           }
          ],
          "scattermapbox": [
           {
            "marker": {
             "colorbar": {
              "outlinewidth": 0,
              "ticks": ""
             }
            },
            "type": "scattermapbox"
           }
          ],
          "scatterpolar": [
           {
            "marker": {
             "colorbar": {
              "outlinewidth": 0,
              "ticks": ""
             }
            },
            "type": "scatterpolar"
           }
          ],
          "scatterpolargl": [
           {
            "marker": {
             "colorbar": {
              "outlinewidth": 0,
              "ticks": ""
             }
            },
            "type": "scatterpolargl"
           }
          ],
          "scatterternary": [
           {
            "marker": {
             "colorbar": {
              "outlinewidth": 0,
              "ticks": ""
             }
            },
            "type": "scatterternary"
           }
          ],
          "surface": [
           {
            "colorbar": {
             "outlinewidth": 0,
             "ticks": ""
            },
            "colorscale": [
             [
              0,
              "#0d0887"
             ],
             [
              0.1111111111111111,
              "#46039f"
             ],
             [
              0.2222222222222222,
              "#7201a8"
             ],
             [
              0.3333333333333333,
              "#9c179e"
             ],
             [
              0.4444444444444444,
              "#bd3786"
             ],
             [
              0.5555555555555556,
              "#d8576b"
             ],
             [
              0.6666666666666666,
              "#ed7953"
             ],
             [
              0.7777777777777778,
              "#fb9f3a"
             ],
             [
              0.8888888888888888,
              "#fdca26"
             ],
             [
              1,
              "#f0f921"
             ]
            ],
            "type": "surface"
           }
          ],
          "table": [
           {
            "cells": {
             "fill": {
              "color": "#EBF0F8"
             },
             "line": {
              "color": "white"
             }
            },
            "header": {
             "fill": {
              "color": "#C8D4E3"
             },
             "line": {
              "color": "white"
             }
            },
            "type": "table"
           }
          ]
         },
         "layout": {
          "annotationdefaults": {
           "arrowcolor": "#2a3f5f",
           "arrowhead": 0,
           "arrowwidth": 1
          },
          "autotypenumbers": "strict",
          "coloraxis": {
           "colorbar": {
            "outlinewidth": 0,
            "ticks": ""
           }
          },
          "colorscale": {
           "diverging": [
            [
             0,
             "#8e0152"
            ],
            [
             0.1,
             "#c51b7d"
            ],
            [
             0.2,
             "#de77ae"
            ],
            [
             0.3,
             "#f1b6da"
            ],
            [
             0.4,
             "#fde0ef"
            ],
            [
             0.5,
             "#f7f7f7"
            ],
            [
             0.6,
             "#e6f5d0"
            ],
            [
             0.7,
             "#b8e186"
            ],
            [
             0.8,
             "#7fbc41"
            ],
            [
             0.9,
             "#4d9221"
            ],
            [
             1,
             "#276419"
            ]
           ],
           "sequential": [
            [
             0,
             "#0d0887"
            ],
            [
             0.1111111111111111,
             "#46039f"
            ],
            [
             0.2222222222222222,
             "#7201a8"
            ],
            [
             0.3333333333333333,
             "#9c179e"
            ],
            [
             0.4444444444444444,
             "#bd3786"
            ],
            [
             0.5555555555555556,
             "#d8576b"
            ],
            [
             0.6666666666666666,
             "#ed7953"
            ],
            [
             0.7777777777777778,
             "#fb9f3a"
            ],
            [
             0.8888888888888888,
             "#fdca26"
            ],
            [
             1,
             "#f0f921"
            ]
           ],
           "sequentialminus": [
            [
             0,
             "#0d0887"
            ],
            [
             0.1111111111111111,
             "#46039f"
            ],
            [
             0.2222222222222222,
             "#7201a8"
            ],
            [
             0.3333333333333333,
             "#9c179e"
            ],
            [
             0.4444444444444444,
             "#bd3786"
            ],
            [
             0.5555555555555556,
             "#d8576b"
            ],
            [
             0.6666666666666666,
             "#ed7953"
            ],
            [
             0.7777777777777778,
             "#fb9f3a"
            ],
            [
             0.8888888888888888,
             "#fdca26"
            ],
            [
             1,
             "#f0f921"
            ]
           ]
          },
          "colorway": [
           "#636efa",
           "#EF553B",
           "#00cc96",
           "#ab63fa",
           "#FFA15A",
           "#19d3f3",
           "#FF6692",
           "#B6E880",
           "#FF97FF",
           "#FECB52"
          ],
          "font": {
           "color": "#2a3f5f"
          },
          "geo": {
           "bgcolor": "white",
           "lakecolor": "white",
           "landcolor": "#E5ECF6",
           "showlakes": true,
           "showland": true,
           "subunitcolor": "white"
          },
          "hoverlabel": {
           "align": "left"
          },
          "hovermode": "closest",
          "mapbox": {
           "style": "light"
          },
          "paper_bgcolor": "white",
          "plot_bgcolor": "#E5ECF6",
          "polar": {
           "angularaxis": {
            "gridcolor": "white",
            "linecolor": "white",
            "ticks": ""
           },
           "bgcolor": "#E5ECF6",
           "radialaxis": {
            "gridcolor": "white",
            "linecolor": "white",
            "ticks": ""
           }
          },
          "scene": {
           "xaxis": {
            "backgroundcolor": "#E5ECF6",
            "gridcolor": "white",
            "gridwidth": 2,
            "linecolor": "white",
            "showbackground": true,
            "ticks": "",
            "zerolinecolor": "white"
           },
           "yaxis": {
            "backgroundcolor": "#E5ECF6",
            "gridcolor": "white",
            "gridwidth": 2,
            "linecolor": "white",
            "showbackground": true,
            "ticks": "",
            "zerolinecolor": "white"
           },
           "zaxis": {
            "backgroundcolor": "#E5ECF6",
            "gridcolor": "white",
            "gridwidth": 2,
            "linecolor": "white",
            "showbackground": true,
            "ticks": "",
            "zerolinecolor": "white"
           }
          },
          "shapedefaults": {
           "line": {
            "color": "#2a3f5f"
           }
          },
          "ternary": {
           "aaxis": {
            "gridcolor": "white",
            "linecolor": "white",
            "ticks": ""
           },
           "baxis": {
            "gridcolor": "white",
            "linecolor": "white",
            "ticks": ""
           },
           "bgcolor": "#E5ECF6",
           "caxis": {
            "gridcolor": "white",
            "linecolor": "white",
            "ticks": ""
           }
          },
          "title": {
           "x": 0.05
          },
          "xaxis": {
           "automargin": true,
           "gridcolor": "white",
           "linecolor": "white",
           "ticks": "",
           "title": {
            "standoff": 15
           },
           "zerolinecolor": "white",
           "zerolinewidth": 2
          },
          "yaxis": {
           "automargin": true,
           "gridcolor": "white",
           "linecolor": "white",
           "ticks": "",
           "title": {
            "standoff": 15
           },
           "zerolinecolor": "white",
           "zerolinewidth": 2
          }
         }
        },
        "title": {
         "text": "Grouped Bubble Chart of Localities"
        },
        "xaxis": {
         "anchor": "y",
         "domain": [
          0,
          1
         ],
         "title": {
          "text": "Locality"
         }
        },
        "yaxis": {
         "anchor": "x",
         "domain": [
          0,
          1
         ],
         "title": {
          "text": "Value"
         }
        }
       }
      }
     },
     "metadata": {},
     "output_type": "display_data"
    }
   ],
   "source": [
    "import pandas as pd\n",
    "import plotly.express as px\n",
    "\n",
    "# Updated data with groups for demonstration\n",
    "data = {\n",
    "    'Locality': [\n",
    "        'Antwerpen', 'Gent', 'Liège', 'Seraing', 'Geraardsbergen', 'Ronse',\n",
    "        'Knokke-Heist', 'Brugge', 'Oudenaarde', 'Uccle', 'Roeselare',\n",
    "        'Mechelen', 'Aalst', 'Oostende', 'Woluwe-Saint-Pierre'\n",
    "    ],\n",
    "    'Value': [\n",
    "        269, 242, 205, 147, 130, 117, 117, 112, 103, 94, \n",
    "        94, 89, 81, 79, 78\n",
    "    ]\n",
    "}\n",
    "\n",
    "# Creating a DataFrame\n",
    "df_local_II = pd.DataFrame(data)\n",
    "\n",
    "# Create the grouped bubble chart\n",
    "fig = px.scatter(\n",
    "    df_local_II,\n",
    "    x='Locality',           # x-axis shows the localities\n",
    "    y='Value',              # y-axis shows the value\n",
    "    size='Value',           # Bubble size based on the value\n",
    "    hover_name='Locality',  # Display locality on hover\n",
    "    title='Grouped Bubble Chart of Localities'\n",
    ")\n",
    "\n",
    "# Show the plot\n",
    "fig.show()\n"
   ]
  },
  {
   "cell_type": "code",
   "execution_count": null,
   "metadata": {},
   "outputs": [],
   "source": []
  },
  {
   "cell_type": "code",
   "execution_count": null,
   "metadata": {},
   "outputs": [],
   "source": []
  },
  {
   "cell_type": "code",
   "execution_count": null,
   "metadata": {},
   "outputs": [],
   "source": []
  },
  {
   "cell_type": "code",
   "execution_count": null,
   "metadata": {},
   "outputs": [],
   "source": []
  },
  {
   "cell_type": "code",
   "execution_count": null,
   "metadata": {},
   "outputs": [],
   "source": []
  },
  {
   "cell_type": "code",
   "execution_count": null,
   "metadata": {},
   "outputs": [],
   "source": []
  },
  {
   "cell_type": "code",
   "execution_count": null,
   "metadata": {},
   "outputs": [],
   "source": []
  },
  {
   "cell_type": "code",
   "execution_count": null,
   "metadata": {},
   "outputs": [],
   "source": []
  },
  {
   "cell_type": "code",
   "execution_count": null,
   "metadata": {},
   "outputs": [],
   "source": []
  },
  {
   "cell_type": "code",
   "execution_count": null,
   "metadata": {},
   "outputs": [],
   "source": []
  },
  {
   "cell_type": "code",
   "execution_count": null,
   "metadata": {},
   "outputs": [],
   "source": []
  }
 ],
 "metadata": {
  "kernelspec": {
   "display_name": "base",
   "language": "python",
   "name": "python3"
  },
  "language_info": {
   "codemirror_mode": {
    "name": "ipython",
    "version": 3
   },
   "file_extension": ".py",
   "mimetype": "text/x-python",
   "name": "python",
   "nbconvert_exporter": "python",
   "pygments_lexer": "ipython3",
   "version": "3.12.4"
  }
 },
 "nbformat": 4,
 "nbformat_minor": 2
}
