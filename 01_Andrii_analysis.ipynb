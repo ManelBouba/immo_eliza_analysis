{
 "cells": [
  {
   "cell_type": "code",
   "execution_count": 2,
   "metadata": {},
   "outputs": [],
   "source": [
    "import pandas as pd\n",
    "import numpy as np\n",
    "\n",
    "import matplotlib.pyplot as plt\n",
    "import seaborn as sns\n",
    "sns.set(color_codes=True)\n",
    "\n",
    "%matplotlib inline"
   ]
  },
  {
   "cell_type": "code",
   "execution_count": 3,
   "metadata": {},
   "outputs": [
    {
     "data": {
      "text/html": [
       "<div>\n",
       "<style scoped>\n",
       "    .dataframe tbody tr th:only-of-type {\n",
       "        vertical-align: middle;\n",
       "    }\n",
       "\n",
       "    .dataframe tbody tr th {\n",
       "        vertical-align: top;\n",
       "    }\n",
       "\n",
       "    .dataframe thead th {\n",
       "        text-align: right;\n",
       "    }\n",
       "</style>\n",
       "<table border=\"1\" class=\"dataframe\">\n",
       "  <thead>\n",
       "    <tr style=\"text-align: right;\">\n",
       "      <th></th>\n",
       "      <th>Price</th>\n",
       "      <th>Locality</th>\n",
       "      <th>Type_of_Property</th>\n",
       "      <th>Subtype_of_Property</th>\n",
       "      <th>State_of_the_Building</th>\n",
       "      <th>Number_of_Rooms</th>\n",
       "      <th>Living_Area</th>\n",
       "      <th>Fully_Equipped_Kitchen</th>\n",
       "      <th>Terrace</th>\n",
       "      <th>Garden</th>\n",
       "      <th>Surface_area_plot_of_land</th>\n",
       "      <th>Number_of_Facades</th>\n",
       "      <th>Swimming_Pool</th>\n",
       "      <th>Lift</th>\n",
       "      <th>Municipality</th>\n",
       "      <th>Province</th>\n",
       "      <th>Region</th>\n",
       "      <th>Property_Size</th>\n",
       "    </tr>\n",
       "  </thead>\n",
       "  <tbody>\n",
       "    <tr>\n",
       "      <th>0</th>\n",
       "      <td>685000</td>\n",
       "      <td>1180</td>\n",
       "      <td>APARTMENT</td>\n",
       "      <td>PENTHOUSE</td>\n",
       "      <td>JUST_RENOVATED</td>\n",
       "      <td>2</td>\n",
       "      <td>127.0</td>\n",
       "      <td>0</td>\n",
       "      <td>1.0</td>\n",
       "      <td>0.0</td>\n",
       "      <td>0.0</td>\n",
       "      <td>4.0</td>\n",
       "      <td>0.0</td>\n",
       "      <td>1.0</td>\n",
       "      <td>Uccle</td>\n",
       "      <td>Brussels Capital</td>\n",
       "      <td>Bruxelles-Capital</td>\n",
       "      <td>Large</td>\n",
       "    </tr>\n",
       "    <tr>\n",
       "      <th>1</th>\n",
       "      <td>289000</td>\n",
       "      <td>8680</td>\n",
       "      <td>APARTMENT</td>\n",
       "      <td>APARTMENT</td>\n",
       "      <td>JUST_RENOVATED</td>\n",
       "      <td>3</td>\n",
       "      <td>120.0</td>\n",
       "      <td>0</td>\n",
       "      <td>1.0</td>\n",
       "      <td>0.0</td>\n",
       "      <td>0.0</td>\n",
       "      <td>2.0</td>\n",
       "      <td>0.0</td>\n",
       "      <td>1.0</td>\n",
       "      <td>Koekelare</td>\n",
       "      <td>West Flanders</td>\n",
       "      <td>Flanders</td>\n",
       "      <td>Large</td>\n",
       "    </tr>\n",
       "    <tr>\n",
       "      <th>2</th>\n",
       "      <td>259000</td>\n",
       "      <td>5030</td>\n",
       "      <td>HOUSE</td>\n",
       "      <td>HOUSE</td>\n",
       "      <td>GOOD</td>\n",
       "      <td>3</td>\n",
       "      <td>154.0</td>\n",
       "      <td>0</td>\n",
       "      <td>0.0</td>\n",
       "      <td>1.0</td>\n",
       "      <td>200.0</td>\n",
       "      <td>3.0</td>\n",
       "      <td>0.0</td>\n",
       "      <td>0.0</td>\n",
       "      <td>Gembloux</td>\n",
       "      <td>Namur</td>\n",
       "      <td>Wallonia</td>\n",
       "      <td>Large</td>\n",
       "    </tr>\n",
       "    <tr>\n",
       "      <th>3</th>\n",
       "      <td>429210</td>\n",
       "      <td>9052</td>\n",
       "      <td>APARTMENT</td>\n",
       "      <td>APARTMENT</td>\n",
       "      <td>GOOD</td>\n",
       "      <td>2</td>\n",
       "      <td>100.0</td>\n",
       "      <td>1</td>\n",
       "      <td>1.0</td>\n",
       "      <td>0.0</td>\n",
       "      <td>0.0</td>\n",
       "      <td>3.0</td>\n",
       "      <td>0.0</td>\n",
       "      <td>1.0</td>\n",
       "      <td>Gent</td>\n",
       "      <td>East Flanders</td>\n",
       "      <td>Flanders</td>\n",
       "      <td>Medium</td>\n",
       "    </tr>\n",
       "    <tr>\n",
       "      <th>4</th>\n",
       "      <td>314000</td>\n",
       "      <td>1770</td>\n",
       "      <td>APARTMENT</td>\n",
       "      <td>APARTMENT</td>\n",
       "      <td>GOOD</td>\n",
       "      <td>2</td>\n",
       "      <td>96.0</td>\n",
       "      <td>1</td>\n",
       "      <td>1.0</td>\n",
       "      <td>0.0</td>\n",
       "      <td>0.0</td>\n",
       "      <td>4.0</td>\n",
       "      <td>0.0</td>\n",
       "      <td>1.0</td>\n",
       "      <td>Liedekerke</td>\n",
       "      <td>Flemish Brabant</td>\n",
       "      <td>Flanders</td>\n",
       "      <td>Medium</td>\n",
       "    </tr>\n",
       "  </tbody>\n",
       "</table>\n",
       "</div>"
      ],
      "text/plain": [
       "    Price  Locality Type_of_Property Subtype_of_Property  \\\n",
       "0  685000      1180        APARTMENT           PENTHOUSE   \n",
       "1  289000      8680        APARTMENT           APARTMENT   \n",
       "2  259000      5030            HOUSE               HOUSE   \n",
       "3  429210      9052        APARTMENT           APARTMENT   \n",
       "4  314000      1770        APARTMENT           APARTMENT   \n",
       "\n",
       "  State_of_the_Building  Number_of_Rooms  Living_Area  Fully_Equipped_Kitchen  \\\n",
       "0        JUST_RENOVATED                2        127.0                       0   \n",
       "1        JUST_RENOVATED                3        120.0                       0   \n",
       "2                  GOOD                3        154.0                       0   \n",
       "3                  GOOD                2        100.0                       1   \n",
       "4                  GOOD                2         96.0                       1   \n",
       "\n",
       "   Terrace  Garden  Surface_area_plot_of_land  Number_of_Facades  \\\n",
       "0      1.0     0.0                        0.0                4.0   \n",
       "1      1.0     0.0                        0.0                2.0   \n",
       "2      0.0     1.0                      200.0                3.0   \n",
       "3      1.0     0.0                        0.0                3.0   \n",
       "4      1.0     0.0                        0.0                4.0   \n",
       "\n",
       "   Swimming_Pool  Lift Municipality          Province             Region  \\\n",
       "0            0.0   1.0        Uccle  Brussels Capital  Bruxelles-Capital   \n",
       "1            0.0   1.0    Koekelare     West Flanders           Flanders   \n",
       "2            0.0   0.0     Gembloux             Namur           Wallonia   \n",
       "3            0.0   1.0         Gent     East Flanders           Flanders   \n",
       "4            0.0   1.0   Liedekerke   Flemish Brabant           Flanders   \n",
       "\n",
       "  Property_Size  \n",
       "0         Large  \n",
       "1         Large  \n",
       "2         Large  \n",
       "3        Medium  \n",
       "4        Medium  "
      ]
     },
     "execution_count": 3,
     "metadata": {},
     "output_type": "execute_result"
    }
   ],
   "source": [
    "df = pd.read_csv(\"TOTAL_immoweb_data_cleaned.csv\")\n",
    "df.head()"
   ]
  },
  {
   "cell_type": "markdown",
   "metadata": {},
   "source": [
    "### **Represent the number of properties according to their surface using a histogram**"
   ]
  },
  {
   "cell_type": "code",
   "execution_count": 4,
   "metadata": {},
   "outputs": [
    {
     "name": "stderr",
     "output_type": "stream",
     "text": [
      "C:\\Users\\fomic\\AppData\\Local\\Temp\\ipykernel_30284\\942239093.py:7: FutureWarning: \n",
      "\n",
      "Passing `palette` without assigning `hue` is deprecated and will be removed in v0.14.0. Assign the `x` variable to `hue` and set `legend=False` for the same effect.\n",
      "\n",
      "  sns.countplot(x='Property_Size', data=df, order=size_bins_labels, palette='muted')\n"
     ]
    },
    {
     "data": {
      "image/png": "[encoded data removed]",
      "text/plain": [
       "<Figure size 1000x600 with 1 Axes>"
      ]
     },
     "metadata": {},
     "output_type": "display_data"
    }
   ],
   "source": [
    "# histrogram for Surface_area_plot_of_land\n",
    "size_bins = [0,50,100,200,300]\n",
    "size_bins_labels = [\"Small (0-50 m2)\",\"Medium (50-100 m2)\",\"Large (100-200 m2)\",\"Very Large (200-300)\"]\n",
    "df[\"Property_Size\"] = pd.cut(df['Living_Area'],bins=size_bins,labels=size_bins_labels)\n",
    "\n",
    "plt.figure(figsize=(10, 6)) \n",
    "sns.countplot(x='Property_Size', data=df, order=size_bins_labels, palette='muted')\n",
    "plt.title('Distribution of Properties by Size')\n",
    "plt.xlabel('Price Range')\n",
    "plt.ylabel('Count')\n",
    "plt.show()"
   ]
  },
  {
   "cell_type": "code",
   "execution_count": 55,
   "metadata": {},
   "outputs": [],
   "source": [
    "# create new column for price per square meter\n",
    "df['Price_sqm'] = df['Price'] / df['Living_Area']"
   ]
  },
  {
   "cell_type": "code",
   "execution_count": 56,
   "metadata": {},
   "outputs": [
    {
     "data": {
      "text/plain": [
       "Municipality\n",
       "Vaux-sur-Sûre     657.894737\n",
       "Viroinval         788.778838\n",
       "Quévy             802.554273\n",
       "Alveringem        840.796020\n",
       "Brunehaut         866.700201\n",
       "                    ...     \n",
       "Kraainem         4463.783814\n",
       "Ixelles          4563.295488\n",
       "Leuven           4757.275917\n",
       "Nieuwpoort       4782.202240\n",
       "Knokke-Heist     7464.102771\n",
       "Name: Price_sqm, Length: 543, dtype: float64"
      ]
     },
     "execution_count": 56,
     "metadata": {},
     "output_type": "execute_result"
    }
   ],
   "source": [
    "# most & less expensive municipalities in Belgium by average price/square meter\n",
    "df.groupby('Municipality')['Price_sqm'].agg('mean').sort_values() "
   ]
  },
  {
   "cell_type": "markdown",
   "metadata": {},
   "source": [
    "### What are the **most** expensive municipalities in Belgium?  \n",
    "(Average price, median price, price per square meter)"
   ]
  },
  {
   "cell_type": "code",
   "execution_count": 57,
   "metadata": {},
   "outputs": [
    {
     "data": {
      "text/plain": [
       "'Knokke-Heist'"
      ]
     },
     "execution_count": 57,
     "metadata": {},
     "output_type": "execute_result"
    }
   ],
   "source": [
    "# most expensive municipalities in Belgium\n",
    "most_expensive = df.groupby('Municipality')['Price_sqm'].agg('mean').sort_values().idxmax()\n",
    "most_expensive "
   ]
  },
  {
   "cell_type": "code",
   "execution_count": 58,
   "metadata": {},
   "outputs": [
    {
     "name": "stdout",
     "output_type": "stream",
     "text": [
      "The most expensive municipalities in Belgium is Knokke-Heist.\n",
      "Average price : 601451.5513392857, median :599000.0   price per square meter : 7464.102771066597\n"
     ]
    }
   ],
   "source": [
    "filt = df['Municipality'] == most_expensive \n",
    "\n",
    "average = df[filt]['Price'].mean()\n",
    "median = df[filt]['Price'].median()\n",
    "price_sqm = df[filt]['Price_sqm'].mean()\n",
    "\n",
    "print(f'The most expensive municipalities in Belgium is {most_expensive}.')\n",
    "print(f'Average price : {average}, median :{median}   price per square meter : {price_sqm}')"
   ]
  },
  {
   "cell_type": "markdown",
   "metadata": {},
   "source": [
    "### What are the **less** expensive municipalities in Belgium?  \n",
    "(Average price, median price, price per square meter)"
   ]
  },
  {
   "cell_type": "code",
   "execution_count": 59,
   "metadata": {},
   "outputs": [
    {
     "data": {
      "text/plain": [
       "'Vaux-sur-Sûre'"
      ]
     },
     "execution_count": 59,
     "metadata": {},
     "output_type": "execute_result"
    }
   ],
   "source": [
    "# less expensive municipalities in Belgium\n",
    "less_expensive = df.groupby('Municipality')['Price_sqm'].agg('mean').sort_values().idxmin() \n",
    "less_expensive "
   ]
  },
  {
   "cell_type": "code",
   "execution_count": 60,
   "metadata": {},
   "outputs": [
    {
     "name": "stdout",
     "output_type": "stream",
     "text": [
      "The less expensive municipalities in Belgium is Vaux-sur-Sûre.\n",
      "Average price : 125000.0, median :125000.0   price per square meter : 657.8947368421053\n"
     ]
    }
   ],
   "source": [
    "filt = df['Municipality'] == less_expensive \n",
    "\n",
    "average = df[filt]['Price'].mean()\n",
    "median = df[filt]['Price'].median()\n",
    "price_sqm = df[filt]['Price_sqm'].mean()\n",
    "\n",
    "print(f'The less expensive municipalities in Belgium is {less_expensive}.')\n",
    "print(f'Average price : {average}, median :{median}   price per square meter : {price_sqm}')"
   ]
  },
  {
   "cell_type": "markdown",
   "metadata": {},
   "source": [
    "### What are the most & less expensive municipalities in Brussels?  \n",
    "(Average price, median price, price per square meter)"
   ]
  },
  {
   "cell_type": "code",
   "execution_count": 61,
   "metadata": {},
   "outputs": [
    {
     "name": "stdout",
     "output_type": "stream",
     "text": [
      "The most expensive municipalities in Brussels is Ixelles.\n",
      "Average price : 458077.51937984495 , median :415000.0   price per square meter : 4563.295488411992\n"
     ]
    }
   ],
   "source": [
    "# most expensive municipalities in Brussels\n",
    "\n",
    "filt1 = df['Province'] == 'Brussels Capital'\n",
    "\n",
    "df_bruxelles = df[filt1]\n",
    "\n",
    "most_expensive = df_bruxelles.groupby('Municipality')['Price_sqm'].agg('mean').sort_values().idxmax()\n",
    "\n",
    "filt2 = df_bruxelles['Municipality'] == most_expensive \n",
    "\n",
    "average = df_bruxelles[filt2]['Price'].mean()\n",
    "median = df_bruxelles[filt2]['Price'].median()\n",
    "price_sqm = df_bruxelles[filt2]['Price_sqm'].mean()\n",
    "\n",
    "print(f'The most expensive municipalities in Brussels is {most_expensive}.')\n",
    "print(f'Average price : {average} , median :{median}   price per square meter : {price_sqm}')"
   ]
  },
  {
   "cell_type": "code",
   "execution_count": 62,
   "metadata": {},
   "outputs": [
    {
     "name": "stdout",
     "output_type": "stream",
     "text": [
      "The less expensive municipalities in Brussels is Molenbeek-Saint-Jean.\n",
      "Average price : 264723.60355029587 , median :239000.0   price per square meter : 2796.302078001672\n"
     ]
    }
   ],
   "source": [
    "# less expensive city municipalities in Brussels\n",
    "\n",
    "less_expensive = df_bruxelles.groupby('Municipality')['Price_sqm'].agg('mean').sort_values().idxmin() \n",
    "less_expensive \n",
    "\n",
    "filt3 = df_bruxelles['Municipality'] == less_expensive \n",
    "\n",
    "average = df_bruxelles[filt3]['Price'].mean()\n",
    "median = df_bruxelles[filt3]['Price'].median()\n",
    "price_sqm = df_bruxelles[filt3]['Price_sqm'].mean()\n",
    "\n",
    "print(f'The less expensive municipalities in Brussels is {less_expensive}.')\n",
    "print(f'Average price : {average} , median :{median}   price per square meter : {price_sqm}')"
   ]
  },
  {
   "cell_type": "markdown",
   "metadata": {},
   "source": [
    "### What are the **most** expensive municipalities in Wallonia?  \n",
    "(Average price, median price, price per square meter)"
   ]
  },
  {
   "cell_type": "code",
   "execution_count": 63,
   "metadata": {},
   "outputs": [
    {
     "name": "stdout",
     "output_type": "stream",
     "text": [
      "The most expensive municipalities in Wallonia is Lasne.\n",
      "Average price : 395000.0 , median :395000.0   price per square meter : 4030.612244897959\n"
     ]
    }
   ],
   "source": [
    "# most expensive municipalities in Wallonia\n",
    "\n",
    "filt1 = df['Region'] == 'Wallonia'\n",
    "\n",
    "df_wallonia = df[filt1]\n",
    "\n",
    "most_expensive = df_wallonia.groupby('Municipality')['Price_sqm'].agg('mean').sort_values().idxmax()\n",
    "\n",
    "filt2 = df_wallonia['Municipality'] == most_expensive \n",
    "\n",
    "average = df_wallonia[filt2]['Price'].mean()\n",
    "median = df_wallonia[filt2]['Price'].median()\n",
    "price_sqm = df_wallonia[filt2]['Price_sqm'].mean()\n",
    "\n",
    "print(f'The most expensive municipalities in Wallonia is {most_expensive}.')\n",
    "print(f'Average price : {average} , median :{median}   price per square meter : {price_sqm}')"
   ]
  },
  {
   "cell_type": "markdown",
   "metadata": {},
   "source": [
    "### What are the **less** expensive municipalities in Wallonia?  \n",
    "(Average price, median price, price per square meter)"
   ]
  },
  {
   "cell_type": "code",
   "execution_count": 64,
   "metadata": {},
   "outputs": [
    {
     "name": "stdout",
     "output_type": "stream",
     "text": [
      "The less expensive municipalities in Wallonia is Vaux-sur-Sûre.\n",
      "Average price : 125000.0 , median :125000.0   price per square meter : 657.8947368421053\n"
     ]
    }
   ],
   "source": [
    "# less expensive city municipalities in Wallonia\n",
    "\n",
    "less_expensive = df_wallonia.groupby('Municipality')['Price_sqm'].agg('mean').sort_values().idxmin() \n",
    "less_expensive \n",
    "\n",
    "filt3 = df_wallonia['Municipality'] == less_expensive \n",
    "\n",
    "average = df_wallonia[filt3]['Price'].mean()\n",
    "median = df_wallonia[filt3]['Price'].median()\n",
    "price_sqm = df_wallonia[filt3]['Price_sqm'].mean()\n",
    "\n",
    "print(f'The less expensive municipalities in Wallonia is {less_expensive}.')\n",
    "print(f'Average price : {average} , median :{median}   price per square meter : {price_sqm}')"
   ]
  },
  {
   "cell_type": "markdown",
   "metadata": {},
   "source": [
    "### What are the **most** expensive municipalities in Flanders?  \n",
    "(Average price, median price, price per square meter)"
   ]
  },
  {
   "cell_type": "code",
   "execution_count": 76,
   "metadata": {},
   "outputs": [
    {
     "name": "stdout",
     "output_type": "stream",
     "text": [
      "The most expensive municipalities in Flanders is Knokke-Heist.\n",
      "Average price : 601451.5513392857 , median :599000.0   price per square meter : 7464.102771066597\n"
     ]
    }
   ],
   "source": [
    "# NEW TEST\n",
    "# most expensive city in Flanders\n",
    "\n",
    "filt1 = df['Region'] == 'Flanders'\n",
    "\n",
    "df_flanders = df[filt1]\n",
    "\n",
    "most_expensive = df_flanders.groupby('Municipality')['Price_sqm'].agg('mean').sort_values().idxmax()\n",
    "\n",
    "filt2 = df_flanders['Municipality'] == most_expensive \n",
    "\n",
    "average = df_flanders[filt2]['Price'].mean()\n",
    "median = df_flanders[filt2]['Price'].median()\n",
    "price_sqm = df_flanders[filt2]['Price_sqm'].mean()\n",
    "\n",
    "print(f'The most expensive municipalities in Flanders is {most_expensive}.')\n",
    "print(f'Average price : {average} , median :{median}   price per square meter : {price_sqm}')"
   ]
  },
  {
   "cell_type": "code",
   "execution_count": 69,
   "metadata": {},
   "outputs": [
    {
     "name": "stdout",
     "output_type": "stream",
     "text": [
      "The most expensive municipalities in Flanders is Knokke-Heist.\n",
      "Average price : 601451.5513392857 , median :599000.0   price per square meter : 7464.102771066597\n"
     ]
    }
   ],
   "source": [
    "# most expensive municipalities in Flanders\n",
    "\n",
    "filt1f = df['Region'] == 'Flanders'\n",
    "\n",
    "df_flanders = df[filt1f]\n",
    "\n",
    "most_expensive = df_flanders.groupby('Municipality')['Price_sqm'].agg('mean').sort_values().idxmax()\n",
    "\n",
    "filt2 = df_flanders['Municipality'] == most_expensive \n",
    "\n",
    "average = df_flanders[filt2]['Price'].mean()\n",
    "median = df_flanders[filt2]['Price'].median()\n",
    "price_sqm = df_flanders[filt2]['Price_sqm'].mean()\n",
    "\n",
    "print(f'The most expensive municipalities in Flanders is {most_expensive}.')\n",
    "print(f'Average price : {average} , median :{median}   price per square meter : {price_sqm}')"
   ]
  },
  {
   "cell_type": "markdown",
   "metadata": {},
   "source": [
    "### What are the **less** expensive municipalities in Flanders?  \n",
    "(Average price, median price, price per square meter)"
   ]
  },
  {
   "cell_type": "code",
   "execution_count": 79,
   "metadata": {},
   "outputs": [
    {
     "name": "stdout",
     "output_type": "stream",
     "text": [
      "     Municipality  Average_Price  Median_Price  Average_Price_per_Sqm\n",
      "68       Glabbeek  155000.000000      155000.0            1131.386861\n",
      "5      Alveringem  169000.000000      169000.0             840.796020\n",
      "139    Lo-Reninge  172000.000000      172000.0            1054.429171\n",
      "169  Oostrozebeke  212811.166667      167450.0            1750.447435\n",
      "152         Menen  223907.435897      179000.0            1495.619784\n",
      "8         Ardooie  230914.000000      199000.0            1979.967068\n",
      "95       Ichtegem  233642.857143      249000.0            2001.193453\n",
      "107   Kluisbergen  239718.750000      249500.0            1761.440702\n",
      "224        Wervik  244153.846154      245000.0            1789.446378\n",
      "98         Izegem  246730.126582      249000.0            1934.107566\n"
     ]
    }
   ],
   "source": [
    "# NEW TEST\n",
    "\n",
    "# Filter data for Flanders region\n",
    "flanders_data = df[df['Region'] == 'Flanders']\n",
    "\n",
    "# Compute necessary statistics\n",
    "flanders_stats = (\n",
    "    flanders_data\n",
    "    .groupby('Municipality')\n",
    "    .agg(\n",
    "        Average_Price=('Price', 'mean'),\n",
    "        Median_Price=('Price', 'median'),\n",
    "        Average_Price_per_Sqm=('Price', lambda x: (x / flanders_data.loc[x.index, 'Living_Area']).mean())\n",
    "    )\n",
    "    .reset_index()\n",
    ")\n",
    "\n",
    "# Sort by average price\n",
    "sorted_flanders_stats = flanders_stats.sort_values(by='Average_Price', ascending=True)\n",
    "\n",
    "# Display the least expensive municipalities\n",
    "print(sorted_flanders_stats.head(10))  # Top 10 least expensive\n"
   ]
  },
  {
   "cell_type": "code",
   "execution_count": 70,
   "metadata": {},
   "outputs": [
    {
     "name": "stdout",
     "output_type": "stream",
     "text": [
      "The less expensive municipalities in Flanders is Alveringem.\n",
      "Average price : 169000.0 , median :169000.0   price per square meter : 840.7960199004975\n"
     ]
    }
   ],
   "source": [
    "less_expensive = df_flanders.groupby('Municipality')['Price_sqm'].agg('mean').sort_values().idxmin() \n",
    "less_expensive \n",
    "\n",
    "filt3f = df_flanders['Municipality'] == less_expensive \n",
    "\n",
    "average = df_flanders[filt3f]['Price'].mean()\n",
    "median = df_flanders[filt3f]['Price'].median()\n",
    "price_sqm = df_flanders[filt3f]['Price_sqm'].mean()\n",
    "\n",
    "print(f'The less expensive municipalities in Flanders is {less_expensive}.')\n",
    "print(f'Average price : {average} , median :{median}   price per square meter : {price_sqm}')"
   ]
  },
  {
   "cell_type": "markdown",
   "metadata": {},
   "source": [
    "# Real Estate Prices in Belgium\n",
    "\n",
    "| Region    | Municipality           | Type             | Average Price (EUR) | Median Price (EUR) | Price per Square Meter (EUR) |\n",
    "|-----------|------------------------|------------------|---------------------|--------------------|------------------------------|\n",
    "| Belgium   | Knokke-Heist           | Most Expensive   | 601,451.55          | 599,000.00         | 7,464.10                     |\n",
    "| Belgium   | Vaux-sur-Sûre          | Least Expensive  | 125,000.00          | 125,000.00         |   657.89                     |\n",
    "| Wallonia  | Lasne                  | Most Expensive   | 395,000.00          | 395,000.00         | 4,030.61                     |\n",
    "| Wallonia  | Vaux-sur-Sûre          | Least Expensive  | 125,000.00          | 125,000.00         |   657.89                     |\n",
    "| Flanders  | Knokke-Heist           | Most Expensive   | 601,451.55          | 599,000.00         | 7,464.10                     |\n",
    "| Flanders  | Alveringem             | Least Expensive  | 169,000.00          | 169,000.00         |   840.79                     |\n",
    "| Brussels  | Ixelles                | Most Expensive   | 458,077.52          | 415,000.00         | 4,563.30                     |\n",
    "| Brussels  | Molenbeek-Saint-Jean   | Least Expensive  | 264,723.60          | 239,000.00         | 2,796.30                     |"
   ]
  },
  {
   "cell_type": "markdown",
   "metadata": {},
   "source": []
  },
  {
   "cell_type": "code",
   "execution_count": 3,
   "metadata": {},
   "outputs": [
    {
     "name": "stdout",
     "output_type": "stream",
     "text": [
      "     Region          Municipality             Type  Average Price (EUR)  \\\n",
      "0   Belgium          Knokke-Heist   Most Expensive            601451.55   \n",
      "1   Belgium         Vaux-sur-Sûre  Least Expensive            125000.00   \n",
      "2  Wallonia                 Lasne   Most Expensive            395000.00   \n",
      "3  Wallonia         Vaux-sur-Sûre  Least Expensive            125000.00   \n",
      "4  Flanders          Knokke-Heist   Most Expensive            601451.55   \n",
      "5  Flanders            Alveringem  Least Expensive            169000.00   \n",
      "6  Brussels               Ixelles   Most Expensive            458077.52   \n",
      "7  Brussels  Molenbeek-Saint-Jean  Least Expensive            264723.60   \n",
      "\n",
      "   Median Price (EUR)  Price per Square Meter (EUR)  \n",
      "0            599000.0                       7464.10  \n",
      "1            125000.0                        657.89  \n",
      "2            395000.0                       4030.61  \n",
      "3            125000.0                        657.89  \n",
      "4            599000.0                       7464.10  \n",
      "5            169000.0                        840.79  \n",
      "6            415000.0                       4563.30  \n",
      "7            239000.0                       2796.30  \n"
     ]
    }
   ],
   "source": [
    "import pandas as pd\n",
    "\n",
    "# Data: Real Estate Prices in Belgium\n",
    "data = {\n",
    "    \"Region\": [\"Belgium\", \"Belgium\", \"Wallonia\", \"Wallonia\", \"Flanders\", \"Flanders\", \"Brussels\", \"Brussels\"],\n",
    "    \"Municipality\": [\n",
    "        \"Knokke-Heist\", \"Vaux-sur-Sûre\", \"Lasne\", \"Vaux-sur-Sûre\", \n",
    "        \"Knokke-Heist\", \"Alveringem\", \"Ixelles\", \"Molenbeek-Saint-Jean\"\n",
    "    ],\n",
    "    \"Type\": [\n",
    "        \"Most Expensive\", \"Least Expensive\", \"Most Expensive\", \"Least Expensive\", \n",
    "        \"Most Expensive\", \"Least Expensive\", \"Most Expensive\", \"Least Expensive\"\n",
    "    ],\n",
    "    \"Average Price (EUR)\": [\n",
    "        601451.55, 125000.00, 395000.00, 125000.00, \n",
    "        601451.55, 169000.00, 458077.52, 264723.60\n",
    "    ],\n",
    "    \"Median Price (EUR)\": [\n",
    "        599000.00, 125000.00, 395000.00, 125000.00, \n",
    "        599000.00, 169000.00, 415000.00, 239000.00\n",
    "    ],\n",
    "    \"Price per Square Meter (EUR)\": [\n",
    "        7464.10, 657.89, 4030.61, 657.89, \n",
    "        7464.10, 840.79, 4563.30, 2796.30\n",
    "    ]\n",
    "}\n",
    "\n",
    "# Convert to DataFrame\n",
    "df = pd.DataFrame(data)\n",
    "\n",
    "# Display the DataFrame\n",
    "print(df)\n"
   ]
  },
  {
   "cell_type": "code",
   "execution_count": null,
   "metadata": {},
   "outputs": [],
   "source": []
  }
 ],
 "metadata": {
  "kernelspec": {
   "display_name": "base",
   "language": "python",
   "name": "python3"
  },
  "language_info": {
   "codemirror_mode": {
    "name": "ipython",
    "version": 3
   },
   "file_extension": ".py",
   "mimetype": "text/x-python",
   "name": "python",
   "nbconvert_exporter": "python",
   "pygments_lexer": "ipython3",
   "version": "3.12.4"
  }
 },
 "nbformat": 4,
 "nbformat_minor": 2
}
