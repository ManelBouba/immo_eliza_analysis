{
 "cells": [
  {
   "cell_type": "code",
<<<<<<< HEAD
   "execution_count": 2,
=======
   "execution_count": 9,
>>>>>>> 59aaafce7bd197d7de2c4780937d371bb6c1e578
   "metadata": {},
   "outputs": [],
   "source": [
    "import pandas as pd\n",
    "import numpy as np\n",
    "\n",
    "import matplotlib.pyplot as plt\n",
    "import seaborn as sns\n",
    "sns.set(color_codes=True)\n",
    "\n",
    "%matplotlib inline"
   ]
  },
  {
   "cell_type": "code",
<<<<<<< HEAD
   "execution_count": 3,
=======
   "execution_count": 10,
>>>>>>> 59aaafce7bd197d7de2c4780937d371bb6c1e578
   "metadata": {},
   "outputs": [
    {
     "data": {
      "text/html": [
       "<div>\n",
       "<style scoped>\n",
       "    .dataframe tbody tr th:only-of-type {\n",
       "        vertical-align: middle;\n",
       "    }\n",
       "\n",
       "    .dataframe tbody tr th {\n",
       "        vertical-align: top;\n",
       "    }\n",
       "\n",
       "    .dataframe thead th {\n",
       "        text-align: right;\n",
       "    }\n",
       "</style>\n",
       "<table border=\"1\" class=\"dataframe\">\n",
       "  <thead>\n",
       "    <tr style=\"text-align: right;\">\n",
       "      <th></th>\n",
       "      <th>Price</th>\n",
       "      <th>Locality</th>\n",
       "      <th>Type_of_Property</th>\n",
       "      <th>Subtype_of_Property</th>\n",
       "      <th>State_of_the_Building</th>\n",
       "      <th>Number_of_Rooms</th>\n",
       "      <th>Living_Area</th>\n",
       "      <th>Fully_Equipped_Kitchen</th>\n",
       "      <th>Terrace</th>\n",
       "      <th>Garden</th>\n",
       "      <th>Surface_area_plot_of_land</th>\n",
       "      <th>Number_of_Facades</th>\n",
       "      <th>Swimming_Pool</th>\n",
       "      <th>Lift</th>\n",
       "      <th>Municipality</th>\n",
       "      <th>Province</th>\n",
       "      <th>Region</th>\n",
       "      <th>Property_Size</th>\n",
       "    </tr>\n",
       "  </thead>\n",
       "  <tbody>\n",
       "    <tr>\n",
       "      <th>0</th>\n",
       "      <td>685000</td>\n",
       "      <td>1180</td>\n",
       "      <td>APARTMENT</td>\n",
       "      <td>PENTHOUSE</td>\n",
       "      <td>JUST_RENOVATED</td>\n",
       "      <td>2</td>\n",
       "      <td>127.0</td>\n",
       "      <td>0</td>\n",
       "      <td>1.0</td>\n",
       "      <td>0.0</td>\n",
       "      <td>0.0</td>\n",
       "      <td>4.0</td>\n",
       "      <td>0.0</td>\n",
       "      <td>1.0</td>\n",
       "      <td>Uccle</td>\n",
       "      <td>Brussels Capital</td>\n",
       "      <td>Bruxelles-Capital</td>\n",
       "      <td>Large</td>\n",
       "    </tr>\n",
       "    <tr>\n",
       "      <th>1</th>\n",
       "      <td>289000</td>\n",
       "      <td>8680</td>\n",
       "      <td>APARTMENT</td>\n",
       "      <td>APARTMENT</td>\n",
       "      <td>JUST_RENOVATED</td>\n",
       "      <td>3</td>\n",
       "      <td>120.0</td>\n",
       "      <td>0</td>\n",
       "      <td>1.0</td>\n",
       "      <td>0.0</td>\n",
       "      <td>0.0</td>\n",
       "      <td>2.0</td>\n",
       "      <td>0.0</td>\n",
       "      <td>1.0</td>\n",
       "      <td>Koekelare</td>\n",
       "      <td>West Flanders</td>\n",
       "      <td>Flanders</td>\n",
       "      <td>Large</td>\n",
       "    </tr>\n",
       "    <tr>\n",
       "      <th>2</th>\n",
       "      <td>259000</td>\n",
       "      <td>5030</td>\n",
       "      <td>HOUSE</td>\n",
       "      <td>HOUSE</td>\n",
       "      <td>GOOD</td>\n",
       "      <td>3</td>\n",
       "      <td>154.0</td>\n",
       "      <td>0</td>\n",
       "      <td>0.0</td>\n",
       "      <td>1.0</td>\n",
       "      <td>200.0</td>\n",
       "      <td>3.0</td>\n",
       "      <td>0.0</td>\n",
       "      <td>0.0</td>\n",
       "      <td>Gembloux</td>\n",
       "      <td>Namur</td>\n",
       "      <td>Wallonia</td>\n",
       "      <td>Large</td>\n",
       "    </tr>\n",
       "    <tr>\n",
       "      <th>3</th>\n",
       "      <td>429210</td>\n",
       "      <td>9052</td>\n",
       "      <td>APARTMENT</td>\n",
       "      <td>APARTMENT</td>\n",
       "      <td>GOOD</td>\n",
       "      <td>2</td>\n",
       "      <td>100.0</td>\n",
       "      <td>1</td>\n",
       "      <td>1.0</td>\n",
       "      <td>0.0</td>\n",
       "      <td>0.0</td>\n",
       "      <td>3.0</td>\n",
       "      <td>0.0</td>\n",
       "      <td>1.0</td>\n",
       "      <td>Gent</td>\n",
       "      <td>East Flanders</td>\n",
       "      <td>Flanders</td>\n",
       "      <td>Medium</td>\n",
       "    </tr>\n",
       "    <tr>\n",
       "      <th>4</th>\n",
       "      <td>314000</td>\n",
       "      <td>1770</td>\n",
       "      <td>APARTMENT</td>\n",
       "      <td>APARTMENT</td>\n",
       "      <td>GOOD</td>\n",
       "      <td>2</td>\n",
       "      <td>96.0</td>\n",
       "      <td>1</td>\n",
       "      <td>1.0</td>\n",
       "      <td>0.0</td>\n",
       "      <td>0.0</td>\n",
       "      <td>4.0</td>\n",
       "      <td>0.0</td>\n",
       "      <td>1.0</td>\n",
       "      <td>Liedekerke</td>\n",
       "      <td>Flemish Brabant</td>\n",
       "      <td>Flanders</td>\n",
       "      <td>Medium</td>\n",
       "    </tr>\n",
       "  </tbody>\n",
       "</table>\n",
       "</div>"
      ],
      "text/plain": [
       "    Price  Locality Type_of_Property Subtype_of_Property  \\\n",
       "0  685000      1180        APARTMENT           PENTHOUSE   \n",
       "1  289000      8680        APARTMENT           APARTMENT   \n",
       "2  259000      5030            HOUSE               HOUSE   \n",
       "3  429210      9052        APARTMENT           APARTMENT   \n",
       "4  314000      1770        APARTMENT           APARTMENT   \n",
       "\n",
       "  State_of_the_Building  Number_of_Rooms  Living_Area  Fully_Equipped_Kitchen  \\\n",
       "0        JUST_RENOVATED                2        127.0                       0   \n",
       "1        JUST_RENOVATED                3        120.0                       0   \n",
       "2                  GOOD                3        154.0                       0   \n",
       "3                  GOOD                2        100.0                       1   \n",
       "4                  GOOD                2         96.0                       1   \n",
       "\n",
       "   Terrace  Garden  Surface_area_plot_of_land  Number_of_Facades  \\\n",
       "0      1.0     0.0                        0.0                4.0   \n",
       "1      1.0     0.0                        0.0                2.0   \n",
       "2      0.0     1.0                      200.0                3.0   \n",
       "3      1.0     0.0                        0.0                3.0   \n",
       "4      1.0     0.0                        0.0                4.0   \n",
       "\n",
       "   Swimming_Pool  Lift Municipality          Province             Region  \\\n",
       "0            0.0   1.0        Uccle  Brussels Capital  Bruxelles-Capital   \n",
       "1            0.0   1.0    Koekelare     West Flanders           Flanders   \n",
       "2            0.0   0.0     Gembloux             Namur           Wallonia   \n",
       "3            0.0   1.0         Gent     East Flanders           Flanders   \n",
       "4            0.0   1.0   Liedekerke   Flemish Brabant           Flanders   \n",
       "\n",
       "  Property_Size  \n",
       "0         Large  \n",
       "1         Large  \n",
       "2         Large  \n",
       "3        Medium  \n",
       "4        Medium  "
      ]
     },
<<<<<<< HEAD
     "execution_count": 3,
=======
     "execution_count": 10,
>>>>>>> 59aaafce7bd197d7de2c4780937d371bb6c1e578
     "metadata": {},
     "output_type": "execute_result"
    }
   ],
   "source": [
    "df = pd.read_csv(\"TOTAL_immoweb_data_cleaned.csv\")\n",
    "df.head()"
   ]
  },
  {
   "cell_type": "markdown",
   "metadata": {},
   "source": [
    "### **Represent the number of properties according to their surface using a histogram**"
   ]
  },
  {
   "cell_type": "code",
<<<<<<< HEAD
   "execution_count": 4,
=======
   "execution_count": 11,
>>>>>>> 59aaafce7bd197d7de2c4780937d371bb6c1e578
   "metadata": {},
   "outputs": [
    {
     "name": "stderr",
     "output_type": "stream",
     "text": [
<<<<<<< HEAD
      "C:\\Users\\fomic\\AppData\\Local\\Temp\\ipykernel_30284\\942239093.py:7: FutureWarning: \n",
=======
      "C:\\Users\\fomic\\AppData\\Local\\Temp\\ipykernel_20060\\942239093.py:7: FutureWarning: \n",
>>>>>>> 59aaafce7bd197d7de2c4780937d371bb6c1e578
      "\n",
      "Passing `palette` without assigning `hue` is deprecated and will be removed in v0.14.0. Assign the `x` variable to `hue` and set `legend=False` for the same effect.\n",
      "\n",
      "  sns.countplot(x='Property_Size', data=df, order=size_bins_labels, palette='muted')\n"
     ]
    },
    {
     "data": {
      "image/png": "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",
      "text/plain": [
       "<Figure size 1000x600 with 1 Axes>"
      ]
     },
     "metadata": {},
     "output_type": "display_data"
    }
   ],
   "source": [
    "# histrogram for Surface_area_plot_of_land\n",
    "size_bins = [0,50,100,200,300]\n",
    "size_bins_labels = [\"Small (0-50 m2)\",\"Medium (50-100 m2)\",\"Large (100-200 m2)\",\"Very Large (200-300)\"]\n",
    "df[\"Property_Size\"] = pd.cut(df['Living_Area'],bins=size_bins,labels=size_bins_labels)\n",
    "\n",
    "plt.figure(figsize=(10, 6)) \n",
    "sns.countplot(x='Property_Size', data=df, order=size_bins_labels, palette='muted')\n",
    "plt.title('Distribution of Properties by Size')\n",
    "plt.xlabel('Price Range')\n",
    "plt.ylabel('Count')\n",
    "plt.show()"
   ]
  },
  {
   "cell_type": "code",
<<<<<<< HEAD
   "execution_count": 55,
=======
   "execution_count": 12,
   "metadata": {},
   "outputs": [
    {
     "name": "stdout",
     "output_type": "stream",
     "text": [
      "\t\t\t\t\t\t Mean:  330684   Median:  299000   Mode: 299000\n"
     ]
    },
    {
     "data": {
      "image/png": "iVBORw0KGgoAAAANSUhEUgAABmUAAANaCAYAAAB4DUhpAAAAOXRFWHRTb2Z0d2FyZQBNYXRwbG90bGliIHZlcnNpb24zLjguNCwgaHR0cHM6Ly9tYXRwbG90bGliLm9yZy8fJSN1AAAACXBIWXMAAA9hAAAPYQGoP6dpAACA8klEQVR4nOzdeXhV5aE+7GcnIQwyg4iK84QTToAjFXE6avXUarWtaLXOYlFRrENVPHWodQAVZ9E6DxSt1dbTWrVqLQ441R6xdUAcKYooyBRC8v3hR35GQElIdiDc93Xlkv2utd797OywTPKw3lWorq6uDgAAAAAAAI2qpKkDAAAAAAAALA+UMgAAAAAAAEWglAEAAAAAACgCpQwAAAAAAEARKGUAAAAAAACKQCkDAAAAAABQBEoZAAAAAACAIlDKAAAAAAAAFIFSBgAAYBlRXV3d1BEWsDRmAgCApZVSBgCA5c7BBx+cDTbYoNbHJptskv79++fcc8/N559//o3Hv//++9lggw1y3333NXrWP/7xj9lpp52y6aab5uyzz27QuYv5OpYWN9xwQwYMGJCtttoqgwYNyuTJk5s60mJ74YUXcvTRRzd1jFrefPPN/OhHP/rGfe67775ssMEGef/995fouU477bQF/t5uueWWOfDAA/PnP/+5zvPVJ1dDvRYAAJZfZU0dAAAAmsJGG22Uc845p+bx3Llz83//93+57LLLMn78+Nx1110pFAoLPbZbt2655557svrqqzd6znPPPTdrrrlmfvWrX2WllVZq9Odrzu66665cdtllOfPMM9O9e/cMGzYsp59+ekaNGtXU0RbL6NGj8+abbzZ1jFoefvjhvPTSS9+4T//+/XPPPfekW7duS/x8K664YkaOHJkkqaqqyueff56HHnoogwcPzqhRo7L99tsv8XN8k4Z8LQAALJ+UMgAALJfatm2bzTffvNZYnz59MmPGjFxxxRV55ZVXFtg+X3l5+SK3NbTPPvss22+/fbbeeuuiPF9z9sQTT2TDDTfMwIEDk3x55cndd9/dxKmav86dO6dz584NMtfC/u71798/L730Uu65555GL2Ua8rUAALB8snwZAAB8xSabbJIk+fDDD5N8udTZKaecksGDB2fLLbfMUUcdtdBlv959990MHjw4ffv2TZ8+fXLkkUfmjTfeqNk+Z86c/PrXv86OO+6YTTbZJHvvvXf++Mc/LjLHs88+mw022CBJctVVV9VaMunpp5/Oj3/842y11VbZeuutc/LJJ+ejjz6qOfa+++7LRhttlNGjR2eHHXbId77znVpZvu7jjz/O4MGDs8UWW6Rv374566yzMnPmzJrt8+bNyx133JG99947vXr1Sv/+/XPJJZdkzpw5NfucdtppGTBgQK15F/Z5uu222/Jf//Vf2XTTTdOvX78MGzYsX3zxRc32qqqqXH/99dl1112zySabZPfdd89tt91Wa9733nsvxx57bLbeeutsttlmOfDAA/PEE08s8vXNt9Zaa+WNN97IW2+9lcrKyrz00kvZcsstv/W4+a/l1FNPzQ477JCNN9442267bU499dRMnTq1Zp8BAwZk+PDhufDCC9O3b9/07ds3Q4cOrbVP8uUVL9///vez+eabp1evXvnv//7vWl8LC3v/Bg8enPvvvz8ffPBBzed0/uf3T3/6U4477rhsvvnm2W677XL11Vfniy++yBlnnJGtttoq2223XS6++OJa935ZnK/HAQMG5IorrshFF12U7bbbLr169crhhx+eCRMmJEmuvPLKmqtWNthgg1x55ZUL/dx9fcmv0047LYceemjGjBmT3XffPZtsskn22WefxXoPF6ZQKKR9+/YLXNk2bty4DBw4MJtttln69u2bn//85/n000+/ca77778/e+65ZzbddNPss88+GTt2bDbaaKOar+GFvZZv+7qf/3d57NixOfjgg2v+Do0ePTqTJ0/O8ccfny222CI77rhjfvOb39TrcwAAwLJDKQMAAF8x/xfOq622Ws3Yww8/nBYtWuSqq67KIYccssAxkydPzg9+8IO8/fbbOeecc3LJJZfk888/z6GHHppPP/001dXVGTRoUO6+++4cdthhueaaa7LFFlvkpJNOyu9+97uF5th4441zzz33JEn233//miWTHnjggfz0pz/NSiutlMsuuyynn356XnrppRx44IGZMmVKzfHz5s3Ltddem/POOy8nnnhi1l133UW+5ssvvzwrr7xyrr766hxyyCG59957a/2C/eyzz84FF1yQAQMG5JprrslBBx2U22+/Pccdd1ydbvL+hz/8IRdddFEOOuigjBo1KoMGDcoDDzyQ8847r2afYcOG5Yorrsg+++yTa6+9Nv/1X/+VCy64IFdddVWSL0ubo48+OjNnzsyvf/3rXH311enYsWOOO+64TJw48Ruf/+ijj06XLl1y/PHH5+CDD86MGTNywQUXfGvuWbNm5ZBDDslbb72Vc845J6NGjcrAgQPz0EMP5bLLLqu175133pkXXnghF1xwQU455ZQ8+eSTOeKII1JVVZUkueOOO3L22Wdn5513znXXXZeLL744LVq0yNChQ2uKwGTB9++UU07JjjvumBVXXDH33HNP+vfvX7PvmWeemfXXXz/XXHNNttlmm1x++eXZf//906pVq1x++eUZMGBAbrzxxvzv//5vktTp6/HWW2/N22+/nQsvvDDnnXde/vnPf+a0005LkvzgBz/I/vvvnyS555578oMf/OBbP5fz/fOf/8yoUaMyePDgXHXVVSkrK8vgwYO/9X5OSVJZWZnKysrMnTs3U6dOzW233ZZ///vfte5t8/zzz+fQQw9Nq1atMmLEiJxxxhl57rnncsghh2T27NkLnfd3v/tdTjvttGy55Za5+uqrs/vuu+e4447LvHnzFvt1fZMhQ4ZkwIABufbaa7PmmmvmnHPOySGHHJL1118/V1xxRTbeeONceOGF+cc//tEgzwcAwNLJ8mUAACyXqqurU1lZWfP4888/z3PPPZdrrrkmm2++ec0VM0lSUlKSX/7yl2nTpk2SLHCT75tvvjmzZ8/OzTffnBVXXDFJsuGGG+bAAw/Myy+/nJYtW+app57K8OHDs+eeeyZJ+vXrl1mzZuWSSy7Jd7/73ZSV1f7W/KvLq3Xv3j2bb755qqqqcvHFF2e77bbL8OHDa/bdcssts+eee+amm27K0KFDa8aPOeaYWr+8X5Tdd989p59+epJk2223zdNPP51nnnkmyZc3cv/tb3+bE088Mccee2ySZPvtt0+3bt1y6qmn5sknn8yOO+74rc+RfHnFwKqrrpqDDjooJSUl6du3b9q0aVNzJcmECRNy7733ZsiQITnqqKOSJDvssEMKhUKuu+66/PjHP05lZWXeeuutHHPMMTXP26tXr4wcObLWlTsL88EHH6Rjx44ZP3582rdvn7/85S/p0KHDt+Z+55130r179/zqV7+quY/QNttsk1dffTXPPfdcrX0LhUJuvvnmtGvXLsmXy10NGjQoTz75ZPr375/33nsvP/3pTzNo0KCaY3r06JHvf//7efHFF7PKKqvUjH/9/evcuXOt5bvmX83Ur1+/nHjiiUmSddddN3/4wx/SpUuXnH322Um+fL8efvjhvPjii9ljjz3y97//fbG/Htu3b5+rr746paWlSb68IuzKK6/M1KlT071793Tv3j1J6ryc3/Tp03PffffVfD7btGmTgQMH5plnnsnuu+++yOM++OCDbLzxxguM/+hHP0rfvn1rHl966aVZa621ct1119Vk32yzzbLXXntlzJgxOeiggxaY4/LLL89OO+1UUxL269cvLVq0yKWXXlqn17Yo++23Xw477LAkX77eAw88ML169crgwYOTfHmV3qOPPpoXX3wxvXr1apDnBABg6eNKGQAAlkvPP/98Nt5445qP7bbbLkOGDMnGG2+cyy67rNZSSD169KgpZBbmhRdeyOabb15TyCRJt27d8vjjj2fAgAEZO3ZsCoVCdtxxx5p/5V9ZWZkBAwbk448//salxb5qwoQJ+fjjj7P33nvXGl999dWzxRZb5Nlnn601vv766y/WvL179671eLXVVsu0adOSpKZ0+Ppz7rXXXiktLV3gOb/JNttsk3feeSff//73c/XVV+e1117L3nvvnZ/85CdJkmeeeSbV1dUZMGDAAp+nOXPm5IUXXkjXrl2z7rrr5qyzzsppp52WP/7xj6murs7pp5/+ja/3z3/+cw488MCsscYaGTZsWKZPn15TWvzud7+rtcTa12244Ya5884706NHj7z33nt56qmnctNNN+Xtt9/O3Llza+2700471RQyyZdLgLVo0SLjxo1L8uVyV0OHDs306dPz6quv5sEHH8wdd9yRJAvMtbjv3xZbbFHz5/lfg5tttlnNWKFQSIcOHTJ9+vQkqdPX46abblpTaiSpKWFmzZq1WNkWpXPnzjWFTF3mXXHFFfPb3/625uM3v/lNjj/++IwZMyannnpqzRyvvPJKdtxxx5rytbKyMquttlrWWWedPP300wvMO3HixHz44Yf5r//6r1rje+211xK9zq/66vvUtWvXJLXfp06dOiVJzfsEAEDz5EoZAACWSxtvvHHOPffcJF/+0rply5ZZeeWV07Zt2wX2nf8L1EX57LPP0qNHj2/cXl1dvcj7l0yePDkbbrjht2b+7LPPFpmna9euee2112qNdenS5VvnTJLWrVvXelxSUlKzLNn85aS+WjglSVlZWTp16lSnXyDvueeeqaqqyp133pmRI0fm8ssvz6qrrpqTTz45e+21V83rW9Qvwv/zn/+kUCjkpptuyjXXXJNHHnkk999/f1q0aJFddtklw4YNS8eOHRc4bsaMGfnFL36R3Xffveaqh08++SQjR47MlVdemTvuuCObbLJJvv/97y8y+80335zrrrsuU6dOTdeuXbPxxhundevWC7z+bt261XpcUlKSjh071pRc7777bs4+++w888wzKSsry9prr11z76CvLwW3uO/fwr5mv/6eflVdvh4X9rWRpGY5tvr6+rzzS9Bvm7e8vDybbrpprbFtt902ZWVlGTFiRA477LB07do1VVVVueGGG3LDDTcsMEfLli0XGJt/r5mvf86//nW/JOr6PgEA0DwpZQAAWC6tsMIKC/xyt77atWu30BuIjx07Nj169Ei7du3Spk2b3HrrrQs9fo011lis55lfOHzyyScLbPv4449r/qV9Q5q/vNfHH39cq3iafz+P+c9ZKBQWuPfG/OW1vuq73/1uvvvd72b69On529/+lhtuuCFDhw5N79690759+yTJLbfckhVWWGGBY+cv7bXSSitl2LBhOeecc/L666/nf//3f3PDDTekQ4cONUXbV7399tv5/PPP893vfrdm7Pjjj88bb7xRc6P6hS1nNd+DDz6YX/3qVzn55JOz//77p3PnzkmSE044Ia+++mqtfecXS/PNmzcvU6dOTefOnVNVVZWjjjoqLVq0yL333puNNtooZWVlefPNN/P73/9+kc/f0Brq63FpMr9EmjhxYtZYY40UCoUceuihCy34FlaEzL9S56v3ZVrY469b3K97AACYz/JlAACwhHr37p2XX3651i9wP/300xx55JF59NFH07dv38ycOTPV1dXZdNNNaz7eeOONXHXVVbXubfNN1lprray44op58MEHa42/9957efnllxd55cOSmH+fjq8/5x/+8IfMmzcvW221VZIvS66pU6fWuq/Liy++WOuYE088Mccff3ySL4uBPfbYo+ZG6pMnT06fPn2SJFOnTq31efrss88yYsSIfPbZZ3nppZey3Xbb5R//+EcKhUI23HDDnHTSSVl//fUzadKkhb6GVVddNSUlJbXu/1IoFHLEEUck+fLqj2+6t8wLL7yQdu3a5aijjqopZGbMmJEXXnhhgSs7nnrqqVRUVNQ8fvTRR1NZWZltt902U6dOzYQJE7L//vunV69eNfdtefLJJ5N8+1Ui869SWVIN9fXYkJmW1EsvvZTky0Kpbdu22WijjfL222/Xen3rrbdeRo4cudAl97p3757VV189jzzySK3xP/3pT9/4vIvzdQ8AAF/lShkAAFhChx56aH73u9/l8MMPzzHHHJOWLVvmuuuuS7du3fK9730v7du3T58+fXLcccfluOOOyzrrrJN//OMfufLKK7PDDjvU/KL/25SUlGTIkCE5/fTTc9JJJ+V73/tepk6dmpEjR6ZDhw41NxFvSOuuu2723XffjBw5MrNnz87WW2+d8ePHZ+TIkdl6663Tr1+/JF/eS+W2227LGWeckR/84Ad54403ctNNN9W6H8k222yTc845JxdddFG+853vZNq0aRk5cmTWXHPN9OzZMy1atMg+++yTs846Kx988EE22WSTTJgwIcOHD0+PHj2y5pprprKyMq1atcqpp56an/3sZ+natWv+/ve/Z/z48TnkkEMW+ho6d+6cgQMH5pZbbknLli2z9dZb57XXXsu1116brbbaKtOmTcvRRx+dESNGZPvtt1/g+F69euWuu+7Kr371q+y0006ZPHlyRo0alU8++WSBMmfSpEk59thjc8ghh+Sjjz7KZZddlh122CFbb711ki8LojvuuCPdu3dP+/bt87e//S233HJLkm+/n0r79u3zySef5Iknnlis5e4WZccdd2yQr8f5mZLkoYceymabbZbVVlut3rkWR0VFRV5++eWax5WVlXn++eczatSo7LDDDtl4442TJEOGDMlRRx2Vk08+Ofvss0/mzZuXm266Ka+88kqOPfbYBeYtFAoZPHhwTjnllJxzzjnZdddd8/rrr+eqq65KsujyaXG+7gEA4KuUMgAAsIRWXnnl3Hnnnbn44otz+umnp7y8PH379s3FF19cs+TY9ddfn8svvzzXXXddpkyZkpVWWimHHnpoBg0aVKfn+v73v58VVlgh1113XQYNGpS2bdumX79+GTJkSIPe/+Krzj///KyxxhoZM2ZMRo0alW7duuXggw/OoEGDan5Zvf322+fnP/95brvttvz5z3/OxhtvnJEjR+aHP/xhzTw//OEPM3fu3Nx99925884706pVq2y77bYZOnRoWrRokSS58MILc9111+Xuu+/OpEmT0qVLl+y555458cQTU1pamtLS0tx000259NJLc/7552fatGlZc8018z//8z/feE+Y0047LZ07d85vf/vb3HjjjVlppZXyk5/8JEceeWQ+++yzHHvssYtcdmrffffN+++/nzFjxuTOO+/MSiutlB133DE//vGPc9ZZZ+XNN9/Muuuum+TL++G0b98+J554Ytq0aZN99903J510Us1cV199dc4///ycdtppKS8vz7rrrptrrrkmF1xwQcaNG5eDDz54ka/h+9//fp544okMGjQogwcPzp577rn4b+JXlJSUNNjX42677ZYHHnggp512Wvbff/8MGzasXpkW18cff5wDDzyw5nGLFi2y6qqr5pBDDqmVfYcddsioUaMycuTIDB48OC1atMjGG2+cm2++OZtvvvlC5957770zc+bMjBo1KmPGjMl6662XM888M2eeeWbatGmz0GMW5+seAAC+qlD99btJAgAALGeqq6trbjZfXwMGDEjfvn3zq1/9qoFSUUwPPfRQNtpoo6y99to1Y3/9619z9NFH54EHHkjPnj2bMB0AAM2FK2UAAIDl3pIWMiz7fv/732f48OE58cQTs/LKK+edd97JFVdckb59+ypkAABoMEoZAAAAlnsXXXRRLr300lx88cX59NNP07Vr1+yxxx4ZPHhwU0cDAKAZsXwZAAAAAABAEZQ0dQAAAAAAAIDlgVIGAAAAAACgCJQyAAAAAAAARaCUAQAAAAAAKIKypg6wrKqurk5VVXVTxyi6kpLCcvm6AeZzHoT6q66qzvRps2uNtWvfKoWSQhMloj6cB4HlnfMggHMhLExJSSGFwrf/fKuUqaeqqup8+umMpo5RVGVlJenUaYVMmzYzlZVVTR0HoOicB2HJzJpZkd9cMbbW2KGDt03rNuVNlIi6ch4ElnfOgwDOhbAonTuvkNLSby9lLF8GAAAAAABQBK6UAQBYis2eW5G/vfVarbEd1tkorVq4ugQAAACWNUoZAICl2KczZ+T+D++sNbbRyqdnlQ5KGQAAAFjWWL4MAAAAAACgCJQyAAAAAAAARWD5MgAAAAAAaCJVVVWZN6+yqWPwDUpLy1JS0jDXuChlAAAAAACgyKqrqzNt2qeZNeuLpo7CYmjdum3at++cQqGwRPMoZQAAAAAAoMjmFzJt23ZKeXnLJf5lP42juro6FRVz8sUXU5MkHTp0WaL5lDIAAAAAAFBEVVXzagqZtm3bN3UcvkV5ecskyRdfTE27dp2WaCmzhlkEDQAAAAAAWCzz5s1L8v9+2c/Sb/57taT3/1HKAAAAAABAE7Bk2bKjod4rpQwAAAAAAEARKGUAAAAAAIB62X//vbPDDr1z9923L3T7xRdfkB126J1Ro64rcrKlk1IGAAAAAACot7Kysjz++KMLjFdWVuaJJx6zTNtXKGUAAAAAAIB66927b1577Z/5z38m1Rp/8cVxadWqdbp1W6mJki19ypo6AAAAAAAAkFRVVWfO7LlN8twtW7VISUn9rmjZcMONM3HiO3n88b/khz8cWDP+6KN/zoABu+axxx6pGXv11Vdy7bUjM378a+nYsWO23/47OeaYQVlhhbZJksmT/5Nrrx2Z559/NtOmfZ4uXbpm9933zJFHHpuSkpL88Y8P5qabrs/hhx+d3/zmxkye/J+ss856OfHEU7LJJr2W7JNQBEoZAAAAAABoYm+9/nGe+vMbmTWzaUqZ1m1apN9u62WdnivW6/iddtoljz/+aE0pM3fu3Dz55F9z+eVX15Qyb775Rk444bgccshhOe20s/Lpp5/mqqtG5KSTjs91192cQqGQU089KZ06dcpll12ZNm1WyNixf8uIEZdko402Tr9+/ZMkn3zycX73uzE566xfpkWLFrnkkgtz3nnn5K677lvql0pTygAALMW6rtA2R653zAJjAAAANC9/ffhfqZgzr8mef9bMufnrw/+qdykzYMCuueuu2/Kf/0zKSit1z3PPPZOOHTtm/fV71uxz1123pnfvPjn00COSJKuttnqGDTs/Bxzw33nppRey8cabZPfd98xOO+2c7t1XTpLsv/8Pc/vtt+Stt96sKWUqKytzyimnZb31NkiSHHLIYTn99FMyZcqUdO3adQk+C41PKQMAsBQrL2uRzVdbu6ljAAAAwDfq2XPDrLLKqjVLmD322J+zyy6719rnX//6V95//93sumu/BY6fOPGdbLll7+y33wH5618fzb333pn3338vb775Rj755OPMm1e7sFpjjbVq/jx/6bPKyqa5yqgulDIAAAAAANDE+u+xwVKxfNmSGDBg1zz++KPZd98f5KmnnswNN9xSa3t1dVV2222PHHLITxc4tmPHTpk9e3YGDToys2fPyoABu2b33ffKSSdtnEGDjlxg//Ly8gXGqqurlyh/MShlAAAAAACgia3Tc8WstX7XzJndNKVMy1YtUlKyZPdjGTBgl9x++2/y0EMPZJVVVs0aa6xZa/taa62TCRPeSo8eq9WMvfvuOxk58vIcc8ygvPfeu/nXv8bn97//Uzp37pIkmTbt83z66ZQlyrU0UcoAAAAAAMBSoKSkkNZtFrwCZFmx3nobpEeP1XL99Vdl4MDDFtj+wx8OzKBBR+Tiiy/I/vv/MDNnzsyll/4qM2fOTI8eq2f27NlJkj/96eHstNPO+c9//pPrrhuZysrKVFRUFPvlNAqlDAAAAAAA0CAGDNg1t9wyKrvsstsC2zbZZNNcdtnI3HjjNTn88IPTunWrbLllnwwadGLKy8uz0Uab5Gc/Oyn33HNnbrjhmqy44orZeefd0q3bSnnttX82watpeIXqZWGRtaXQvHlV+fTTGU0do6jKykrSqdMKmTp1Riorq5o6DkDROQ/SFCoq5+a1j96rNbbRyqulvKxFEyWqv1kzK/KbK8bWGjt08LbL9L8CW944DwLLO+dBAOfChjJ3bkWmTPkoXbqsnBYt/Ey0LPi296xz5xVSWlryrfO4UgYAYCn2yYwvcsMb19YaO7P96VmlQ6cmSgQAAADU17fXNgAAAAAAACwxpQwAAAAAAEARKGUAAAAAAACKQCkDAAAAAABQBEoZAAAAAACAIlDKAAAAAAAAFIFSBgAAAAAAoAiUMgAAAAAAAEWglAEAAAAAACiCsqYOAAB1UVJSSElJoUmeu7S0pNZ/WTZUVVWnqqq6qWMAAABAs7T//ntn0qSPcvzxJ+aHPxy4wPaLL74gDzxwXw477MgcfvjR9X6OPfb4bg4//Oj88Y8P5oILzs3f/jZuSaM3CaUMAMuMkpJCOnVsnZLS0ibN0b596yZ9fuqmat68TP1slmIGAAAAGklZWVkef/zRBUqZysrKPPHEYykUGu4f2O68867ZeuttG2y+YlPKALDMKCkppKS0NP++bERmvvd+U8dhGdBmtR5Zf8iJKSkpKGUAAABYJkybWVHvY1u1KE15i4X/Y9bpMyvyTT8Zt29TXu/n7d27b559dmz+859JWWml7jXjL744Lq1atU7Llq3qPffXtWzZqkHnKzalDADLnJnvvZ8Zb09o6hgAAAAADe7EK/5W72MP2nX97LxVj4VuO/OGZ/PFrLmLPPam0wbU+3k33HDjTJz4Th5//C+1rpZ59NE/Z8CAXfPYY4/UjL366iu59tqRGT/+tXTs2DHbb/+dHHPMoKywQtskyRdffJERIy7O3/72RMrKWuSQQw6r9VxfX75shx1654wzzsmee+5ds8/Xlzu75ZZROeqo43LttSMzZcqUbL75ljn99LNy55235eGHH0qLFi1ywAE/ysEH136uxmBRfAAAAAAAYInstNMuefzxR2sez507N08++dfssstuNWNvvvlGTjjhuPTps3VuueWunHPO+fnXv8bnpJOOT3X1l9fxnH32aRk//v9y0UXDM3z4yDz99FOZNOmjJcr2n/9Myv33/zYXXHBJRoy4KuPH/19+8pMfpaysLNdf/5t873v75brrrsrbb7+5RM+zOFwpAwCwFOvcZoXsu8qPFxgDAACApcmAAbvmrrtuq1nC7LnnnknHjh2z/vo9a/a5665b07t3nxx66BFJktVWWz3Dhp2fAw7477z00gvp2rVrnnvumYwYcXU222yLJMk555yX/fffe6HPubgqKyszZMipWXvtdZN8udza//3fqznuuMEpFAoZOPDQ3HzzDXn77bdq9mksShkAgKVYqxbl2aXn5k0dAwAAAL5Rz54bZpVVVq1Zwuyxx/6cXXbZvdY+//rXv/L+++9m1137LXD8xInv5PPPP0uSbLjhRjXjnTt3ySqrrLrE+VZffc2aP7dq1Sorr7xKCoVCkqRly5ZJkoqK+t/PZ3EpZQAAAAAAYCkxYvAO9T62VYvSRW47/8itU13vmRfPgAG75vHHH82++/4gTz31ZG644ZZa26urq7LbbnvkkEN+usCxHTt2yvPPP5MkqaqqnbS09JurjPlLn81XWVm5wD5lZbXnmF/IFJtSBgAAAAAAlhLt25Q3yrztGmnerxowYJfcfvtv8tBDD2SVVVbNGmusWWv7WmutkwkT3kqPHqvVjL377jsZOfLyHHPMoJqlzl599ZVst92X5dT06dPzwQfvLfI5y8rKMmPGFzWPZ8z4IlOnftqAr6phKWUAAAAAAIAltt56G6RHj9Vy/fVXZeDAwxbY/sMfDsygQUfk4osvyP77/zAzZ87MpZf+KjNnzkyPHqunvLw8O+20S4YP/3VatGiRLl265Nprr8rcuXMX+ZybbrpZHnjgvmy22ZZp0aIsN9xwzQJXxSxNSpo6AAAAAAAA0DwMGLBrZsyYkV122W2BbZtssmkuu2xk3n77zRx++ME59dQTsuqqPTJixNUpL//ySp5f/GJYtt12+5xzzhk57rgjs9Zaa2eDDTZc5POdcsrp6dKla4499qc55ZQTssUWW2WTTTZrtNe3pArVX19sjcUyb15VPv10RlPHKKqyspJ06rRCpk6dkcrKqqaOAyyH5p+HXj7plMx4e0JTx2EZsMLaa2Xz4Zcs0//vqqyal8nTp9Ua69aufcpKFr1O8NJq1syK/OaKsbXGDh28bVoX4RJ6GobvB4HlnfMggHNhQ5k7tyJTpnyULl1WTosWfiZaFnzbe9a58wopLf3262CW3mt4AADI5OnTcv4LF9YaO3Or07NKh05NlAgAAACoL8uXAQAAAAAAFIFSBgAAAAAAoAiUMgAAAAAAAEWglAEAAAAAACgCpQwAAAAAAEARKGUAAAAAAACKQCkDAAAAAABQBEoZAAAAAACAIlDKAAAAAAAA9bL//ntnhx165+67b1/o9osvviA77NA7o0Zdt0TPsSTHL02UMgAAAAAAQL2VlZXl8ccfXWC8srIyTzzxWAqFQhOkWjopZQAAAAAAgHrr3btvXnvtn/nPfybVGn/xxXFp1ap1unVbqYmSLX3KmjoAAAAAAADwpekVX9T72JalLVNe2mKh276omJHqVC/y2Hblbev9vBtuuHEmTnwnjz/+l/zwhwNrxh999M8ZMGDXPPbYIzVj//znP3L99VfnX/8an7Kysuyww44ZNOjEtG/f/sucX3yRESMuzt/+9kTKylrkkEMOW+D5Xn31lVx77ciMH/9aOnbsmO23/06OOWZQVlih/q+hWJQyAECzV1q67F4cXFa64CXeZaWFlJUte6+pbCHvQ1lpyVL3WqqqqlNVtegfVAAAABrTaX/7n3ofe8D638uOPbZb6LZfPntJvpg7Y5HHXjXg1/V+3iTZaadd8vjjj9aUMnPnzs2TT/41l19+dU0p89pr/8zPfnZ09t77eznppFMzdeqnGT781xky5Phcf/1vUlJSkrPPPi3/+c+kXHTR8LRp0yYjR47IpEkf1TzPm2++kRNOOC6HHHJYTjvtrHz66ae56qoROemk43PddTcv9UulKWUAgGarRceOqa6qSvv2rZs6Sr3NqJq9wFiH9m3SqdMKTZBmyZS3WPBbzw4d22SFti2bIM2iVc2bl6mfzVLMAAAA1MGAAbvmrrtuy3/+MykrrdQ9zz33TDp27Jj11+9Zs8/dd9+RddZZL0OG/DxJstZaa2fYsAvyk5/8MM8+OzarrrpqnnvumYwYcXU222yLJMk555yX/fffu2aOu+66Nb1798mhhx6RJFlttdUzbNj5OeCA/85LL72QLbfsXcRXXXdKGQCg2Spru0IKJSX592UjMvO995s6Tr3MLiS9O3WtNfb+sxfmk2WwL5iTFknJ9rXG/nnWsLTM3CZKtKA2q/XI+kNOTElJQSkDAABQBz17bphVVlm1Zgmzxx77c3bZZfda+7z99pvp02ebWmPrrLNu2rZtl7feeiOzZ89Kkmy44UY12zt37pJVVlm15vG//vWvvP/+u9l1134LZJg48R2lDABAU5v53vuZ8faEpo5Rb9t/7fG8JIu+4HzpVVHSMlm79quZ+c7EVFbNaaJEAAAANKQBA3bN448/mn33/UGeeurJ3HDDLbW2V1dXZ2Gri1VXV6Ws7P/VFV//R3KlpWW19t1ttz1yyCE/XWCejh07LeEraHxKGQAAAAAAWEr8aoez631sy9JFLw991tanpDqNuyLAgAG75Pbbf5OHHnogq6yyatZYY81a29dee9288srLtcbeeOPfmTFjRtZcc+2sttrqSZJXX30l2223Q5Jk+vTp+eCD92r2X2utdTJhwlvp0WO1mrF3330nI0denmOOGZS2bddtnBfXQJQyAAAAAACwlGhX3rZR5m1b3vj3Jl1vvQ3So8dquf76qzJw4GELbD/wwB9n0KAjc9llF+X73z8gU6d+mssuuyjrr79Bevfum7Kysuy00y4ZPvzXadGiRbp06ZJrr70qc+f+v2Wvf/jDgRk06IhcfPEF2X//H2bmzJm59NJfZebMmenRY/VGf41LqqSpAwAAAAAAAM3DgAG7ZsaMGdlll90W2LbJJr1yySWX5/XXx+enPz0oZ511WjbZZLOMGHF1zfJlv/jFsGy77fY555wzctxxR2attdbOBhts+JU5Ns1ll43M22+/mcMPPzinnnpCVl21R0aMuDrl5eVFe5315UoZAAAAAACgXn772wdrPT7yyGNz5JHHLnKfPn22SZ8+2yxyvpYtW2XIkJ9nyJCfL3Kfrbbqk6226lPPxE3LlTIAAAAAAABF4EoZAICl2JTWrXL7vu1rjQ28f1q6zJrdRIkAAACA+nKlDAAAAAAAQBEoZQAAAAAAAIpAKQMAAAAAAFAEShkAAAAAAGgC1dXVTR2BxdRQ75VSBgAAAAAAiqi0tDRJUlExp4mTsLjmv1elpWVLNM+SHQ0AAAAAANRJSUlpWrdumy++mJokKS9vmUKh0MSpWJjq6upUVMzJF19MTevWbVNSsmTXuihlAAAAAACgyNq375wkNcUMS7fWrdvWvGdLQikDAAAAAABFVigU0qFDl7Rr1ynz5lU2dRy+QWlp2RJfITOfUgYAAAAAAJpISUlJSkrKmzoGRdIw1Q4AAAAAAADfSCkDAAAAAABQBEoZAAAAAACAIlDKAAAAAAAAFIFSBgAAAAAAoAjKmjoAAACL1mbu3Kz9z9ZfG5vSRGkAAACAJaGUAQBYirWunJe9/zGxqWMAAAAADcDyZQAAAAAAAEWglAEAAAAAACgCpQwAAAAAAEARKGUAAAAAAACKQCkDAAAAAABQBGVNHQAAgEX7tFWr3LZ3l1pjBz84JZ1nz26iRAAAAEB9KWUAAJZi1YUkLeYuOAYAAAAscyxfBgAAAAAAUARLVSkzYcKEbLHFFrnvvvtqxsaPH5+BAwdm8803T//+/TNq1Khax1RVVeWKK65Iv379stlmm+WnP/1pJk6cWGufb5sDAAAAAACgsS01pczcuXNzyimnZObMmTVjU6dOzWGHHZY111wzY8aMyc9+9rNcfvnlGTNmTM0+V199de6+++6cd955ueeee1IoFHLkkUemoqJisecAAAAAAABobEvNPWWuvPLKrLDCCrXG7r333pSXl2fYsGEpKyvLOuusk4kTJ+aGG27Ifvvtl4qKitx0000ZOnRodtxxxyTJ8OHD069fvzzyyCPZa6+9vnUOAAAAAACAYlgqrpR5/vnnc8899+Siiy6qNT5u3Lj06dMnZWX/rzvaZpttMmHChEyZMiWvv/56ZsyYkW222aZme/v27bPRRhvl+eefX6w5AAAAAAAAiqHJS5lp06bl1FNPzS9+8YusvPLKtbZNmjQp3bt3rzXWrVu3JMmHH36YSZMmJckCx3Xr1i0fffTRYs0BAAAAAABQDE2+fNmwYcOy+eabZ++9915g2+zZs1NeXl5rrGXLlkmSOXPmZNasWUmy0H0+//zzxZpjSZSVNXmnVVSlpSW1/gtQbM4/QLE43yyc7weB5Z3zIIBzISypJi1lfve732XcuHF58MEHF7q9VatWqaioqDU2v0hp06ZNWrVqlSSpqKio+fP8fVq3br1Yc9RXSUkhnTqt8O07NkPt27du6ggAAI3K9zvfzOcHWN45DwI4F0J9NWkpM2bMmEyZMiX9+/evNX7OOedk1KhRWWWVVTJ58uRa2+Y/XmmllVJZWVkztvrqq9fap2fPnkmS7t27f+Mc9VVVVZ1p02bW+/hlUWlpSdq3b51p02Zl3ryqpo4DLIfmn4cAGpvvdxbO94PA8s55EMC5EBalffvWi3UFWZOWMpdccklmz55da2y33XbL4MGDs+eee+YPf/hD7r777sybNy+lpaVJkrFjx2attdZKly5d0q5du7Rt2zbPPvtsTSkzbdq0vPbaaxk4cGCSpE+fPt84x5KorFw+Tzrz5lUtt68dAFg++H7nm/n8AMs750EA50KoryZd+G+llVbKGmusUesjSbp06ZJVV101++23X7744ouceeaZefPNN3PffffllltuydFHH53ky3vJDBw4MJdcckkeffTRvP766znppJPSvXv37LrrrknyrXMAAAAAAAAUQ5NeKfNtunTpkhtvvDHnn39+9t1336y44oo59dRTs++++9bsM3jw4FRWVuYXv/hFZs+enT59+mTUqFEpLy9f7DkAAAAAAAAa21JXyvzrX/+q9bhXr1655557Frl/aWlphg4dmqFDhy5yn2+bAwAAAAAAoLEtdaUMAAD/T6u5len+ZtuvjX3aRGkAAACAJaGUAQBYiq1QWZkDn3u7qWMAAAAADaCkqQMAAAAAAAAsD5QyAAAAAAAARaCUAQAAAAAAKAKlDAAAAAAAQBEoZQAAAAAAAIqgrKkDAACwaFNbtcxtu3evNXbwnyal0+w5TZQIAAAAqC+lDADAUqyqUEj1CrMWGAMAAACWPZYvAwAAAAAAKAKlDAAAAAAAQBEoZQAAAAAAAIpAKQMAAAAAAFAEShkAAAAAAIAiUMoAAAAAAAAUgVIGAAAAAACgCJQyAAAAAAAARaCUAQAAAAAAKAKlDAAAAAAAQBEoZQAAAAAAAIpAKQMAAAAAAFAEShkAAAAAAIAiKGvqAAAALFp5ZWU6vdvua2OfNlEaAAAAYEkoZQAAlmLt5lbmkL+91dQxAAAAgAZg+TIAAAAAAIAiUMoAAAAAAAAUgVIGAAAAAACgCJQyAAAAAAAARaCUAQAAAAAAKIKypg4AAMCifd6yPLfvvGqtsYGPfpAOcyqaKBEAAABQX0oZAIClWGVJSSo7zlhgDAAAAFj2+IkeAAAAAACgCJQyAAAAAAAARaCUAQAAAAAAKAKlDAAAAAAAQBEoZQAAAAAAAIpAKQMAAAAAAFAEShkAAAAAAIAiUMoAAAAAAAAUgVIGAAAAAACgCJQyAAAAAAAARaCUAQAAAAAAKAKlDAAAAAAAQBEoZQAAAAAAAIqgrKkDAACwaGVV89J6cruvjU1tojQAAADAklDKAAAsxTrMmZuj/vJWU8cAAAAAGoDlywAAAAAAAIpAKQMAAAAAAFAEShkAAAAAAIAiUMoAAAAAAAAUgVIGAAAAAACgCMqaOgAAAIv2ecsWuaff6rXGDnzq3XSYM7eJEgEAAAD1pZQBAFiKVZaUZla36QuMJUoZAAAAWNZYvgwAAAAAAKAIlDIAAAAAAABFoJQBAAAAAAAoAqUMAAAAAABAEShlAAAAAAAAikApAwAAAAAAUARKGQAAAAAAgCJQygAAAAAAABSBUgYAAAAAAKAIlDIAAAAAAABFoJQBAAAAAAAoAqUMAAAAAABAEShlAAAAAAAAiqCsqQMAALBoZVVVKftsha+NfdY0YQAAAIAlopQBAFiKdZhTkUF/nNDUMQAAAIAGYPkyAAAAAACAIlDKAAAAAAAAFIFSBgAAAAAAoAiUMgAAAAAAAEWglAEAAAAAACiCsqYOAADAok1vUZb7t16j1ti+z05Mu7mVTZQIAAAAqC+lDADAUqyirCxTV59ee+yFskQpAwAAAMscy5cBAAAAAAAUgVIGAAAAAACgCJQyAAAAAAAARaCUAQAAAAAAKAKlDAAAAAAAQBEoZQAAAAAAAIpAKQMAAAAAAFAEShkAAAAAAIAiUMoAAAAAAAAUgVIGAAAAAACgCJQyAAAAAAAARaCUAQAAAAAAKAKlDAAAAAAAQBGUNXUAAAAWraS6OoUZrb829nkTpQEAAACWhFIGAGAp1mn2nAx+YGJTxwAAAAAagOXLAAAAAAAAikApAwAAAAAAUARKGQAAAAAAgCJQygAAAAAAABSBUgYAAAAAAKAIypo6AAAAizajrCwPbbl6rbHvvvhuVqisbKJEAAAAQH0pZQAAlmKzW5Rl0rpf1B57tUwpAwAAAMsgy5cBAAAAAAAUgVIGAAAAAACgCJQyAAAAAAAARaCUAQAAAAAAKAKlDAAAAAAAQBEoZQAAAAAAAIpAKQMAAAAAAFAEShkAAAAAAIAiUMoAAAAAAAAUgVIGAAAAAACgCJQyAAAAAAAARaCUAQAAAAAAKAKlDAAAAAAAQBGUNXUAAAAWrVCdZG6LBccAAACAZY5SBgBgKdZ59uycMPqDpo4BAAAANADLlwEAAAAAABSBUgYAAAAAAKAIlDIAAAAAAABFoJQBAAAAAAAoAqUMAAAAAABAEZQ1dQAAABZtVllp/rJRj1pju7z2flpXzmuiRAAAAEB9KWUAAJZiM1u0yNubzKo99kYLpQwAAAAsgyxfBgAAAAAAUARKGQAAAAAAgCJQygAAAAAAABSBUgYAAAAAAKAIlDIAAAAAAABFoJQBAAAAAAAoAqUMAAAAAABAEShlAAAAAAAAikApAwAAAAAAUARKGQAAAAAAgCJQygAAAAAAABSBUgYAAAAAAKAIlDIAAAAAAABFoJQBAAAAAAAogrKmDgAAwKJ1mTU7J9w5u6ljAAAAAA3AlTIAAAAAAABFoJQBAAAAAAAoAqUMAAAAAABAEShlAAAAAAAAikApAwAAAAAAUARlTR0AAIBFm1NSkrHrrFJrbNu3PkzLqqomSgQAAADUl1IGAGAp9kXL8rzSp6LW2Kbvl6flrNlNlAgAAACoL8uXAQAAAAAAFIFSBgAAAAAAoAiUMgAAAAAAAEWglAEAAAAAACgCpQwAAAAAAEARKGUAAAAAAACKQCkDAAAAAABQBEoZAAAAAACAIlDKAAAAAAAAFIFSBgAAAAAAoAiUMgAAAAAAAEWglAEAAAAAACgCpQwAAAAAAEARKGUAAAAAAACKoKypAwAAsGidZs3OwPsXHAMAAACWPU1+pcyUKVMydOjQbLPNNtliiy1y1FFH5c0336zZPn78+AwcODCbb755+vfvn1GjRtU6vqqqKldccUX69euXzTbbLD/96U8zceLEWvt82xwAAEurkiRdZs2u9dHk38ABAAAA9dLkP9Mfe+yxee+993LDDTfkt7/9bVq1apVDDz00s2bNytSpU3PYYYdlzTXXzJgxY/Kzn/0sl19+ecaMGVNz/NVXX52777475513Xu65554UCoUceeSRqaioSJLFmgMAAAAAAKCxNenyZVOnTk2PHj1y7LHHZr311kuSHHfccfnv//7vvPHGGxk7dmzKy8szbNiwlJWVZZ111snEiRNzww03ZL/99ktFRUVuuummDB06NDvuuGOSZPjw4enXr18eeeSR7LXXXrn33nu/cQ4AAAAAAIBiaNIrZTp16pTLLrusppD55JNPMmrUqHTv3j3rrrtuxo0blz59+qSs7P91R9tss00mTJiQKVOm5PXXX8+MGTOyzTbb1Gxv3759Ntpoozz//PNJ8q1zAAAAAAAAFEOTXinzVWeddVbNVS3XXHNN2rRpk0mTJmX99devtV+3bt2SJB9++GEmTZqUJFl55ZUX2Oejjz5Kkm+do0uXLvXOXFbW5Ku/FVVpaUmt/wIUm/MPUCzONwvn+0Fgeec8COBcCEuqzqXMhx9+mBVXXDEtWrRYYNucOXPyf//3f9lyyy3rHOQnP/lJDjzwwNx1110ZNGhQ7rzzzsyePTvl5eW19mvZsmXNc82aNStJFrrP559/niTfOkd9lZQU0qnTCvU+flnWvn3rpo4AAMuNipKS/GPVrrXGen3wScqrqpoo0fLB9zvfzOcHWN45DwI4F0J91bmU2XnnnXPPPfekV69eC2z7xz/+kSOOOCKvvPJKnYOsu+66SZJf/vKXefnll3P77benVatWqaioqLXf/CKlTZs2adWqVZKkoqKi5s/z92nd+suTwrfNUV9VVdWZNm1mvY9fFpWWlqR9+9aZNm1W5s3ziyCg+Oafh2B5Mr1leZ7uV3tsrfvL02XW7KYJtJzw/c7C+X4QWN45DwI4F8KitG/ferGuIFusUuaiiy7KZ599liSprq7O1VdfnU6dOi2w3/jx49OuXbvFDjllypSMHTs2e+yxR0pLS5MkJSUlWWeddTJ58uR07949kydPrnXM/McrrbRSKisra8ZWX331Wvv07NkzSb51jiVRWbl8nnTmzatabl87ALB88P3ON/P5AZZ3zoMAzoVQX4tVyqyzzjq5+uqrkySFQiH//Oc/F1gSrLS0NO3atcvpp5++2E8+efLknHzyyenSpUu23XbbJMncuXPz2muvZcCAAenatWvuvvvuzJs3r6a0GTt2bNZaa6106dIl7dq1S9u2bfPss8/WlDLTpk3La6+9loEDByZJ+vTp841zAAAAAAAAFMNilTL7779/9t9//yTJgAEDcvXVV9dcibIkevbsmR122CHnnntuzjvvvLRv3z7XXnttpk2blkMPPTQtW7bMjTfemDPPPDNHHHFE/vGPf+SWW27Jueeem+TLe8kMHDgwl1xySTp37pxVV101F198cbp3755dd901SbLffvt94xwAAAAAAADFUOd7yjz22GMN9uSFQiEjRozIpZdemhNPPDHTp09P7969c8cdd2SVVVZJktx44405//zzs++++2bFFVfMqaeemn333bdmjsGDB6eysjK/+MUvMnv27PTp0yejRo2quZKnS5cu3zoHAAAAAABAY6tzKVNVVZXf/va3efzxxzNr1qxUVdVeN7BQKOSWW25Z7PnatWuXYcOGZdiwYQvd3qtXr9xzzz2LPL60tDRDhw7N0KFDF7nPt80BAAAAAADQ2OpcylxyySW56aab0qNHj3Tv3j2FQqHW9urq6gYLBwAAAAAA0FzUuZR54IEHcthhh+XnP/95Y+QBAAAAAABolkrqesCMGTPSv3//RogCAAAAAADQfNW5lNlqq63y4osvNkYWAAAAAACAZqvOy5cdccQRGTp0aCorK7PZZpuldevWC+zTp0+fBgkHAAAAAADQXNS5lDnssMOSJFdddVWSpFAo1Gyrrq5OoVDI+PHjGygeAAAAAABA81DnUubWW29tjBwAAAAAAADNWp1Lmb59+zZGDgAAAAAAgGatzqVMknz66acZNWpU/v73v+fjjz/OjTfemL/85S/p2bNndtlll4bOCAAAAAAAsMyrcynz3nvv5Uc/+lHmzJmTrbbaKq+//nrmzZuXCRMm5Oqrr87VV1+d/v37N0JUAIDlT4fZc7LnnysWGAMAAACWPXUuZS666KJ06dIlt912W9q0aZNNNtkkSXLppZdmzpw5ufbaa5UyAAANpKy6Out98llTxwAAAAAaQEldDxg7dmyOO+64tG/fPoVCoda2Aw88MG+88UaDhQMAAAAAAGgu6lzKJElpaelCxysqKhYoagAAAAAAAKhHKdO7d+9cf/31mTlzZs1YoVBIVVVV7rrrrmy55ZYNGhAAAAAAAKA5qPM9ZU4++eT86Ec/ym677Zatt946hUIho0aNyltvvZWJEyfmzjvvbIycAAAAAAAAy7Q6Xymz/vrrZ8yYMdl6663z7LPPprS0NH//+9+z+uqr5+67786GG27YGDkBAJZLlYVC3ujasdZHpeViAQAAYJlU5ytlkmTNNdfMpZde2tBZAAD4ms9btcwfdyuvNTbw/pbpMmt2EyUCAAAA6qtepUxFRUXefvvtTJ8+faHb+/Tps0ShAAAAAAAAmps6lzJjx47NySefnKlTp6a6urpmvFAopLq6OoVCIePHj2/QkAAAAAAAAMu6OpcyF1xwQTp16pRhw4alY8eOjRAJAAAAAACg+alzKfPuu+9m+PDhGTBgQGPkAQAAAAAAaJZK6nrABhtskKlTpzZGFgAAAAAAgGarzlfKnHHGGTnllFNSUlKSXr16pXXr1gvss8oqqzRIOAAAAAAAgOaizqVMklRUVOSMM85Y5Pbx48fXOxAAAAAAAEBzVOdSZtiwYSktLc1JJ52UFVdcsTEyAQAAAAAANDt1LmXefvvtXH755dlpp50aIw8AAAAAAECzVFLXA9ZYY43MmjWrMbIAAAAAAAA0W3UuZU444YQMHz48Tz/9dGbMmNEYmQAAAAAAAJqdOi9fdumll+aTTz7JEUccsdDthUIhr7322hIHAwAAAAAAaE7qXMrsueeeKRQKjZEFAAAAAACg2apzKfOzn/3sG7dPmjSp3mEAAAAAAACaqzrfU2bDDTfMP/7xj4VuGzduXPbYY48lDgUAwJfazanI9k+l1ke7ORVNHQsAAACoh8W6Uuamm27KzJkzkyTV1dUZPXp0nnzyyQX2e+mll1JeXt6wCQEAlmPlVVXp/d7kpo4BAAAANIDFKmUqKioycuTIJEmhUMjo0aMX2KekpCTt2rXLscce27AJAQAAAAAAmoHFKmWOOeaYHHPMMUmSnj175t57702vXr0aNRgAAAAAAEBzUud7yuy444754osvGiMLAAAAAABAs1XnUmbcuHEpLS1tjCwAAAAAAADNVp1Lme233z6jR4/OnDlzGiMPAABfUZVkSutWtT6qmjoUAAAAUC+LdU+Zr2rZsmUefvjhPPLII+nRo0e6dOlSa3uhUMgtt9zSYAEBAJZnU1u3yu37tq81NvD+pMus2U2UaPlQWlrnf7u0XJj/efH5qa2qqjpVVdVNHQMAAFgG1LmUmTRpUrbYYouax9XVtX/4+PpjAABYVrTo2DHVVVVp3751U0dZqvn81FY1b16mfjZLMQMAAHyrOpcyt912W2PkAACAJlfWdoUUSkry78tGZOZ77zd1HJYBbVbrkfWHnJiSkoJSBgAA+FZ1LmW+ycyZMzNu3Lh85zvfachpAQCgqGa+935mvD2hqWMAAADQzNS5lPnggw9y9tln5/nnn8/cuXMXus/48eOXOBgAAAAAAEBzUudS5sILL8xLL72UAw44IC+++GJat26dzTffPE8//XT+/e9/58orr2yMnAAAAAAAAMu0kroe8Pzzz+fEE0/ML37xi+y3334pLy/P0KFDM2bMmPTp0yePPvpoY+QEAAAAAABYptW5lJkxY0Y23HDDJMk666xTs1RZaWlpDjrooDzzzDMNmxAAAAAAAKAZqHMp061bt3z88cdJkjXWWCOff/55Jk+enCTp0KFDpkyZ0rAJAQAAAAAAmoE6lzI77rhjLr/88rz44otZeeWV071799x000354osvMmbMmKy00kqNkRMAAAAAAGCZVudSZvDgwWnfvn2uuOKKJMlJJ52UW2+9NX369MmDDz6Yww47rMFDAgAAAAAALOvK6npAp06dMnr06Joly/bZZ5+sssoqefnll9OrV6/07du3wUMCAAAAAAAs6+pcyszXrVu3TJgwIdOmTctKK62UI444oiFzAQAAAAAANCv1KmXuuOOOXHPNNZkyZUrN2CqrrJKTTz45e+65Z4OFAwAAAAAAaC7qXMrccccd+eUvf5mdd945u+22W7p06ZJPPvkk//u//5uTTz455eXl2WWXXRojKwAAAAAAwDKrzqXMLbfckh//+Mc5++yza41/73vfy9lnn52rrrpKKQMA0EDazqnIZs+XLzAGAAAALHvqXMr85z//yc4777zQbbvvvnseeOCBJQ4FAMCXWlZVpf8b7zd1DAAAAKABlNT1gE033TRPPfXUQre99NJL2WCDDZY4FAAAAAAAQHNT5ytljj322AwZMiRffPFF9tlnn3Tr1i2fffZZHnvssfzmN7/JGWeckeeff75m/z59+jRoYAAAAAAAgGVRnUuZww8/PEny29/+NmPGjKkZr66uTpKce+65NY8LhULGjx/fEDkBAAAAAACWaXUuZW699dbGyAEAAAAAANCs1bmU6du3b2PkAAAAAAAAaNbqXMokycsvv5znnnsuc+fOrVm2rLq6OjNnzswLL7yQe++9t0FDAgAsr6a0bpXb921fa2zg/dPSZdbsJkoEAAAA1FedS5k77rgj5513Xk0Z81UlJSXZYYcdGiQYAAAAAABAc1JS1wNuv/327LDDDnn22Wdz+OGH54ADDsjLL7+cyy+/PC1btsw+++zTGDkBAAAAAACWaXUuZd5///0MHDgwHTp0yKabbpoXXnghrVq1yu67756jjz46t956a2PkBAAAAAAAWKbVuZRp0aJFWrVqlSRZc801M3HixMydOzdJsuWWW+add95p0IAAAAAAAADNQZ1LmQ033DCPP/54kmSNNdZIVVVVXn755STJpEmTGjQcAAAAAABAc1FW1wMOO+ywHH/88fn8889z4YUXZuedd86pp56a3XffPQ8++GC22mqrxsgJAAAAAACwTKvzlTK77LJLrr322qy77rpJkv/5n//JWmutlbvvvjtrr712zj777AYPCQAAAAAAsKyr85UySdK/f//0798/SdKpU6fcdNNNDZkJAAAAAACg2anzlTIAAAAAAADUnVIGAAAAAACgCJQyAAAAAAAARaCUAQAAAAAAKII6lzLHHHNM/v73vzdGFgAAAAAAgGarzqXM888/n9LS0sbIAgAAAAAA0GyV1fWA7bffPqNHj87mm2+eli1bNkYmAAD+f23mzs3a/2z9tbEpTZQGAAAAWBJ1LmVatmyZhx9+OI888kh69OiRLl261NpeKBRyyy23NFhAAIDlWevKedn7HxObOgYAAADQAOpcykyaNClbbLFFzePq6upa27/+GAAAAAAAgHqUMrfddltj5AAAAAAAAGjW6lzKzPfWW2/lueeey/Tp09OpU6dstdVWWXvttRsyGwAAAAAAQLNR51Kmuro655xzTkaPHl1rqbJCoZB99903559/fgqFQoOGBAAAAAAAWNbVuZS58cYbM2bMmAwePDj77LNPVlxxxUyePDkPPPBArrnmmqy33no57LDDGiMrAAAAAADAMqvOpcxvf/vbHHHEETn22GNrxnr06JFBgwZl7ty5GT16tFIGAKCBfNqqVW7bu0utsYMfnJLOs2c3USIAAACgvkrqesBHH32UbbbZZqHbtt5667z//vtLHAoAgC9VF5K0mFvro9pKsQAAALBMqnMps+qqq+b1119f6LbXXnstnTt3XuJQAAAAAAAAzU2dS5nvfve7ufLKK/OHP/whVVVVSZKqqqo89NBDueqqq7Lnnns2eEgAAAAAAIBlXZ3vKXPkkUdm3LhxOfnkk/Pzn/88HTt2zGeffZZ58+alb9++OeGEExojJwAAAAAAwDKtzqVMeXl5br755jzxxBN5/vnn8/nnn6dDhw7p06dPdtxxx8bICAAAAAAAsMyrcykz34477qiEAQAAAAAAWEx1vqcMAAAAAAAAdaeUAQAAAAAAKAKlDAAAAAAAQBEoZQAAAAAAAIqgrL4HvvXWW3n66aczefLkHHzwwXnvvffSs2fPtG3btiHzAQAAAAAANAt1LmXmzZuXc845J2PGjEl1dXUKhUL22GOPXHXVVXnvvfdy++23p3v37o2RFQAAAAAAYJlV5+XLrrnmmjz44IM577zz8vTTT6e6ujpJ8vOf/zxVVVUZPnx4g4cEAAAAAABY1tW5lBkzZkwGDx6c/fbbLx07dqwZ79mzZwYPHpynn366IfMBAAAAAAA0C3VevuyTTz7JhhtuuNBtK620UqZNm7bEoQAA+FKruZXp/mbbr4192kRpAAAAgCVR51JmjTXWyBNPPJHttttugW3PPfdc1lhjjQYJBgBAskJlZQ587u2mjgEAAAA0gDqXMj/5yU9y9tlnZ+7cudlpp51SKBQyceLEPPvss7npppty2mmnNUZOAAAAAACAZVqdS5kf/OAH+fTTT3PttdfmrrvuSnV1dYYMGZIWLVrkiCOOyI9+9KPGyAkAAAAAALBMq3MpkyRHH310DjrooLz00kv57LPP0r59+2y22Wbp2LFjA8cDAAAAAABoHkrqe2Dbtm3Tr1+/7L333unUqVOee+65TJs2rSGzAQAAAAAANBt1LmU+/vjjHHLIIbnqqquSJLfeemsOPPDADB48OLvttlveeOONBg8JAAAAAACwrKtzKfPrX/86b7/9dnr16pWqqqpcf/312W677fK73/0u6667bi699NLGyAkAsFya2qplrvjvNWp9TG3VsqljAQAAAPVQ51Lmb3/7W37+85+nX79+efnll/PJJ5/kkEMOSc+ePXPEEUdk3LhxjZETAGC5VFUopHqFWbU+qgqFpo4FAAAA1EOdS5mZM2eme/fuSZInnngi5eXl2WabbZIk5eXlqa6ubtiEAAAAAAAAzUCdS5k111wz48aNS0VFRf73f/83ffv2TcuWXy6h8fvf/z5rrrlmQ2cEAAAAAABY5tW5lDn66KMzcuTIbLvttnnvvfdy2GGHJUl+8IMf5Pe//30OP/zwBg8JAAAAAACwrCur6wF77rlnVlpppbzwwgvp27dvNt988yRJ7969M3jw4PTr16+hMwIAAAAAACzz6lzKJMlWW22VrbbaqtbYz3/+8wYJBAAAAAAA0BzVuZQZOXLkt+5z/PHH1ysMAAAAAABAc9WgpUzbtm3TrVs3pQwAAAAAAMDX1LmUef311xcYmzlzZl544YUMGzYsZ511VoMEAwAAAAAAaE5KGmKSNm3apF+/fhk0aFB+/etfN8SUAAAAAAAAzUqDlDLzrbzyynnrrbcackoAAAAAAIBmoc7Lly1MdXV1Pvroo9xwww1ZddVVG2JKAAAAAACAZqXOpUzPnj1TKBQWuq26utryZQAAAAAAAAtR51Jm0KBBCy1l2rZtm/79+2fNNddsiFwAAAAAAADNSp1LmZ/97GeNkQMAgIUor6xMp3fbfW3s0yZKAwAAACyJet1TpqKiIvfdd1+effbZTJs2LZ06dUrv3r2z7777pmXLlg2dEQBgudVubmUO+dtbTR0DAAAAaAB1LmWmTZuWQw45JK+//npWWWWVrLjiipkwYUIeeuih3HHHHbnzzjvTrl27b58IAAAAAABgOVJS1wMuvfTSTJo0Kbfffnsee+yx3HPPPXnsscdy++23Z8qUKbn88ssbIycAAAAAAMAyrc6lzKOPPpoTTzwxvXv3rjXeu3fvDB48OH/+858bLBwAAAAAAEBzUedSZsaMGVlttdUWum211VbLZ599tqSZAAAAAAAAmp06lzJrr712Hn/88YVue/TRR7PGGmsscSgAAAAAAIDmpqyuBxx++OEZMmRIKioqsvfee6dr16755JNP8uCDD2b06NEZNmxYI8QEAFg+fd6yPLfvvGqtsYGPfpAOcyqaKBEAAABQX3UuZfbcc8+88847ufbaazN69OgkSXV1dcrLyzNo0KAceOCBDR4SAGB5VVlSksqOMxYYAwAAAJY9dS5lkuS4447LwIED89JLL2XatGnp0KFDNttss3To0KGh8wEAAAAAADQL9SplkqR9+/bZcccdGzILAAAAAABAs1XnUubTTz/Nueeem2eeeSbTp09PdXV1re2FQiGvvfZagwUEAAAAAABoDupcypx77rl57LHH8l//9V9ZbbXVUmJNcwAAAAAAgG9V51Lmqaeeys9//vMMHDiwMfIAAAAAAAA0S3W+zKVFixZZd911GyMLAAAAAABAs1XnUmbXXXfN7373u0aIAgAAAAAA0Hwt1vJlI0eOrPlzu3btcuutt+add97JVlttldatW9fat1AoZNCgQQ2bEgAAAAAAYBlX51Jmvpdffjkvv/zyAuNKGQAAAAAAgAUtVinz+uuvN3YOAAAAAACAZq3O95QBAAAAAACg7pQyAAAAAAAARaCUAQAAAAAAKILFuqcMAABNo6xqXlpPbve1salNlAYAAABYEotVypxzzjk5/PDDs/rqq+fDDz/MiiuumBYtWjR2NgCA5V6HOXNz1F/eauoYAAAAQANYrOXL7r///kyePDlJsvPOO2f8+PGNGgoAAAAAAKC5WawrZbp27ZpLLrkkO+ywQ6qrqzN69Og8+eSTC923UChk0KBBDRoSAAAAAABgWbdYpcwpp5yS//mf/8nLL7+cQqGQ0aNHL3JfpQwAAAAAAMCCFquU2XPPPbPnnnsmSXr27Jl77703vXr1atRgAAAAAAAAzcli3VPmq2699dass846jZEFAAAAAACg2VqsK2W+qm/fvpkwYUKuvPLKPPvss5k2bVo6deqU3r17Z9CgQQobAIAG9HnLFrmn3+q1xg586t10mDO3iRIBAAAA9VXnUubNN9/MD3/4w5SVlWWnnXZK165d8/HHH+fxxx/PX//614wePVoxAwDQQCpLSjOr2/QFxhKlDAAAACxr6lzKXHLJJenRo0duu+22tGvXrmZ8+vTp+clPfpLhw4dn5MiRDRoSAAAAAABgWVfne8o8//zzOeaYY2oVMknSrl27HHXUUXn++ecbLBwAAAAAAEBzUedSpqysLOXl5QvdVl5enoqKiiUOBQAAAAAA0NzUuZTZdNNNc8cdd6S6urrWeHV1dW6//fZssskmDRYOAAAAAACguajzPWVOOOGE/OhHP8p3v/vd7LHHHllxxRXz8ccf5+GHH87EiRNz8803N0ZOAAAAAACAZVq9rpS58cYb06ZNm1x11VU555xzctVVV6VNmza54YYb0qdPnzrN99lnn+Xss8/Od77znWy55Zb50Y9+lHHjxtVsHz9+fAYOHJjNN988/fv3z6hRo2odX1VVlSuuuCL9+vXLZpttlp/+9KeZOHFirX2+bQ4AAAAAAIDGVucrZZJkm222yejRozNr1qxMmzYt7du3T+vWresVYMiQIZkyZUouu+yydO7cOXfeeWcOP/zw3HfffencuXMOO+yw7LLLLjn33HPz8ssv59xzz03Hjh2z3377JUmuvvrq3H333bnwwguz0kor5eKLL86RRx6Zhx56KOXl5Zk6deq3zgEAAAAAANDY6lXKzNe6det6lzFJMnHixDz99NO56667suWWWyZJzjzzzDz55JN56KGH0qpVq5SXl2fYsGEpKyvLOuusk4kTJ+aGG27Ifvvtl4qKitx0000ZOnRodtxxxyTJ8OHD069fvzzyyCPZa6+9cu+9937jHAAAAAAAAMVQ5+XLGlKnTp1y/fXXZ5NNNqkZKxQKqa6uzueff55x48alT58+KSv7f93RNttskwkTJmTKlCl5/fXXM2PGjGyzzTY129u3b5+NNtoozz//fJJ86xwAAAAAAADFsERXyiyp9u3b11zhMt/DDz+cd999NzvssEOGDx+e9ddfv9b2bt26JUk+/PDDTJo0KUmy8sorL7DPRx99lCSZNGnSN87RpUuXeucvK2vSTqvoSktLav0XoNicfwBYWvl/FCwf/FwM4FwIS6pJS5mve+GFF3LGGWdk5513zoABA3LhhRemvLy81j4tW7ZMksyZMyezZs1KkoXu8/nnnydJZs+e/Y1z1FdJSSGdOq1Q7+OXZe3b13/JOgAAaI58jwzLF3/nAZwLob4apJSprKzMF198kY4dO9Z7jr/85S855ZRTstlmm+Wyyy5LkrRq1SoVFRW19ptfpLRp0yatWrVKklRUVNT8ef4+8+91821z1FdVVXWmTZtZ7+OXRaWlJWnfvnWmTZuVefOqmjoOsByafx4CgKWN75Fh+eDnYgDnQliU9u1bL9YVZHUuZSorK3Pttddm9dVXzz777JOxY8fmhBNOyPTp09O3b99cccUV6dChQ53mvP3223P++edn1113zSWXXFJzZUv37t0zefLkWvvOf7zSSiulsrKyZmz11VevtU/Pnj0Xa44lUVm5fJ505s2rWm5fOwAALIzvkWH54u88gHMh1FedF/678sorc80112T69OlJkgsuuCCdOnXK6aefnnfffTeXXnppnea7884788tf/jIHHXRQRowYUWupsT59+uSFF17IvHnzasbGjh2btdZaK126dEnPnj3Ttm3bPPvsszXbp02bltdeey29e/derDkAAJZmZVVVKftshdofVX7wAQAAgGVRnUuZhx56KEOGDMlBBx2Ut99+O2+88UaOPfbYHHLIITnppJPy2GOPLfZcEyZMyAUXXJBdd901Rx99dKZMmZKPP/44H3/8caZPn5799tsvX3zxRc4888y8+eabue+++3LLLbfk6KOPTvLlvWQGDhyYSy65JI8++mhef/31nHTSSenevXt23XXXJPnWOQAAlmYd5lRk0B8n1ProMKfi2w8EAAAAljp1Xr5s8uTJ2WyzzZIkTz75ZEpKSvKd73wnyZdLhc2/gmZx/OlPf8rcuXPzyCOP5JFHHqm1bd99982vfvWr3HjjjTn//POz7777ZsUVV8ypp56afffdt2a/wYMHp7KyMr/4xS8ye/bs9OnTJ6NGjaq54qZLly7fOgcAAAAAAEBjq3Mp061bt7z//vvp3bt3HnnkkWy44Ybp3LlzkuSll15K9+7dF3uuY445Jsccc8w37tOrV6/cc889i9xeWlqaoUOHZujQofWeAwAAAAAAoLHVuZTZZ599cuGFF+bBBx/MCy+8kLPPPjtJcv755+euu+761pIF4KtKSgopKSk0dQyWEaWldV51EwAAAACWGnUuZQYPHpxWrVrl+eefz8knn5wf//jHSZJXX301P/3pT3Pcccc1eEigeSopKaRTx9YpKS1t6igAAAAAAI2uzqXMddddl5133jlHH310rfG77767wUIBy4eSkkJKSkvz78tGZOZ77zd1HJYBnbbaImsMPKipYwAAAABAvdS5lLnxxhuz0UYbZb311muMPMByaOZ772fG2xOaOgbLgNY9Vm3qCFB001uU5f6t16g1tu+zE9NubmUTJQIAAADqq86L86+55pr597//3RhZAAD4moqyskxdfXqtj4qyOv+7GgAAAGApUOef6Pv3758RI0bkr3/9a9Zbb7106dKl1vZCoZBBgwY1WEAAAAAAAIDmoM6lzMiRI5Mk48aNy7hx4xbYrpQBAAAAAABYUJ1Lmddff70xcgAAAAAAADRrdb6nzFdNnz49b731VioqKjJv3ryGygQAAAAAANDs1KuUefbZZ/ODH/wgffv2zd5775033ngjJ598cn71q181dD4AAAAAAIBmoc6lzNixY3P44YenVatWOeWUU1JdXZ0k2WijjXLrrbfm5ptvbvCQAAAAAAAAy7o6lzIjRozIzjvvnNtuuy0/+clPakqZo446KkcccURGjx7d4CEBAAAAAACWdXUuZcaPH5/99tsvSVIoFGpt23777fPBBx80TDIAAAAAAIBmpM6lTLt27fLxxx8vdNtHH32Udu3aLXEoAAAAAACA5qbOpczOO++c4cOH59VXX60ZKxQKmTRpUq699tr079+/IfMBAAAAAAA0C2V1PeDkk0/OK6+8kgMOOCBdu3ZNkgwZMiSTJk3KyiuvnCFDhjR4SAAAAAAAgGVdnUuZDh06ZPTo0fnd736XZ555Jp999lnatWuXgw8+ON///vfTunXrxsgJAAAAAACwTKtzKZMk5eXlOeCAA3LAAQc0dB4AAAAAAIBmqV6lzFtvvZVrrrkmY8eOzeeff54uXbpkm222ybHHHps111yzgSMCACy/SqqrU5jR+mtjnzdRGgAAAGBJ1LmUGTt2bI488sh06tQp/fv3T5cuXfLxxx/niSeeyF/+8pfccccd6dmzZ2NkBQBY7nSaPSeDH5jY1DEAAACABlDnUmb48OHp06dPrrvuupSXl9eMz5gxI0cccUQuuOCC3HrrrQ0aEgAAAAAAYFlXUtcDXn/99Rx66KG1CpkkWWGFFXLUUUfllVdeabBwAAAAAAAAzUWdS5mVV145H3744UK3zZgxI127dl3iUAAAAAAAAM1NnUuZoUOHZsSIEXn44Yczb968mvFnn302l112WU455ZQGDQgAAAAAANAcLNY9ZXr27JlCoVDzuLq6OkOGDElpaWk6duyY6dOnp6KiIqWlpTn//POzxx57NFpgAAAAAACAZdFilTKDBg2qVcoAAFAcM8rK8tCWq9ca++6L72aFysomSgQAAADU12KVMj/72c8aOwcAAAsxu0VZJq37Re2xV8uUMgAAALAMWqxS5usqKiry9ttvZ/r06Qvd3qdPnyUKBQAAAAAA0NzUuZQZO3ZsTj755EydOjXJl/eXSZJCoZDq6uoUCoWMHz++YVMCAAAAAAAs4+pcylxwwQXp1KlThg0blo4dOzZCJAAAAAAAgOanzqXMu+++m+HDh2fAgAGNkQcAAAAAAKBZKqnrARtssEHN0mUAAAAAAAAsnjpfKXPGGWfklFNOSUlJSXr16pXWrVsvsM8qq6zSIOEAAAAAAACaizqXMklSUVGRM844Y5Hbx48fX+9AAAAAAAAAzVGdS5lhw4altLQ0J510UlZcccXGyAQAAAAAANDs1LmUefvtt3P55Zdnp512aow8AAAAAAAAzVJJXQ9YY401MmvWrMbIAgAAAAAA0GzVuZQ54YQTMnz48Dz99NOZMWNGY2QCAAAAAABoduq8fNmll16aTz75JEccccRCtxcKhbz22mtLHAwAAAAAAKA5qXMps9deezVGDgAAAAAAgGatzqXM8ccf3xg5AABYiEJ1krktFhwDAAAAljl1LmU+/PDDb91nlVVWqVcYAABq6zx7dk4Y/UFTxwAAAAAaQJ1LmQEDBqRQKHzjPuPHj693IAAAAAAAgOaozqXMBRdcsEApM3PmzLzwwgt55plncsEFFzRYOAAAAAAAgOaizqXM97///YWOH3TQQbnooovy4IMPpn///kuaCwAAAAAAoFkpacjJ+vfvn7/+9a8NOSUAAAAAAECz0KClzMsvv5yysjpffAMAAAAAANDs1blBOf300xcYq6qqykcffZRx48Zl//33b5BgAAAks8pK85eNetQa2+W199O6cl4TJQIAAADqq86lzLPPPrvAWKFQSNu2bXPkkUfmmGOOaZBgAAAkM1u0yNubzKo99kYLpQwAAAAsg+pcyjz22GONkQMAAAAAAKBZa9B7ygAAAAAAALBwi3WlzMLuI7MohUIhF1xwQb0DAQAAAAAANEeLVcos7D4yXzd16tTMmjVLKQMAAAAAALAQi1XKfNN9ZObOnZtrrrkm119/fbp27Zphw4Y1VDYAAAAAAIBmY7FKmUUZP358TjvttPz73//OXnvtlbPOOisdOnRoqGwAAAAAAADNRr1KmcrKylx11VW54YYb0rFjx4wcOTI777xzQ2cDAAAAAABoNupcyrz22ms5/fTT869//Sv77LNPfvGLX6R9+/aNkQ0AAAAAAKDZWOxSprKyMiNHjsyNN96Yzp0755prrslOO+3UmNkAAAAAAACajcUqZf7v//4vp512Wt58881873vfy5lnnpm2bds2djYAAAAAAIBmY7FKmQMOOCBVVVVp165dPvjggxx33HGL3LdQKOSWW25psIAAAAAAAADNwWKVMltuuWXNn6urq79x32/bDgAAAAAAsDxarFLmtttua+wcAAAAAAAAzVpJUwcAAAAAAABYHizWlTIAADSNLrNm54Q7Zzd1DAAAAKABuFIGAAAAAACgCJQyAAAAAAAARaCUAQAAAAAAKAKlDAAAAAAAQBEoZQAAAAAAAIqgrKkDAACwaHNKSjJ2nVVqjW371odpWVXVRIkAAACA+lLKAAAsxb5oWZ5X+lTUGtv0/fK0nDW7iRIBAAAA9WX5MgAAAAAAgCJQygAAAAAAABSBUgYAAAAAAKAIlDIAAAAAAABFoJQBAAAAAAAoAqUMAAAAAABAEShlAAAAAAAAikApAwAAAAAAUARKGQAAAAAAgCJQygAAAAAAABSBUgYAAAAAAKAIlDIAAAAAAABFoJQBAAAAAAAogrKmDgAAALCsKy31791YfFVV1amqqm7qGAAANAGlDADAUqzTrNkZeP+CY8DSoUXHjqmuqkr79q2bOgrLkKp58zL1s1mKGQCA5ZBSBgBgKVaSpIsSBpZaZW1XSKGkJP++bERmvvd+U8dhGdBmtR5Zf8iJKSkpKGUAAJZDShkAAIAlNPO99zPj7QlNHQMAAFjKWfgYAAAAAACgCJQyAAAAAAAARaCUAQAAAAAAKAL3lAEAWIpVlJTkH6t2rTXW64NPUl5V1USJAAAAgPpSygAALMWmtyzP0/1qj611f3m6zJrdNIEAAACAerN8GQAAAAAAQBEoZQAAAAAAAIpAKQMAAAAAAFAEShkAAAAAAIAiUMoAAAAAAAAUgVIGAAAAAACgCJQyAAAAAAAARaCUAQAAAAAAKAKlDAAAAAAAQBEoZQAAAAAAAIpAKQMAAAAAAFAEShkAAAAAAIAiUMoAAAAAAAAUgVIGAAAAAACgCMqaOgAAAIvWYfac7PnnigXGAAAAgGWPUgYAYClWVl2d9T75rKljAAAAAA3A8mUAAAAAAABFoJQBAAAAAAAoAqUMAAAAAABAEShlAAAAAAAAiqCsqQMAALBolYVCJnTpUGtsrSmfp6y6uokSAQAAAPWllAEAWIp93qpl/rhbea2xgfe3TJdZs5soEQAAAFBfli8DAAAAAAAoAqUMAAAAAABAEShlAAAAAAAAikApAwAAAAAAUARKGQAAAAAAgCJQygAAAAAAABSBUgYAAAAAAKAIlDIAAAAAAABFoJQBAAAAAAAoAqUMAAAAAABAEShlAAAAAAAAikApAwAAAAAAUARKGQAAAAAAgCJQygAAAAAAABRBWVMHAABg0drNqcj2Ty04BgAAACx7lDIAAEux8qqq9H5vclPHAAAAABqA5csAAAAAAACKQCkDAAAAAABQBEoZAAAAAACAIlDKAAAAAAAAFEFZUwcAAGDRqpJMbd2q1linWbP9yxoAAABYBillAACWYlNbt8rt+7avNTbw/qTLrNlNlAgAgP+vvXuPsao++wX+7D3DwHAZQSpCpKi1QUAQ8HU4mBahWNvGS1NqjKmFE8VQGw20Gi+pGi/RprZSQAx4K9r2Ndbp2+GlarSnam3Sk1CLeDtHpKIiioqTog4KzAwze50/GuZkC8hw8bdm2J9PMoF51to/nj2z8rD3fGetBQD7yy9ZAgAAAAAAJCCUAQAAAAAASEAoAwAAAAAAkIBQBgAAAAAAIAGhDAAAAAAAQAJCGQAAAAAAgASEMgAAAAAAAAkIZQAAAAAAABIQygAAAAAAACQglAEAAAAAAEhAKAMAAAAAAJCAUAYAAAAAACABoQwAAAAAAEACQhkAAAAAAIAEqvNuAACAPevf2hbjV9XsUgMAAAB6HqEMAEA31rtUimnrNubdBgAAAHAQuHwZAAAAAABAAkIZAAAAAACABIQyAAAAAAAACXSrUGbp0qUxa9asstorr7wSM2fOjAkTJsS0adNi2bJlZdtLpVIsXrw4pkyZEuPHj4/Zs2fHhg0b9mkNAAAAAACAz1u3CWV+/etfx+LFi8tqH374YVx44YVxzDHHRGNjY8ydOzduv/32aGxs7Nxn6dKl8dBDD8Utt9wSDQ0NUSgUYs6cOdHW1tblNQAAAAAAAD5v1Xk38P7778e1114bq1evjmOPPbZs2+9///uoqamJG2+8Maqrq+O4446LDRs2xL333hvnnHNOtLW1xX333RdXXnllTJ06NSIiFi5cGFOmTIknnngizjzzzL2uAQDQnW2u7RMPzKgrq8387y0xeHtLTh0BAAAA+yv3M2VefvnlOOyww+Lhhx+O8ePHl2179tlno76+Pqqr/392NHny5Fi/fn1s3rw51q5dG1u3bo3Jkyd3bq+rq4sxY8bEqlWrurQGAAAAAABACrmfKTN9+vSYPn36brdt2rQpRo4cWVYbMmRIRES8++67sWnTpoiIGDZs2C77vPfee11aY/Dgwfvde3V17plWUlVVxbI/4UA5lgAAqFReC/dM3hcDmIVwoHIPZT5LS0tL1NTUlNV69+4dERGtra2xffv2iIjd7tPc3NylNfZXsViIQYP67ffje7K6utq8WwAAAOjRvK/q2Xz/AMxC2F/dOpTp06dPtLW1ldV2Bil9+/aNPn36REREW1tb59937lNbW9ulNfZXqZTFli3b9vvxPVFVVTHq6mpjy5bt0dFRyrsdDgE7jykAAKg03lf1TN4XA5iFsCd1dbVdOoOsW4cyQ4cOjaamprLazs+PPPLIaG9v76yNGDGibJ9Ro0Z1aY0D0d5emUOno6NUsc8dAADgYPC+qmfz/QMwC2F/desL/9XX18fq1aujo6Ojs7Zy5co49thjY/DgwTFq1Kjo379/PPPMM53bt2zZEmvWrImTTz65S2sAAAAAAACk0K1DmXPOOSc++eSTuPbaa+O1116L5cuXx29+85u4+OKLI+Lf95KZOXNmzJ8/P5566qlYu3ZtXHbZZTF06NA4/fTTu7QGAAAAAABACt368mWDBw+OX/3qV/HTn/40ZsyYEUcccURcddVVMWPGjM595s2bF+3t7XHddddFS0tL1NfXx7Jly6KmpqbLawAAAAAAAHzeulUoc+utt+5SO/HEE6OhoWGPj6mqqoorr7wyrrzyyj3us7c1AAAAAAAAPm/d+vJlAAAAAAAAhwqhDAAAAAAAQAJCGQAAAAAAgASEMgAAAAAAAAkIZQAAAAAAABKozrsBAAD2rO+OHfGl/1v7qdrmnLoBAAAADoRQBgCgG6tt74izX9qQdxsAAADAQeDyZQAAAAAAAAkIZQAAAAAAABIQygAAAAAAACQglAEAAAAAAEhAKAMAAAAAAJBAdd4NAACwZx/06RP/efbgstqsRzbH4S0tOXUEAAAA7C+hDABAN5YVIqLXjl1rAAAAQI/j8mUAAAAAAAAJCGUAAAAAAAASEMoAAAAAAAAkIJQBAAAAAABIQCgDAAAAAACQgFAGAAAAAAAgAaEMAAAAAABAAkIZAAAAAACABIQyAAAAAAAACQhlAAAAAAAAEhDKAAAAAAAAJCCUAQAAAAAASEAoAwAAAAAAkEB13g0AALBnfXa0x9DX+n+q9kFO3QAAAAAHQigDANCN9Wtvj/P+8UbebQAAAAAHgcuXAQAAAAAAJCCUAQAAAAAASEAoAwAAAAAAkIBQBgAAAAAAIIHqvBsAAACASlNV5Xcke6Kd37fU379SKYtSKUv6bwIAnw+hDABAN/Zhn97xn98cWlab9b82xaCW1pw6AuBA9Bo4MLJSKerqavNuhQOQ+vtX6uiIDz/aLpgBgEOAUAYAoBsrFQqR9du+Sw2Anqm6f78oFIvx6oJFse3tjXm3Qw/Q94vDY+TlP45isSCUAYBDgFAGAAAAEtv29sbY+sb6vNsAACAxF7EFAAAAAABIQCgDAAAAAACQgFAGAAAAAAAgAaEMAAAAAABAAkIZAAAAAACABIQyAAAAAAAACQhlAAAAAAAAEhDKAAAAAAAAJCCUAQAAAAAASEAoAwAAAAAAkIBQBgAAAAAAIAGhDAAAAAAAQALVeTcAAMCe1bS3x6C3Bnyq9kFO3QAAAAAHQigDANCNDdjRHv/zf7+edxsAAADAQeDyZQAAAAAAAAkIZQAAAAAAABIQygAAAAAAACQglAEAAAAAAEhAKAMAAAAAAJBAdd4NAACwZ829a+KB044qq8186p04rLUtp44AAACA/SWUAQDoxtqLxWgfuHWXGgAAANDzeEcPAAAAAACQgFAGAAAAAAAgAaEMAAAAAABAAkIZAAAAAACABIQyAAAAAAAACQhlAAAAAAAAEhDKAAAAAAAAJCCUAQAAAAAASEAoAwAAAAAAkIBQBgAAAAAAIAGhDAAAAAAAQAJCGQAAAAAAgASEMgAAAAAAAAlU590AAAB7Vl3qiNqmAZ+qfZhTNwAAAMCBEMoAAHRjh7XuiB88+XrebQAAAAAHgcuXAQAAAAAAJCCUAQAAAAAASEAoAwAAAAAAkIB7ygAAAAB0c1VVfq+WriuVsiiVsrzbAGA3hDIAAAAA3VSvgQMjK5Wirq4271boQUodHfHhR9sFMwDdkFAGAKAba+7dKxqmjCirnfe3t+Kw1h05dQQApFTdv18UisV4dcGi2Pb2xrzboQfo+8XhMfLyH0exWBDKAHRDQhkAgG6svVgV24d8vEstQigDAJVk29sbY+sb6/NuAwA4QC5ICgAAAAAAkIBQBgAAAAAAIAGhDAAAAAAAQAJCGQAAAAAAgASEMgAAAAAAAAkIZQAAAAAAABIQygAAAAAAACQglAEAAAAAAEhAKAMAAAAAAJCAUAYAAAAAACABoQwAAAAAAEACQhkAAAAAAIAEhDIAAAAAAAAJVOfdAAAAe1ZdKkX1R/0+Vfson2YAAACAAyKUAQDoxg5rbYtLH1ufdxsAAADAQeDyZQAAAAAAAAkIZQAAAAAAABIQygAAAAAAACQglAEAAAAAAEhAKAMAAAAAAJBAdd4NAACwZx/3qo7//h9Hl9VmPLMhBuxoz6kjAAAAYH8JZQAAurG26ur4cMTH5bXV1RFCGQAAAOhxXL4MAAAAAAAgAaEMAAAAAABAAkIZAAAAAACABIQyAAAAAAAACQhlAAAAAAAAEhDKAAAAAAAAJCCUAQAAAAAASEAoAwAAAAAAkIBQBgAAAAAAIAGhDAAAAAAAQAJCGQAAAAAAgASEMgAAAAAAAAkIZQAAAAAAABKozrsBAAD2rJhlUdha+6lac07dAAAAAAdCKAMA0I0NammNeX/ckHcbAAAAwEHg8mUAAAAAAAAJOFMGAAAAAKBCFYuFKBYLXd6/qqpY9ieVp1TKolTK8m6jxxLKAAAAAABUoGKxEIMG1kaxqmqfH1tXV7v3nTgklTo64sOPtgtm9pNQBgAAAACgAhWLhShWVcWrCxbFtrc35t0OPUDfLw6PkZf/OIrFglBmPwllAAAAAAAq2La3N8bWN9bn3QZUBKEMAEA3trW6Oh49aURZ7azn3op+7e05dQQAAADsL6EMAEA31tKrOjZ9+ZPy2v+pFsoAAPCZ3ISdrnCcQHpCGQAAAAA4RPQaODCyUslN2AG6KaEMAAAAABwiqvv3i0Kx6MbtdMmg/5gYR8/8ft5tQEURygAAAADAIcaN2+mK2uFH5d0CVBwXDQQAAAAAAEhAKAMAAAAAAJCAUAYAAAAAACABoQwAAAAAAEAC1Xk3wKGlWCxEsVjIuw16iKoquTAAAAAAUDmEMhw0xWIhBg2sjWJVVd6tAAAAAABAtyOU4aApFgtRrKqKVxcsim1vb8y7HXqAQf8xMY6e+f282wAAAAAASEIow0G37e2NsfWN9Xm3QQ9QO/yovFsAAAAAAEjGDR0AAAAAAAASEMoAAAAAAAAk4PJlAADdWCGLiB29dq0BAAAAPY5QBgCgGzu8pSV+9F/v5N0GAAAAcBC4fBkAAAAAAEACQhkAAAAAAIAEhDIAAAAAAAAJCGUAAAAAAAASEMoAAAAAAAAkUJ13AwAA7Nn26qp4cszwstrX12yM2vaOnDoCAAAA9pdQBgCgG9vWq1e8MXZ7eW1dL6EMAAAA9EAuXwYAAAAAAJCAUAYAAAAAACABoQwAAAAAAEACQhkAAAAAAIAEhDIAAAAAAAAJCGUAAAAAAAASEMoAAAAAAAAkIJQBAAAAAABIQCgDAAAAAACQQMWEMqVSKRYvXhxTpkyJ8ePHx+zZs2PDhg15twUAAAAAAFSIigllli5dGg899FDccsst0dDQEIVCIebMmRNtbW15twYAAAAAAFSAighl2tra4r777ou5c+fG1KlTY9SoUbFw4cJ4//3344knnsi7PQAAAAAAoAJURCizdu3a2Lp1a0yePLmzVldXF2PGjIlVq1bl2BkAAAAAAFApClmWZXk38Xn785//HHPnzo0XX3wx+vTp01n/0Y9+FC0tLXH33Xfv85pZlkWpdMh/6coUChHFYjFKpVLs7qjZub3to+bIOtrTN0iPU6ypiV4DBjhm6DLHDPvqUDhmOiLi497l//EOaC1EVT7tHJAsCrE9epfVaqM1CtF9XlMdCscMaTlm2FeOGfaVY4Z95ZhhXzhe2FeFquqoGXjYHn9GXMmKxUIUCoW97ledoJfcbd++PSIiampqyuq9e/eO5ubm/VqzUChEVdXev8CHomLxs0+wqhl4WKJOOFQ4ZthXjhn2VU8/Zvp+utA/jy4Ojj67VPrl0MXe9fRjhvQcM+wrxwz7yjHDvnLMsC8cL+yrvf2MmD2riK/czrNj2trayuqtra1RW1ubR0sAAAAAAECFqYhQZtiwYRER0dTUVFZvamqKoUOH5tESAAAAAABQYSoilBk1alT0798/nnnmmc7ali1bYs2aNXHyySfn2BkAAAAAAFApKuKeMjU1NTFz5syYP39+HH744XHUUUfFbbfdFkOHDo3TTz897/YAAAAAAIAKUBGhTETEvHnzor29Pa677rpoaWmJ+vr6WLZsWdTU1OTdGgAAAAAAUAEKWZZleTcBAAAAAABwqKuIe8oAAAAAAADkTSgDAAAAAACQgFAGAAAAAAAgAaEMAAAAAABAAkIZAAAAAACABIQyAAAAAAAACQhlAAAAAAAAEhDK0CWlUikWL14cU6ZMifHjx8fs2bNjw4YNebcFsIuPPvoorr/++jj11FPjpJNOiu9973vx7LPPdm5/5ZVXYubMmTFhwoSYNm1aLFu2rOzxXZl3KdYAOBjWr18fEydOjOXLl3fWzEGgUqxYsSLOOOOMGDduXJx55pnx+OOPd24zC4FD3Y4dO2LhwoUxbdq0mDhxYpx//vnx3HPPdW43ByE/Qhm6ZOnSpfHQQw/FLbfcEg0NDVEoFGLOnDnR1taWd2sAZS6//PJ48cUXY8GCBfGHP/whTjjhhLjooovi9ddfjw8//DAuvPDCOOaYY6KxsTHmzp0bt99+ezQ2NnY+fm/zLtUaAAdqx44dccUVV8S2bds6a+YgUCn++Mc/xjXXXBPnnXdePProo3HGGWfE5ZdfHs8//7xZCFSEO++8MxobG+OWW26JFStWxJe+9KWYM2dOvP/+++Yg5C2DvWhtbc0mTpyYPfjgg5215ubm7MQTT8weffTRHDsDKPfmm29mI0eOzFavXt1ZK5VK2emnn54tWrQou+uuu7IpU6ZkO3bs6Nz+y1/+MvvmN7+ZZVnX5l2KNQAOhl/+8pfZrFmzspEjR2aNjY1ZlqWZYeYgkLdSqZR97Wtfy2699day+uzZs7O77rrLLAQqwre//e3sZz/7WefnH3/8cTZy5MjsT3/6kzkIOXOmDHu1du3a2Lp1a0yePLmzVldXF2PGjIlVq1bl2BlAuUGDBsU999wTY8eO7awVCoXIsiyam5vj2Wefjfr6+qiuru7cPnny5Fi/fn1s3ry5S/MuxRoAB2rVqlXR0NAQP//5z8vq5iBQCd54441455134uyzzy6rL1u2LC6++GKzEKgIAwcOjKeffjo2btwYHR0d0dDQEDU1NTF69GhzEHImlGGvNm3aFBERw4YNK6sPGTIk3nvvvTxaAtiturq6mDp1atTU1HTWHn/88Xjrrbfiq1/9amzatCmGDh1a9pghQ4ZERMS7777bpXmXYg2AA7Fly5a46qqr4rrrrttlFpmDQCV48803IyJi27ZtcdFFF8Upp5wS5557bvzlL3+JCLMQqAzXXnttVFdXx2mnnRbjxo2LhQsXxqJFi2LEiBHmIORMKMNebd++PSKi7IecERG9e/eO1tbWPFoC6JLVq1fHNddcE6eddlpMnz49WlpadjvLIiJaW1u7NO9SrAFwIG688caYMGHCLr8hHpFmhpmDQN4++eSTiIi4+uqr46yzzor77rsvvvKVr8Qll1wSK1euNAuBivD6669HXV1dLFmyJBoaGuK73/1uXH311bF27VpzEHJWvfddqHR9+vSJiIi2trbOv0f8ezjW1tbm1RbAZ3ryySfjiiuuiPHjx8eCBQsi4t/zbOcNBXfa+UKvb9++XZp3KdYA2F8rVqyIZ599Nh555JHdbjcHgUrQq1eviIi46KKLYsaMGRERMXr06FizZk3cf//9ZiFwyHvnnXfiyiuvjF//+tdx8sknR0TEuHHj4rXXXos77rjDHIScOVOGvdp5mmFTU1NZvampaZdTDAG6gwceeCDmzp0bp556atx7772dLwCHDh2621kWEXHkkUd2ad6lWANgfzU2NsbmzZtj2rRpMXHixJg4cWJERNxwww1x5plnmoNARdg5a0aOHFlW//KXvxwbN240C4FD3ksvvRQ7duyIcePGldXHjx8fb775pjkIORPKsFejRo2K/v37xzPPPNNZ27JlS6xZs6YzbQfoLh588MG4+eab4/vf/34sWrSo7FTo+vr6WL16dXR0dHTWVq5cGccee2wMHjy4S/MuxRoA+2v+/Pnx2GOPxYoVKzo/IiLmzZsX99xzjzkIVIQxY8ZEv3794sUXXyyrv/rqqzFixAizEDjk7QxE/vnPf5bVX3311Tj66KPNQchbBl2wYMGCbNKkSdmTTz6ZvfLKK9ns2bOzb3zjG1lra2verQF0euONN7ITTjghu/TSS7Ompqayjy1btmT/+te/svr6+uzqq6/O1q1blzU2Nmbjxo3Lli9f3rnG3uZdqjUADpaRI0dmjY2NWZalm2HmIJC3JUuWZBMnTsweeeSRbMOGDdnSpUuzUaNGZX//+9/NQuCQ19HRkZ1//vnZt771rWzlypXZ+vXrs4ULF2ajR4/Onn/+eXMQclbIsizLOxii++vo6IgFCxbE8uXLo6WlJerr6+P666+P4cOH590aQKe77rorFi5cuNttM2bMiFtvvTVeeuml+OlPfxpr1qyJI444ImbPnh0zZ87s3K8r8y7FGgAHy/HHHx8/+9nP4rvf/W5EpJlh5iDQHdx///3xwAMPxPvvvx/HHXdczJ07N77+9a9HhFkIHPqam5tj0aJF8de//jWam5tj5MiRcfnll8ekSZMiwhyEPAllAAAAAAAAEnBPGQAAAAAAgASEMgAAAAAAAAkIZQAAAAAAABIQygAAAAAAACQglAEAAAAAAEhAKAMAAAAAAJCAUAYAAAAAACABoQwAAFCRZs2aFccff3zZx9ixY2PatGlx0003RXNz8x4fu3Hjxjj++ONj+fLlCTsGAAB6uuq8GwAAAMjLmDFj4oYbbuj8fMeOHfHyyy/HggUL4pVXXonf/e53USgUdnnckCFDoqGhIUaMGJGyXQAAoIcTygAAABWrf//+MWHChLJafX19bN26NRYvXhwvvvjiLtsjImpqanZbBwAA+CwuXwYAAPApY8eOjYiId999N2bNmhVXXHFFzJs3L0466aT4wQ9+sNvLl7311lsxb968mDRpUtTX18ecOXNi3bp1ndtbW1vjF7/4RUydOjXGjh0bZ599djz22GPJnxsAAJAfZ8oAAAB8yvr16yMi4otf/GJERDz++OPxrW99K5YsWRIdHR277N/U1BTnnntuHHHEEXHDDTdE//79Y8mSJXHBBRfEI488EoMGDYpLL700nnvuuZg3b14cd9xx8cQTT8Rll10WbW1t8Z3vfCfl0wMAAHIilAEAACpWlmXR3t7e+Xlzc3P84x//iDvvvDMmTJjQecZMsViMm2++Ofr27RsRERs3bixb5/7774+Wlpa4//7744gjjoiIiNGjR8d5550XL7zwQvTu3Tv+9re/xcKFC+OMM86IiIgpU6bE9u3bY/78+XHWWWdFdbW3ZwAAcKjzqh8AAKhYq1atihNOOKGsViwW45RTTombb745CoVCREQMHz68M5DZndWrV8eECRM6A5mIiCFDhsTTTz8dERHz58+PQqEQU6dOLQuBpk+fHg8//HCsW7cuRo8efTCfGgAA0A0JZQAAgIp1wgknxE033RQREYVCIXr37h3Dhg2L/v37l+33hS984TPX+eijj2L48OGfuT3LsjjppJN2u72pqUkoAwAAFUAoAwAAVKx+/frFuHHjDnidAQMGxAcffLBLfeXKlTF8+PAYMGBA9O3bN37729/u9vFHH330AfcAAAB0f8W8GwAAAOjpTj755HjhhRdi8+bNnbUPPvgg5syZE0899VRMmjQptm3bFlmWxbhx4zo/1q1bF0uWLCm7pBkAAHDocqYMAADAAbrgggtixYoVcdFFF8UPf/jD6N27d9x9990xZMiQ+M53vhN1dXVRX18fl1xySVxyySVx3HHHxUsvvRR33HFHfPWrX43DDz8876cAAAAkIJQBAAA4QMOGDYsHH3wwbrvttvjJT34SNTU1MWnSpLjtttti4MCBERFxzz33xO233x533313bN68OY488si44IIL4tJLL823eQAAIJlClmVZ3k0AAAAAAAAc6txTBgAAAAAAIAGhDAAAAAAAQAJCGQAAAAAAgASEMgAAAAAAAAkIZQAAAAAAABIQygAAAAAAACQglAEAAAAAAEhAKAMAAAAAAJCAUAYAAAAAACABoQwAAAAAAEACQhkAAAAAAIAEhDIAAAAAAAAJ/D/QSzgBU6C/GAAAAABJRU5ErkJggg==",
      "text/plain": [
       "<Figure size 2000x1000 with 1 Axes>"
      ]
     },
     "metadata": {},
     "output_type": "display_data"
    }
   ],
   "source": [
    "# closer look at the distribution by plotting a simple histogram with 10 bins.\n",
    "\n",
    "plt.figure(figsize=(20,10));  # makes the plot wider\n",
    "plt.hist(df['Price'], color='r');  # plots a simple histogram\n",
    "plt.axvline(df['Price'].mean(), color='m', linewidth=3,label='Mean')  # draw a line for mean\n",
    "plt.axvline(df['Price'].median(), color='b', linestyle='dashed', linewidth=3,label='Medium') # draw a line for median\n",
    "plt.axvline(df['Price'].mode()[0], color='g', linestyle='dashed', linewidth=3,label='Mode') # draw a line for mode\n",
    "\n",
    "plt.title('Price for houses & apartment in Belgium')\n",
    "plt.xlabel('Price')    # label the x-axis\n",
    "plt.ylabel('Numbers of house or apartment')    # label the y-axis\n",
    "plt.legend()      # Plot the legend\n",
    "\n",
    "mean=round(df['Price'].mean())\n",
    "median=round(df['Price'].median())\n",
    "mode=round(df['Price'].mode())\n",
    "\n",
    "print('\\t\\t\\t\\t\\t\\t Mean: ',mean,'  Median: ',median,'  Mode:',mode[0])"
   ]
  },
  {
   "cell_type": "markdown",
   "metadata": {},
   "source": [
    "**Observation:**\n",
    "\n",
    "In the above histogram we can see that the fourth bin with the price between 300,000 to 400,000 has the most numbers of observation.  \n",
    "Majority of the observations lie in fourth bin.  \n",
    "Mean is **330,684**, Median is **299,000** & mode is **299,000** euro."
   ]
  },
  {
   "cell_type": "code",
   "execution_count": 13,
   "metadata": {},
   "outputs": [
    {
     "name": "stdout",
     "output_type": "stream",
     "text": [
      "\t\t\t\t\t\t Mean:  327541   Median:  293885   Mode: 299000\n"
     ]
    },
    {
     "data": {
      "image/png": "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",
      "text/plain": [
       "<Figure size 2000x1000 with 1 Axes>"
      ]
     },
     "metadata": {},
     "output_type": "display_data"
    }
   ],
   "source": [
    "# plot histrogram for only apartment\n",
    "\n",
    "plt.figure(figsize=(20,10));  # makes the plot wider\n",
    "plt.hist(df_apartment['Price'], color='r');  # plots a simple histogram\n",
    "plt.axvline(df_apartment['Price'].mean(), color='m', linewidth=3,label='Mean')  # draw a line for mean\n",
    "plt.axvline(df_apartment['Price'].median(), color='b', linestyle='dashed', linewidth=3,label='Medium') # draw a line for median\n",
    "plt.axvline(df_apartment['Price'].mode()[0], color='g', linestyle='dashed', linewidth=3,label='Mode') # draw a line for mode\n",
    "\n",
    "plt.title('Price for apartment in Belgium')\n",
    "plt.xlabel('Price')    # label the x-axis\n",
    "plt.ylabel('Numbers of apartment')    # label the y-axis\n",
    "plt.legend()      # Plot the legend\n",
    "\n",
    "mean=round(df_apartment['Price'].mean())\n",
    "median=round(df_apartment['Price'].median())\n",
    "mode=round(df_apartment['Price'].mode())\n",
    "\n",
    "print('\\t\\t\\t\\t\\t\\t Mean: ',mean,'  Median: ',median,'  Mode:',mode[0])"
   ]
  },
  {
   "cell_type": "markdown",
   "metadata": {},
   "source": [
    "**Observation:**\n",
    "\n",
    "In the above histogram we can see that the fourth bin with the price between 300,000 to 400,000 has the most numbers of observation.  \n",
    "Majority of the observations lie in the fourth bin.  \n",
    "Mean is 301,969, Median is 269,000 & mode is 299,000 euro.\n",
    "\n",
    "**Comparing mean for house and apartment:**  \n",
    "mean for houses is 33,000 higher than apartment.  \n",
    "\n",
    "**Comparing median for house and apartment:**  \n",
    "median for houses is 50,000 higher than apartment  \n",
    "\n",
    "**Comparing mode for house and apartment:**  \n",
    "mode for houses is the the same with apartment "
   ]
  },
  {
   "cell_type": "code",
   "execution_count": 14,
   "metadata": {},
   "outputs": [],
   "source": [
    "# create separate dataframe for house & apartment \n",
    "\n",
    "df_house = df[df['Type_of_Property'] == \"HOUSE\"]\n",
    "\n",
    "df_apartment = df[df['Type_of_Property'] == \"APARTMENT\"]"
   ]
  },
  {
   "cell_type": "code",
   "execution_count": 15,
   "metadata": {},
   "outputs": [
    {
     "name": "stdout",
     "output_type": "stream",
     "text": [
      "\t\t\t\t\t\t Mean:  334952   Median:  319000   Mode: 299000\n"
     ]
    },
    {
     "data": {
      "image/png": "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",
      "text/plain": [
       "<Figure size 2000x1000 with 1 Axes>"
      ]
     },
     "metadata": {},
     "output_type": "display_data"
    }
   ],
   "source": [
    "# plot histrogram for only houses\n",
    "\n",
    "plt.figure(figsize=(20,10));  # makes the plot wider\n",
    "plt.hist(df_house['Price'], color='r');  # plots a simple histogram\n",
    "plt.axvline(df_house['Price'].mean(), color='m', linewidth=3,label='Mean')  # draw a line for mean\n",
    "plt.axvline(df_house['Price'].median(), color='b', linestyle='dashed', linewidth=3,label='Medium') # draw a line for median\n",
    "plt.axvline(df_house['Price'].mode()[0], color='g', linestyle='dashed', linewidth=3,label='Mode') # draw a line for mode\n",
    "\n",
    "plt.title('Price for houses in Belgium')\n",
    "plt.xlabel('Price')    # label the x-axis\n",
    "plt.ylabel('Numbers of houses')    # label the y-axis\n",
    "plt.legend()      # Plot the legend\n",
    "\n",
    "mean=round(df_house['Price'].mean())\n",
    "median=round(df_house['Price'].median())\n",
    "mode=round(df_house['Price'].mode())\n",
    "\n",
    "print('\\t\\t\\t\\t\\t\\t Mean: ',mean,'  Median: ',median,'  Mode:',mode[0])"
   ]
  },
  {
   "cell_type": "markdown",
   "metadata": {},
   "source": [
    "**Observation:**\n",
    "\n",
    "In the above histogram we can see that the fourth bin with the price between 300,000 to 400,000 has the most numbers of observation.  \n",
    "Majority of the observations lie within the second to fifth bin.  \n",
    "Mean is 334,952, Median is 319,000 & mode is 299,000 euro."
   ]
  },
  {
   "cell_type": "code",
   "execution_count": 16,
>>>>>>> 59aaafce7bd197d7de2c4780937d371bb6c1e578
   "metadata": {},
   "outputs": [],
   "source": [
    "# create new column for price per square meter\n",
    "df['Price_sqm'] = df['Price'] / df['Living_Area']"
   ]
  },
  {
   "cell_type": "code",
<<<<<<< HEAD
   "execution_count": 56,
=======
   "execution_count": 17,
>>>>>>> 59aaafce7bd197d7de2c4780937d371bb6c1e578
   "metadata": {},
   "outputs": [
    {
     "data": {
      "text/plain": [
       "Municipality\n",
       "Vaux-sur-Sûre     657.894737\n",
       "Viroinval         788.778838\n",
       "Quévy             802.554273\n",
       "Alveringem        840.796020\n",
       "Brunehaut         866.700201\n",
       "                    ...     \n",
       "Kraainem         4463.783814\n",
       "Ixelles          4563.295488\n",
       "Leuven           4757.275917\n",
       "Nieuwpoort       4782.202240\n",
       "Knokke-Heist     7464.102771\n",
       "Name: Price_sqm, Length: 543, dtype: float64"
      ]
     },
<<<<<<< HEAD
     "execution_count": 56,
=======
     "execution_count": 17,
>>>>>>> 59aaafce7bd197d7de2c4780937d371bb6c1e578
     "metadata": {},
     "output_type": "execute_result"
    }
   ],
   "source": [
    "# most & less expensive municipalities in Belgium by average price/square meter\n",
    "df.groupby('Municipality')['Price_sqm'].agg('mean').sort_values() "
   ]
  },
  {
   "cell_type": "markdown",
   "metadata": {},
   "source": [
    "### What are the **most** expensive municipalities in Belgium?  \n",
    "(Average price, median price, price per square meter)"
   ]
  },
  {
   "cell_type": "code",
<<<<<<< HEAD
   "execution_count": 57,
=======
   "execution_count": 18,
>>>>>>> 59aaafce7bd197d7de2c4780937d371bb6c1e578
   "metadata": {},
   "outputs": [
    {
     "data": {
      "text/plain": [
       "'Knokke-Heist'"
      ]
     },
<<<<<<< HEAD
     "execution_count": 57,
=======
     "execution_count": 18,
>>>>>>> 59aaafce7bd197d7de2c4780937d371bb6c1e578
     "metadata": {},
     "output_type": "execute_result"
    }
   ],
   "source": [
    "# most expensive municipalities in Belgium\n",
    "most_expensive = df.groupby('Municipality')['Price_sqm'].agg('mean').sort_values().idxmax()\n",
    "most_expensive "
   ]
  },
  {
   "cell_type": "code",
<<<<<<< HEAD
   "execution_count": 58,
=======
   "execution_count": 19,
>>>>>>> 59aaafce7bd197d7de2c4780937d371bb6c1e578
   "metadata": {},
   "outputs": [
    {
     "name": "stdout",
     "output_type": "stream",
     "text": [
      "The most expensive municipalities in Belgium is Knokke-Heist.\n",
      "Average price : 601451.5513392857, median :599000.0   price per square meter : 7464.102771066597\n"
     ]
    }
   ],
   "source": [
    "filt = df['Municipality'] == most_expensive \n",
    "\n",
    "average = df[filt]['Price'].mean()\n",
    "median = df[filt]['Price'].median()\n",
    "price_sqm = df[filt]['Price_sqm'].mean()\n",
    "\n",
    "print(f'The most expensive municipalities in Belgium is {most_expensive}.')\n",
    "print(f'Average price : {average}, median :{median}   price per square meter : {price_sqm}')"
   ]
  },
  {
   "cell_type": "markdown",
   "metadata": {},
   "source": [
    "### What are the **less** expensive municipalities in Belgium?  \n",
    "(Average price, median price, price per square meter)"
   ]
  },
  {
   "cell_type": "code",
<<<<<<< HEAD
   "execution_count": 59,
=======
   "execution_count": 20,
>>>>>>> 59aaafce7bd197d7de2c4780937d371bb6c1e578
   "metadata": {},
   "outputs": [
    {
     "data": {
      "text/plain": [
       "'Vaux-sur-Sûre'"
      ]
     },
<<<<<<< HEAD
     "execution_count": 59,
=======
     "execution_count": 20,
>>>>>>> 59aaafce7bd197d7de2c4780937d371bb6c1e578
     "metadata": {},
     "output_type": "execute_result"
    }
   ],
   "source": [
    "# less expensive municipalities in Belgium\n",
    "less_expensive = df.groupby('Municipality')['Price_sqm'].agg('mean').sort_values().idxmin() \n",
    "less_expensive "
   ]
  },
  {
   "cell_type": "code",
<<<<<<< HEAD
   "execution_count": 60,
=======
   "execution_count": 21,
>>>>>>> 59aaafce7bd197d7de2c4780937d371bb6c1e578
   "metadata": {},
   "outputs": [
    {
     "name": "stdout",
     "output_type": "stream",
     "text": [
      "The less expensive municipalities in Belgium is Vaux-sur-Sûre.\n",
      "Average price : 125000.0, median :125000.0   price per square meter : 657.8947368421053\n"
     ]
    }
   ],
   "source": [
    "filt = df['Municipality'] == less_expensive \n",
    "\n",
    "average = df[filt]['Price'].mean()\n",
    "median = df[filt]['Price'].median()\n",
    "price_sqm = df[filt]['Price_sqm'].mean()\n",
    "\n",
    "print(f'The less expensive municipalities in Belgium is {less_expensive}.')\n",
    "print(f'Average price : {average}, median :{median}   price per square meter : {price_sqm}')"
   ]
  },
  {
   "cell_type": "markdown",
   "metadata": {},
   "source": [
    "### What are the most & less expensive municipalities in Brussels?  \n",
    "(Average price, median price, price per square meter)"
   ]
  },
  {
   "cell_type": "code",
<<<<<<< HEAD
   "execution_count": 61,
=======
   "execution_count": 22,
>>>>>>> 59aaafce7bd197d7de2c4780937d371bb6c1e578
   "metadata": {},
   "outputs": [
    {
     "name": "stdout",
     "output_type": "stream",
     "text": [
      "The most expensive municipalities in Brussels is Ixelles.\n",
      "Average price : 458077.51937984495 , median :415000.0   price per square meter : 4563.295488411992\n"
     ]
    }
   ],
   "source": [
    "# most expensive municipalities in Brussels\n",
    "\n",
    "filt1 = df['Province'] == 'Brussels Capital'\n",
    "\n",
    "df_bruxelles = df[filt1]\n",
    "\n",
    "most_expensive = df_bruxelles.groupby('Municipality')['Price_sqm'].agg('mean').sort_values().idxmax()\n",
    "\n",
    "filt2 = df_bruxelles['Municipality'] == most_expensive \n",
    "\n",
    "average = df_bruxelles[filt2]['Price'].mean()\n",
    "median = df_bruxelles[filt2]['Price'].median()\n",
    "price_sqm = df_bruxelles[filt2]['Price_sqm'].mean()\n",
    "\n",
    "print(f'The most expensive municipalities in Brussels is {most_expensive}.')\n",
    "print(f'Average price : {average} , median :{median}   price per square meter : {price_sqm}')"
   ]
  },
  {
   "cell_type": "code",
<<<<<<< HEAD
   "execution_count": 62,
=======
   "execution_count": 23,
>>>>>>> 59aaafce7bd197d7de2c4780937d371bb6c1e578
   "metadata": {},
   "outputs": [
    {
     "name": "stdout",
     "output_type": "stream",
     "text": [
      "The less expensive municipalities in Brussels is Molenbeek-Saint-Jean.\n",
      "Average price : 264723.60355029587 , median :239000.0   price per square meter : 2796.302078001672\n"
     ]
    }
   ],
   "source": [
    "# less expensive city municipalities in Brussels\n",
    "\n",
    "less_expensive = df_bruxelles.groupby('Municipality')['Price_sqm'].agg('mean').sort_values().idxmin() \n",
    "less_expensive \n",
    "\n",
    "filt3 = df_bruxelles['Municipality'] == less_expensive \n",
    "\n",
    "average = df_bruxelles[filt3]['Price'].mean()\n",
    "median = df_bruxelles[filt3]['Price'].median()\n",
    "price_sqm = df_bruxelles[filt3]['Price_sqm'].mean()\n",
    "\n",
    "print(f'The less expensive municipalities in Brussels is {less_expensive}.')\n",
    "print(f'Average price : {average} , median :{median}   price per square meter : {price_sqm}')"
   ]
  },
  {
   "cell_type": "markdown",
   "metadata": {},
   "source": [
    "### What are the **most** expensive municipalities in Wallonia?  \n",
    "(Average price, median price, price per square meter)"
   ]
  },
  {
   "cell_type": "code",
<<<<<<< HEAD
   "execution_count": 63,
=======
   "execution_count": 24,
>>>>>>> 59aaafce7bd197d7de2c4780937d371bb6c1e578
   "metadata": {},
   "outputs": [
    {
     "name": "stdout",
     "output_type": "stream",
     "text": [
      "The most expensive municipalities in Wallonia is Lasne.\n",
      "Average price : 395000.0 , median :395000.0   price per square meter : 4030.612244897959\n"
     ]
    }
   ],
   "source": [
    "# most expensive municipalities in Wallonia\n",
    "\n",
    "filt1 = df['Region'] == 'Wallonia'\n",
    "\n",
    "df_wallonia = df[filt1]\n",
    "\n",
    "most_expensive = df_wallonia.groupby('Municipality')['Price_sqm'].agg('mean').sort_values().idxmax()\n",
    "\n",
    "filt2 = df_wallonia['Municipality'] == most_expensive \n",
    "\n",
    "average = df_wallonia[filt2]['Price'].mean()\n",
    "median = df_wallonia[filt2]['Price'].median()\n",
    "price_sqm = df_wallonia[filt2]['Price_sqm'].mean()\n",
    "\n",
    "print(f'The most expensive municipalities in Wallonia is {most_expensive}.')\n",
    "print(f'Average price : {average} , median :{median}   price per square meter : {price_sqm}')"
   ]
  },
  {
   "cell_type": "markdown",
   "metadata": {},
   "source": [
    "### What are the **less** expensive municipalities in Wallonia?  \n",
    "(Average price, median price, price per square meter)"
   ]
  },
  {
   "cell_type": "code",
<<<<<<< HEAD
   "execution_count": 64,
=======
   "execution_count": 25,
>>>>>>> 59aaafce7bd197d7de2c4780937d371bb6c1e578
   "metadata": {},
   "outputs": [
    {
     "name": "stdout",
     "output_type": "stream",
     "text": [
      "The less expensive municipalities in Wallonia is Vaux-sur-Sûre.\n",
      "Average price : 125000.0 , median :125000.0   price per square meter : 657.8947368421053\n"
     ]
    }
   ],
   "source": [
    "# less expensive city municipalities in Wallonia\n",
    "\n",
    "less_expensive = df_wallonia.groupby('Municipality')['Price_sqm'].agg('mean').sort_values().idxmin() \n",
    "less_expensive \n",
    "\n",
    "filt3 = df_wallonia['Municipality'] == less_expensive \n",
    "\n",
    "average = df_wallonia[filt3]['Price'].mean()\n",
    "median = df_wallonia[filt3]['Price'].median()\n",
    "price_sqm = df_wallonia[filt3]['Price_sqm'].mean()\n",
    "\n",
    "print(f'The less expensive municipalities in Wallonia is {less_expensive}.')\n",
    "print(f'Average price : {average} , median :{median}   price per square meter : {price_sqm}')"
   ]
  },
  {
   "cell_type": "markdown",
   "metadata": {},
   "source": [
    "### What are the **most** expensive municipalities in Flanders?  \n",
    "(Average price, median price, price per square meter)"
   ]
  },
  {
   "cell_type": "code",
<<<<<<< HEAD
   "execution_count": 76,
=======
   "execution_count": 26,
>>>>>>> 59aaafce7bd197d7de2c4780937d371bb6c1e578
   "metadata": {},
   "outputs": [
    {
     "name": "stdout",
     "output_type": "stream",
     "text": [
      "The most expensive municipalities in Flanders is Knokke-Heist.\n",
      "Average price : 601451.5513392857 , median :599000.0   price per square meter : 7464.102771066597\n"
     ]
    }
   ],
   "source": [
    "# NEW TEST\n",
    "# most expensive city in Flanders\n",
    "\n",
    "filt1 = df['Region'] == 'Flanders'\n",
    "\n",
    "df_flanders = df[filt1]\n",
    "\n",
    "most_expensive = df_flanders.groupby('Municipality')['Price_sqm'].agg('mean').sort_values().idxmax()\n",
    "\n",
    "filt2 = df_flanders['Municipality'] == most_expensive \n",
    "\n",
    "average = df_flanders[filt2]['Price'].mean()\n",
    "median = df_flanders[filt2]['Price'].median()\n",
    "price_sqm = df_flanders[filt2]['Price_sqm'].mean()\n",
    "\n",
    "print(f'The most expensive municipalities in Flanders is {most_expensive}.')\n",
    "print(f'Average price : {average} , median :{median}   price per square meter : {price_sqm}')"
   ]
  },
  {
   "cell_type": "code",
<<<<<<< HEAD
   "execution_count": 69,
=======
   "execution_count": 27,
>>>>>>> 59aaafce7bd197d7de2c4780937d371bb6c1e578
   "metadata": {},
   "outputs": [
    {
     "name": "stdout",
     "output_type": "stream",
     "text": [
      "The most expensive municipalities in Flanders is Knokke-Heist.\n",
      "Average price : 601451.5513392857 , median :599000.0   price per square meter : 7464.102771066597\n"
     ]
    }
   ],
   "source": [
    "# most expensive municipalities in Flanders\n",
    "\n",
    "filt1f = df['Region'] == 'Flanders'\n",
    "\n",
    "df_flanders = df[filt1f]\n",
    "\n",
    "most_expensive = df_flanders.groupby('Municipality')['Price_sqm'].agg('mean').sort_values().idxmax()\n",
    "\n",
    "filt2 = df_flanders['Municipality'] == most_expensive \n",
    "\n",
    "average = df_flanders[filt2]['Price'].mean()\n",
    "median = df_flanders[filt2]['Price'].median()\n",
    "price_sqm = df_flanders[filt2]['Price_sqm'].mean()\n",
    "\n",
    "print(f'The most expensive municipalities in Flanders is {most_expensive}.')\n",
    "print(f'Average price : {average} , median :{median}   price per square meter : {price_sqm}')"
   ]
  },
  {
   "cell_type": "markdown",
   "metadata": {},
   "source": [
    "### What are the **less** expensive municipalities in Flanders?  \n",
    "(Average price, median price, price per square meter)"
   ]
  },
  {
   "cell_type": "code",
<<<<<<< HEAD
   "execution_count": 79,
=======
   "execution_count": 28,
>>>>>>> 59aaafce7bd197d7de2c4780937d371bb6c1e578
   "metadata": {},
   "outputs": [
    {
     "name": "stdout",
     "output_type": "stream",
     "text": [
      "     Municipality  Average_Price  Median_Price  Average_Price_per_Sqm\n",
      "68       Glabbeek  155000.000000      155000.0            1131.386861\n",
      "5      Alveringem  169000.000000      169000.0             840.796020\n",
      "139    Lo-Reninge  172000.000000      172000.0            1054.429171\n",
      "169  Oostrozebeke  212811.166667      167450.0            1750.447435\n",
      "152         Menen  223907.435897      179000.0            1495.619784\n",
      "8         Ardooie  230914.000000      199000.0            1979.967068\n",
      "95       Ichtegem  233642.857143      249000.0            2001.193453\n",
      "107   Kluisbergen  239718.750000      249500.0            1761.440702\n",
      "224        Wervik  244153.846154      245000.0            1789.446378\n",
      "98         Izegem  246730.126582      249000.0            1934.107566\n"
     ]
    }
   ],
   "source": [
    "# NEW TEST\n",
    "\n",
    "# Filter data for Flanders region\n",
    "flanders_data = df[df['Region'] == 'Flanders']\n",
    "\n",
    "# Compute necessary statistics\n",
    "flanders_stats = (\n",
    "    flanders_data\n",
    "    .groupby('Municipality')\n",
    "    .agg(\n",
    "        Average_Price=('Price', 'mean'),\n",
    "        Median_Price=('Price', 'median'),\n",
    "        Average_Price_per_Sqm=('Price', lambda x: (x / flanders_data.loc[x.index, 'Living_Area']).mean())\n",
    "    )\n",
    "    .reset_index()\n",
    ")\n",
    "\n",
    "# Sort by average price\n",
    "sorted_flanders_stats = flanders_stats.sort_values(by='Average_Price', ascending=True)\n",
    "\n",
    "# Display the least expensive municipalities\n",
    "print(sorted_flanders_stats.head(10))  # Top 10 least expensive\n"
   ]
  },
  {
   "cell_type": "code",
<<<<<<< HEAD
   "execution_count": 70,
=======
   "execution_count": 29,
>>>>>>> 59aaafce7bd197d7de2c4780937d371bb6c1e578
   "metadata": {},
   "outputs": [
    {
     "name": "stdout",
     "output_type": "stream",
     "text": [
      "The less expensive municipalities in Flanders is Alveringem.\n",
      "Average price : 169000.0 , median :169000.0   price per square meter : 840.7960199004975\n"
     ]
    }
   ],
   "source": [
    "less_expensive = df_flanders.groupby('Municipality')['Price_sqm'].agg('mean').sort_values().idxmin() \n",
    "less_expensive \n",
    "\n",
    "filt3f = df_flanders['Municipality'] == less_expensive \n",
    "\n",
    "average = df_flanders[filt3f]['Price'].mean()\n",
    "median = df_flanders[filt3f]['Price'].median()\n",
    "price_sqm = df_flanders[filt3f]['Price_sqm'].mean()\n",
    "\n",
    "print(f'The less expensive municipalities in Flanders is {less_expensive}.')\n",
    "print(f'Average price : {average} , median :{median}   price per square meter : {price_sqm}')"
   ]
  },
  {
   "cell_type": "markdown",
   "metadata": {},
   "source": [
    "# Real Estate Prices in Belgium\n",
    "\n",
    "| Region    | Municipality           | Type             | Average Price (EUR) | Median Price (EUR) | Price per Square Meter (EUR) |\n",
    "|-----------|------------------------|------------------|---------------------|--------------------|------------------------------|\n",
    "| Belgium   | Knokke-Heist           | Most Expensive   | 601,451.55          | 599,000.00         | 7,464.10                     |\n",
    "| Belgium   | Vaux-sur-Sûre          | Least Expensive  | 125,000.00          | 125,000.00         |   657.89                     |\n",
    "| Wallonia  | Lasne                  | Most Expensive   | 395,000.00          | 395,000.00         | 4,030.61                     |\n",
    "| Wallonia  | Vaux-sur-Sûre          | Least Expensive  | 125,000.00          | 125,000.00         |   657.89                     |\n",
    "| Flanders  | Knokke-Heist           | Most Expensive   | 601,451.55          | 599,000.00         | 7,464.10                     |\n",
    "| Flanders  | Alveringem             | Least Expensive  | 169,000.00          | 169,000.00         |   840.79                     |\n",
    "| Brussels  | Ixelles                | Most Expensive   | 458,077.52          | 415,000.00         | 4,563.30                     |\n",
    "| Brussels  | Molenbeek-Saint-Jean   | Least Expensive  | 264,723.60          | 239,000.00         | 2,796.30                     |"
   ]
  },
  {
   "cell_type": "markdown",
   "metadata": {},
   "source": []
<<<<<<< HEAD
  },
  {
   "cell_type": "code",
   "execution_count": 3,
   "metadata": {},
   "outputs": [
    {
     "name": "stdout",
     "output_type": "stream",
     "text": [
      "     Region          Municipality             Type  Average Price (EUR)  \\\n",
      "0   Belgium          Knokke-Heist   Most Expensive            601451.55   \n",
      "1   Belgium         Vaux-sur-Sûre  Least Expensive            125000.00   \n",
      "2  Wallonia                 Lasne   Most Expensive            395000.00   \n",
      "3  Wallonia         Vaux-sur-Sûre  Least Expensive            125000.00   \n",
      "4  Flanders          Knokke-Heist   Most Expensive            601451.55   \n",
      "5  Flanders            Alveringem  Least Expensive            169000.00   \n",
      "6  Brussels               Ixelles   Most Expensive            458077.52   \n",
      "7  Brussels  Molenbeek-Saint-Jean  Least Expensive            264723.60   \n",
      "\n",
      "   Median Price (EUR)  Price per Square Meter (EUR)  \n",
      "0            599000.0                       7464.10  \n",
      "1            125000.0                        657.89  \n",
      "2            395000.0                       4030.61  \n",
      "3            125000.0                        657.89  \n",
      "4            599000.0                       7464.10  \n",
      "5            169000.0                        840.79  \n",
      "6            415000.0                       4563.30  \n",
      "7            239000.0                       2796.30  \n"
     ]
    }
   ],
   "source": [
    "import pandas as pd\n",
    "\n",
    "# Data: Real Estate Prices in Belgium\n",
    "data = {\n",
    "    \"Region\": [\"Belgium\", \"Belgium\", \"Wallonia\", \"Wallonia\", \"Flanders\", \"Flanders\", \"Brussels\", \"Brussels\"],\n",
    "    \"Municipality\": [\n",
    "        \"Knokke-Heist\", \"Vaux-sur-Sûre\", \"Lasne\", \"Vaux-sur-Sûre\", \n",
    "        \"Knokke-Heist\", \"Alveringem\", \"Ixelles\", \"Molenbeek-Saint-Jean\"\n",
    "    ],\n",
    "    \"Type\": [\n",
    "        \"Most Expensive\", \"Least Expensive\", \"Most Expensive\", \"Least Expensive\", \n",
    "        \"Most Expensive\", \"Least Expensive\", \"Most Expensive\", \"Least Expensive\"\n",
    "    ],\n",
    "    \"Average Price (EUR)\": [\n",
    "        601451.55, 125000.00, 395000.00, 125000.00, \n",
    "        601451.55, 169000.00, 458077.52, 264723.60\n",
    "    ],\n",
    "    \"Median Price (EUR)\": [\n",
    "        599000.00, 125000.00, 395000.00, 125000.00, \n",
    "        599000.00, 169000.00, 415000.00, 239000.00\n",
    "    ],\n",
    "    \"Price per Square Meter (EUR)\": [\n",
    "        7464.10, 657.89, 4030.61, 657.89, \n",
    "        7464.10, 840.79, 4563.30, 2796.30\n",
    "    ]\n",
    "}\n",
    "\n",
    "# Convert to DataFrame\n",
    "df = pd.DataFrame(data)\n",
    "\n",
    "# Display the DataFrame\n",
    "print(df)\n"
   ]
  },
  {
   "cell_type": "code",
   "execution_count": null,
   "metadata": {},
   "outputs": [],
   "source": []
=======
>>>>>>> 59aaafce7bd197d7de2c4780937d371bb6c1e578
  }
 ],
 "metadata": {
  "kernelspec": {
   "display_name": "base",
   "language": "python",
   "name": "python3"
  },
  "language_info": {
   "codemirror_mode": {
    "name": "ipython",
    "version": 3
   },
   "file_extension": ".py",
   "mimetype": "text/x-python",
   "name": "python",
   "nbconvert_exporter": "python",
   "pygments_lexer": "ipython3",
   "version": "3.12.4"
  }
 },
 "nbformat": 4,
 "nbformat_minor": 2
}
